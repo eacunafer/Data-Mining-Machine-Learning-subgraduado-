{
 "cells": [
  {
   "cell_type": "markdown",
   "id": "a3e6b7f0",
   "metadata": {},
   "source": [
    "## Data Mining and Machine Learning\n",
    "### Edgar Acuna\n",
    "### Novelty detection using Mahalanobis Distance, MCD, LOF, Isolation Forest and Clustering(kmeans, DBSCAN)\n",
    "#### Dataset Diabetes\n",
    "#### March 2022"
   ]
  },
  {
   "cell_type": "code",
   "execution_count": 1,
   "id": "c67ad736",
   "metadata": {},
   "outputs": [],
   "source": [
    "import numpy as np\n",
    "import pandas as pd\n",
    "import seaborn as sns\n",
    "import matplotlib.pyplot as plt\n",
    "from sklearn.ensemble import IsolationForest\n",
    "from sklearn.neighbors import LocalOutlierFactor\n",
    "from sklearn.metrics.pairwise import pairwise_distances\n",
    "from sklearn.preprocessing import StandardScaler"
   ]
  },
  {
   "cell_type": "code",
   "execution_count": 2,
   "id": "1febf19e",
   "metadata": {},
   "outputs": [
    {
     "data": {
      "text/html": [
       "<div>\n",
       "<style scoped>\n",
       "    .dataframe tbody tr th:only-of-type {\n",
       "        vertical-align: middle;\n",
       "    }\n",
       "\n",
       "    .dataframe tbody tr th {\n",
       "        vertical-align: top;\n",
       "    }\n",
       "\n",
       "    .dataframe thead th {\n",
       "        text-align: right;\n",
       "    }\n",
       "</style>\n",
       "<table border=\"1\" class=\"dataframe\">\n",
       "  <thead>\n",
       "    <tr style=\"text-align: right;\">\n",
       "      <th></th>\n",
       "      <th>preg</th>\n",
       "      <th>plas</th>\n",
       "      <th>pres</th>\n",
       "      <th>skin</th>\n",
       "      <th>test</th>\n",
       "      <th>mass</th>\n",
       "      <th>pedi</th>\n",
       "      <th>age</th>\n",
       "      <th>class</th>\n",
       "    </tr>\n",
       "  </thead>\n",
       "  <tbody>\n",
       "    <tr>\n",
       "      <th>0</th>\n",
       "      <td>6</td>\n",
       "      <td>148</td>\n",
       "      <td>72</td>\n",
       "      <td>35</td>\n",
       "      <td>0</td>\n",
       "      <td>33.6</td>\n",
       "      <td>0.627</td>\n",
       "      <td>50</td>\n",
       "      <td>2</td>\n",
       "    </tr>\n",
       "    <tr>\n",
       "      <th>1</th>\n",
       "      <td>1</td>\n",
       "      <td>85</td>\n",
       "      <td>66</td>\n",
       "      <td>29</td>\n",
       "      <td>0</td>\n",
       "      <td>26.6</td>\n",
       "      <td>0.351</td>\n",
       "      <td>31</td>\n",
       "      <td>1</td>\n",
       "    </tr>\n",
       "    <tr>\n",
       "      <th>2</th>\n",
       "      <td>8</td>\n",
       "      <td>183</td>\n",
       "      <td>64</td>\n",
       "      <td>0</td>\n",
       "      <td>0</td>\n",
       "      <td>23.3</td>\n",
       "      <td>0.672</td>\n",
       "      <td>32</td>\n",
       "      <td>2</td>\n",
       "    </tr>\n",
       "    <tr>\n",
       "      <th>3</th>\n",
       "      <td>1</td>\n",
       "      <td>89</td>\n",
       "      <td>66</td>\n",
       "      <td>23</td>\n",
       "      <td>94</td>\n",
       "      <td>28.1</td>\n",
       "      <td>0.167</td>\n",
       "      <td>21</td>\n",
       "      <td>1</td>\n",
       "    </tr>\n",
       "    <tr>\n",
       "      <th>4</th>\n",
       "      <td>0</td>\n",
       "      <td>137</td>\n",
       "      <td>40</td>\n",
       "      <td>35</td>\n",
       "      <td>168</td>\n",
       "      <td>43.1</td>\n",
       "      <td>2.288</td>\n",
       "      <td>33</td>\n",
       "      <td>2</td>\n",
       "    </tr>\n",
       "  </tbody>\n",
       "</table>\n",
       "</div>"
      ],
      "text/plain": [
       "   preg  plas  pres  skin  test  mass   pedi  age  class\n",
       "0     6   148    72    35     0  33.6  0.627   50      2\n",
       "1     1    85    66    29     0  26.6  0.351   31      1\n",
       "2     8   183    64     0     0  23.3  0.672   32      2\n",
       "3     1    89    66    23    94  28.1  0.167   21      1\n",
       "4     0   137    40    35   168  43.1  2.288   33      2"
      ]
     },
     "execution_count": 2,
     "metadata": {},
     "output_type": "execute_result"
    }
   ],
   "source": [
    "url= \"https://academic.uprm.edu/eacuna/diabetes.dat\"\n",
    "names = ['preg', 'plas', 'pres', 'skin', 'test', 'mass', 'pedi', 'age', 'class']\n",
    "data = pd.read_table(url, names=names)\n",
    "data.head()"
   ]
  },
  {
   "cell_type": "markdown",
   "id": "a964b6f1",
   "metadata": {},
   "source": [
    "### Extracting all the datapoints form class 1"
   ]
  },
  {
   "cell_type": "code",
   "execution_count": 3,
   "id": "e35d8c59",
   "metadata": {},
   "outputs": [
    {
     "name": "stdout",
     "output_type": "stream",
     "text": [
      "     preg  plas  pres  skin  test  mass   pedi  age\n",
      "1       1    85    66    29     0  26.6  0.351   31\n",
      "3       1    89    66    23    94  28.1  0.167   21\n",
      "5       5   116    74     0     0  25.6  0.201   30\n",
      "7      10   115     0     0     0  35.3  0.134   29\n",
      "10      4   110    92     0     0  37.6  0.191   30\n",
      "..    ...   ...   ...   ...   ...   ...    ...  ...\n",
      "762     9    89    62     0     0  22.5  0.142   33\n",
      "763    10   101    76    48   180  32.9  0.171   63\n",
      "764     2   122    70    27     0  36.8  0.340   27\n",
      "765     5   121    72    23   112  26.2  0.245   30\n",
      "767     1    93    70    31     0  30.4  0.315   23\n",
      "\n",
      "[500 rows x 8 columns]\n"
     ]
    }
   ],
   "source": [
    "yd=data['class']\n",
    "X1=data[data['class']==1]\n",
    "Xc1=X1.iloc[:,0:8]\n",
    "print(Xc1)"
   ]
  },
  {
   "cell_type": "markdown",
   "id": "1c88cb95",
   "metadata": {},
   "source": [
    "### 0. Exploring outliers using Boxplots"
   ]
  },
  {
   "cell_type": "code",
   "execution_count": 4,
   "id": "074d8383",
   "metadata": {},
   "outputs": [
    {
     "data": {
      "text/plain": [
       "<AxesSubplot:>"
      ]
     },
     "execution_count": 4,
     "metadata": {},
     "output_type": "execute_result"
    },
    {
     "data": {
      "image/png": "[encoded data removed]",
      "text/plain": [
       "<Figure size 432x288 with 1 Axes>"
      ]
     },
     "metadata": {
      "needs_background": "light"
     },
     "output_type": "display_data"
    }
   ],
   "source": [
    "import seaborn as sns\n",
    "sns.boxplot(data=Xc1)"
   ]
  },
  {
   "cell_type": "markdown",
   "id": "a419b2a6",
   "metadata": {},
   "source": [
    "#### Feature test shows a large amount of outliers"
   ]
  },
  {
   "cell_type": "markdown",
   "id": "6347715d",
   "metadata": {},
   "source": [
    "### 1. Outlier Detection using Mahalanobis Distance"
   ]
  },
  {
   "cell_type": "code",
   "execution_count": 5,
   "id": "072244ed",
   "metadata": {},
   "outputs": [],
   "source": [
    "#create function to calculate Mahalanobis distance\n",
    "def mahalanobis(x=None, data=None, cov=None):\n",
    "\n",
    "    x_mu = x - np.mean(data)\n",
    "    if not cov:\n",
    "        cov = np.cov(data.values.T)\n",
    "    inv_covmat = np.linalg.inv(cov)\n",
    "    left = np.dot(x_mu, inv_covmat)\n",
    "    mahal = np.dot(left, x_mu.T)\n",
    "    return mahal.diagonal()"
   ]
  },
  {
   "cell_type": "code",
   "execution_count": 6,
   "id": "5426012b",
   "metadata": {},
   "outputs": [
    {
     "data": {
      "text/plain": [
       "[<matplotlib.lines.Line2D at 0x241cb7a4430>]"
      ]
     },
     "execution_count": 6,
     "metadata": {},
     "output_type": "execute_result"
    },
    {
     "data": {
      "image/png": "[encoded data removed]",
      "text/plain": [
       "<Figure size 432x288 with 1 Axes>"
      ]
     },
     "metadata": {
      "needs_background": "light"
     },
     "output_type": "display_data"
    }
   ],
   "source": [
    "mh=mahalanobis(Xc1,data=Xc1)\n",
    "plt.plot(mh)"
   ]
  },
  {
   "cell_type": "code",
   "execution_count": 7,
   "id": "7a758fd6",
   "metadata": {},
   "outputs": [
    {
     "data": {
      "text/plain": [
       "[<matplotlib.lines.Line2D at 0x241cb80c0d0>]"
      ]
     },
     "execution_count": 7,
     "metadata": {},
     "output_type": "execute_result"
    },
    {
     "data": {
      "image/png": "[encoded data removed]",
      "text/plain": [
       "<Figure size 432x288 with 1 Axes>"
      ]
     },
     "metadata": {
      "needs_background": "light"
     },
     "output_type": "display_data"
    }
   ],
   "source": [
    "mh=mahalanobis(Xc1,data=Xc1)\n",
    "plt.plot(np.sort(mh),marker='.',linestyle='None',markersize = 2.0)"
   ]
  },
  {
   "cell_type": "code",
   "execution_count": 8,
   "id": "7ca32d34",
   "metadata": {},
   "outputs": [
    {
     "data": {
      "text/plain": [
       "<AxesSubplot:>"
      ]
     },
     "execution_count": 8,
     "metadata": {},
     "output_type": "execute_result"
    },
    {
     "data": {
      "image/png": "[encoded data removed]",
      "text/plain": [
       "<Figure size 432x288 with 1 Axes>"
      ]
     },
     "metadata": {
      "needs_background": "light"
     },
     "output_type": "display_data"
    }
   ],
   "source": [
    "sns.boxplot(x=mh)"
   ]
  },
  {
   "cell_type": "code",
   "execution_count": 9,
   "id": "13998a38",
   "metadata": {},
   "outputs": [
    {
     "name": "stdout",
     "output_type": "stream",
     "text": [
      "7      31.273760\n",
      "12     21.209561\n",
      "49     26.750454\n",
      "58     33.385928\n",
      "60     22.212416\n",
      "81     23.259208\n",
      "86     20.970823\n",
      "145    25.705911\n",
      "182    21.065892\n",
      "228    76.176431\n",
      "247    49.672987\n",
      "286    25.377663\n",
      "294    26.750191\n",
      "336    30.682114\n",
      "371    43.494126\n",
      "426    23.389467\n",
      "453    43.070890\n",
      "459    24.258342\n",
      "487    24.920184\n",
      "494    22.806980\n",
      "519    25.751790\n",
      "522    25.925746\n",
      "537    33.121450\n",
      "549    21.667486\n",
      "593    20.984161\n",
      "596    22.264786\n",
      "621    23.051348\n",
      "622    29.023577\n",
      "684    33.959666\n",
      "703    29.548576\n",
      "744    24.982187\n",
      "dtype: float64\n"
     ]
    }
   ],
   "source": [
    "mh1=pd.Series(mh,index=Xc1.index)\n",
    "outs= mh1[mh1 >20.0]\n",
    "#print(outs.index)\n",
    "print(outs)"
   ]
  },
  {
   "cell_type": "markdown",
   "id": "9628e394",
   "metadata": {},
   "source": [
    "### 2. Minimum  Covariance Distance ( MCD)"
   ]
  },
  {
   "cell_type": "code",
   "execution_count": 10,
   "id": "21c4b6e1",
   "metadata": {},
   "outputs": [
    {
     "data": {
      "text/plain": [
       "[<matplotlib.lines.Line2D at 0x241ccb42eb0>]"
      ]
     },
     "execution_count": 10,
     "metadata": {},
     "output_type": "execute_result"
    },
    {
     "data": {
      "image/png": "[encoded data removed]",
      "text/plain": [
       "<Figure size 432x288 with 1 Axes>"
      ]
     },
     "metadata": {
      "needs_background": "light"
     },
     "output_type": "display_data"
    }
   ],
   "source": [
    "from sklearn.covariance import EllipticEnvelope\n",
    "clf=EllipticEnvelope(contamination=0.25)\n",
    "clf.fit(Xc1)\n",
    "outmcd = clf.decision_function(Xc1)\n",
    "outmcd=pd.Series(outmcd,index=Xc1.index)\n",
    "plt.plot(outmcd)"
   ]
  },
  {
   "cell_type": "code",
   "execution_count": 11,
   "id": "f9681363",
   "metadata": {},
   "outputs": [
    {
     "data": {
      "text/plain": [
       "<AxesSubplot:>"
      ]
     },
     "execution_count": 11,
     "metadata": {},
     "output_type": "execute_result"
    },
    {
     "data": {
      "image/png": "[encoded data removed]",
      "text/plain": [
       "<Figure size 432x288 with 1 Axes>"
      ]
     },
     "metadata": {
      "needs_background": "light"
     },
     "output_type": "display_data"
    }
   ],
   "source": [
    "sns.boxplot(x=outmcd)"
   ]
  },
  {
   "cell_type": "code",
   "execution_count": 12,
   "id": "7916249b",
   "metadata": {},
   "outputs": [
    {
     "name": "stdout",
     "output_type": "stream",
     "text": [
      "7      -53.392126\n",
      "12     -46.568091\n",
      "30     -44.572234\n",
      "58     -55.810247\n",
      "67     -43.006858\n",
      "123    -91.499555\n",
      "148    -70.781273\n",
      "212    -43.927229\n",
      "222    -40.428223\n",
      "223    -52.804512\n",
      "228   -130.357450\n",
      "247    -74.285760\n",
      "263    -70.929257\n",
      "294   -133.298304\n",
      "336    -83.909630\n",
      "361    -65.883709\n",
      "362    -68.470700\n",
      "371    -57.119955\n",
      "453   -222.805214\n",
      "456    -95.875704\n",
      "459   -143.826508\n",
      "475    -76.022357\n",
      "479    -65.722634\n",
      "487    -81.913062\n",
      "489    -76.692458\n",
      "495    -74.498485\n",
      "509    -50.586686\n",
      "519    -68.824434\n",
      "537   -143.884049\n",
      "552    -67.598799\n",
      "596    -40.095379\n",
      "674    -71.022762\n",
      "684   -127.948121\n",
      "703    -70.860957\n",
      "763    -52.833853\n",
      "dtype: float64\n"
     ]
    }
   ],
   "source": [
    "outs1= outmcd[outmcd < -40.0]\n",
    "print(outs1)"
   ]
  },
  {
   "cell_type": "markdown",
   "id": "f712e3b5",
   "metadata": {},
   "source": [
    "### 3. Local Outlier Factor (LOF)"
   ]
  },
  {
   "cell_type": "code",
   "execution_count": 13,
   "id": "4d6c88ce",
   "metadata": {},
   "outputs": [],
   "source": [
    "# fit the model for outlier detection (default)\n",
    "clf = LocalOutlierFactor(n_neighbors=20, contamination=0.05)\n",
    "# use fit_predict to compute the predicted labels of the training samples\n",
    "# (when LOF is used for outlier detection, the estimator has no predict,\n",
    "# decision_function and score_samples methods).\n",
    "y_pred = clf.fit_predict(Xc1)\n",
    "#print(np.where(y_pred==-1))"
   ]
  },
  {
   "cell_type": "code",
   "execution_count": 14,
   "id": "013a817f",
   "metadata": {},
   "outputs": [
    {
     "data": {
      "text/plain": [
       "[<matplotlib.lines.Line2D at 0x241ccc01ee0>]"
      ]
     },
     "execution_count": 14,
     "metadata": {},
     "output_type": "execute_result"
    },
    {
     "data": {
      "image/png": "[encoded data removed]",
      "text/plain": [
       "<Figure size 432x288 with 1 Axes>"
      ]
     },
     "metadata": {
      "needs_background": "light"
     },
     "output_type": "display_data"
    }
   ],
   "source": [
    "X_scores = clf.negative_outlier_factor_\n",
    "plt.plot(X_scores)"
   ]
  },
  {
   "cell_type": "code",
   "execution_count": 15,
   "id": "60382699",
   "metadata": {},
   "outputs": [
    {
     "data": {
      "text/plain": [
       "[<matplotlib.lines.Line2D at 0x241ccc5f940>]"
      ]
     },
     "execution_count": 15,
     "metadata": {},
     "output_type": "execute_result"
    },
    {
     "data": {
      "image/png": "[encoded data removed]",
      "text/plain": [
       "<Figure size 432x288 with 1 Axes>"
      ]
     },
     "metadata": {
      "needs_background": "light"
     },
     "output_type": "display_data"
    }
   ],
   "source": [
    "plt.plot(np.sort(X_scores),marker='.',linestyle='None',markersize = 2.0)"
   ]
  },
  {
   "cell_type": "code",
   "execution_count": 16,
   "id": "320adbc0",
   "metadata": {},
   "outputs": [
    {
     "data": {
      "text/plain": [
       "<AxesSubplot:>"
      ]
     },
     "execution_count": 16,
     "metadata": {},
     "output_type": "execute_result"
    },
    {
     "data": {
      "image/png": "[encoded data removed]",
      "text/plain": [
       "<Figure size 432x288 with 1 Axes>"
      ]
     },
     "metadata": {
      "needs_background": "light"
     },
     "output_type": "display_data"
    }
   ],
   "source": [
    "sns.boxplot(x=X_scores)"
   ]
  },
  {
   "cell_type": "code",
   "execution_count": 17,
   "id": "55ced0dc",
   "metadata": {},
   "outputs": [
    {
     "name": "stdout",
     "output_type": "stream",
     "text": [
      "18    -1.480470\n",
      "40    -1.738998\n",
      "62    -1.479756\n",
      "75    -2.620721\n",
      "86    -1.405982\n",
      "106   -1.756651\n",
      "145   -1.603657\n",
      "146   -1.472256\n",
      "153   -1.893882\n",
      "182   -2.477287\n",
      "211   -1.486654\n",
      "212   -1.402344\n",
      "228   -3.714689\n",
      "247   -3.183683\n",
      "260   -1.565333\n",
      "286   -2.246802\n",
      "342   -2.639874\n",
      "362   -1.608571\n",
      "392   -1.453543\n",
      "459   -1.842283\n",
      "486   -1.849507\n",
      "489   -1.607684\n",
      "537   -1.642067\n",
      "548   -1.572597\n",
      "549   -1.653318\n",
      "597   -1.596125\n",
      "622   -1.516020\n",
      "645   -1.603176\n",
      "672   -1.593961\n",
      "703   -1.416859\n",
      "728   -1.526423\n",
      "dtype: float64\n"
     ]
    }
   ],
   "source": [
    "lofs1=pd.Series(X_scores,index=Xc1.index)\n",
    "outs2= lofs1[lofs1 < -1.4]\n",
    "print(outs2)"
   ]
  },
  {
   "cell_type": "markdown",
   "id": "5deab755",
   "metadata": {},
   "source": [
    "### 4. Isolation Forest"
   ]
  },
  {
   "cell_type": "code",
   "execution_count": 18,
   "id": "bd81d754",
   "metadata": {},
   "outputs": [
    {
     "data": {
      "text/plain": [
       "[<matplotlib.lines.Line2D at 0x241ccd29700>]"
      ]
     },
     "execution_count": 18,
     "metadata": {},
     "output_type": "execute_result"
    },
    {
     "data": {
      "image/png": "[encoded data removed]",
      "text/plain": [
       "<Figure size 432x288 with 1 Axes>"
      ]
     },
     "metadata": {
      "needs_background": "light"
     },
     "output_type": "display_data"
    }
   ],
   "source": [
    "model=IsolationForest(n_estimators=50, max_samples='auto', contamination=float(0.1),max_features=1.0)\n",
    "model.fit(Xc1)\n",
    "scores=model.decision_function(Xc1)\n",
    "plt.plot(scores)"
   ]
  },
  {
   "cell_type": "code",
   "execution_count": 19,
   "id": "b524e608",
   "metadata": {},
   "outputs": [
    {
     "data": {
      "text/plain": [
       "<AxesSubplot:>"
      ]
     },
     "execution_count": 19,
     "metadata": {},
     "output_type": "execute_result"
    },
    {
     "data": {
      "image/png": "[encoded data removed]",
      "text/plain": [
       "<Figure size 432x288 with 1 Axes>"
      ]
     },
     "metadata": {
      "needs_background": "light"
     },
     "output_type": "display_data"
    }
   ],
   "source": [
    "sns.boxplot(x=scores)"
   ]
  },
  {
   "cell_type": "code",
   "execution_count": 20,
   "id": "94dbf4a7",
   "metadata": {},
   "outputs": [
    {
     "name": "stdout",
     "output_type": "stream",
     "text": [
      "49    -0.083432\n",
      "58    -0.085257\n",
      "60    -0.074452\n",
      "81    -0.090891\n",
      "228   -0.170106\n",
      "247   -0.098278\n",
      "371   -0.099601\n",
      "426   -0.070485\n",
      "453   -0.066546\n",
      "487   -0.118056\n",
      "494   -0.070990\n",
      "519   -0.056673\n",
      "522   -0.072073\n",
      "622   -0.090246\n",
      "673   -0.074576\n",
      "684   -0.069264\n",
      "744   -0.091888\n",
      "dtype: float64\n"
     ]
    }
   ],
   "source": [
    "scores=pd.Series(scores,index=Xc1.index)\n",
    "outs3= scores[scores < -0.05]\n",
    "print(outs3)"
   ]
  },
  {
   "cell_type": "markdown",
   "id": "3f31d107",
   "metadata": {},
   "source": [
    "### 5. Outlier detection using Kmeans"
   ]
  },
  {
   "cell_type": "code",
   "execution_count": 21,
   "id": "20970064",
   "metadata": {},
   "outputs": [],
   "source": [
    "from sklearn.cluster import KMeans\n",
    "from sklearn.preprocessing import StandardScaler\n",
    "from sklearn.metrics.pairwise import pairwise_distances\n",
    "from sklearn.neighbors import DistanceMetric"
   ]
  },
  {
   "cell_type": "code",
   "execution_count": 22,
   "id": "83c1172c",
   "metadata": {},
   "outputs": [],
   "source": [
    "scaler = StandardScaler()\n",
    "scaler.fit(Xc1)\n",
    "Xd= scaler.transform(Xc1)"
   ]
  },
  {
   "cell_type": "code",
   "execution_count": 23,
   "id": "4ef46318",
   "metadata": {},
   "outputs": [],
   "source": [
    "kmeans = KMeans(n_clusters=30, random_state=0).fit(Xd)\n",
    "clustlabels=kmeans.labels_\n",
    "#print(clustlabels)"
   ]
  },
  {
   "cell_type": "code",
   "execution_count": 24,
   "id": "ef116077",
   "metadata": {},
   "outputs": [
    {
     "name": "stdout",
     "output_type": "stream",
     "text": [
      "Size of the formed clusters\n",
      "[[ 0  1  2  3  4  5  6  7  8  9 10 11 12 13 14 15 16 17 18 19 20 21 22 23\n",
      "  24 25 26 27 28 29]\n",
      " [ 3 28 36 36 14  8 12 11  9 14 12  6 11 41  9 11  1 19 23 19 33 36 13  2\n",
      "  10 11 16  2 32 22]]\n"
     ]
    }
   ],
   "source": [
    "#Finding the size of the two clusters formed\n",
    "unique_elements, counts_elements = np.unique(clustlabels, return_counts=True)\n",
    "print(\"Size of the formed clusters\")\n",
    "print(np.asarray((unique_elements, counts_elements)))"
   ]
  },
  {
   "cell_type": "code",
   "execution_count": 25,
   "id": "3970a3a9",
   "metadata": {},
   "outputs": [
    {
     "name": "stdout",
     "output_type": "stream",
     "text": [
      "[ 75 182 342  49  60  81 426 494 522 228 336 453  58 622]\n"
     ]
    }
   ],
   "source": [
    "inst1=Xc1.index\n",
    "out11=inst1[np.where(clustlabels==0)]\n",
    "out12=inst1[np.where(clustlabels==11)]\n",
    "out13=inst1[np.where(clustlabels==16)]\n",
    "out14=inst1[np.where(clustlabels==23)]\n",
    "out15=inst1[np.where(clustlabels==27)]\n",
    "out1all=np.concatenate([out11,out12,out13,out14,out15])\n",
    "print(out1all)\n"
   ]
  },
  {
   "cell_type": "markdown",
   "id": "d19922b6",
   "metadata": {},
   "source": [
    "### 6. Outlier detection using DBSCAN"
   ]
  },
  {
   "cell_type": "code",
   "execution_count": 26,
   "id": "0eac7d1b",
   "metadata": {},
   "outputs": [
    {
     "data": {
      "text/plain": [
       "[<matplotlib.lines.Line2D at 0x241ce4951f0>]"
      ]
     },
     "execution_count": 26,
     "metadata": {},
     "output_type": "execute_result"
    },
    {
     "data": {
      "image/png": "[encoded data removed]",
      "text/plain": [
       "<Figure size 432x288 with 1 Axes>"
      ]
     },
     "metadata": {
      "needs_background": "light"
     },
     "output_type": "display_data"
    }
   ],
   "source": [
    "#Choosing the optimal epsilon\n",
    "k = 10\n",
    "# importing NearestNeighbors class \n",
    "from sklearn.neighbors import NearestNeighbors\n",
    "# initialize model\n",
    "neigh10 = NearestNeighbors(n_neighbors=10, n_jobs=-1)\n",
    "# train for getting nearest neighbour\n",
    "neigh10.fit(Xc1)\n",
    "dist10, ind10 = neigh10.kneighbors(Xc1)\n",
    "distances10 = [dist10[i][k-1] for i in range(len(dist10))]\n",
    "distances10 = np.sort(distances10, axis=0)\n",
    "plt.plot(distances10)"
   ]
  },
  {
   "cell_type": "code",
   "execution_count": 28,
   "id": "22d7dcdb",
   "metadata": {},
   "outputs": [
    {
     "name": "stdout",
     "output_type": "stream",
     "text": [
      "Int64Index([75, 153, 182, 228, 247, 248, 258, 286, 342, 392, 486, 519, 645,\n",
      "            710],\n",
      "           dtype='int64')\n"
     ]
    }
   ],
   "source": [
    "from sklearn.cluster import DBSCAN\n",
    "eps=50\n",
    "dbscan = DBSCAN(eps,min_samples=10).fit(Xc1)\n",
    "dbscanlabels=dbscan.labels_\n",
    "#print(dbscanlabels)\n",
    "inst=Xc1.index\n",
    "outd1=inst[np.where(dbscanlabels==-1)]\n",
    "print(outd1)"
   ]
  },
  {
   "cell_type": "code",
   "execution_count": null,
   "id": "c79c0d2a",
   "metadata": {},
   "outputs": [],
   "source": []
  }
 ],
 "metadata": {
  "kernelspec": {
   "display_name": "Python 3",
   "language": "python",
   "name": "python3"
  },
  "language_info": {
   "codemirror_mode": {
    "name": "ipython",
    "version": 3
   },
   "file_extension": ".py",
   "mimetype": "text/x-python",
   "name": "python",
   "nbconvert_exporter": "python",
   "pygments_lexer": "ipython3",
   "version": "3.8.8"
  }
 },
 "nbformat": 4,
 "nbformat_minor": 5
}
