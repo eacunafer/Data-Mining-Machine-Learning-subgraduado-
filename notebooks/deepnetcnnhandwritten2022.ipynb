{
 "cells": [
  {
   "cell_type": "markdown",
   "metadata": {},
   "source": [
    "### Handwriten recognition using deep learning:Convolutional Neural Networks\n",
    "#### Edgar Acuna\n",
    "#### February 2002"
   ]
  },
  {
   "cell_type": "code",
   "execution_count": 1,
   "metadata": {},
   "outputs": [],
   "source": [
    "import keras\n",
    "from keras.utils import to_categorical\n",
    "from sklearn.preprocessing import LabelBinarizer\n",
    "import matplotlib.pyplot as plt\n",
    "%matplotlib inline\n",
    "import warnings\n",
    "warnings.filterwarnings('ignore')"
   ]
  },
  {
   "cell_type": "code",
   "execution_count": 2,
   "metadata": {},
   "outputs": [
    {
     "name": "stdout",
     "output_type": "stream",
     "text": [
      "(60000, 28, 28) (60000,) (10000, 28, 28) (10000,)\n"
     ]
    }
   ],
   "source": [
    "(X_train, y_train), (X_test, y_test) = keras.datasets.mnist.load_data()\n",
    "print(X_train.shape,y_train.shape,X_test.shape,y_test.shape)"
   ]
  },
  {
   "cell_type": "code",
   "execution_count": 3,
   "metadata": {},
   "outputs": [
    {
     "name": "stdout",
     "output_type": "stream",
     "text": [
      "<class 'numpy.ndarray'>\n"
     ]
    },
    {
     "data": {
      "text/plain": [
       "<matplotlib.image.AxesImage at 0x18b6c3f5c10>"
      ]
     },
     "execution_count": 3,
     "metadata": {},
     "output_type": "execute_result"
    },
    {
     "data": {
      "image/png": "[encoded data removed]",
      "text/plain": [
       "<Figure size 432x288 with 4 Axes>"
      ]
     },
     "metadata": {
      "needs_background": "light"
     },
     "output_type": "display_data"
    }
   ],
   "source": [
    "# normalize x\n",
    "X_train = X_train.astype(float) / 255.\n",
    "X_test = X_test.astype(float) / 255.\n",
    "print(type(X_train))\n",
    "# prepare image and figure\n",
    "fig, ((ax1, ax2), (ax3, ax4)) = plt.subplots(2, 2)\n",
    "ax1.imshow(X_train[0])\n",
    "ax2.imshow(X_train[1])\n",
    "ax3.imshow(X_train[2])\n",
    "ax4.imshow(X_train[3])"
   ]
  },
  {
   "cell_type": "code",
   "execution_count": 4,
   "metadata": {},
   "outputs": [
    {
     "name": "stdout",
     "output_type": "stream",
     "text": [
      "Train dimension:\n",
      "(60000, 28, 28, 1)\n",
      "Test dimension:\n",
      "(10000, 28, 28, 1)\n",
      "Train labels dimension:\n",
      "(60000, 10)\n",
      "Test labels dimension:\n",
      "(10000, 10)\n"
     ]
    }
   ],
   "source": [
    "# Changing dimension of input images from N*28*28 to  N*784\n",
    "#X_train = X_train.reshape((X_train.shape[0],X_train.shape[1]*X_train.shape[2]))\n",
    "X_train=X_train.reshape(-1,28,28,1)\n",
    "#X_test = X_test.reshape((X_test.shape[0],X_test.shape[1]*X_test.shape[2]))\n",
    "X_test=X_test.reshape(-1,28,28,1)\n",
    "print('Train dimension:');print(X_train.shape)\n",
    "print('Test dimension:');print(X_test.shape)\n",
    "## Changing labels to one-hot encoded vector\n",
    "#lb = LabelBinarizer()\n",
    "#y_train = lb.fit_transform(y_train)\n",
    "y_train=to_categorical(y_train)\n",
    "#y_test = lb.transform(y_test)\n",
    "y_test=to_categorical(y_test)\n",
    "print('Train labels dimension:');print(y_train.shape)\n",
    "print('Test labels dimension:');print(y_test.shape)"
   ]
  },
  {
   "cell_type": "code",
   "execution_count": 5,
   "metadata": {
    "scrolled": true
   },
   "outputs": [],
   "source": [
    "from sklearn.model_selection import train_test_split\n",
    "X_train, X_val, y_train, y_val=train_test_split(X_train,y_train,test_size=.2,random_state=13)"
   ]
  },
  {
   "cell_type": "code",
   "execution_count": 6,
   "metadata": {},
   "outputs": [],
   "source": [
    "from keras.models import Sequential,Input, Model\n",
    "from keras.layers import Dense, Dropout,Flatten, Conv2D, MaxPooling2D \n",
    "from keras.layers.normalization import BatchNormalization\n",
    "from keras.layers.advanced_activations import LeakyReLU"
   ]
  },
  {
   "cell_type": "code",
   "execution_count": 7,
   "metadata": {},
   "outputs": [],
   "source": [
    "## Importing required libraries\n",
    "import numpy as np\n",
    "import tensorflow as tf\n",
    "from sklearn.metrics import roc_auc_score, accuracy_score\n",
    "#s = tf.InteractiveSession()"
   ]
  },
  {
   "cell_type": "code",
   "execution_count": 8,
   "metadata": {},
   "outputs": [],
   "source": [
    "batch_size=128\n",
    "epochs=15\n",
    "num_classes=10"
   ]
  },
  {
   "cell_type": "code",
   "execution_count": 9,
   "metadata": {},
   "outputs": [],
   "source": [
    "#Anadiendo capas secuencialmente al modelo\n",
    "digits_model=Sequential()\n",
    "digits_model.add(Conv2D(32,kernel_size=(3,3),activation=\"relu\",input_shape=(28,28,1),padding=\"same\"))\n",
    "#digits_model.add(LeakyReLU(alpha=.1))\n",
    "digits_model.add(MaxPooling2D((2,2),padding=\"same\"))\n",
    "digits_model.add(Conv2D(64,(3,3),activation=\"relu\",padding=\"same\"))\n",
    "#digits_model.add(LeakyReLU(alpha=.1))\n",
    "digits_model.add(MaxPooling2D(pool_size=(2,2),padding=\"same\"))\n",
    "digits_model.add(Conv2D(128,(3,3),activation=\"relu\",padding=\"same\"))\n",
    "#digits_model.add(LeakyReLU(alpha=.1))\n",
    "digits_model.add(MaxPooling2D(pool_size=(2,2),padding=\"same\"))\n",
    "digits_model.add(Flatten())\n",
    "digits_model.add(Dense(128,activation=\"linear\"))\n",
    "digits_model.add(LeakyReLU(alpha=.1))\n",
    "digits_model.add(Dense(num_classes,activation=\"softmax\"))"
   ]
  },
  {
   "cell_type": "code",
   "execution_count": 10,
   "metadata": {},
   "outputs": [],
   "source": [
    "#compilando con las capas\n",
    "digits_model.compile(loss=keras.losses.categorical_crossentropy,optimizer=keras.optimizers.Adam(),metrics=['accuracy'])"
   ]
  },
  {
   "cell_type": "code",
   "execution_count": 11,
   "metadata": {
    "scrolled": false
   },
   "outputs": [
    {
     "name": "stdout",
     "output_type": "stream",
     "text": [
      "Model: \"sequential\"\n",
      "_________________________________________________________________\n",
      "Layer (type)                 Output Shape              Param #   \n",
      "=================================================================\n",
      "conv2d (Conv2D)              (None, 28, 28, 32)        320       \n",
      "_________________________________________________________________\n",
      "max_pooling2d (MaxPooling2D) (None, 14, 14, 32)        0         \n",
      "_________________________________________________________________\n",
      "conv2d_1 (Conv2D)            (None, 14, 14, 64)        18496     \n",
      "_________________________________________________________________\n",
      "max_pooling2d_1 (MaxPooling2 (None, 7, 7, 64)          0         \n",
      "_________________________________________________________________\n",
      "conv2d_2 (Conv2D)            (None, 7, 7, 128)         73856     \n",
      "_________________________________________________________________\n",
      "max_pooling2d_2 (MaxPooling2 (None, 4, 4, 128)         0         \n",
      "_________________________________________________________________\n",
      "flatten (Flatten)            (None, 2048)              0         \n",
      "_________________________________________________________________\n",
      "dense (Dense)                (None, 128)               262272    \n",
      "_________________________________________________________________\n",
      "leaky_re_lu (LeakyReLU)      (None, 128)               0         \n",
      "_________________________________________________________________\n",
      "dense_1 (Dense)              (None, 10)                1290      \n",
      "=================================================================\n",
      "Total params: 356,234\n",
      "Trainable params: 356,234\n",
      "Non-trainable params: 0\n",
      "_________________________________________________________________\n"
     ]
    }
   ],
   "source": [
    "digits_model.summary()"
   ]
  },
  {
   "cell_type": "code",
   "execution_count": 12,
   "metadata": {},
   "outputs": [
    {
     "name": "stdout",
     "output_type": "stream",
     "text": [
      "Epoch 1/15\n",
      "375/375 [==============================] - 29s 77ms/step - loss: 0.2188 - accuracy: 0.9317 - val_loss: 0.0640 - val_accuracy: 0.9801\n",
      "Epoch 2/15\n",
      "375/375 [==============================] - 31s 83ms/step - loss: 0.0493 - accuracy: 0.9850 - val_loss: 0.0495 - val_accuracy: 0.9843\n",
      "Epoch 3/15\n",
      "375/375 [==============================] - 31s 82ms/step - loss: 0.0341 - accuracy: 0.9887 - val_loss: 0.0408 - val_accuracy: 0.9883\n",
      "Epoch 4/15\n",
      "375/375 [==============================] - 31s 82ms/step - loss: 0.0251 - accuracy: 0.9921 - val_loss: 0.0385 - val_accuracy: 0.9892\n",
      "Epoch 5/15\n",
      "375/375 [==============================] - 31s 83ms/step - loss: 0.0187 - accuracy: 0.9941 - val_loss: 0.0366 - val_accuracy: 0.9883\n",
      "Epoch 6/15\n",
      "375/375 [==============================] - 31s 82ms/step - loss: 0.0168 - accuracy: 0.9945 - val_loss: 0.0318 - val_accuracy: 0.9905\n",
      "Epoch 7/15\n",
      "375/375 [==============================] - 31s 83ms/step - loss: 0.0144 - accuracy: 0.9954 - val_loss: 0.0447 - val_accuracy: 0.9873\n",
      "Epoch 8/15\n",
      "375/375 [==============================] - 33s 89ms/step - loss: 0.0116 - accuracy: 0.9962 - val_loss: 0.0333 - val_accuracy: 0.9914\n",
      "Epoch 9/15\n",
      "375/375 [==============================] - 34s 89ms/step - loss: 0.0088 - accuracy: 0.9971 - val_loss: 0.0412 - val_accuracy: 0.9893\n",
      "Epoch 10/15\n",
      "375/375 [==============================] - 32s 86ms/step - loss: 0.0115 - accuracy: 0.9960 - val_loss: 0.0359 - val_accuracy: 0.9906\n",
      "Epoch 11/15\n",
      "375/375 [==============================] - 32s 86ms/step - loss: 0.0073 - accuracy: 0.9976 - val_loss: 0.0401 - val_accuracy: 0.9900\n",
      "Epoch 12/15\n",
      "375/375 [==============================] - 33s 88ms/step - loss: 0.0067 - accuracy: 0.9978 - val_loss: 0.0450 - val_accuracy: 0.9877\n",
      "Epoch 13/15\n",
      "375/375 [==============================] - 32s 85ms/step - loss: 0.0064 - accuracy: 0.9978 - val_loss: 0.0379 - val_accuracy: 0.9911\n",
      "Epoch 14/15\n",
      "375/375 [==============================] - 32s 86ms/step - loss: 0.0073 - accuracy: 0.9974 - val_loss: 0.0428 - val_accuracy: 0.9893\n",
      "Epoch 15/15\n",
      "375/375 [==============================] - 32s 85ms/step - loss: 0.0043 - accuracy: 0.9986 - val_loss: 0.0476 - val_accuracy: 0.9898\n"
     ]
    }
   ],
   "source": [
    "digits_train=digits_model.fit(X_train,y_train,batch_size=batch_size,epochs=epochs,verbose=1,validation_data=(X_val,y_val))"
   ]
  },
  {
   "cell_type": "code",
   "execution_count": 13,
   "metadata": {},
   "outputs": [],
   "source": [
    "test_eval=digits_model.evaluate(X_test,y_test,verbose=0)"
   ]
  },
  {
   "cell_type": "code",
   "execution_count": 14,
   "metadata": {},
   "outputs": [
    {
     "name": "stdout",
     "output_type": "stream",
     "text": [
      "0.9907000064849854\n"
     ]
    }
   ],
   "source": [
    "print(test_eval[1])"
   ]
  },
  {
   "cell_type": "code",
   "execution_count": null,
   "metadata": {},
   "outputs": [],
   "source": []
  }
 ],
 "metadata": {
  "kernelspec": {
   "display_name": "Python 3",
   "language": "python",
   "name": "python3"
  },
  "language_info": {
   "codemirror_mode": {
    "name": "ipython",
    "version": 3
   },
   "file_extension": ".py",
   "mimetype": "text/x-python",
   "name": "python",
   "nbconvert_exporter": "python",
   "pygments_lexer": "ipython3",
   "version": "3.8.8"
  }
 },
 "nbformat": 4,
 "nbformat_minor": 2
}
