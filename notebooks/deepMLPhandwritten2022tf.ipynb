{
 "cells": [
  {
   "cell_type": "markdown",
   "metadata": {},
   "source": [
    "## Handwritten digit recognition using deep learning with Tensorflow\n",
    "### Edgar Acuna\n",
    "### February 2022"
   ]
  },
  {
   "cell_type": "code",
   "execution_count": 74,
   "metadata": {},
   "outputs": [],
   "source": [
    "# Imports\n",
    "import tensorflow\n",
    "from tensorflow.keras.datasets import mnist\n",
    "from tensorflow.keras.models import Sequential\n",
    "from tensorflow.keras.layers import Dense\n",
    "from tensorflow.keras.utils import to_categorical\n",
    "import matplotlib.pyplot as plt\n",
    "%matplotlib inline\n",
    "import warnings\n",
    "warnings.filterwarnings('ignore')"
   ]
  },
  {
   "cell_type": "code",
   "execution_count": 75,
   "metadata": {},
   "outputs": [],
   "source": [
    "# Load the data\n",
    "(X_train, Y_train), (X_test, Y_test) = mnist.load_data()"
   ]
  },
  {
   "cell_type": "code",
   "execution_count": 76,
   "metadata": {},
   "outputs": [],
   "source": [
    "# Configuration options\n",
    "feature_vector_length = 784\n",
    "num_classes = 10"
   ]
  },
  {
   "cell_type": "code",
   "execution_count": 77,
   "metadata": {},
   "outputs": [
    {
     "data": {
      "text/plain": [
       "<matplotlib.image.AxesImage at 0x104e8b58580>"
      ]
     },
     "execution_count": 77,
     "metadata": {},
     "output_type": "execute_result"
    },
    {
     "data": {
      "image/png": "[encoded data removed]",
      "text/plain": [
       "<Figure size 432x288 with 4 Axes>"
      ]
     },
     "metadata": {
      "needs_background": "light"
     },
     "output_type": "display_data"
    }
   ],
   "source": [
    "# normalize x\n",
    "X_train = X_train.astype(float) / 255.\n",
    "X_test = X_test.astype(float) / 255.\n",
    "# we reserve the last 10000 training examples for validation\n",
    "X_train, X_val = X_train[:-10000], X_train[-10000:]\n",
    "Y_train, y_val = Y_train[:-10000], Y_train[-10000:]\n",
    "# prepare image and figure\n",
    "fig, ((ax1, ax2), (ax3, ax4)) = plt.subplots(2, 2)\n",
    "ax1.imshow(X_train[0])\n",
    "ax2.imshow(X_train[1])\n",
    "ax3.imshow(X_train[2])\n",
    "ax4.imshow(X_train[3])"
   ]
  },
  {
   "cell_type": "code",
   "execution_count": 78,
   "metadata": {},
   "outputs": [],
   "source": [
    "# Reshape the data - MLPs do not understand such things as '2D'.\n",
    "# Reshape to 28 x 28 pixels = 784 features\n",
    "X_train = X_train.reshape(X_train.shape[0], feature_vector_length)\n",
    "X_test = X_test.reshape(X_test.shape[0], feature_vector_length)"
   ]
  },
  {
   "cell_type": "code",
   "execution_count": 79,
   "metadata": {},
   "outputs": [
    {
     "name": "stdout",
     "output_type": "stream",
     "text": [
      "Feature shape: (784,)\n"
     ]
    }
   ],
   "source": [
    "# Convert target classes to categorical ones\n",
    "Y_train = to_categorical(Y_train, num_classes)\n",
    "Y_test = to_categorical(Y_test, num_classes)\n",
    "\n",
    "# Set the input shape\n",
    "input_shape = (feature_vector_length,)\n",
    "print(f'Feature shape: {input_shape}')"
   ]
  },
  {
   "cell_type": "code",
   "execution_count": 80,
   "metadata": {},
   "outputs": [],
   "source": [
    "## Defining various initialization parameters for 784(Input)-512-256-10(Output) MLP model\n",
    "num_classes = Y_train.shape[1]\n",
    "num_features = X_train.shape[1]\n",
    "num_output = Y_train.shape[1]\n",
    "num_layers_0 = 512\n",
    "num_layers_1 = 256\n",
    "starter_learning_rate = 0.001\n",
    "regularizer_rate = 0.1"
   ]
  },
  {
   "cell_type": "code",
   "execution_count": 81,
   "metadata": {},
   "outputs": [],
   "source": [
    "# Placeholders for the input data\n",
    "tf.compat.v1.disable_eager_execution()\n",
    "input_X = tf.compat.v1.placeholder('float32',shape =(None,num_features),name=\"input_X\")\n",
    "input_y = tf.compat.v1.placeholder('float32',shape = (None,num_classes),name='input_Y')\n",
    "## for dropout layer\n",
    "keep_prob = tf.compat.v1.placeholder(tf.float32)"
   ]
  },
  {
   "cell_type": "code",
   "execution_count": 82,
   "metadata": {},
   "outputs": [],
   "source": [
    "## Weights initialized by random normal function with std_dev = 1/sqrt(number of input features)\n",
    "weights_0 = tf.compat.v1.Variable(tf.compat.v1.random_normal([num_features,num_layers_0], stddev=(1/tf.sqrt(float(num_features)))))\n",
    "bias_0 = tf.Variable(tf.compat.v1.random_normal([num_layers_0]))\n",
    "weights_1 = tf.compat.v1.Variable(tf.compat.v1.random_normal([num_layers_0,num_layers_1], stddev=(1/tf.sqrt(float(num_layers_0)))))\n",
    "bias_1 = tf.compat.v1.Variable(tf.compat.v1.random_normal([num_layers_1]))\n",
    "weights_2 = tf.compat.v1.Variable(tf.compat.v1.random_normal([num_layers_1,num_output], stddev=(1/tf.sqrt(float(num_layers_1)))))\n",
    "bias_2 = tf.compat.v1.Variable(tf.compat.v1.random_normal([num_output]))"
   ]
  },
  {
   "cell_type": "code",
   "execution_count": 83,
   "metadata": {},
   "outputs": [],
   "source": [
    "## Initializing weigths and biases\n",
    "hidden_output_0 = tf.compat.v1.nn.relu(tf.matmul(input_X,weights_0)+bias_0)\n",
    "hidden_output_0_0 = tf.compat.v1.nn.dropout(hidden_output_0, keep_prob)\n",
    "hidden_output_1 = tf.compat.v1.nn.relu(tf.matmul(hidden_output_0_0,weights_1)+bias_1)\n",
    "hidden_output_1_1 = tf.compat.v1.nn.dropout(hidden_output_1, keep_prob)\n",
    "predicted_y = tf.compat.v1.sigmoid(tf.matmul(hidden_output_1_1,weights_2) + bias_2)"
   ]
  },
  {
   "cell_type": "code",
   "execution_count": 84,
   "metadata": {},
   "outputs": [],
   "source": [
    "## Defining the loss function\n",
    "loss = tf.compat.v1.reduce_mean(tf.compat.v1.nn.softmax_cross_entropy_with_logits_v2(logits=predicted_y,labels=input_y)) \\\n",
    "        + regularizer_rate*(tf.compat.v1.reduce_sum(tf.square(bias_0)) + tf.compat.v1.reduce_sum(tf.square(bias_1)))"
   ]
  },
  {
   "cell_type": "code",
   "execution_count": 85,
   "metadata": {},
   "outputs": [],
   "source": [
    "# Variable learning rate\n",
    "learning_rate = tf.compat.v1.train.exponential_decay(starter_learning_rate, 0, 5, 0.85, staircase=True)\n",
    "## Adam optimzer for finding the right weight\n",
    "optimizer = tf.compat.v1.train.AdamOptimizer(learning_rate).minimize(loss,var_list=[weights_0,weights_1,weights_2,\n",
    "                                                                         bias_0,bias_1,bias_2])"
   ]
  },
  {
   "cell_type": "code",
   "execution_count": 86,
   "metadata": {},
   "outputs": [],
   "source": [
    "## Metrics definition\n",
    "correct_prediction = tf.compat.v1.equal(tf.argmax(Y_train,1), tf.argmax(predicted_y,1))\n",
    "accuracy = tf.compat.v1.reduce_mean(tf.cast(correct_prediction, tf.float32))"
   ]
  },
  {
   "cell_type": "code",
   "execution_count": 87,
   "metadata": {
    "scrolled": true
   },
   "outputs": [
    {
     "name": "stdout",
     "output_type": "stream",
     "text": [
      "Epoch:0, Train loss: 38.26 Train acc: 0.935, Test acc:0.936\n",
      "Epoch:1, Train loss: 20.86 Train acc: 0.956, Test acc:0.955\n",
      "Epoch:2, Train loss: 11.66 Train acc: 0.967, Test acc:0.962\n",
      "Epoch:3, Train loss: 6.77 Train acc: 0.971, Test acc:0.966\n",
      "Epoch:4, Train loss: 4.19 Train acc: 0.977, Test acc:0.970\n",
      "Epoch:5, Train loss: 2.82 Train acc: 0.981, Test acc:0.975\n",
      "Epoch:6, Train loss: 2.12 Train acc: 0.984, Test acc:0.976\n",
      "Epoch:7, Train loss: 1.77 Train acc: 0.985, Test acc:0.976\n",
      "Epoch:8, Train loss: 1.60 Train acc: 0.987, Test acc:0.977\n",
      "Epoch:9, Train loss: 1.52 Train acc: 0.988, Test acc:0.978\n",
      "Epoch:10, Train loss: 1.49 Train acc: 0.989, Test acc:0.977\n",
      "Epoch:11, Train loss: 1.48 Train acc: 0.989, Test acc:0.977\n",
      "Epoch:12, Train loss: 1.47 Train acc: 0.990, Test acc:0.979\n",
      "Epoch:13, Train loss: 1.47 Train acc: 0.991, Test acc:0.979\n",
      "Epoch:14, Train loss: 1.47 Train acc: 0.992, Test acc:0.980\n"
     ]
    }
   ],
   "source": [
    "## Training parameters\n",
    "batch_size = 128\n",
    "epochs=15\n",
    "dropout_prob = 0.6\n",
    "training_accuracy = []\n",
    "training_loss = []\n",
    "testing_accuracy = []\n",
    "with tf.compat.v1.Session() as sess:\n",
    "    init = tf.compat.v1.global_variables_initializer()\n",
    "    sess.run(init)\n",
    "    for epoch in range(epochs):    \n",
    "        arr = np.arange(X_train.shape[0])\n",
    "        np.random.shuffle(arr)\n",
    "        for index in range(0,X_train.shape[0],batch_size):\n",
    "            sess.run(optimizer, {input_X: X_train[arr[index:index+batch_size]],\n",
    "                          input_y: Y_train[arr[index:index+batch_size]],\n",
    "                          keep_prob:dropout_prob})\n",
    "        training_accuracy.append(sess.run(accuracy, feed_dict= {input_X:X_train, \n",
    "                                                         input_y: Y_train,keep_prob:1}))\n",
    "        training_loss.append(sess.run(loss, {input_X: X_train, \n",
    "                                      input_y: Y_train,keep_prob:1}))\n",
    "    \n",
    "        ## Evaluation of model\n",
    "        testing_accuracy.append(accuracy_score(Y_test.argmax(1), \n",
    "                            sess.run(predicted_y, {input_X: X_test,keep_prob:1}).argmax(1)))\n",
    "        print(\"Epoch:{0}, Train loss: {1:.2f} Train acc: {2:.3f}, Test acc:{3:.3f}\".format(epoch,\n",
    "                                                                    training_loss[epoch],\n",
    "                                                                    training_accuracy[epoch],\n",
    "                                                                   testing_accuracy[epoch]))\n"
   ]
  },
  {
   "cell_type": "code",
   "execution_count": 88,
   "metadata": {},
   "outputs": [
    {
     "data": {
      "image/png": "[encoded data removed]",
      "text/plain": [
       "<Figure size 432x288 with 1 Axes>"
      ]
     },
     "metadata": {
      "needs_background": "light"
     },
     "output_type": "display_data"
    },
    {
     "name": "stdout",
     "output_type": "stream",
     "text": [
      "Train Accuracy: 0.99\n",
      "Test Accuracy:0.98\n"
     ]
    }
   ],
   "source": [
    "## Plotting chart of training and testing accuracy as a function of iterations\n",
    "iterations = list(range(epochs))\n",
    "plt.plot(iterations, training_accuracy, label='Train')\n",
    "plt.plot(iterations, testing_accuracy, label='Test')\n",
    "plt.ylabel('Accuracy')\n",
    "plt.xlabel('iterations')\n",
    "plt.show()\n",
    "print(\"Train Accuracy: {0:.2f}\".format(training_accuracy[-1]))\n",
    "print(\"Test Accuracy:{0:.2f}\".format(testing_accuracy[-1]))"
   ]
  },
  {
   "cell_type": "code",
   "execution_count": null,
   "metadata": {},
   "outputs": [],
   "source": []
  }
 ],
 "metadata": {
  "kernelspec": {
   "display_name": "Python 3",
   "language": "python",
   "name": "python3"
  },
  "language_info": {
   "codemirror_mode": {
    "name": "ipython",
    "version": 3
   },
   "file_extension": ".py",
   "mimetype": "text/x-python",
   "name": "python",
   "nbconvert_exporter": "python",
   "pygments_lexer": "ipython3",
   "version": "3.8.8"
  }
 },
 "nbformat": 4,
 "nbformat_minor": 2
}
