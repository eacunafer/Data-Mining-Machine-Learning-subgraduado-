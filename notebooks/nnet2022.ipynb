{
 "cells": [
  {
   "cell_type": "markdown",
   "metadata": {},
   "source": [
    "## Data Mining and Machine Learning\n",
    "### Clasification using Neural Networks and Deep Learning\n",
    "#### Edgar Acuna \n",
    "#### January 2022\n",
    "#### Datasets:  Toy example, Diabetes, Landsat and, Shuttle\n",
    "#### Libraries: Scikit Learn, H20"
   ]
  },
  {
   "cell_type": "code",
   "execution_count": 1,
   "metadata": {},
   "outputs": [],
   "source": [
    "import warnings\n",
    "warnings.filterwarnings(\"ignore\")\n",
    "import numpy as np\n",
    "import pandas as pd\n",
    "from sklearn.preprocessing import LabelEncoder\n",
    "from sklearn.model_selection import train_test_split\n",
    "from sklearn.neural_network import MLPClassifier\n",
    "from sklearn.metrics import classification_report, confusion_matrix\n",
    "from sklearn.preprocessing import StandardScaler\n",
    "import matplotlib.pyplot as plt\n",
    "%matplotlib inline"
   ]
  },
  {
   "cell_type": "markdown",
   "metadata": {},
   "source": [
    "#### Example 1. Neural Nets applied to the prediction of the final grade based on the first two exams: E1 and E2"
   ]
  },
  {
   "cell_type": "code",
   "execution_count": 2,
   "metadata": {},
   "outputs": [],
   "source": [
    "df=pd.read_csv(\"http://academic.uprm.edu/eacuna/eje1dis.csv\")\n",
    "#df=pd.read_csv(\"c://PW-PR/eje1dis.csv\")"
   ]
  },
  {
   "cell_type": "code",
   "execution_count": 3,
   "metadata": {},
   "outputs": [],
   "source": [
    "#Convirtiendo en matriz la tabla de predictoras y la columna de clases\n",
    "y=df['Nota']\n",
    "X=df.iloc[:,0:2]\n",
    "#creando una columna \"pass\" numerica para representar las clases\n",
    "lb_make = LabelEncoder()\n",
    "df[\"pass\"] = lb_make.fit_transform(df[\"Nota\"])\n",
    "y2=df['pass']\n",
    "y1=y2.to_numpy()\n",
    "X1=X.to_numpy()\n",
    "#scaler = StandardScaler()\n",
    "#scaler.fit(X1)\n",
    "#StandardScaler(copy=True, with_mean=True, with_std=True)\n",
    "#X1= scaler.transform(X1)"
   ]
  },
  {
   "cell_type": "code",
   "execution_count": 4,
   "metadata": {},
   "outputs": [
    {
     "data": {
      "text/plain": [
       "MLPClassifier(hidden_layer_sizes=5, max_iter=1000, random_state=99,\n",
       "              solver='lbfgs')"
      ]
     },
     "execution_count": 4,
     "metadata": {},
     "output_type": "execute_result"
    }
   ],
   "source": [
    "#Training a neural net with one hidden layer containing 5 units\n",
    "mlp = MLPClassifier(solver='lbfgs',hidden_layer_sizes=(5),max_iter=1000,random_state=99)\n",
    "mlp.fit(X1, y) "
   ]
  },
  {
   "cell_type": "code",
   "execution_count": 5,
   "metadata": {
    "scrolled": false
   },
   "outputs": [
    {
     "data": {
      "text/plain": [
       "[array([[-1.92864728e+01, -2.19842012e-02,  4.66125907e+01,\n",
       "         -1.21214465e+01, -1.66607565e+01],\n",
       "        [ 9.29670838e+01, -3.73197174e-01,  4.15534374e+01,\n",
       "         -1.23326054e+01, -3.20080488e+00]]),\n",
       " array([[-7.18327688e-04],\n",
       "        [ 9.44034376e-01],\n",
       "        [ 1.11408734e-02],\n",
       "        [ 1.96769231e+00],\n",
       "        [-1.39385187e+00]])]"
      ]
     },
     "execution_count": 5,
     "metadata": {},
     "output_type": "execute_result"
    }
   ],
   "source": [
    "#Showing  the weights\n",
    "mlp.coefs_"
   ]
  },
  {
   "cell_type": "code",
   "execution_count": 6,
   "metadata": {},
   "outputs": [
    {
     "data": {
      "text/plain": [
       "[array([-7.47103877,  0.45692388,  1.40033409, -0.1631209 ,  0.57263237]),\n",
       " array([-51.63127073])]"
      ]
     },
     "execution_count": 6,
     "metadata": {},
     "output_type": "execute_result"
    }
   ],
   "source": [
    "#Showing the biases\n",
    "mlp.intercepts_"
   ]
  },
  {
   "cell_type": "markdown",
   "metadata": {},
   "source": [
    "The neural net has 21 parameters to be estimated"
   ]
  },
  {
   "cell_type": "code",
   "execution_count": 7,
   "metadata": {
    "scrolled": true
   },
   "outputs": [
    {
     "data": {
      "text/plain": [
       "array([[0.00000000e+00, 1.00000000e+00],\n",
       "       [0.00000000e+00, 1.00000000e+00],\n",
       "       [0.00000000e+00, 1.00000000e+00],\n",
       "       [2.22044605e-16, 1.00000000e+00],\n",
       "       [2.44249065e-15, 1.00000000e+00],\n",
       "       [5.85846927e-10, 9.99999999e-01],\n",
       "       [1.03517195e-12, 1.00000000e+00],\n",
       "       [3.92923316e-09, 9.99999996e-01],\n",
       "       [2.20558634e-08, 9.99999978e-01],\n",
       "       [1.10431594e-07, 9.99999890e-01],\n",
       "       [5.66857183e-09, 9.99999994e-01],\n",
       "       [8.18679409e-04, 9.99181321e-01],\n",
       "       [1.65271638e-03, 9.98347284e-01],\n",
       "       [2.31305419e-10, 1.00000000e+00],\n",
       "       [1.06298526e-10, 1.00000000e+00],\n",
       "       [3.11181433e-01, 6.88818567e-01],\n",
       "       [8.12597403e-06, 9.99991874e-01],\n",
       "       [3.51924666e-06, 9.99996481e-01],\n",
       "       [2.62822209e-02, 9.73717779e-01],\n",
       "       [1.15113613e-04, 9.99884886e-01],\n",
       "       [1.78346920e-01, 8.21653080e-01],\n",
       "       [2.22614061e-02, 9.77738594e-01],\n",
       "       [1.61208501e-04, 9.99838791e-01],\n",
       "       [5.07604815e-07, 9.99999492e-01],\n",
       "       [9.93355627e-01, 6.64437344e-03],\n",
       "       [9.99999839e-01, 1.61166118e-07],\n",
       "       [6.07873482e-01, 3.92126518e-01],\n",
       "       [8.92402680e-01, 1.07597320e-01],\n",
       "       [9.70697381e-01, 2.93026187e-02],\n",
       "       [9.99981909e-01, 1.80912909e-05],\n",
       "       [9.68512425e-01, 3.14875749e-02],\n",
       "       [9.99966179e-01, 3.38206099e-05]])"
      ]
     },
     "execution_count": 7,
     "metadata": {},
     "output_type": "execute_result"
    }
   ],
   "source": [
    "#Calculating the posterior probabilities\n",
    "mlp.predict_proba(X1)"
   ]
  },
  {
   "cell_type": "code",
   "execution_count": 8,
   "metadata": {},
   "outputs": [
    {
     "name": "stdout",
     "output_type": "stream",
     "text": [
      "[[ 8  0]\n",
      " [ 0 24]]\n"
     ]
    }
   ],
   "source": [
    "#Calculating the prediction matrix\n",
    "pred=mlp.predict(X1)\n",
    "print(confusion_matrix(y,pred))"
   ]
  },
  {
   "cell_type": "code",
   "execution_count": 9,
   "metadata": {},
   "outputs": [
    {
     "name": "stdout",
     "output_type": "stream",
     "text": [
      "Este es el numero de errores= 0\n"
     ]
    }
   ],
   "source": [
    "#Calculating the number of errors\n",
    "error=(y!=pred).sum()\n",
    "print( \"Este es el numero de errores=\", error)"
   ]
  },
  {
   "cell_type": "code",
   "execution_count": 10,
   "metadata": {},
   "outputs": [
    {
     "name": "stdout",
     "output_type": "stream",
     "text": [
      "              precision    recall  f1-score   support\n",
      "\n",
      "           f       1.00      1.00      1.00         8\n",
      "           p       1.00      1.00      1.00        24\n",
      "\n",
      "    accuracy                           1.00        32\n",
      "   macro avg       1.00      1.00      1.00        32\n",
      "weighted avg       1.00      1.00      1.00        32\n",
      "\n"
     ]
    }
   ],
   "source": [
    "print(classification_report(y,pred))"
   ]
  },
  {
   "cell_type": "code",
   "execution_count": 11,
   "metadata": {},
   "outputs": [
    {
     "data": {
      "image/png": "[encoded data removed]",
      "text/plain": [
       "<Figure size 720x720 with 1 Axes>"
      ]
     },
     "metadata": {},
     "output_type": "display_data"
    }
   ],
   "source": [
    "#Visualizando la fromtera de decision\n",
    "from matplotlib.colors import ListedColormap\n",
    "mlp = MLPClassifier(solver=\"lbfgs\",hidden_layer_sizes=(5),max_iter=1000,random_state=99)\n",
    "mlp.fit(X1, y1) \n",
    "eje1=np.arange(start = X1[:, 0].min()-1, stop = X1[:, 0].max() + 1, step = 0.1)\n",
    "eje2=np.arange(start = X1[:, 1].min()-1, stop = X1[:, 1].max() + 1, step = 0.11)\n",
    "Y1, Y2 = np.meshgrid(eje1,eje2)\n",
    "pred2=mlp.predict(np.c_[Y1.ravel(), Y2.ravel()]).reshape(Y1.shape)\n",
    "plt.figure(figsize=(10, 10))\n",
    "plt.pcolormesh(Y1, Y2, pred2,cmap=plt.cm.Paired)\n",
    "# Plot also the training points#\n",
    "plt.scatter(X1[:, 0], X1[:, 1], c=y2, edgecolors='k')\n",
    "plt.xlabel('Ex1')\n",
    "plt.ylabel('Ex2')\n",
    "plt.xlim(Y1.min(), Y1.max())\n",
    "plt.ylim(Y2.min(), Y2.max())\n",
    "plt.xticks(())\n",
    "plt.yticks(())\n",
    "\n",
    "plt.show()\n"
   ]
  },
  {
   "cell_type": "code",
   "execution_count": 12,
   "metadata": {},
   "outputs": [
    {
     "name": "stdout",
     "output_type": "stream",
     "text": [
      "The accuracy estimated by CV is: 0.9\n"
     ]
    }
   ],
   "source": [
    "#Estimating the accuracy using cross validation(5-neurons)\n",
    "from sklearn.model_selection import cross_val_score\n",
    "scores = cross_val_score(mlp, X1, y1, cv=10)\n",
    "print ('The accuracy estimated by CV is:', scores.mean())   "
   ]
  },
  {
   "cell_type": "code",
   "execution_count": 13,
   "metadata": {},
   "outputs": [
    {
     "data": {
      "text/plain": [
       "MLPClassifier(hidden_layer_sizes=(5, 5), max_iter=2000, random_state=99,\n",
       "              solver='lbfgs')"
      ]
     },
     "execution_count": 13,
     "metadata": {},
     "output_type": "execute_result"
    }
   ],
   "source": [
    "#Training a neural net with two hidden layers containing 5 units each of them\n",
    "mlp2 = MLPClassifier(solver='lbfgs',hidden_layer_sizes=(5,5),max_iter=2000,random_state=99)\n",
    "mlp2.fit(X1, y) "
   ]
  },
  {
   "cell_type": "code",
   "execution_count": 14,
   "metadata": {
    "scrolled": true
   },
   "outputs": [
    {
     "data": {
      "text/plain": [
       "[array([[-0.23049524, -0.02207448,  0.63049713, -0.64444712,  0.36133947],\n",
       "        [-0.39755451, -0.37472974, -0.81520733,  1.16250735, -0.9975528 ]]),\n",
       " array([[-0.16196165,  0.52198852,  0.36004258, -0.62957092,  0.28294691],\n",
       "        [-0.44665223,  0.084192  , -0.32181481,  0.48976489,  0.50820058],\n",
       "        [-0.43132982,  0.14973231, -0.62677501, -0.13685051, -0.6418174 ],\n",
       "        [-0.55149494, -0.49373762,  0.0625446 , -0.65435683, -0.45661181],\n",
       "        [-0.76444363,  0.58263972,  0.0809211 , -0.51503376,  0.65182766]]),\n",
       " array([[ 0.66983668],\n",
       "        [-0.0825381 ],\n",
       "        [ 0.94532955],\n",
       "        [-0.06752363],\n",
       "        [-0.30298109]])]"
      ]
     },
     "execution_count": 14,
     "metadata": {},
     "output_type": "execute_result"
    }
   ],
   "source": [
    "#Showing  the weights\n",
    "mlp2.coefs_"
   ]
  },
  {
   "cell_type": "code",
   "execution_count": 15,
   "metadata": {},
   "outputs": [
    {
     "data": {
      "text/plain": [
       "[array([ 0.49242105,  0.45692388, -0.22506937, -0.00865967,  0.7918344 ]),\n",
       " array([ 0.06520198, -0.71764652,  0.03837523,  0.21710789,  0.4598108 ]),\n",
       " array([0.11201181])]"
      ]
     },
     "execution_count": 15,
     "metadata": {},
     "output_type": "execute_result"
    }
   ],
   "source": [
    "#Showing  the biases\n",
    "mlp2.intercepts_"
   ]
  },
  {
   "cell_type": "markdown",
   "metadata": {},
   "source": [
    "The model has 51 parameters"
   ]
  },
  {
   "cell_type": "code",
   "execution_count": 16,
   "metadata": {},
   "outputs": [
    {
     "name": "stdout",
     "output_type": "stream",
     "text": [
      "[[ 3  5]\n",
      " [ 2 22]]\n"
     ]
    }
   ],
   "source": [
    "#Calculating the prediction matrix\n",
    "pred=mlp2.predict(X1)\n",
    "print(confusion_matrix(y,pred))"
   ]
  },
  {
   "cell_type": "markdown",
   "metadata": {},
   "source": [
    "There are 7 errors"
   ]
  },
  {
   "cell_type": "code",
   "execution_count": 17,
   "metadata": {},
   "outputs": [
    {
     "name": "stdout",
     "output_type": "stream",
     "text": [
      "The accuracy estimated by CV is: 0.7083333333333333\n"
     ]
    }
   ],
   "source": [
    "#Estimating the accuracy using cross validation(5-neurons)\n",
    "from sklearn.model_selection import cross_val_score\n",
    "scores = cross_val_score(mlp2, X1, y1, cv=10)\n",
    "print ('The accuracy estimated by CV is:', scores.mean())   "
   ]
  },
  {
   "cell_type": "markdown",
   "metadata": {},
   "source": [
    "### Example 2. Nnets applied to Diabetes"
   ]
  },
  {
   "cell_type": "code",
   "execution_count": 18,
   "metadata": {},
   "outputs": [
    {
     "name": "stdout",
     "output_type": "stream",
     "text": [
      "(768, 9)\n"
     ]
    },
    {
     "data": {
      "text/html": [
       "<div>\n",
       "<style scoped>\n",
       "    .dataframe tbody tr th:only-of-type {\n",
       "        vertical-align: middle;\n",
       "    }\n",
       "\n",
       "    .dataframe tbody tr th {\n",
       "        vertical-align: top;\n",
       "    }\n",
       "\n",
       "    .dataframe thead th {\n",
       "        text-align: right;\n",
       "    }\n",
       "</style>\n",
       "<table border=\"1\" class=\"dataframe\">\n",
       "  <thead>\n",
       "    <tr style=\"text-align: right;\">\n",
       "      <th></th>\n",
       "      <th>preg</th>\n",
       "      <th>plas</th>\n",
       "      <th>pres</th>\n",
       "      <th>skin</th>\n",
       "      <th>test</th>\n",
       "      <th>mass</th>\n",
       "      <th>pedi</th>\n",
       "      <th>age</th>\n",
       "      <th>class</th>\n",
       "    </tr>\n",
       "  </thead>\n",
       "  <tbody>\n",
       "    <tr>\n",
       "      <th>0</th>\n",
       "      <td>6</td>\n",
       "      <td>148</td>\n",
       "      <td>72</td>\n",
       "      <td>35</td>\n",
       "      <td>0</td>\n",
       "      <td>33.6</td>\n",
       "      <td>0.627</td>\n",
       "      <td>50</td>\n",
       "      <td>2</td>\n",
       "    </tr>\n",
       "    <tr>\n",
       "      <th>1</th>\n",
       "      <td>1</td>\n",
       "      <td>85</td>\n",
       "      <td>66</td>\n",
       "      <td>29</td>\n",
       "      <td>0</td>\n",
       "      <td>26.6</td>\n",
       "      <td>0.351</td>\n",
       "      <td>31</td>\n",
       "      <td>1</td>\n",
       "    </tr>\n",
       "    <tr>\n",
       "      <th>2</th>\n",
       "      <td>8</td>\n",
       "      <td>183</td>\n",
       "      <td>64</td>\n",
       "      <td>0</td>\n",
       "      <td>0</td>\n",
       "      <td>23.3</td>\n",
       "      <td>0.672</td>\n",
       "      <td>32</td>\n",
       "      <td>2</td>\n",
       "    </tr>\n",
       "    <tr>\n",
       "      <th>3</th>\n",
       "      <td>1</td>\n",
       "      <td>89</td>\n",
       "      <td>66</td>\n",
       "      <td>23</td>\n",
       "      <td>94</td>\n",
       "      <td>28.1</td>\n",
       "      <td>0.167</td>\n",
       "      <td>21</td>\n",
       "      <td>1</td>\n",
       "    </tr>\n",
       "    <tr>\n",
       "      <th>4</th>\n",
       "      <td>0</td>\n",
       "      <td>137</td>\n",
       "      <td>40</td>\n",
       "      <td>35</td>\n",
       "      <td>168</td>\n",
       "      <td>43.1</td>\n",
       "      <td>2.288</td>\n",
       "      <td>33</td>\n",
       "      <td>2</td>\n",
       "    </tr>\n",
       "  </tbody>\n",
       "</table>\n",
       "</div>"
      ],
      "text/plain": [
       "   preg  plas  pres  skin  test  mass   pedi  age  class\n",
       "0     6   148    72    35     0  33.6  0.627   50      2\n",
       "1     1    85    66    29     0  26.6  0.351   31      1\n",
       "2     8   183    64     0     0  23.3  0.672   32      2\n",
       "3     1    89    66    23    94  28.1  0.167   21      1\n",
       "4     0   137    40    35   168  43.1  2.288   33      2"
      ]
     },
     "execution_count": 18,
     "metadata": {},
     "output_type": "execute_result"
    }
   ],
   "source": [
    "url= \"http://academic.uprm.edu/eacuna/diabetes.dat\"\n",
    "#url=\"c://PW-PR/diabetes.dat\"\n",
    "names = ['preg', 'plas', 'pres', 'skin', 'test', 'mass', 'pedi', 'age', 'class']\n",
    "data = pd.read_table(url, names=names)\n",
    "print(data.shape)\n",
    "data.head()"
   ]
  },
  {
   "cell_type": "markdown",
   "metadata": {},
   "source": [
    "#### Splitting the data in training(70%) and test (30%) datasets"
   ]
  },
  {
   "cell_type": "code",
   "execution_count": 19,
   "metadata": {},
   "outputs": [],
   "source": [
    "y=data['class']\n",
    "X=data.iloc[:,0:8]\n",
    "X_train, X_test, y_train, y_test = train_test_split(X, y)\n",
    "y1=y.to_numpy()\n",
    "X1=X.to_numpy()\n",
    "#scaler = StandardScaler()\n",
    "#scaler.fit(X_train)\n",
    "#StandardScaler(copy=True, with_mean=True, with_std=True)\n",
    "#X_train= scaler.transform(X_train)\n",
    "#X_test = scaler.transform(X_test)"
   ]
  },
  {
   "cell_type": "code",
   "execution_count": 20,
   "metadata": {},
   "outputs": [
    {
     "data": {
      "text/plain": [
       "MLPClassifier(hidden_layer_sizes=20, max_iter=500)"
      ]
     },
     "execution_count": 20,
     "metadata": {},
     "output_type": "execute_result"
    }
   ],
   "source": [
    "#training a NN with one hidden layer and 20 units\n",
    "mlp=MLPClassifier(hidden_layer_sizes=(20),max_iter=500)\n",
    "mlp.fit(X_train, y_train) "
   ]
  },
  {
   "cell_type": "code",
   "execution_count": 21,
   "metadata": {},
   "outputs": [],
   "source": [
    "#mlp.coefs_"
   ]
  },
  {
   "cell_type": "code",
   "execution_count": 22,
   "metadata": {},
   "outputs": [
    {
     "data": {
      "text/plain": [
       "[array([ 0.42784629, -0.51338681,  0.84817029, -0.06408562, -0.32965863,\n",
       "        -0.7255845 ,  0.03383078,  0.39372865,  0.78633029,  0.61155798,\n",
       "         0.14383866, -0.0295312 , -0.18461508,  0.17169439,  0.25260583,\n",
       "         0.30922502,  0.43978787, -0.24017728,  0.31491391,  0.3429489 ]),\n",
       " array([-0.65851231])]"
      ]
     },
     "execution_count": 22,
     "metadata": {},
     "output_type": "execute_result"
    }
   ],
   "source": [
    "mlp.intercepts_"
   ]
  },
  {
   "cell_type": "markdown",
   "metadata": {},
   "source": [
    "The model has 201 parameters"
   ]
  },
  {
   "cell_type": "code",
   "execution_count": 23,
   "metadata": {},
   "outputs": [],
   "source": [
    "pred=mlp.predict(X_test)"
   ]
  },
  {
   "cell_type": "code",
   "execution_count": 24,
   "metadata": {},
   "outputs": [
    {
     "data": {
      "text/plain": [
       "0.671875"
      ]
     },
     "execution_count": 24,
     "metadata": {},
     "output_type": "execute_result"
    }
   ],
   "source": [
    "#Estimacion del error usando Training y test datasets\n",
    "mlp.score(X_test, y_test)"
   ]
  },
  {
   "cell_type": "code",
   "execution_count": 25,
   "metadata": {},
   "outputs": [
    {
     "name": "stdout",
     "output_type": "stream",
     "text": [
      "              precision    recall  f1-score   support\n",
      "\n",
      "           1       0.75      0.81      0.78       135\n",
      "           2       0.43      0.35      0.39        57\n",
      "\n",
      "    accuracy                           0.67       192\n",
      "   macro avg       0.59      0.58      0.58       192\n",
      "weighted avg       0.65      0.67      0.66       192\n",
      "\n"
     ]
    }
   ],
   "source": [
    "print (classification_report(y_test,pred))"
   ]
  },
  {
   "cell_type": "code",
   "execution_count": 26,
   "metadata": {},
   "outputs": [
    {
     "name": "stdout",
     "output_type": "stream",
     "text": [
      "The accuracy estimated by CV is: 0.6979152426520848\n"
     ]
    }
   ],
   "source": [
    "#Estimating the accuracy using cross validation( 20 neurons)\n",
    "from sklearn.model_selection import cross_val_score\n",
    "mlp=MLPClassifier(hidden_layer_sizes=(20),max_iter=500)\n",
    "mlp.fit(X1, y1) \n",
    "scores = cross_val_score(mlp, X1, y1, cv=10)\n",
    "print ('The accuracy estimated by CV is:', scores.mean())   "
   ]
  },
  {
   "cell_type": "markdown",
   "metadata": {},
   "source": [
    "#### The overfitting problem in Neural Nets "
   ]
  },
  {
   "cell_type": "code",
   "execution_count": 27,
   "metadata": {},
   "outputs": [
    {
     "data": {
      "text/plain": [
       "0.6848958333333334"
      ]
     },
     "execution_count": 27,
     "metadata": {},
     "output_type": "execute_result"
    }
   ],
   "source": [
    "#Training a NN with one hidden layer and 20 units\n",
    "mlp1=MLPClassifier(solver='lbfgs',hidden_layer_sizes=(5),max_iter=5000,random_state=90)\n",
    "mlp1.fit(X1, y1) \n",
    "mlp1.score(X1, y1)"
   ]
  },
  {
   "cell_type": "code",
   "execution_count": 28,
   "metadata": {},
   "outputs": [
    {
     "data": {
      "text/plain": [
       "0.8216145833333334"
      ]
     },
     "execution_count": 28,
     "metadata": {},
     "output_type": "execute_result"
    }
   ],
   "source": [
    "#Training a NN with one hidden layer and 20 units\n",
    "mlp2=MLPClassifier(solver='lbfgs',hidden_layer_sizes=(20),max_iter=5000)\n",
    "mlp2.fit(X1, y1) \n",
    "mlp2.score(X1, y1)"
   ]
  },
  {
   "cell_type": "code",
   "execution_count": 29,
   "metadata": {},
   "outputs": [
    {
     "data": {
      "text/plain": [
       "0.8580729166666666"
      ]
     },
     "execution_count": 29,
     "metadata": {},
     "output_type": "execute_result"
    }
   ],
   "source": [
    "#Training a NN with one hidden layer and 50 units\n",
    "mlp3=MLPClassifier(solver='lbfgs',hidden_layer_sizes=(50),max_iter=5000)\n",
    "mlp3.fit(X1, y1) \n",
    "mlp3.score(X1, y1)"
   ]
  },
  {
   "cell_type": "code",
   "execution_count": 30,
   "metadata": {},
   "outputs": [
    {
     "data": {
      "text/plain": [
       "0.7630208333333334"
      ]
     },
     "execution_count": 30,
     "metadata": {},
     "output_type": "execute_result"
    }
   ],
   "source": [
    "#Training a NN with one hidden layer and 100 units\n",
    "mlp4=MLPClassifier(hidden_layer_sizes=(500),max_iter=5000)\n",
    "mlp4.fit(X1, y1) \n",
    "mlp4.score(X1, y1)"
   ]
  },
  {
   "cell_type": "code",
   "execution_count": 31,
   "metadata": {},
   "outputs": [
    {
     "data": {
      "text/plain": [
       "0.82421875"
      ]
     },
     "execution_count": 31,
     "metadata": {},
     "output_type": "execute_result"
    }
   ],
   "source": [
    "#Training a NN with one hidden layer and 200 units\n",
    "mlp5=MLPClassifier(solver='lbfgs',hidden_layer_sizes=(20,20),max_iter=5000)\n",
    "mlp5.fit(X1, y1) \n",
    "mlp5.score(X1, y1)"
   ]
  },
  {
   "cell_type": "code",
   "execution_count": 32,
   "metadata": {},
   "outputs": [
    {
     "data": {
      "text/plain": [
       "1.0"
      ]
     },
     "execution_count": 32,
     "metadata": {},
     "output_type": "execute_result"
    }
   ],
   "source": [
    "#Training a NN with one hidden layer and 500 units\n",
    "mlp6=MLPClassifier(solver='lbfgs',hidden_layer_sizes=(500),max_iter=5000)\n",
    "mlp6.fit(X1, y1) \n",
    "mlp6.score(X1, y1)"
   ]
  },
  {
   "cell_type": "code",
   "execution_count": 33,
   "metadata": {},
   "outputs": [
    {
     "data": {
      "text/plain": [
       "0.7994791666666666"
      ]
     },
     "execution_count": 33,
     "metadata": {},
     "output_type": "execute_result"
    }
   ],
   "source": [
    "#Training a NN with one hidden layer and 20 units, weight decay with penalty .1\n",
    "mlp6=MLPClassifier(solver='lbfgs',hidden_layer_sizes=(20),alpha=.1,max_iter=5000)\n",
    "mlp6.fit(X1, y1) \n",
    "mlp6.score(X1, y1)"
   ]
  },
  {
   "cell_type": "code",
   "execution_count": 34,
   "metadata": {},
   "outputs": [
    {
     "data": {
      "text/plain": [
       "0.8385416666666666"
      ]
     },
     "execution_count": 34,
     "metadata": {},
     "output_type": "execute_result"
    }
   ],
   "source": [
    "#Training a NN with one hidden layer and 20 units, weight decay with penalty 5\n",
    "mlp6=MLPClassifier(solver='lbfgs',hidden_layer_sizes=(20),alpha=5,max_iter=5000)\n",
    "mlp6.fit(X1, y1) \n",
    "mlp6.score(X1, y1)"
   ]
  },
  {
   "cell_type": "code",
   "execution_count": 35,
   "metadata": {},
   "outputs": [
    {
     "data": {
      "text/plain": [
       "0.8841145833333334"
      ]
     },
     "execution_count": 35,
     "metadata": {},
     "output_type": "execute_result"
    }
   ],
   "source": [
    "#training a NN with two hidden layer and 20 units in each of them\n",
    "mlp22=MLPClassifier(solver='lbfgs',hidden_layer_sizes=(20,20),max_iter=5000)\n",
    "mlp22.fit(X1, y1) \n",
    "mlp22.score(X1, y1)"
   ]
  },
  {
   "cell_type": "code",
   "execution_count": 36,
   "metadata": {},
   "outputs": [
    {
     "name": "stdout",
     "output_type": "stream",
     "text": [
      "The accuracy estimated by CV is: 0.713773069036227\n"
     ]
    }
   ],
   "source": [
    "#Estimating the accuracy using cross validation(5-neurons)\n",
    "from sklearn.model_selection import cross_val_score\n",
    "scores = cross_val_score(mlp1, X1, y1, cv=10)\n",
    "print ('The accuracy estimated by CV is:', scores.mean())   "
   ]
  },
  {
   "cell_type": "code",
   "execution_count": 37,
   "metadata": {},
   "outputs": [
    {
     "name": "stdout",
     "output_type": "stream",
     "text": [
      "The accuracy estimated by CV is: 0.773427887901572\n"
     ]
    }
   ],
   "source": [
    "#Estimating the accuracy using cross validation(20 neurons)\n",
    "from sklearn.model_selection import cross_val_score\n",
    "scores = cross_val_score(mlp2, X1, y1, cv=10)\n",
    "print ('The accuracy estimated by CV is:', scores.mean())  "
   ]
  },
  {
   "cell_type": "code",
   "execution_count": 38,
   "metadata": {},
   "outputs": [
    {
     "name": "stdout",
     "output_type": "stream",
     "text": [
      "The accuracy estimated by CV is: 0.71607997265892\n"
     ]
    }
   ],
   "source": [
    "#Estimating the accuracy using cross validation(50 neurons)\n",
    "from sklearn.model_selection import cross_val_score\n",
    "scores = cross_val_score(mlp3, X1, y1, cv=10)\n",
    "print ('The accuracy estimated by CV is:', scores.mean())  "
   ]
  },
  {
   "cell_type": "code",
   "execution_count": 39,
   "metadata": {},
   "outputs": [
    {
     "name": "stdout",
     "output_type": "stream",
     "text": [
      "The accuracy estimated by CV is: 0.6690874914559124\n"
     ]
    }
   ],
   "source": [
    "#Estimating the accuracy using cross validation(100 neurons)\n",
    "from sklearn.model_selection import cross_val_score\n",
    "scores = cross_val_score(mlp4, X1, y1, cv=10)\n",
    "print ('The accuracy estimated by CV is:', scores.mean())  "
   ]
  },
  {
   "cell_type": "markdown",
   "metadata": {},
   "source": [
    "### Example 3. Nnet  applied to Landsat "
   ]
  },
  {
   "cell_type": "code",
   "execution_count": 40,
   "metadata": {},
   "outputs": [],
   "source": [
    "#Cargando el conjunto de datos Landsat\n",
    "url='http://academic.uprm.edu/eacuna/landsat.txt'\n",
    "#url='c://PW-PR/landsat.data'\n",
    "data = pd.read_table(url, header=None,delim_whitespace=True)\n",
    "y=data.iloc[:,36]\n",
    "X=data.iloc[:,0:36]\n",
    "#y1=y.as_matrix()\n",
    "#X1=X.as_matrix()\n",
    "scaler = StandardScaler()\n",
    "scaler.fit(X)\n",
    "X1=scaler.transform(X)"
   ]
  },
  {
   "cell_type": "code",
   "execution_count": 41,
   "metadata": {},
   "outputs": [
    {
     "data": {
      "text/plain": [
       "MLPClassifier(hidden_layer_sizes=(50, 50, 50), max_iter=500)"
      ]
     },
     "execution_count": 41,
     "metadata": {},
     "output_type": "execute_result"
    }
   ],
   "source": [
    "#Holdout estimacion of teh accuracy  with  3 layers and 50 nuronss in each of them\n",
    "X_train, X_test, y_train, y_test = train_test_split(X1, y)\n",
    "mlp=MLPClassifier(hidden_layer_sizes=(50,50,50),max_iter=500)\n",
    "mlp.fit(X_train, y_train) \n",
    "mlp.fit(X_train, y_train) "
   ]
  },
  {
   "cell_type": "code",
   "execution_count": 42,
   "metadata": {},
   "outputs": [
    {
     "name": "stdout",
     "output_type": "stream",
     "text": [
      "[[263   0   3   0   1   0]\n",
      " [  0 120   0   2   5   0]\n",
      " [  2   0 233  11   0   4]\n",
      " [  3   3  15  59   1  14]\n",
      " [  3   3   0   2  95   9]\n",
      " [  0   0   7  13   9 229]]\n"
     ]
    }
   ],
   "source": [
    "pred=mlp.predict(X_test)\n",
    "print(confusion_matrix(y_test, pred))"
   ]
  },
  {
   "cell_type": "code",
   "execution_count": 43,
   "metadata": {},
   "outputs": [
    {
     "name": "stdout",
     "output_type": "stream",
     "text": [
      "              precision    recall  f1-score   support\n",
      "\n",
      "           1       0.97      0.99      0.98       267\n",
      "           2       0.95      0.94      0.95       127\n",
      "           3       0.90      0.93      0.92       250\n",
      "           4       0.68      0.62      0.65        95\n",
      "           5       0.86      0.85      0.85       112\n",
      "           6       0.89      0.89      0.89       258\n",
      "\n",
      "    accuracy                           0.90      1109\n",
      "   macro avg       0.88      0.87      0.87      1109\n",
      "weighted avg       0.90      0.90      0.90      1109\n",
      "\n"
     ]
    }
   ],
   "source": [
    "print(classification_report(y_test, pred))"
   ]
  },
  {
   "cell_type": "markdown",
   "metadata": {},
   "source": [
    "### IV.  Deep Learning  with MLP applied to Diabetes"
   ]
  },
  {
   "cell_type": "code",
   "execution_count": 44,
   "metadata": {},
   "outputs": [
    {
     "name": "stdout",
     "output_type": "stream",
     "text": [
      "Checking whether there is an H2O instance running at http://localhost:54323 ..... not found.\n",
      "Attempting to start a local H2O server...\n",
      "; Java HotSpot(TM) Client VM (build 25.231-b11, mixed mode)\n",
      "  Starting server from C:\\Users\\eacun\\anaconda38\\Lib\\site-packages\\h2o\\backend\\bin\\h2o.jar\n",
      "  Ice root: C:\\Users\\eacun\\AppData\\Local\\Temp\\tmpa2ni6tg3\n",
      "  JVM stdout: C:\\Users\\eacun\\AppData\\Local\\Temp\\tmpa2ni6tg3\\h2o_eacun_started_from_python.out\n",
      "  JVM stderr: C:\\Users\\eacun\\AppData\\Local\\Temp\\tmpa2ni6tg3\\h2o_eacun_started_from_python.err\n",
      "  Server is running at http://127.0.0.1:54323\n",
      "Connecting to H2O server at http://127.0.0.1:54323 ... successful.\n",
      "Warning: Your H2O cluster version is too old (3 months and 24 days)!Please download and install the latest version from http://h2o.ai/download/\n"
     ]
    },
    {
     "data": {
      "text/html": [
       "<div style=\"overflow:auto\"><table style=\"width:50%\"><tr><td>H2O_cluster_uptime:</td>\n",
       "<td>02 secs</td></tr>\n",
       "<tr><td>H2O_cluster_timezone:</td>\n",
       "<td>America/Halifax</td></tr>\n",
       "<tr><td>H2O_data_parsing_timezone:</td>\n",
       "<td>UTC</td></tr>\n",
       "<tr><td>H2O_cluster_version:</td>\n",
       "<td>3.34.0.3</td></tr>\n",
       "<tr><td>H2O_cluster_version_age:</td>\n",
       "<td>3 months and 24 days !!!</td></tr>\n",
       "<tr><td>H2O_cluster_name:</td>\n",
       "<td>H2O_from_python_eacun_lytrk5</td></tr>\n",
       "<tr><td>H2O_cluster_total_nodes:</td>\n",
       "<td>1</td></tr>\n",
       "<tr><td>H2O_cluster_free_memory:</td>\n",
       "<td>241.2 Mb</td></tr>\n",
       "<tr><td>H2O_cluster_total_cores:</td>\n",
       "<td>8</td></tr>\n",
       "<tr><td>H2O_cluster_allowed_cores:</td>\n",
       "<td>8</td></tr>\n",
       "<tr><td>H2O_cluster_status:</td>\n",
       "<td>locked, healthy</td></tr>\n",
       "<tr><td>H2O_connection_url:</td>\n",
       "<td>http://127.0.0.1:54323</td></tr>\n",
       "<tr><td>H2O_connection_proxy:</td>\n",
       "<td>{\"http\": null, \"https\": null}</td></tr>\n",
       "<tr><td>H2O_internal_security:</td>\n",
       "<td>False</td></tr>\n",
       "<tr><td>H2O_API_Extensions:</td>\n",
       "<td>Amazon S3, Algos, AutoML, Core V3, TargetEncoder, Core V4</td></tr>\n",
       "<tr><td>Python_version:</td>\n",
       "<td>3.8.8 final</td></tr></table></div>"
      ],
      "text/plain": [
       "--------------------------  ---------------------------------------------------------\n",
       "H2O_cluster_uptime:         02 secs\n",
       "H2O_cluster_timezone:       America/Halifax\n",
       "H2O_data_parsing_timezone:  UTC\n",
       "H2O_cluster_version:        3.34.0.3\n",
       "H2O_cluster_version_age:    3 months and 24 days !!!\n",
       "H2O_cluster_name:           H2O_from_python_eacun_lytrk5\n",
       "H2O_cluster_total_nodes:    1\n",
       "H2O_cluster_free_memory:    241.2 Mb\n",
       "H2O_cluster_total_cores:    8\n",
       "H2O_cluster_allowed_cores:  8\n",
       "H2O_cluster_status:         locked, healthy\n",
       "H2O_connection_url:         http://127.0.0.1:54323\n",
       "H2O_connection_proxy:       {\"http\": null, \"https\": null}\n",
       "H2O_internal_security:      False\n",
       "H2O_API_Extensions:         Amazon S3, Algos, AutoML, Core V3, TargetEncoder, Core V4\n",
       "Python_version:             3.8.8 final\n",
       "--------------------------  ---------------------------------------------------------"
      ]
     },
     "metadata": {},
     "output_type": "display_data"
    }
   ],
   "source": [
    "import h2o\n",
    "h2o.init(ip=\"localhost\", port=54323)\n",
    "from h2o.estimators.deeplearning import  H2ODeepLearningEstimator\n",
    "#h2o.connect()\n",
    "#h2o.no_progress()"
   ]
  },
  {
   "cell_type": "code",
   "execution_count": null,
   "metadata": {},
   "outputs": [
    {
     "name": "stdout",
     "output_type": "stream",
     "text": [
      "Parse progress: |████████████████████████████████████████████████████████████████| (done) 100%\n",
      "deeplearning Model Build progress: |█████"
     ]
    }
   ],
   "source": [
    "diabetes = h2o.import_file(\"https://academic.uprm.edu/eacuna/diabetes.dat\")\n",
    "myx=['C1','C2','C3','C4','C5','C6','C7','C8']\n",
    "diabetes['C9']=diabetes['C9'].asfactor()\n",
    "myy=\"C9\"\n",
    "dl_model = H2ODeepLearningEstimator(hidden=[10,10],epochs=200)\n",
    "dl_model.train(myx, myy, training_frame=diabetes)"
   ]
  },
  {
   "cell_type": "code",
   "execution_count": null,
   "metadata": {},
   "outputs": [],
   "source": [
    "y_pred=dl_model.predict(diabetes)\n",
    "print( (y_pred['predict']==diabetes['C9']).mean())"
   ]
  },
  {
   "cell_type": "code",
   "execution_count": null,
   "metadata": {},
   "outputs": [],
   "source": [
    "dl_model.model_performance(diabetes)"
   ]
  },
  {
   "cell_type": "code",
   "execution_count": null,
   "metadata": {},
   "outputs": [],
   "source": [
    "dl_model1 = H2ODeepLearningEstimator(hidden=[20,20,20],epochs=500,nfolds=10)\n",
    "dl_model1.train(myx, myy, training_frame=diabetes)"
   ]
  },
  {
   "cell_type": "code",
   "execution_count": null,
   "metadata": {},
   "outputs": [],
   "source": [
    "dl_model1.confusion_matrix"
   ]
  },
  {
   "cell_type": "markdown",
   "metadata": {
    "collapsed": true
   },
   "source": [
    "### V . Deep Learning with MLP applied to Shuttle"
   ]
  },
  {
   "cell_type": "code",
   "execution_count": null,
   "metadata": {},
   "outputs": [],
   "source": [
    "shuttle = h2o.import_file(\"https://academic.uprm.edu/eacuna/shuttle.trn\")\n",
    "myx=['C1','C2','C3','C4','C5','C6','C7','C8','C9']\n",
    "shuttle['C10']=shuttle['C10'].asfactor()\n",
    "myy=\"C10\"\n",
    "dl_model = H2ODeepLearningEstimator(hidden=[10,20],epochs=200,nfolds=10)\n",
    "dl_model.train(myx, myy, training_frame=shuttle)"
   ]
  },
  {
   "cell_type": "code",
   "execution_count": null,
   "metadata": {},
   "outputs": [],
   "source": [
    "y_pred=dl_model.predict(shuttle)\n",
    "print ((y_pred['predict']==shuttle['C10']).mean())"
   ]
  },
  {
   "cell_type": "code",
   "execution_count": null,
   "metadata": {},
   "outputs": [],
   "source": [
    "dl_model.model_performance(shuttle)"
   ]
  },
  {
   "cell_type": "code",
   "execution_count": null,
   "metadata": {},
   "outputs": [],
   "source": [
    "dl_model.confusion_matrix"
   ]
  },
  {
   "cell_type": "code",
   "execution_count": null,
   "metadata": {},
   "outputs": [],
   "source": []
  }
 ],
 "metadata": {
  "kernelspec": {
   "display_name": "Python 3",
   "language": "python",
   "name": "python3"
  },
  "language_info": {
   "codemirror_mode": {
    "name": "ipython",
    "version": 3
   },
   "file_extension": ".py",
   "mimetype": "text/x-python",
   "name": "python",
   "nbconvert_exporter": "python",
   "pygments_lexer": "ipython3",
   "version": "3.8.8"
  }
 },
 "nbformat": 4,
 "nbformat_minor": 2
}
