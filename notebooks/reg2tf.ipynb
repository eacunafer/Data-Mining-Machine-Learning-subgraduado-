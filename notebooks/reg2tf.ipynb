{
 "cells": [
  {
   "cell_type": "markdown",
   "metadata": {},
   "source": [
    "## ESMA 4016\n",
    "## Simple Linear Regression using Tensorflow\n",
    "## Edgar Acuna\n",
    "### March 2021"
   ]
  },
  {
   "cell_type": "code",
   "execution_count": 1,
   "metadata": {},
   "outputs": [],
   "source": [
    "import numpy as np \n",
    "import pandas as pd\n",
    "import tensorflow as tf \n",
    "import matplotlib.pyplot as plt \n",
    "%matplotlib inline"
   ]
  },
  {
   "cell_type": "code",
   "execution_count": 2,
   "metadata": {},
   "outputs": [
    {
     "name": "stdout",
     "output_type": "stream",
     "text": [
      "[179000 126500 134500 125000 142000 164000 146000 129000 135000 118500\n",
      " 160000 152000 122500 220000 141000]\n"
     ]
    }
   ],
   "source": [
    "#Entering the data\n",
    "df = pd.read_csv('http://academic.uprm.edu/eacuna/casas.txt',delim_whitespace=True)\n",
    "x=df['area']\n",
    "y=df['precio']\n",
    "x=np.asarray(x)\n",
    "y=np.asarray(y)\n",
    "n=len(x)\n",
    "print(y)"
   ]
  },
  {
   "cell_type": "code",
   "execution_count": 3,
   "metadata": {},
   "outputs": [],
   "source": [
    "#Randon seeed for reproducibility \n",
    "np.random.seed(10) \n",
    "tf.compat.v1.set_random_seed(10) "
   ]
  },
  {
   "cell_type": "code",
   "execution_count": 4,
   "metadata": {},
   "outputs": [],
   "source": [
    "tf.compat.v1.disable_eager_execution()\n",
    "X = tf.compat.v1.placeholder(\"float\") \n",
    "Y = tf.compat.v1.placeholder(\"float\") "
   ]
  },
  {
   "cell_type": "code",
   "execution_count": 5,
   "metadata": {},
   "outputs": [],
   "source": [
    "#W = tf.Variable(np.random.randn(), name = \"W\") \n",
    "W = tf.Variable(tf.ones([1]), name = \"W\") \n",
    "#b = tf.Variable(np.random.randn(), name = \"b\") \n",
    "b = tf.Variable(tf.ones([1]), name = \"b\") "
   ]
  },
  {
   "cell_type": "code",
   "execution_count": 6,
   "metadata": {},
   "outputs": [],
   "source": [
    "learning_rate = .000001\n",
    "training_epochs = 10000"
   ]
  },
  {
   "cell_type": "code",
   "execution_count": 7,
   "metadata": {},
   "outputs": [],
   "source": [
    "# \n",
    "y_pred = tf.add(tf.multiply(X, W), b) "
   ]
  },
  {
   "cell_type": "code",
   "execution_count": 8,
   "metadata": {},
   "outputs": [],
   "source": [
    "# Mean Squared Error Cost Function \n",
    "cost = tf.reduce_sum(tf.pow(y_pred-Y, 2))/(2*n)"
   ]
  },
  {
   "cell_type": "code",
   "execution_count": 9,
   "metadata": {},
   "outputs": [],
   "source": [
    "# Gradient Descent Optimizer \n",
    "optimizer = tf.compat.v1.train.GradientDescentOptimizer(learning_rate).minimize(cost) "
   ]
  },
  {
   "cell_type": "code",
   "execution_count": 10,
   "metadata": {},
   "outputs": [],
   "source": [
    "# Global Variables Initializer \n",
    "init = tf.compat.v1.global_variables_initializer() "
   ]
  },
  {
   "cell_type": "code",
   "execution_count": 11,
   "metadata": {
    "scrolled": false
   },
   "outputs": [
    {
     "name": "stdout",
     "output_type": "stream",
     "text": [
      "Epoch 50 : cost = 309409000.0 W = [74.769356] b = [1.3943121]\n",
      "Epoch 100 : cost = 309406850.0 W = [74.76919] b = [1.7586482]\n",
      "Epoch 150 : cost = 309404600.0 W = [74.76903] b = [2.122984]\n",
      "Epoch 200 : cost = 309402460.0 W = [74.76887] b = [2.4873233]\n",
      "Epoch 250 : cost = 309400420.0 W = [74.76871] b = [2.8516626]\n",
      "Epoch 300 : cost = 309398180.0 W = [74.76854] b = [3.216002]\n",
      "Epoch 350 : cost = 309396030.0 W = [74.76838] b = [3.58035]\n",
      "Epoch 400 : cost = 309393800.0 W = [74.76822] b = [3.9447012]\n",
      "Epoch 450 : cost = 309391650.0 W = [74.76805] b = [4.308992]\n",
      "Epoch 500 : cost = 309389540.0 W = [74.76789] b = [4.6732717]\n",
      "Epoch 550 : cost = 309387330.0 W = [74.76773] b = [5.0375514]\n",
      "Epoch 600 : cost = 309385300.0 W = [74.76757] b = [5.401831]\n",
      "Epoch 650 : cost = 309383070.0 W = [74.7674] b = [5.766111]\n",
      "Epoch 700 : cost = 309380860.0 W = [74.76724] b = [6.1303906]\n",
      "Epoch 750 : cost = 309378800.0 W = [74.76708] b = [6.4946704]\n",
      "Epoch 800 : cost = 309376600.0 W = [74.766914] b = [6.85895]\n",
      "Epoch 850 : cost = 309374370.0 W = [74.766754] b = [7.223236]\n",
      "Epoch 900 : cost = 309372300.0 W = [74.76659] b = [7.5875397]\n",
      "Epoch 950 : cost = 309370100.0 W = [74.76643] b = [7.9518433]\n",
      "Epoch 1000 : cost = 309368000.0 W = [74.766266] b = [8.316189]\n",
      "Epoch 1050 : cost = 309365900.0 W = [74.766106] b = [8.68054]\n",
      "Epoch 1100 : cost = 309363650.0 W = [74.76595] b = [9.044891]\n",
      "Epoch 1150 : cost = 309361540.0 W = [74.765785] b = [9.409243]\n",
      "Epoch 1200 : cost = 309359420.0 W = [74.765625] b = [9.773594]\n",
      "Epoch 1250 : cost = 309357220.0 W = [74.765465] b = [10.137945]\n",
      "Epoch 1300 : cost = 309355100.0 W = [74.7653] b = [10.502291]\n",
      "Epoch 1350 : cost = 309352860.0 W = [74.76513] b = [10.866594]\n",
      "Epoch 1400 : cost = 309350720.0 W = [74.76497] b = [11.230898]\n",
      "Epoch 1450 : cost = 309348580.0 W = [74.76481] b = [11.5952015]\n",
      "Epoch 1500 : cost = 309346370.0 W = [74.76464] b = [11.959505]\n",
      "Epoch 1550 : cost = 309344320.0 W = [74.76448] b = [12.323809]\n",
      "Epoch 1600 : cost = 309342140.0 W = [74.76433] b = [12.688099]\n",
      "Epoch 1650 : cost = 309339900.0 W = [74.76416] b = [13.052355]\n",
      "Epoch 1700 : cost = 309337860.0 W = [74.764] b = [13.416611]\n",
      "Epoch 1750 : cost = 309335600.0 W = [74.76384] b = [13.780867]\n",
      "Epoch 1800 : cost = 309333440.0 W = [74.76367] b = [14.145123]\n",
      "Epoch 1850 : cost = 309331360.0 W = [74.76351] b = [14.509378]\n",
      "Epoch 1900 : cost = 309329180.0 W = [74.76335] b = [14.873634]\n",
      "Epoch 1950 : cost = 309327070.0 W = [74.76318] b = [15.23789]\n",
      "Epoch 2000 : cost = 309324900.0 W = [74.76302] b = [15.602146]\n",
      "Epoch 2050 : cost = 309322700.0 W = [74.76286] b = [15.966402]\n",
      "Epoch 2100 : cost = 309320600.0 W = [74.7627] b = [16.330702]\n",
      "Epoch 2150 : cost = 309318340.0 W = [74.762535] b = [16.695005]\n",
      "Epoch 2200 : cost = 309316220.0 W = [74.762375] b = [17.059309]\n",
      "Epoch 2250 : cost = 309314100.0 W = [74.762215] b = [17.423613]\n",
      "Epoch 2300 : cost = 309311900.0 W = [74.762054] b = [17.787916]\n",
      "Epoch 2350 : cost = 309309820.0 W = [74.76189] b = [18.15222]\n",
      "Epoch 2400 : cost = 309307600.0 W = [74.76173] b = [18.516523]\n",
      "Epoch 2450 : cost = 309305400.0 W = [74.761566] b = [18.880827]\n",
      "Epoch 2500 : cost = 309303360.0 W = [74.7614] b = [19.24513]\n",
      "Epoch 2550 : cost = 309301120.0 W = [74.76124] b = [19.609434]\n",
      "Epoch 2600 : cost = 309298940.0 W = [74.76108] b = [19.973738]\n",
      "Epoch 2650 : cost = 309296900.0 W = [74.76091] b = [20.338041]\n",
      "Epoch 2700 : cost = 309294660.0 W = [74.76075] b = [20.702345]\n",
      "Epoch 2750 : cost = 309292450.0 W = [74.76059] b = [21.066648]\n",
      "Epoch 2800 : cost = 309290400.0 W = [74.76042] b = [21.430952]\n",
      "Epoch 2850 : cost = 309288200.0 W = [74.76027] b = [21.795256]\n",
      "Epoch 2900 : cost = 309286050.0 W = [74.7601] b = [22.15956]\n",
      "Epoch 2950 : cost = 309283970.0 W = [74.75994] b = [22.523863]\n",
      "Epoch 3000 : cost = 309281730.0 W = [74.75978] b = [22.888166]\n",
      "Epoch 3050 : cost = 309279600.0 W = [74.75962] b = [23.25247]\n",
      "Epoch 3100 : cost = 309277400.0 W = [74.75945] b = [23.616774]\n",
      "Epoch 3150 : cost = 309275300.0 W = [74.75929] b = [23.981077]\n",
      "Epoch 3200 : cost = 309273120.0 W = [74.75913] b = [24.34538]\n",
      "Epoch 3250 : cost = 309270940.0 W = [74.75897] b = [24.709684]\n",
      "Epoch 3300 : cost = 309268900.0 W = [74.75881] b = [25.073988]\n",
      "Epoch 3350 : cost = 309266700.0 W = [74.758644] b = [25.438292]\n",
      "Epoch 3400 : cost = 309264480.0 W = [74.758484] b = [25.802595]\n",
      "Epoch 3450 : cost = 309262430.0 W = [74.75832] b = [26.166899]\n",
      "Epoch 3500 : cost = 309260320.0 W = [74.75816] b = [26.531202]\n",
      "Epoch 3550 : cost = 309258020.0 W = [74.757996] b = [26.895506]\n",
      "Epoch 3600 : cost = 309255940.0 W = [74.75783] b = [27.25981]\n",
      "Epoch 3650 : cost = 309253760.0 W = [74.75767] b = [27.624113]\n",
      "Epoch 3700 : cost = 309251500.0 W = [74.75751] b = [27.988417]\n",
      "Epoch 3750 : cost = 309249440.0 W = [74.75734] b = [28.35272]\n",
      "Epoch 3800 : cost = 309247260.0 W = [74.75718] b = [28.717024]\n",
      "Epoch 3850 : cost = 309245150.0 W = [74.75703] b = [29.081327]\n",
      "Epoch 3900 : cost = 309243000.0 W = [74.75686] b = [29.445631]\n",
      "Epoch 3950 : cost = 309240740.0 W = [74.75669] b = [29.809935]\n",
      "Epoch 4000 : cost = 309238660.0 W = [74.75654] b = [30.174152]\n",
      "Epoch 4050 : cost = 309236480.0 W = [74.75638] b = [30.538265]\n",
      "Epoch 4100 : cost = 309234370.0 W = [74.75621] b = [30.902378]\n",
      "Epoch 4150 : cost = 309232220.0 W = [74.75605] b = [31.26649]\n",
      "Epoch 4200 : cost = 309229980.0 W = [74.75589] b = [31.630604]\n",
      "Epoch 4250 : cost = 309227940.0 W = [74.75572] b = [31.994717]\n",
      "Epoch 4300 : cost = 309225760.0 W = [74.75556] b = [32.35902]\n",
      "Epoch 4350 : cost = 309223520.0 W = [74.7554] b = [32.723324]\n",
      "Epoch 4400 : cost = 309221470.0 W = [74.75523] b = [33.087627]\n",
      "Epoch 4450 : cost = 309219260.0 W = [74.75507] b = [33.45193]\n",
      "Epoch 4500 : cost = 309217120.0 W = [74.75491] b = [33.816235]\n",
      "Epoch 4550 : cost = 309215000.0 W = [74.75475] b = [34.18054]\n",
      "Epoch 4600 : cost = 309212800.0 W = [74.754585] b = [34.54484]\n",
      "Epoch 4650 : cost = 309210720.0 W = [74.754425] b = [34.909145]\n",
      "Epoch 4700 : cost = 309208540.0 W = [74.754265] b = [35.27345]\n",
      "Epoch 4750 : cost = 309206270.0 W = [74.7541] b = [35.637753]\n",
      "Epoch 4800 : cost = 309204200.0 W = [74.75394] b = [36.002056]\n",
      "Epoch 4850 : cost = 309202000.0 W = [74.753784] b = [36.36636]\n",
      "Epoch 4900 : cost = 309199840.0 W = [74.75361] b = [36.730663]\n",
      "Epoch 4950 : cost = 309197730.0 W = [74.753456] b = [37.094967]\n",
      "Epoch 5000 : cost = 309195520.0 W = [74.753296] b = [37.45927]\n",
      "Epoch 5050 : cost = 309193470.0 W = [74.75313] b = [37.823574]\n",
      "Epoch 5100 : cost = 309191260.0 W = [74.75297] b = [38.187878]\n",
      "Epoch 5150 : cost = 309189060.0 W = [74.75281] b = [38.55218]\n",
      "Epoch 5200 : cost = 309187000.0 W = [74.75264] b = [38.916485]\n",
      "Epoch 5250 : cost = 309184800.0 W = [74.75248] b = [39.28079]\n",
      "Epoch 5300 : cost = 309182600.0 W = [74.75232] b = [39.645092]\n",
      "Epoch 5350 : cost = 309180580.0 W = [74.75216] b = [40.009396]\n",
      "Epoch 5400 : cost = 309178340.0 W = [74.75199] b = [40.3737]\n",
      "Epoch 5450 : cost = 309176200.0 W = [74.75183] b = [40.738003]\n",
      "Epoch 5500 : cost = 309174000.0 W = [74.75166] b = [41.102306]\n",
      "Epoch 5550 : cost = 309171840.0 W = [74.7515] b = [41.46661]\n",
      "Epoch 5600 : cost = 309169730.0 W = [74.75134] b = [41.830914]\n",
      "Epoch 5650 : cost = 309167460.0 W = [74.751175] b = [42.195217]\n",
      "Epoch 5700 : cost = 309165400.0 W = [74.751015] b = [42.55952]\n",
      "Epoch 5750 : cost = 309163230.0 W = [74.750854] b = [42.923824]\n",
      "Epoch 5800 : cost = 309161100.0 W = [74.750694] b = [43.288128]\n",
      "Epoch 5850 : cost = 309158880.0 W = [74.75053] b = [43.65243]\n",
      "Epoch 5900 : cost = 309156770.0 W = [74.750374] b = [44.016735]\n",
      "Epoch 5950 : cost = 309154600.0 W = [74.75021] b = [44.38104]\n",
      "Epoch 6000 : cost = 309152540.0 W = [74.750046] b = [44.745342]\n",
      "Epoch 6050 : cost = 309150340.0 W = [74.749886] b = [45.109646]\n",
      "Epoch 6100 : cost = 309148130.0 W = [74.749725] b = [45.47395]\n",
      "Epoch 6150 : cost = 309146020.0 W = [74.74956] b = [45.838253]\n",
      "Epoch 6200 : cost = 309143870.0 W = [74.749405] b = [46.202503]\n",
      "Epoch 6250 : cost = 309141700.0 W = [74.74924] b = [46.566647]\n",
      "Epoch 6300 : cost = 309139620.0 W = [74.74908] b = [46.93076]\n",
      "Epoch 6350 : cost = 309137470.0 W = [74.74892] b = [47.294872]\n",
      "Epoch 6400 : cost = 309135230.0 W = [74.74875] b = [47.658985]\n",
      "Epoch 6450 : cost = 309133100.0 W = [74.74859] b = [48.023098]\n",
      "Epoch 6500 : cost = 309130940.0 W = [74.74842] b = [48.38721]\n",
      "Epoch 6550 : cost = 309128770.0 W = [74.74826] b = [48.751324]\n"
     ]
    },
    {
     "name": "stdout",
     "output_type": "stream",
     "text": [
      "Epoch 6600 : cost = 309126600.0 W = [74.7481] b = [49.115437]\n",
      "Epoch 6650 : cost = 309124480.0 W = [74.74793] b = [49.47955]\n",
      "Epoch 6700 : cost = 309122370.0 W = [74.74777] b = [49.843662]\n",
      "Epoch 6750 : cost = 309120160.0 W = [74.74762] b = [50.207775]\n",
      "Epoch 6800 : cost = 309118000.0 W = [74.747444] b = [50.571888]\n",
      "Epoch 6850 : cost = 309115870.0 W = [74.74729] b = [50.936]\n",
      "Epoch 6900 : cost = 309113700.0 W = [74.74713] b = [51.300114]\n",
      "Epoch 6950 : cost = 309111550.0 W = [74.74696] b = [51.664227]\n",
      "Epoch 7000 : cost = 309109440.0 W = [74.7468] b = [52.02834]\n",
      "Epoch 7050 : cost = 309107300.0 W = [74.74664] b = [52.392452]\n",
      "Epoch 7100 : cost = 309105060.0 W = [74.74648] b = [52.756565]\n",
      "Epoch 7150 : cost = 309102980.0 W = [74.746315] b = [53.120678]\n",
      "Epoch 7200 : cost = 309100800.0 W = [74.746155] b = [53.48479]\n",
      "Epoch 7250 : cost = 309098620.0 W = [74.745995] b = [53.848904]\n",
      "Epoch 7300 : cost = 309096540.0 W = [74.74583] b = [54.213017]\n",
      "Epoch 7350 : cost = 309094270.0 W = [74.74567] b = [54.57713]\n",
      "Epoch 7400 : cost = 309092220.0 W = [74.74551] b = [54.941242]\n",
      "Epoch 7450 : cost = 309090080.0 W = [74.745346] b = [55.305355]\n",
      "Epoch 7500 : cost = 309087870.0 W = [74.74518] b = [55.669468]\n",
      "Epoch 7550 : cost = 309085730.0 W = [74.74502] b = [56.03358]\n",
      "Epoch 7600 : cost = 309083500.0 W = [74.74485] b = [56.397694]\n",
      "Epoch 7650 : cost = 309081380.0 W = [74.74469] b = [56.761806]\n",
      "Epoch 7700 : cost = 309079300.0 W = [74.74454] b = [57.12592]\n",
      "Epoch 7750 : cost = 309077060.0 W = [74.74437] b = [57.490032]\n",
      "Epoch 7800 : cost = 309075040.0 W = [74.74421] b = [57.854145]\n",
      "Epoch 7850 : cost = 309072770.0 W = [74.74404] b = [58.218258]\n",
      "Epoch 7900 : cost = 309070600.0 W = [74.74389] b = [58.58237]\n",
      "Epoch 7950 : cost = 309068540.0 W = [74.74372] b = [58.946484]\n",
      "Epoch 8000 : cost = 309066370.0 W = [74.74356] b = [59.310596]\n",
      "Epoch 8050 : cost = 309064220.0 W = [74.7434] b = [59.67471]\n",
      "Epoch 8100 : cost = 309062000.0 W = [74.74323] b = [60.038822]\n",
      "Epoch 8150 : cost = 309059840.0 W = [74.74307] b = [60.402935]\n",
      "Epoch 8200 : cost = 309057760.0 W = [74.74291] b = [60.767048]\n",
      "Epoch 8250 : cost = 309055520.0 W = [74.742744] b = [61.13116]\n",
      "Epoch 8300 : cost = 309053540.0 W = [74.742584] b = [61.495274]\n",
      "Epoch 8350 : cost = 309051260.0 W = [74.742424] b = [61.859386]\n",
      "Epoch 8400 : cost = 309049100.0 W = [74.74226] b = [62.2235]\n",
      "Epoch 8450 : cost = 309047070.0 W = [74.7421] b = [62.587612]\n",
      "Epoch 8500 : cost = 309044830.0 W = [74.741936] b = [62.951725]\n",
      "Epoch 8550 : cost = 309042660.0 W = [74.741776] b = [63.315838]\n",
      "Epoch 8600 : cost = 309040580.0 W = [74.741615] b = [63.67995]\n",
      "Epoch 8650 : cost = 309038300.0 W = [74.74145] b = [64.04404]\n",
      "Epoch 8700 : cost = 309036260.0 W = [74.74129] b = [64.40796]\n",
      "Epoch 8750 : cost = 309033950.0 W = [74.74113] b = [64.77188]\n",
      "Epoch 8800 : cost = 309031900.0 W = [74.74096] b = [65.1358]\n",
      "Epoch 8850 : cost = 309029800.0 W = [74.74081] b = [65.499725]\n",
      "Epoch 8900 : cost = 309027600.0 W = [74.74065] b = [65.86365]\n",
      "Epoch 8950 : cost = 309025470.0 W = [74.74048] b = [66.22757]\n",
      "Epoch 9000 : cost = 309023330.0 W = [74.74032] b = [66.59149]\n",
      "Epoch 9050 : cost = 309021150.0 W = [74.74015] b = [66.955414]\n",
      "Epoch 9100 : cost = 309018980.0 W = [74.74] b = [67.319336]\n",
      "Epoch 9150 : cost = 309016860.0 W = [74.73983] b = [67.68326]\n",
      "Epoch 9200 : cost = 309014700.0 W = [74.73967] b = [68.04726]\n",
      "Epoch 9250 : cost = 309012540.0 W = [74.73951] b = [68.41156]\n",
      "Epoch 9300 : cost = 309010500.0 W = [74.73934] b = [68.77586]\n",
      "Epoch 9350 : cost = 309008200.0 W = [74.73918] b = [69.14017]\n",
      "Epoch 9400 : cost = 309006080.0 W = [74.73902] b = [69.50447]\n",
      "Epoch 9450 : cost = 309003940.0 W = [74.73885] b = [69.868774]\n",
      "Epoch 9500 : cost = 309001800.0 W = [74.73869] b = [70.23308]\n",
      "Epoch 9550 : cost = 308999600.0 W = [74.73853] b = [70.59738]\n",
      "Epoch 9600 : cost = 308997470.0 W = [74.738365] b = [70.961685]\n",
      "Epoch 9650 : cost = 308995300.0 W = [74.738205] b = [71.32599]\n",
      "Epoch 9700 : cost = 308993180.0 W = [74.73805] b = [71.69007]\n",
      "Epoch 9750 : cost = 308991000.0 W = [74.73788] b = [72.05399]\n",
      "Epoch 9800 : cost = 308988960.0 W = [74.737724] b = [72.417915]\n",
      "Epoch 9850 : cost = 308986750.0 W = [74.737564] b = [72.78184]\n",
      "Epoch 9900 : cost = 308984540.0 W = [74.737404] b = [73.14576]\n",
      "Epoch 9950 : cost = 308982430.0 W = [74.737236] b = [73.50968]\n",
      "Epoch 10000 : cost = 308980300.0 W = [74.737076] b = [73.873604]\n"
     ]
    }
   ],
   "source": [
    "# Starting the Tensorflow Session \n",
    "with tf.compat.v1.Session() as sess: \n",
    "      \n",
    "    # Initializing the Variables \n",
    "    sess.run(init) \n",
    "      \n",
    "    # Iterating through all the epochs \n",
    "    for epoch in range(training_epochs): \n",
    "          \n",
    "        # Feeding each data point into the optimizer using Feed Dictionary \n",
    "        for (_x, _y) in zip(x, y): \n",
    "            sess.run(optimizer, feed_dict = {X : _x, Y : _y}) \n",
    "          \n",
    "        # Displaying the result after every 50 epochs \n",
    "        if (epoch + 1) % 50 == 0: \n",
    "            # Calculating the cost a every epoch \n",
    "            c = sess.run(cost, feed_dict = {X : x, Y : y}) \n",
    "            print(\"Epoch\", (epoch + 1), \": cost =\", c, \"W =\", sess.run(W), \"b =\", sess.run(b)) \n",
    "      \n",
    "    # Storing necessary values to be used outside the Session \n",
    "    training_cost = sess.run(cost, feed_dict ={X: x, Y: y}) \n",
    "    weight = sess.run(W) \n",
    "    bias = sess.run(b) "
   ]
  },
  {
   "cell_type": "code",
   "execution_count": 12,
   "metadata": {},
   "outputs": [
    {
     "name": "stdout",
     "output_type": "stream",
     "text": [
      "Training cost = 308980300.0 Weight = [74.737076] bias = [73.873604] \n",
      "\n"
     ]
    }
   ],
   "source": [
    "# Calculating the predictions \n",
    "predictions = weight*x + bias\n",
    "print(\"Training cost =\", training_cost, \"Weight =\", weight, \"bias =\", bias, '\\n') "
   ]
  },
  {
   "cell_type": "code",
   "execution_count": 13,
   "metadata": {},
   "outputs": [
    {
     "name": "stdout",
     "output_type": "stream",
     "text": [
      "[228769.32556915 119653.19489288 149548.02521515  97232.07215118\n",
      " 149548.02521515 146259.5938797  179442.85553741  89758.36457062\n",
      " 134600.61005402  93345.74420929 151416.45211029 134600.61005402\n",
      "  82284.65699005 224285.10102081 149548.02521515]\n"
     ]
    }
   ],
   "source": [
    "print(predictions)"
   ]
  },
  {
   "cell_type": "code",
   "execution_count": null,
   "metadata": {},
   "outputs": [],
   "source": []
  }
 ],
 "metadata": {
  "kernelspec": {
   "display_name": "Python 3",
   "language": "python",
   "name": "python3"
  },
  "language_info": {
   "codemirror_mode": {
    "name": "ipython",
    "version": 3
   },
   "file_extension": ".py",
   "mimetype": "text/x-python",
   "name": "python",
   "nbconvert_exporter": "python",
   "pygments_lexer": "ipython3",
   "version": "3.7.6"
  }
 },
 "nbformat": 4,
 "nbformat_minor": 2
}
