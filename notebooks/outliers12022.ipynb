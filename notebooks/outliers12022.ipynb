{
 "cells": [
  {
   "cell_type": "markdown",
   "id": "a3e6b7f0",
   "metadata": {},
   "source": [
    "## Data Mining and Machine Learning\n",
    "### Edgar Acuna\n",
    "### Novelty detection using Mahalanobis Distance, MCD, LOF, Isolation Forest and Clustering(kmeans, DBSCAN)\n",
    "#### Datasets: Diabetes, Landsat, and Shuttle\n",
    "#### March 2022"
   ]
  },
  {
   "cell_type": "code",
   "execution_count": 58,
   "id": "c67ad736",
   "metadata": {},
   "outputs": [],
   "source": [
    "import numpy as np\n",
    "import pandas as pd\n",
    "import seaborn as sns\n",
    "import matplotlib.pyplot as plt\n",
    "from sklearn.ensemble import IsolationForest\n",
    "from sklearn.neighbors import LocalOutlierFactor\n",
    "from sklearn.metrics.pairwise import pairwise_distances\n",
    "from sklearn.preprocessing import StandardScaler"
   ]
  },
  {
   "cell_type": "code",
   "execution_count": 59,
   "id": "1febf19e",
   "metadata": {},
   "outputs": [
    {
     "data": {
      "text/html": [
       "<div>\n",
       "<style scoped>\n",
       "    .dataframe tbody tr th:only-of-type {\n",
       "        vertical-align: middle;\n",
       "    }\n",
       "\n",
       "    .dataframe tbody tr th {\n",
       "        vertical-align: top;\n",
       "    }\n",
       "\n",
       "    .dataframe thead th {\n",
       "        text-align: right;\n",
       "    }\n",
       "</style>\n",
       "<table border=\"1\" class=\"dataframe\">\n",
       "  <thead>\n",
       "    <tr style=\"text-align: right;\">\n",
       "      <th></th>\n",
       "      <th>preg</th>\n",
       "      <th>plas</th>\n",
       "      <th>pres</th>\n",
       "      <th>skin</th>\n",
       "      <th>test</th>\n",
       "      <th>mass</th>\n",
       "      <th>pedi</th>\n",
       "      <th>age</th>\n",
       "      <th>class</th>\n",
       "    </tr>\n",
       "  </thead>\n",
       "  <tbody>\n",
       "    <tr>\n",
       "      <th>0</th>\n",
       "      <td>6</td>\n",
       "      <td>148</td>\n",
       "      <td>72</td>\n",
       "      <td>35</td>\n",
       "      <td>0</td>\n",
       "      <td>33.6</td>\n",
       "      <td>0.627</td>\n",
       "      <td>50</td>\n",
       "      <td>2</td>\n",
       "    </tr>\n",
       "    <tr>\n",
       "      <th>1</th>\n",
       "      <td>1</td>\n",
       "      <td>85</td>\n",
       "      <td>66</td>\n",
       "      <td>29</td>\n",
       "      <td>0</td>\n",
       "      <td>26.6</td>\n",
       "      <td>0.351</td>\n",
       "      <td>31</td>\n",
       "      <td>1</td>\n",
       "    </tr>\n",
       "    <tr>\n",
       "      <th>2</th>\n",
       "      <td>8</td>\n",
       "      <td>183</td>\n",
       "      <td>64</td>\n",
       "      <td>0</td>\n",
       "      <td>0</td>\n",
       "      <td>23.3</td>\n",
       "      <td>0.672</td>\n",
       "      <td>32</td>\n",
       "      <td>2</td>\n",
       "    </tr>\n",
       "    <tr>\n",
       "      <th>3</th>\n",
       "      <td>1</td>\n",
       "      <td>89</td>\n",
       "      <td>66</td>\n",
       "      <td>23</td>\n",
       "      <td>94</td>\n",
       "      <td>28.1</td>\n",
       "      <td>0.167</td>\n",
       "      <td>21</td>\n",
       "      <td>1</td>\n",
       "    </tr>\n",
       "    <tr>\n",
       "      <th>4</th>\n",
       "      <td>0</td>\n",
       "      <td>137</td>\n",
       "      <td>40</td>\n",
       "      <td>35</td>\n",
       "      <td>168</td>\n",
       "      <td>43.1</td>\n",
       "      <td>2.288</td>\n",
       "      <td>33</td>\n",
       "      <td>2</td>\n",
       "    </tr>\n",
       "  </tbody>\n",
       "</table>\n",
       "</div>"
      ],
      "text/plain": [
       "   preg  plas  pres  skin  test  mass   pedi  age  class\n",
       "0     6   148    72    35     0  33.6  0.627   50      2\n",
       "1     1    85    66    29     0  26.6  0.351   31      1\n",
       "2     8   183    64     0     0  23.3  0.672   32      2\n",
       "3     1    89    66    23    94  28.1  0.167   21      1\n",
       "4     0   137    40    35   168  43.1  2.288   33      2"
      ]
     },
     "execution_count": 59,
     "metadata": {},
     "output_type": "execute_result"
    }
   ],
   "source": [
    "url= \"https://academic.uprm.edu/eacuna/diabetes.dat\"\n",
    "names = ['preg', 'plas', 'pres', 'skin', 'test', 'mass', 'pedi', 'age', 'class']\n",
    "data = pd.read_table(url, names=names)\n",
    "data.head()"
   ]
  },
  {
   "cell_type": "markdown",
   "id": "a964b6f1",
   "metadata": {},
   "source": [
    "### Extracting all the datapoints form class 1"
   ]
  },
  {
   "cell_type": "code",
   "execution_count": 60,
   "id": "e35d8c59",
   "metadata": {},
   "outputs": [
    {
     "name": "stdout",
     "output_type": "stream",
     "text": [
      "     preg  plas  pres  skin  test  mass   pedi  age\n",
      "1       1    85    66    29     0  26.6  0.351   31\n",
      "3       1    89    66    23    94  28.1  0.167   21\n",
      "5       5   116    74     0     0  25.6  0.201   30\n",
      "7      10   115     0     0     0  35.3  0.134   29\n",
      "10      4   110    92     0     0  37.6  0.191   30\n",
      "..    ...   ...   ...   ...   ...   ...    ...  ...\n",
      "762     9    89    62     0     0  22.5  0.142   33\n",
      "763    10   101    76    48   180  32.9  0.171   63\n",
      "764     2   122    70    27     0  36.8  0.340   27\n",
      "765     5   121    72    23   112  26.2  0.245   30\n",
      "767     1    93    70    31     0  30.4  0.315   23\n",
      "\n",
      "[500 rows x 8 columns]\n"
     ]
    }
   ],
   "source": [
    "yd=data['class']\n",
    "X1=data[data['class']==1]\n",
    "Xc1=X1.iloc[:,0:8]\n",
    "print(Xc1)"
   ]
  },
  {
   "cell_type": "markdown",
   "id": "1c88cb95",
   "metadata": {},
   "source": [
    "### 0. Exploring outliers using Boxplots"
   ]
  },
  {
   "cell_type": "code",
   "execution_count": 61,
   "id": "074d8383",
   "metadata": {},
   "outputs": [
    {
     "data": {
      "text/plain": [
       "<AxesSubplot:>"
      ]
     },
     "execution_count": 61,
     "metadata": {},
     "output_type": "execute_result"
    },
    {
     "data": {
      "image/png": "[encoded data removed]",
      "text/plain": [
       "<Figure size 432x288 with 1 Axes>"
      ]
     },
     "metadata": {
      "needs_background": "light"
     },
     "output_type": "display_data"
    }
   ],
   "source": [
    "import seaborn as sns\n",
    "sns.boxplot(data=Xc1)"
   ]
  },
  {
   "cell_type": "markdown",
   "id": "a419b2a6",
   "metadata": {},
   "source": [
    "#### Feature test shows a large amount of outliers"
   ]
  },
  {
   "cell_type": "markdown",
   "id": "6347715d",
   "metadata": {},
   "source": [
    "### 1. Outlier Detection using Mahalanobis Distance"
   ]
  },
  {
   "cell_type": "code",
   "execution_count": 62,
   "id": "072244ed",
   "metadata": {},
   "outputs": [],
   "source": [
    "#create function to calculate Mahalanobis distance\n",
    "def mahalanobis(x=None, data=None, cov=None):\n",
    "\n",
    "    x_mu = x - np.mean(data)\n",
    "    if not cov:\n",
    "        cov = np.cov(data.values.T)\n",
    "    inv_covmat = np.linalg.inv(cov)\n",
    "    left = np.dot(x_mu, inv_covmat)\n",
    "    mahal = np.dot(left, x_mu.T)\n",
    "    return mahal.diagonal()"
   ]
  },
  {
   "cell_type": "code",
   "execution_count": 63,
   "id": "5426012b",
   "metadata": {},
   "outputs": [
    {
     "data": {
      "text/plain": [
       "[<matplotlib.lines.Line2D at 0x29489bde6d0>]"
      ]
     },
     "execution_count": 63,
     "metadata": {},
     "output_type": "execute_result"
    },
    {
     "data": {
      "image/png": "[encoded data removed]",
      "text/plain": [
       "<Figure size 432x288 with 1 Axes>"
      ]
     },
     "metadata": {
      "needs_background": "light"
     },
     "output_type": "display_data"
    }
   ],
   "source": [
    "mh=mahalanobis(Xc1,data=Xc1)\n",
    "plt.plot(mh)"
   ]
  },
  {
   "cell_type": "code",
   "execution_count": 64,
   "id": "7a758fd6",
   "metadata": {},
   "outputs": [
    {
     "data": {
      "text/plain": [
       "[<matplotlib.lines.Line2D at 0x29489c38c40>]"
      ]
     },
     "execution_count": 64,
     "metadata": {},
     "output_type": "execute_result"
    },
    {
     "data": {
      "image/png": "[encoded data removed]",
      "text/plain": [
       "<Figure size 432x288 with 1 Axes>"
      ]
     },
     "metadata": {
      "needs_background": "light"
     },
     "output_type": "display_data"
    }
   ],
   "source": [
    "mh=mahalanobis(Xc1,data=Xc1)\n",
    "plt.plot(np.sort(mh),marker='.',linestyle='None',markersize = 2.0)"
   ]
  },
  {
   "cell_type": "code",
   "execution_count": 65,
   "id": "7ca32d34",
   "metadata": {},
   "outputs": [
    {
     "data": {
      "text/plain": [
       "<AxesSubplot:>"
      ]
     },
     "execution_count": 65,
     "metadata": {},
     "output_type": "execute_result"
    },
    {
     "data": {
      "image/png": "[encoded data removed]",
      "text/plain": [
       "<Figure size 432x288 with 1 Axes>"
      ]
     },
     "metadata": {
      "needs_background": "light"
     },
     "output_type": "display_data"
    }
   ],
   "source": [
    "sns.boxplot(x=mh)"
   ]
  },
  {
   "cell_type": "code",
   "execution_count": 66,
   "id": "13998a38",
   "metadata": {},
   "outputs": [
    {
     "name": "stdout",
     "output_type": "stream",
     "text": [
      "7      31.273760\n",
      "12     21.209561\n",
      "49     26.750454\n",
      "58     33.385928\n",
      "60     22.212416\n",
      "81     23.259208\n",
      "86     20.970823\n",
      "145    25.705911\n",
      "182    21.065892\n",
      "228    76.176431\n",
      "247    49.672987\n",
      "286    25.377663\n",
      "294    26.750191\n",
      "336    30.682114\n",
      "371    43.494126\n",
      "426    23.389467\n",
      "453    43.070890\n",
      "459    24.258342\n",
      "487    24.920184\n",
      "494    22.806980\n",
      "519    25.751790\n",
      "522    25.925746\n",
      "537    33.121450\n",
      "549    21.667486\n",
      "593    20.984161\n",
      "596    22.264786\n",
      "621    23.051348\n",
      "622    29.023577\n",
      "684    33.959666\n",
      "703    29.548576\n",
      "744    24.982187\n",
      "dtype: float64\n"
     ]
    }
   ],
   "source": [
    "mh1=pd.Series(mh,index=Xc1.index)\n",
    "outs= mh1[mh1 >20.0]\n",
    "#print(outs.index)\n",
    "print(outs)"
   ]
  },
  {
   "cell_type": "markdown",
   "id": "9628e394",
   "metadata": {},
   "source": [
    "### 2. Minimum  Covariance Distance ( MCD)"
   ]
  },
  {
   "cell_type": "code",
   "execution_count": 67,
   "id": "21c4b6e1",
   "metadata": {},
   "outputs": [
    {
     "data": {
      "text/plain": [
       "[<matplotlib.lines.Line2D at 0x2948e12bbb0>]"
      ]
     },
     "execution_count": 67,
     "metadata": {},
     "output_type": "execute_result"
    },
    {
     "data": {
      "image/png": "[encoded data removed]",
      "text/plain": [
       "<Figure size 432x288 with 1 Axes>"
      ]
     },
     "metadata": {
      "needs_background": "light"
     },
     "output_type": "display_data"
    }
   ],
   "source": [
    "from sklearn.covariance import EllipticEnvelope\n",
    "clf=EllipticEnvelope(contamination=0.25)\n",
    "clf.fit(Xc1)\n",
    "outmcd = clf.decision_function(Xc1)\n",
    "outmcd=pd.Series(outmcd,index=Xc1.index)\n",
    "plt.plot(outmcd)"
   ]
  },
  {
   "cell_type": "code",
   "execution_count": 68,
   "id": "f9681363",
   "metadata": {},
   "outputs": [
    {
     "data": {
      "text/plain": [
       "<AxesSubplot:>"
      ]
     },
     "execution_count": 68,
     "metadata": {},
     "output_type": "execute_result"
    },
    {
     "data": {
      "image/png": "[encoded data removed]",
      "text/plain": [
       "<Figure size 432x288 with 1 Axes>"
      ]
     },
     "metadata": {
      "needs_background": "light"
     },
     "output_type": "display_data"
    }
   ],
   "source": [
    "sns.boxplot(x=outmcd)"
   ]
  },
  {
   "cell_type": "code",
   "execution_count": 69,
   "id": "7916249b",
   "metadata": {},
   "outputs": [
    {
     "name": "stdout",
     "output_type": "stream",
     "text": [
      "7      -53.784415\n",
      "12     -48.628311\n",
      "30     -44.303555\n",
      "58     -58.627106\n",
      "67     -43.345313\n",
      "123    -91.343246\n",
      "148    -71.101183\n",
      "212    -46.229662\n",
      "223    -51.958172\n",
      "228   -129.229139\n",
      "247    -72.756506\n",
      "263    -71.447072\n",
      "294   -134.534317\n",
      "336    -83.977925\n",
      "361    -66.625178\n",
      "362    -68.446186\n",
      "371    -56.328212\n",
      "453   -221.593289\n",
      "456    -96.062792\n",
      "459   -143.871470\n",
      "475    -77.342576\n",
      "479    -66.769723\n",
      "487    -82.004662\n",
      "489    -79.735364\n",
      "495    -75.778010\n",
      "509    -50.273862\n",
      "519    -66.574625\n",
      "537   -141.910628\n",
      "552    -67.006676\n",
      "622    -42.335089\n",
      "674    -70.053326\n",
      "684   -129.942122\n",
      "703    -70.923018\n",
      "763    -51.078142\n",
      "dtype: float64\n"
     ]
    }
   ],
   "source": [
    "outs1= outmcd[outmcd < -40.0]\n",
    "print(outs1)"
   ]
  },
  {
   "cell_type": "markdown",
   "id": "5deab755",
   "metadata": {},
   "source": [
    "### 3. Isolation Forest"
   ]
  },
  {
   "cell_type": "code",
   "execution_count": 70,
   "id": "bd81d754",
   "metadata": {},
   "outputs": [
    {
     "data": {
      "text/plain": [
       "[<matplotlib.lines.Line2D at 0x29485ba2460>]"
      ]
     },
     "execution_count": 70,
     "metadata": {},
     "output_type": "execute_result"
    },
    {
     "data": {
      "image/png": "[encoded data removed]",
      "text/plain": [
       "<Figure size 432x288 with 1 Axes>"
      ]
     },
     "metadata": {
      "needs_background": "light"
     },
     "output_type": "display_data"
    }
   ],
   "source": [
    "model=IsolationForest(n_estimators=50, max_samples='auto', contamination=float(0.1),max_features=1.0)\n",
    "model.fit(Xc1)\n",
    "scores=model.decision_function(Xc1)\n",
    "plt.plot(scores)"
   ]
  },
  {
   "cell_type": "code",
   "execution_count": 71,
   "id": "b524e608",
   "metadata": {},
   "outputs": [
    {
     "data": {
      "text/plain": [
       "<AxesSubplot:>"
      ]
     },
     "execution_count": 71,
     "metadata": {},
     "output_type": "execute_result"
    },
    {
     "data": {
      "image/png": "[encoded data removed]",
      "text/plain": [
       "<Figure size 432x288 with 1 Axes>"
      ]
     },
     "metadata": {
      "needs_background": "light"
     },
     "output_type": "display_data"
    }
   ],
   "source": [
    "sns.boxplot(x=scores)"
   ]
  },
  {
   "cell_type": "code",
   "execution_count": 72,
   "id": "94dbf4a7",
   "metadata": {},
   "outputs": [
    {
     "name": "stdout",
     "output_type": "stream",
     "text": [
      "49    -0.093589\n",
      "57    -0.068689\n",
      "60    -0.062944\n",
      "81    -0.073576\n",
      "228   -0.183705\n",
      "247   -0.109344\n",
      "362   -0.062499\n",
      "426   -0.055461\n",
      "453   -0.105163\n",
      "487   -0.119906\n",
      "494   -0.053725\n",
      "519   -0.066511\n",
      "522   -0.084567\n",
      "537   -0.080702\n",
      "622   -0.057593\n",
      "684   -0.091134\n",
      "744   -0.103637\n",
      "dtype: float64\n"
     ]
    }
   ],
   "source": [
    "scores=pd.Series(scores,index=Xc1.index)\n",
    "outs3= scores[scores < -0.05]\n",
    "print(outs3)"
   ]
  },
  {
   "cell_type": "markdown",
   "id": "3f31d107",
   "metadata": {},
   "source": [
    "### 4. Outlier detection using Kmeans"
   ]
  },
  {
   "cell_type": "code",
   "execution_count": 73,
   "id": "20970064",
   "metadata": {},
   "outputs": [],
   "source": [
    "from sklearn.cluster import KMeans\n",
    "from sklearn.preprocessing import StandardScaler\n",
    "from sklearn.metrics.pairwise import pairwise_distances\n",
    "from sklearn.neighbors import DistanceMetric"
   ]
  },
  {
   "cell_type": "code",
   "execution_count": 74,
   "id": "83c1172c",
   "metadata": {},
   "outputs": [],
   "source": [
    "scaler = StandardScaler()\n",
    "scaler.fit(Xc1)\n",
    "Xd= scaler.transform(Xc1)"
   ]
  },
  {
   "cell_type": "code",
   "execution_count": 75,
   "id": "4ef46318",
   "metadata": {},
   "outputs": [],
   "source": [
    "kmeans = KMeans(n_clusters=30, random_state=0).fit(Xd)\n",
    "clustlabels=kmeans.labels_\n",
    "#print(clustlabels)"
   ]
  },
  {
   "cell_type": "code",
   "execution_count": 76,
   "id": "ef116077",
   "metadata": {},
   "outputs": [
    {
     "name": "stdout",
     "output_type": "stream",
     "text": [
      "Size of the formed clusters\n",
      "[[ 0  1  2  3  4  5  6  7  8  9 10 11 12 13 14 15 16 17 18 19 20 21 22 23\n",
      "  24 25 26 27 28 29]\n",
      " [ 3 28 36 36 14  8 12 11  9 14 12  6 11 41  9 11  1 19 23 19 33 36 13  2\n",
      "  10 11 16  2 32 22]]\n"
     ]
    }
   ],
   "source": [
    "#Finding the size of the two clusters formed\n",
    "unique_elements, counts_elements = np.unique(clustlabels, return_counts=True)\n",
    "print(\"Size of the formed clusters\")\n",
    "print(np.asarray((unique_elements, counts_elements)))"
   ]
  },
  {
   "cell_type": "code",
   "execution_count": 77,
   "id": "3970a3a9",
   "metadata": {},
   "outputs": [
    {
     "name": "stdout",
     "output_type": "stream",
     "text": [
      "[ 75 182 342  49  60  81 426 494 522 228 336 453  58 622]\n"
     ]
    }
   ],
   "source": [
    "inst1=Xc1.index\n",
    "out11=inst1[np.where(clustlabels==0)]\n",
    "out12=inst1[np.where(clustlabels==11)]\n",
    "out13=inst1[np.where(clustlabels==16)]\n",
    "out14=inst1[np.where(clustlabels==23)]\n",
    "out15=inst1[np.where(clustlabels==27)]\n",
    "out1all=np.concatenate([out11,out12,out13,out14,out15])\n",
    "print(out1all)\n"
   ]
  },
  {
   "cell_type": "markdown",
   "id": "d19922b6",
   "metadata": {},
   "source": [
    "### 5. Outlier detection using DBSCAN"
   ]
  },
  {
   "cell_type": "code",
   "execution_count": 78,
   "id": "0eac7d1b",
   "metadata": {},
   "outputs": [
    {
     "data": {
      "text/plain": [
       "[<matplotlib.lines.Line2D at 0x29485c5fb50>]"
      ]
     },
     "execution_count": 78,
     "metadata": {},
     "output_type": "execute_result"
    },
    {
     "data": {
      "image/png": "[encoded data removed]",
      "text/plain": [
       "<Figure size 432x288 with 1 Axes>"
      ]
     },
     "metadata": {
      "needs_background": "light"
     },
     "output_type": "display_data"
    }
   ],
   "source": [
    "#Choosing the optimal epsilon\n",
    "k = 10\n",
    "# importing NearestNeighbors class \n",
    "from sklearn.neighbors import NearestNeighbors\n",
    "# initialize model\n",
    "neigh10 = NearestNeighbors(n_neighbors=10, n_jobs=-1)\n",
    "# train for getting nearest neighbour\n",
    "neigh10.fit(Xc1)\n",
    "dist10, ind10 = neigh10.kneighbors(Xc1)\n",
    "distances10 = [dist10[i][k-1] for i in range(len(dist10))]\n",
    "distances10 = np.sort(distances10, axis=0)\n",
    "plt.plot(distances10)"
   ]
  },
  {
   "cell_type": "code",
   "execution_count": 79,
   "id": "22d7dcdb",
   "metadata": {},
   "outputs": [
    {
     "name": "stdout",
     "output_type": "stream",
     "text": [
      "Int64Index([75, 153, 182, 228, 247, 248, 258, 286, 342, 392, 486, 519, 645,\n",
      "            710],\n",
      "           dtype='int64')\n"
     ]
    }
   ],
   "source": [
    "from sklearn.cluster import DBSCAN\n",
    "eps=50\n",
    "dbscan = DBSCAN(eps,min_samples=10).fit(Xc1)\n",
    "dbscanlabels=dbscan.labels_\n",
    "#print(dbscanlabels)\n",
    "inst=Xc1.index\n",
    "outd1=inst[np.where(dbscanlabels==-1)]\n",
    "print(outd1)"
   ]
  },
  {
   "cell_type": "markdown",
   "id": "81855383",
   "metadata": {},
   "source": [
    "### 6. Local Outlier Factor (LOF)"
   ]
  },
  {
   "cell_type": "code",
   "execution_count": 80,
   "id": "ad4081f1",
   "metadata": {},
   "outputs": [],
   "source": [
    "# fit the model for outlier detection (default)\n",
    "clf = LocalOutlierFactor(n_neighbors=20, contamination=0.05)\n",
    "# use fit_predict to compute the predicted labels of the training samples\n",
    "# (when LOF is used for outlier detection, the estimator has no predict,\n",
    "# decision_function and score_samples methods).\n",
    "y_pred = clf.fit_predict(Xc1)\n",
    "#print(np.where(y_pred==-1))"
   ]
  },
  {
   "cell_type": "code",
   "execution_count": 81,
   "id": "0b357eb8",
   "metadata": {},
   "outputs": [
    {
     "data": {
      "text/plain": [
       "[<matplotlib.lines.Line2D at 0x29485cc8070>]"
      ]
     },
     "execution_count": 81,
     "metadata": {},
     "output_type": "execute_result"
    },
    {
     "data": {
      "image/png": "[encoded data removed]",
      "text/plain": [
       "<Figure size 432x288 with 1 Axes>"
      ]
     },
     "metadata": {
      "needs_background": "light"
     },
     "output_type": "display_data"
    }
   ],
   "source": [
    "X_scores = clf.negative_outlier_factor_\n",
    "plt.plot(X_scores)"
   ]
  },
  {
   "cell_type": "code",
   "execution_count": 82,
   "id": "3528ff38",
   "metadata": {},
   "outputs": [
    {
     "data": {
      "text/plain": [
       "[<matplotlib.lines.Line2D at 0x29485d1e3a0>]"
      ]
     },
     "execution_count": 82,
     "metadata": {},
     "output_type": "execute_result"
    },
    {
     "data": {
      "image/png": "[encoded data removed]",
      "text/plain": [
       "<Figure size 432x288 with 1 Axes>"
      ]
     },
     "metadata": {
      "needs_background": "light"
     },
     "output_type": "display_data"
    }
   ],
   "source": [
    "plt.plot(np.sort(X_scores),marker='.',linestyle='None',markersize = 2.0)"
   ]
  },
  {
   "cell_type": "code",
   "execution_count": 83,
   "id": "25e57a07",
   "metadata": {},
   "outputs": [
    {
     "data": {
      "text/plain": [
       "<AxesSubplot:>"
      ]
     },
     "execution_count": 83,
     "metadata": {},
     "output_type": "execute_result"
    },
    {
     "data": {
      "image/png": "[encoded data removed]",
      "text/plain": [
       "<Figure size 432x288 with 1 Axes>"
      ]
     },
     "metadata": {
      "needs_background": "light"
     },
     "output_type": "display_data"
    }
   ],
   "source": [
    "sns.boxplot(x=X_scores)"
   ]
  },
  {
   "cell_type": "code",
   "execution_count": 84,
   "id": "e27b150d",
   "metadata": {},
   "outputs": [
    {
     "name": "stdout",
     "output_type": "stream",
     "text": [
      "18    -1.480470\n",
      "40    -1.738998\n",
      "62    -1.479756\n",
      "75    -2.620721\n",
      "86    -1.405982\n",
      "106   -1.756651\n",
      "145   -1.603657\n",
      "146   -1.472256\n",
      "153   -1.893882\n",
      "182   -2.477287\n",
      "211   -1.486654\n",
      "212   -1.402344\n",
      "228   -3.714689\n",
      "247   -3.183683\n",
      "260   -1.565333\n",
      "286   -2.246802\n",
      "342   -2.639874\n",
      "362   -1.608571\n",
      "392   -1.453543\n",
      "459   -1.842283\n",
      "486   -1.849507\n",
      "489   -1.607684\n",
      "537   -1.642067\n",
      "548   -1.572597\n",
      "549   -1.653318\n",
      "597   -1.596125\n",
      "622   -1.516020\n",
      "645   -1.603176\n",
      "672   -1.593961\n",
      "703   -1.416859\n",
      "728   -1.526423\n",
      "dtype: float64\n"
     ]
    }
   ],
   "source": [
    "lofs1=pd.Series(X_scores,index=Xc1.index)\n",
    "outs2= lofs1[lofs1 < -1.4]\n",
    "print(outs2)"
   ]
  },
  {
   "cell_type": "markdown",
   "id": "313bffdb",
   "metadata": {},
   "source": [
    "### Outliers in Landsat"
   ]
  },
  {
   "cell_type": "code",
   "execution_count": 85,
   "id": "c79c0d2a",
   "metadata": {},
   "outputs": [
    {
     "data": {
      "text/plain": [
       "(1072, 36)"
      ]
     },
     "execution_count": 85,
     "metadata": {},
     "output_type": "execute_result"
    }
   ],
   "source": [
    "#Cargando el conjunto de datos Landsat\n",
    "url='http://academic.uprm.edu/eacuna/landsat.txt'\n",
    "data = pd.read_table(url, header=None,delim_whitespace=True)\n",
    "y1=data.iloc[:,36]\n",
    "X1=data[y1==1]\n",
    "X1=X1.iloc[:,0:36]\n",
    "X1.shape"
   ]
  },
  {
   "cell_type": "markdown",
   "id": "e52df915",
   "metadata": {},
   "source": [
    "#### 2.1 Mahalanobis Distance"
   ]
  },
  {
   "cell_type": "code",
   "execution_count": 86,
   "id": "9df0b38f",
   "metadata": {},
   "outputs": [
    {
     "data": {
      "text/plain": [
       "[<matplotlib.lines.Line2D at 0x29485d7ca60>]"
      ]
     },
     "execution_count": 86,
     "metadata": {},
     "output_type": "execute_result"
    },
    {
     "data": {
      "image/png": "[encoded data removed]",
      "text/plain": [
       "<Figure size 432x288 with 1 Axes>"
      ]
     },
     "metadata": {
      "needs_background": "light"
     },
     "output_type": "display_data"
    }
   ],
   "source": [
    "mh=mahalanobis(X1,data=X1)\n",
    "plt.plot(mh)"
   ]
  },
  {
   "cell_type": "code",
   "execution_count": 87,
   "id": "349cec64",
   "metadata": {},
   "outputs": [
    {
     "name": "stdout",
     "output_type": "stream",
     "text": [
      "2962    116.927976\n",
      "3011    106.831207\n",
      "3012    115.581073\n",
      "3013    117.553662\n",
      "3517    118.496203\n",
      "3573    329.363899\n",
      "3633    306.983683\n",
      "3751    206.343879\n",
      "3821    163.068286\n",
      "3822    452.452777\n",
      "3934    245.589577\n",
      "3996    217.975407\n",
      "4054    151.293096\n",
      "4055    231.807812\n",
      "4237    107.054552\n",
      "4296    100.581647\n",
      "4419    112.983473\n",
      "4420    100.601946\n",
      "dtype: float64\n"
     ]
    }
   ],
   "source": [
    "mh1=pd.Series(mh,index=X1.index)\n",
    "outs= mh1[mh1 >100.0]\n",
    "#print(outs.index)\n",
    "print(outs)"
   ]
  },
  {
   "cell_type": "markdown",
   "id": "3f0ca636",
   "metadata": {},
   "source": [
    "#### 2.2 MCD estimator"
   ]
  },
  {
   "cell_type": "code",
   "execution_count": 88,
   "id": "28805a37",
   "metadata": {},
   "outputs": [
    {
     "data": {
      "text/plain": [
       "[<matplotlib.lines.Line2D at 0x29486e905b0>]"
      ]
     },
     "execution_count": 88,
     "metadata": {},
     "output_type": "execute_result"
    },
    {
     "data": {
      "image/png": "[encoded data removed]",
      "text/plain": [
       "<Figure size 432x288 with 1 Axes>"
      ]
     },
     "metadata": {
      "needs_background": "light"
     },
     "output_type": "display_data"
    }
   ],
   "source": [
    "from sklearn.covariance import EllipticEnvelope\n",
    "clf=EllipticEnvelope(contamination=0.25)\n",
    "clf.fit(X1)\n",
    "outmcd = clf.decision_function(X1)\n",
    "outmcd=pd.Series(outmcd,index=X1.index)\n",
    "plt.plot(outmcd)"
   ]
  },
  {
   "cell_type": "code",
   "execution_count": 89,
   "id": "c2805f45",
   "metadata": {},
   "outputs": [
    {
     "name": "stdout",
     "output_type": "stream",
     "text": [
      "3573   -1070.240223\n",
      "3633   -1013.206910\n",
      "3751    -854.937889\n",
      "3821    -862.223098\n",
      "3822   -1776.939230\n",
      "3934    -964.127892\n",
      "3996   -1226.179660\n",
      "4054    -590.186954\n",
      "4055   -1226.559110\n",
      "dtype: float64\n"
     ]
    }
   ],
   "source": [
    "outs1= outmcd[outmcd < -250.0]\n",
    "print(outs1)"
   ]
  },
  {
   "cell_type": "markdown",
   "id": "6b87ede1",
   "metadata": {},
   "source": [
    "#### 2.3 LOF score"
   ]
  },
  {
   "cell_type": "code",
   "execution_count": 90,
   "id": "17e44818",
   "metadata": {},
   "outputs": [
    {
     "data": {
      "text/plain": [
       "[<matplotlib.lines.Line2D at 0x2948c475280>]"
      ]
     },
     "execution_count": 90,
     "metadata": {},
     "output_type": "execute_result"
    },
    {
     "data": {
      "image/png": "[encoded data removed]",
      "text/plain": [
       "<Figure size 432x288 with 1 Axes>"
      ]
     },
     "metadata": {
      "needs_background": "light"
     },
     "output_type": "display_data"
    }
   ],
   "source": [
    "# fit the model for outlier detection (default)\n",
    "clf = LocalOutlierFactor(n_neighbors=20, contamination=0.05)\n",
    "y_pred = clf.fit_predict(X1)\n",
    "#print(np.where(y_pred==-1))\n",
    "X_scores = clf.negative_outlier_factor_\n",
    "plt.plot(X_scores)"
   ]
  },
  {
   "cell_type": "code",
   "execution_count": 91,
   "id": "85dca1e5",
   "metadata": {},
   "outputs": [
    {
     "name": "stdout",
     "output_type": "stream",
     "text": [
      "2915   -1.664278\n",
      "2962   -1.664903\n",
      "3010   -1.631462\n",
      "3573   -2.658307\n",
      "3633   -2.354013\n",
      "3751   -2.384111\n",
      "3821   -2.068993\n",
      "3822   -2.585169\n",
      "3934   -2.006856\n",
      "3996   -2.175628\n",
      "4054   -1.860583\n",
      "4055   -2.224322\n",
      "4237   -1.751119\n",
      "4419   -1.846079\n",
      "4420   -1.616746\n",
      "dtype: float64\n"
     ]
    }
   ],
   "source": [
    "lofs1=pd.Series(X_scores,index=X1.index)\n",
    "outs2= lofs1[lofs1 < -1.6]\n",
    "print(outs2)"
   ]
  },
  {
   "cell_type": "markdown",
   "id": "23cc87ed",
   "metadata": {},
   "source": [
    "#### 2.4 Isolation Forest"
   ]
  },
  {
   "cell_type": "code",
   "execution_count": 92,
   "id": "9200bfac",
   "metadata": {},
   "outputs": [
    {
     "data": {
      "text/plain": [
       "[<matplotlib.lines.Line2D at 0x2948c4cd430>]"
      ]
     },
     "execution_count": 92,
     "metadata": {},
     "output_type": "execute_result"
    },
    {
     "data": {
      "image/png": "[encoded data removed]",
      "text/plain": [
       "<Figure size 432x288 with 1 Axes>"
      ]
     },
     "metadata": {
      "needs_background": "light"
     },
     "output_type": "display_data"
    }
   ],
   "source": [
    "model=IsolationForest(n_estimators=50, max_samples='auto', contamination=float(0.1),max_features=1.0)\n",
    "model.fit(X1)\n",
    "scores=model.decision_function(X1)\n",
    "plt.plot(scores)"
   ]
  },
  {
   "cell_type": "code",
   "execution_count": 93,
   "id": "fd352efe",
   "metadata": {},
   "outputs": [
    {
     "name": "stdout",
     "output_type": "stream",
     "text": [
      "2045   -0.051220\n",
      "2963   -0.071685\n",
      "2964   -0.072768\n",
      "3013   -0.057323\n",
      "3059   -0.051407\n",
      "3603   -0.069807\n",
      "3605   -0.063987\n",
      "3665   -0.074586\n",
      "3666   -0.074624\n",
      "3751   -0.054653\n",
      "3795   -0.056079\n",
      "3822   -0.135156\n",
      "3934   -0.072338\n",
      "4044   -0.063318\n",
      "4055   -0.055987\n",
      "4296   -0.056367\n",
      "4358   -0.052796\n",
      "4419   -0.066702\n",
      "4421   -0.056972\n",
      "dtype: float64\n"
     ]
    }
   ],
   "source": [
    "scores=pd.Series(scores,index=X1.index)\n",
    "outs3= scores[scores < -0.05]\n",
    "print(outs3)"
   ]
  },
  {
   "cell_type": "markdown",
   "id": "2aa0fbed",
   "metadata": {},
   "source": [
    "#### 2.5 K-means"
   ]
  },
  {
   "cell_type": "code",
   "execution_count": 94,
   "id": "971e45c0",
   "metadata": {},
   "outputs": [],
   "source": [
    "scaler = StandardScaler()\n",
    "scaler.fit(X1)\n",
    "Xd= scaler.transform(X1)"
   ]
  },
  {
   "cell_type": "code",
   "execution_count": 95,
   "id": "a00691fd",
   "metadata": {},
   "outputs": [],
   "source": [
    "kmeans = KMeans(n_clusters=40, random_state=0).fit(X1)\n",
    "clustlabels=kmeans.labels_"
   ]
  },
  {
   "cell_type": "code",
   "execution_count": 96,
   "id": "bb7f0d4a",
   "metadata": {},
   "outputs": [
    {
     "name": "stdout",
     "output_type": "stream",
     "text": [
      "Size of the formed clusters\n",
      "[[ 0  1  2  3  4  5  6  7  8  9 10 11 12 13 14 15 16 17 18 19 20 21 22 23\n",
      "  24 25 26 27 28 29 30 31 32 33 34 35 36 37 38 39]\n",
      " [25 44 27 21 22 27 18 29 25 14 18 25 88 21 55 27 32 17 43 31 28 23 30 19\n",
      "  34 26 35  2 14  3  1  4 31 80 49 21 32 14  3 14]]\n"
     ]
    }
   ],
   "source": [
    "#Finding the size of the two clusters formed\n",
    "unique_elements, counts_elements = np.unique(clustlabels, return_counts=True)\n",
    "print(\"Size of the formed clusters\")\n",
    "print(np.asarray((unique_elements, counts_elements)))"
   ]
  },
  {
   "cell_type": "code",
   "execution_count": 97,
   "id": "4775be2f",
   "metadata": {},
   "outputs": [
    {
     "name": "stdout",
     "output_type": "stream",
     "text": [
      "[3573 3633 3996 4054 4055 3822 2915 2916 2962 4295 3751 3821 3934]\n"
     ]
    }
   ],
   "source": [
    "inst1=X1.index\n",
    "out11=inst1[np.where(clustlabels==27)]\n",
    "out12=inst1[np.where(clustlabels==29)]\n",
    "out13=inst1[np.where(clustlabels==30)]\n",
    "out14=inst1[np.where(clustlabels==31)]\n",
    "out15=inst1[np.where(clustlabels==38)]\n",
    "out1all=np.concatenate([out11,out12,out13,out14,out15])\n",
    "print(out1all)"
   ]
  },
  {
   "cell_type": "markdown",
   "id": "78f3cc26",
   "metadata": {},
   "source": [
    "#### DBSCAN"
   ]
  },
  {
   "cell_type": "code",
   "execution_count": 98,
   "id": "c296fca5",
   "metadata": {},
   "outputs": [
    {
     "data": {
      "text/plain": [
       "[<matplotlib.lines.Line2D at 0x2948c529730>]"
      ]
     },
     "execution_count": 98,
     "metadata": {},
     "output_type": "execute_result"
    },
    {
     "data": {
      "image/png": "[encoded data removed]",
      "text/plain": [
       "<Figure size 432x288 with 1 Axes>"
      ]
     },
     "metadata": {
      "needs_background": "light"
     },
     "output_type": "display_data"
    }
   ],
   "source": [
    "#Choosing the optimal epsilon\n",
    "k = 10\n",
    "# importing NearestNeighbors class \n",
    "from sklearn.neighbors import NearestNeighbors\n",
    "# initialize model\n",
    "neigh10 = NearestNeighbors(n_neighbors=10, n_jobs=-1)\n",
    "# train for getting nearest neighbour\n",
    "neigh10.fit(X1)\n",
    "dist10, ind10 = neigh10.kneighbors(X1)\n",
    "distances10 = [dist10[i][k-1] for i in range(len(dist10))]\n",
    "distances10 = np.sort(distances10, axis=0)\n",
    "plt.plot(distances10)"
   ]
  },
  {
   "cell_type": "code",
   "execution_count": 99,
   "id": "4d0770ea",
   "metadata": {},
   "outputs": [
    {
     "name": "stdout",
     "output_type": "stream",
     "text": [
      "Int64Index([2915, 2962, 2963, 2964, 3011, 3012, 3013, 3059, 3104, 3105, 3573,\n",
      "            3633, 3751, 3821, 3822, 3934, 3996, 4054, 4055, 4116, 4235, 4236,\n",
      "            4237, 4295, 4296, 4358, 4419, 4420, 4421],\n",
      "           dtype='int64')\n"
     ]
    }
   ],
   "source": [
    "from sklearn.cluster import DBSCAN\n",
    "eps=40\n",
    "dbscan = DBSCAN(eps,min_samples=10).fit(X1)\n",
    "dbscanlabels=dbscan.labels_\n",
    "#print(dbscanlabels)\n",
    "inst=X1.index\n",
    "outd1=inst[np.where(dbscanlabels==-1)]\n",
    "print(outd1)"
   ]
  },
  {
   "cell_type": "markdown",
   "id": "34f26503",
   "metadata": {},
   "source": [
    "### Outliers in Landsat class 1: 3822, 3573, 3633, 3934, 3996, 4054,4055,3821, 3751"
   ]
  },
  {
   "cell_type": "markdown",
   "id": "73da8280",
   "metadata": {},
   "source": [
    "### Outliers in Shuttle"
   ]
  },
  {
   "cell_type": "code",
   "execution_count": 100,
   "id": "8afe7704",
   "metadata": {},
   "outputs": [
    {
     "name": "stdout",
     "output_type": "stream",
     "text": [
      "<class 'pandas.core.frame.DataFrame'>\n",
      "RangeIndex: 43500 entries, 0 to 43499\n",
      "Data columns (total 10 columns):\n",
      " #   Column  Non-Null Count  Dtype\n",
      "---  ------  --------------  -----\n",
      " 0   0       43500 non-null  int64\n",
      " 1   1       43500 non-null  int64\n",
      " 2   2       43500 non-null  int64\n",
      " 3   3       43500 non-null  int64\n",
      " 4   4       43500 non-null  int64\n",
      " 5   5       43500 non-null  int64\n",
      " 6   6       43500 non-null  int64\n",
      " 7   7       43500 non-null  int64\n",
      " 8   8       43500 non-null  int64\n",
      " 9   9       43500 non-null  int64\n",
      "dtypes: int64(10)\n",
      "memory usage: 3.3 MB\n"
     ]
    }
   ],
   "source": [
    "url = \"https://academic.uprm.edu/eacuna/shuttle.trn\"\n",
    "data = pd.read_table(url, header=None,delim_whitespace=True)\n",
    "data.info()"
   ]
  },
  {
   "cell_type": "code",
   "execution_count": 101,
   "id": "14993716",
   "metadata": {},
   "outputs": [
    {
     "data": {
      "text/plain": [
       "1    34108\n",
       "4     6748\n",
       "5     2458\n",
       "3      132\n",
       "2       37\n",
       "7       11\n",
       "6        6\n",
       "Name: 9, dtype: int64"
      ]
     },
     "execution_count": 101,
     "metadata": {},
     "output_type": "execute_result"
    }
   ],
   "source": [
    "y1=data.iloc[:,9]\n",
    "y1.value_counts()"
   ]
  },
  {
   "cell_type": "code",
   "execution_count": 102,
   "id": "85524348",
   "metadata": {},
   "outputs": [
    {
     "data": {
      "text/plain": [
       "(34108, 9)"
      ]
     },
     "execution_count": 102,
     "metadata": {},
     "output_type": "execute_result"
    }
   ],
   "source": [
    "X1=data[y1==1]\n",
    "X1=X1.iloc[:,0:9]\n",
    "X1.shape"
   ]
  },
  {
   "cell_type": "markdown",
   "id": "b4df35c1",
   "metadata": {},
   "source": [
    "### 3.1 Mahalanobis Distance"
   ]
  },
  {
   "cell_type": "code",
   "execution_count": 103,
   "id": "0473bfbb",
   "metadata": {},
   "outputs": [
    {
     "data": {
      "text/plain": [
       "[<matplotlib.lines.Line2D at 0x2948c558ac0>]"
      ]
     },
     "execution_count": 103,
     "metadata": {},
     "output_type": "execute_result"
    },
    {
     "data": {
      "image/png": "[encoded data removed]",
      "text/plain": [
       "<Figure size 432x288 with 1 Axes>"
      ]
     },
     "metadata": {
      "needs_background": "light"
     },
     "output_type": "display_data"
    }
   ],
   "source": [
    "mh=mahalanobis(X1,data=X1)\n",
    "plt.plot(mh)"
   ]
  },
  {
   "cell_type": "code",
   "execution_count": 104,
   "id": "01a8add5",
   "metadata": {},
   "outputs": [
    {
     "data": {
      "text/plain": [
       "[<matplotlib.lines.Line2D at 0x2948e1419d0>]"
      ]
     },
     "execution_count": 104,
     "metadata": {},
     "output_type": "execute_result"
    },
    {
     "data": {
      "image/png": "[encoded data removed]",
      "text/plain": [
       "<Figure size 432x288 with 1 Axes>"
      ]
     },
     "metadata": {
      "needs_background": "light"
     },
     "output_type": "display_data"
    }
   ],
   "source": [
    "plt.plot(np.sort(mh),marker='.',linestyle='None',markersize = 2.0)"
   ]
  },
  {
   "cell_type": "code",
   "execution_count": 105,
   "id": "59e11d82",
   "metadata": {},
   "outputs": [
    {
     "data": {
      "text/plain": [
       "<AxesSubplot:>"
      ]
     },
     "execution_count": 105,
     "metadata": {},
     "output_type": "execute_result"
    },
    {
     "data": {
      "image/png": "[encoded data removed]",
      "text/plain": [
       "<Figure size 432x288 with 1 Axes>"
      ]
     },
     "metadata": {
      "needs_background": "light"
     },
     "output_type": "display_data"
    }
   ],
   "source": [
    "sns.boxplot(x=mh)"
   ]
  },
  {
   "cell_type": "code",
   "execution_count": 106,
   "id": "0fd2405e",
   "metadata": {},
   "outputs": [
    {
     "name": "stdout",
     "output_type": "stream",
     "text": [
      "70        2026.135943\n",
      "2174      1752.125937\n",
      "2294      8854.702824\n",
      "6004      2311.342095\n",
      "8688      6316.105917\n",
      "10303     2994.194069\n",
      "10730     7419.469448\n",
      "13430     3768.070264\n",
      "14059    21201.939508\n",
      "18624     8362.563867\n",
      "19474     1069.365344\n",
      "22645     5503.759986\n",
      "30721     1383.539142\n",
      "32422     7922.894466\n",
      "35729     8003.947584\n",
      "41854     4497.525471\n",
      "dtype: float64\n"
     ]
    }
   ],
   "source": [
    "mh1=pd.Series(mh,index=X1.index)\n",
    "outs= mh1[mh1 >1000.0]\n",
    "#print(outs.index)\n",
    "print(outs)"
   ]
  },
  {
   "cell_type": "markdown",
   "id": "371d6243",
   "metadata": {},
   "source": [
    "### 3.2 Isolation forest"
   ]
  },
  {
   "cell_type": "code",
   "execution_count": 107,
   "id": "18a1a545",
   "metadata": {},
   "outputs": [
    {
     "data": {
      "text/plain": [
       "[<matplotlib.lines.Line2D at 0x2948e339400>]"
      ]
     },
     "execution_count": 107,
     "metadata": {},
     "output_type": "execute_result"
    },
    {
     "data": {
      "image/png": "[encoded data removed]",
      "text/plain": [
       "<Figure size 432x288 with 1 Axes>"
      ]
     },
     "metadata": {
      "needs_background": "light"
     },
     "output_type": "display_data"
    }
   ],
   "source": [
    "model=IsolationForest(n_estimators=100, max_samples=5000, contamination=float(0.01),max_features=1.0)\n",
    "model.fit(X1)\n",
    "scores=model.decision_function(X1)\n",
    "plt.plot(scores)"
   ]
  },
  {
   "cell_type": "code",
   "execution_count": 108,
   "id": "135747db",
   "metadata": {},
   "outputs": [
    {
     "name": "stdout",
     "output_type": "stream",
     "text": [
      "70      -0.194046\n",
      "2174    -0.111110\n",
      "2294    -0.146394\n",
      "3620    -0.099862\n",
      "6004    -0.193504\n",
      "8688    -0.081011\n",
      "8723    -0.082833\n",
      "10303   -0.118210\n",
      "10730   -0.179929\n",
      "13388   -0.081632\n",
      "14059   -0.141516\n",
      "17207   -0.090841\n",
      "17255   -0.090529\n",
      "18624   -0.194640\n",
      "21005   -0.107172\n",
      "22645   -0.185357\n",
      "22736   -0.085221\n",
      "23224   -0.125171\n",
      "30721   -0.181393\n",
      "32422   -0.116296\n",
      "34429   -0.098804\n",
      "35729   -0.107371\n",
      "42625   -0.089685\n",
      "dtype: float64\n"
     ]
    }
   ],
   "source": [
    "scores=pd.Series(scores,index=X1.index)\n",
    "outs3= scores[scores < -0.08]\n",
    "print(outs3)"
   ]
  },
  {
   "cell_type": "markdown",
   "id": "c12de378",
   "metadata": {},
   "source": [
    "### 3.3 k-means"
   ]
  },
  {
   "cell_type": "code",
   "execution_count": 109,
   "id": "4c205e67",
   "metadata": {},
   "outputs": [],
   "source": [
    "scaler = StandardScaler()\n",
    "scaler.fit(X1)\n",
    "Xd= scaler.transform(X1)"
   ]
  },
  {
   "cell_type": "code",
   "execution_count": 110,
   "id": "e7c3ad3e",
   "metadata": {},
   "outputs": [],
   "source": [
    "kmeans = KMeans(n_clusters=10, random_state=0).fit(X1)\n",
    "clustlabels=kmeans.labels_"
   ]
  },
  {
   "cell_type": "code",
   "execution_count": 111,
   "id": "0f42770d",
   "metadata": {},
   "outputs": [
    {
     "name": "stdout",
     "output_type": "stream",
     "text": [
      "Size of the formed clusters\n",
      "[[    0     1     2     3     4     5     6     7     8     9]\n",
      " [26234     2     2     9     4     4     5  7829     1    18]]\n"
     ]
    }
   ],
   "source": [
    "#Finding the size of the two clusters formed\n",
    "unique_elements, counts_elements = np.unique(clustlabels, return_counts=True)\n",
    "print(\"Size of the formed clusters\")\n",
    "print(np.asarray((unique_elements, counts_elements)))"
   ]
  },
  {
   "cell_type": "code",
   "execution_count": 112,
   "id": "a5f1fe0e",
   "metadata": {},
   "outputs": [
    {
     "name": "stdout",
     "output_type": "stream",
     "text": [
      "[ 8688 32422 10730 22645  6004 13430 18624 35729  2174 10303 14059 41854\n",
      "  2294]\n"
     ]
    }
   ],
   "source": [
    "inst1=X1.index\n",
    "out11=inst1[np.where(clustlabels==1)]\n",
    "out12=inst1[np.where(clustlabels==2)]\n",
    "out13=inst1[np.where(clustlabels==4)]\n",
    "out14=inst1[np.where(clustlabels==5)]\n",
    "out15=inst1[np.where(clustlabels==8)]\n",
    "out1all=np.concatenate([out11,out12,out13,out14,out15])\n",
    "print(out1all)"
   ]
  },
  {
   "cell_type": "markdown",
   "id": "34801398",
   "metadata": {},
   "source": [
    "### Outliers in Shuttle class 1: 2174, 2294, 6004, 8688, 10303, 10730, 13430,14059, 18624, 22645,32422, 35729"
   ]
  },
  {
   "cell_type": "markdown",
   "id": "85501d41",
   "metadata": {},
   "source": [
    "### 3.4 LOF score"
   ]
  },
  {
   "cell_type": "code",
   "execution_count": 113,
   "id": "ac047122",
   "metadata": {},
   "outputs": [
    {
     "data": {
      "text/plain": [
       "[<matplotlib.lines.Line2D at 0x2948e395d30>]"
      ]
     },
     "execution_count": 113,
     "metadata": {},
     "output_type": "execute_result"
    },
    {
     "data": {
      "image/png": "[encoded data removed]",
      "text/plain": [
       "<Figure size 432x288 with 1 Axes>"
      ]
     },
     "metadata": {
      "needs_background": "light"
     },
     "output_type": "display_data"
    }
   ],
   "source": [
    "# fit the model for outlier detection (default)\n",
    "clf = LocalOutlierFactor(n_neighbors=20, contamination=0.05)\n",
    "y_pred = clf.fit_predict(X1)\n",
    "#print(np.where(y_pred==-1))\n",
    "X_scores = clf.negative_outlier_factor_\n",
    "plt.plot(X_scores)"
   ]
  },
  {
   "cell_type": "code",
   "execution_count": 114,
   "id": "85459fc5",
   "metadata": {},
   "outputs": [
    {
     "name": "stdout",
     "output_type": "stream",
     "text": [
      "2294    -101.045458\n",
      "4879     -19.011280\n",
      "10730    -38.341835\n",
      "13430    -16.050723\n",
      "14059    -21.253799\n",
      "18624    -22.854254\n",
      "22645    -33.122981\n",
      "22736    -16.835139\n",
      "28275    -19.010980\n",
      "33182    -40.304309\n",
      "35729    -22.380985\n",
      "dtype: float64\n"
     ]
    }
   ],
   "source": [
    "lofs1=pd.Series(X_scores,index=X1.index)\n",
    "outs2= lofs1[lofs1 < -15.0]\n",
    "print(outs2)"
   ]
  },
  {
   "cell_type": "code",
   "execution_count": 1,
   "id": "42b9af0d",
   "metadata": {},
   "outputs": [
    {
     "ename": "NameError",
     "evalue": "name 'LocalOutlierFactor' is not defined",
     "output_type": "error",
     "traceback": [
      "\u001b[1;31m---------------------------------------------------------------------------\u001b[0m",
      "\u001b[1;31mNameError\u001b[0m                                 Traceback (most recent call last)",
      "\u001b[1;32m<ipython-input-1-51e92b7d5caa>\u001b[0m in \u001b[0;36m<module>\u001b[1;34m\u001b[0m\n\u001b[0;32m      1\u001b[0m \u001b[1;31m# fit the model for outlier detection (default)\u001b[0m\u001b[1;33m\u001b[0m\u001b[1;33m\u001b[0m\u001b[1;33m\u001b[0m\u001b[0m\n\u001b[1;32m----> 2\u001b[1;33m \u001b[0mclf\u001b[0m \u001b[1;33m=\u001b[0m \u001b[0mLocalOutlierFactor\u001b[0m\u001b[1;33m(\u001b[0m\u001b[0mn_neighbors\u001b[0m\u001b[1;33m=\u001b[0m\u001b[1;36m20\u001b[0m\u001b[1;33m,\u001b[0m \u001b[0mcontamination\u001b[0m\u001b[1;33m=\u001b[0m\u001b[1;36m0.05\u001b[0m\u001b[1;33m)\u001b[0m\u001b[1;33m\u001b[0m\u001b[1;33m\u001b[0m\u001b[0m\n\u001b[0m\u001b[0;32m      3\u001b[0m \u001b[0my_pred\u001b[0m \u001b[1;33m=\u001b[0m \u001b[0mclf\u001b[0m\u001b[1;33m.\u001b[0m\u001b[0mfit_predict\u001b[0m\u001b[1;33m(\u001b[0m\u001b[0mX1\u001b[0m\u001b[1;33m)\u001b[0m\u001b[1;33m\u001b[0m\u001b[1;33m\u001b[0m\u001b[0m\n\u001b[0;32m      4\u001b[0m \u001b[1;31m#print(np.where(y_pred==-1))\u001b[0m\u001b[1;33m\u001b[0m\u001b[1;33m\u001b[0m\u001b[1;33m\u001b[0m\u001b[0m\n\u001b[0;32m      5\u001b[0m \u001b[0mX_scores\u001b[0m \u001b[1;33m=\u001b[0m \u001b[0mclf\u001b[0m\u001b[1;33m.\u001b[0m\u001b[0mnegative_outlier_factor_\u001b[0m\u001b[1;33m\u001b[0m\u001b[1;33m\u001b[0m\u001b[0m\n",
      "\u001b[1;31mNameError\u001b[0m: name 'LocalOutlierFactor' is not defined"
     ]
    }
   ],
   "source": [
    "# fit the model for outlier detection (default)\n",
    "clf = LocalOutlierFactor(n_neighbors=20, contamination=0.05)\n",
    "y_pred = clf.fit_predict(X1)\n",
    "#print(np.where(y_pred==-1))\n",
    "X_scores = clf.negative_outlier_factor_\n",
    "plt.plot(X_scores)"
   ]
  },
  {
   "cell_type": "code",
   "execution_count": null,
   "id": "ac3511aa",
   "metadata": {},
   "outputs": [],
   "source": []
  }
 ],
 "metadata": {
  "kernelspec": {
   "display_name": "Python 3",
   "language": "python",
   "name": "python3"
  },
  "language_info": {
   "codemirror_mode": {
    "name": "ipython",
    "version": 3
   },
   "file_extension": ".py",
   "mimetype": "text/x-python",
   "name": "python",
   "nbconvert_exporter": "python",
   "pygments_lexer": "ipython3",
   "version": "3.8.8"
  }
 },
 "nbformat": 4,
 "nbformat_minor": 5
}
