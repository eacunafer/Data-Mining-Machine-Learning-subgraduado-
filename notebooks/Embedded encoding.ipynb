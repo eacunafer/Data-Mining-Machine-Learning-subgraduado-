{
 "cells": [
  {
   "cell_type": "markdown",
   "metadata": {},
   "source": [
    "### Embeded encoding\n",
    "### Edgar Acuna\n",
    "### April 2021"
   ]
  },
  {
   "cell_type": "code",
   "execution_count": 28,
   "metadata": {},
   "outputs": [],
   "source": [
    "import tensorflow as tf\n",
    "from tensorflow import keras\n",
    "import numpy as np"
   ]
  },
  {
   "cell_type": "code",
   "execution_count": 29,
   "metadata": {},
   "outputs": [],
   "source": [
    "#Considering a dataset with 10 instances two numerical predictors  and one categorical atribute with two levels\n",
    "num_data = np.random.random(size=(10,2))\n",
    "#One categorical variables with 3 levels\n",
    "cat_data = np.array([\"red\",\"blue\",\"green\",\"red\",\"red\",\"blue\",\"blue\",\"green\",\"red\",\"red\"])"
   ]
  },
  {
   "cell_type": "code",
   "execution_count": 30,
   "metadata": {},
   "outputs": [
    {
     "data": {
      "text/plain": [
       "array([[0.50665563, 0.16679339],\n",
       "       [0.49440895, 0.50329996],\n",
       "       [0.76354096, 0.6631422 ],\n",
       "       [0.19727396, 0.87829434],\n",
       "       [0.37640743, 0.54285661],\n",
       "       [0.37735877, 0.9291872 ],\n",
       "       [0.06075348, 0.17452767],\n",
       "       [0.68869401, 0.62395586],\n",
       "       [0.18022891, 0.49286402],\n",
       "       [0.09951957, 0.98850516]])"
      ]
     },
     "execution_count": 30,
     "metadata": {},
     "output_type": "execute_result"
    }
   ],
   "source": [
    "num_data"
   ]
  },
  {
   "cell_type": "code",
   "execution_count": 31,
   "metadata": {},
   "outputs": [
    {
     "data": {
      "text/plain": [
       "array([2, 0, 1, 2, 2, 0, 0, 1, 2, 2], dtype=int64)"
      ]
     },
     "execution_count": 31,
     "metadata": {},
     "output_type": "execute_result"
    }
   ],
   "source": [
    "#Replacing the values of the categorical features by numerical values using skelearn's LabelEncoder \n",
    "#The coding is in alphabetic order\n",
    "from sklearn.preprocessing  import LabelEncoder \n",
    "lb_make = LabelEncoder()\n",
    "cat_data= lb_make.fit_transform(cat_data)\n",
    "cat_data"
   ]
  },
  {
   "cell_type": "code",
   "execution_count": 32,
   "metadata": {},
   "outputs": [
    {
     "data": {
      "text/plain": [
       "array([[0.50665563, 0.16679339, 2.        ],\n",
       "       [0.49440895, 0.50329996, 0.        ],\n",
       "       [0.76354096, 0.6631422 , 1.        ],\n",
       "       [0.19727396, 0.87829434, 2.        ],\n",
       "       [0.37640743, 0.54285661, 2.        ],\n",
       "       [0.37735877, 0.9291872 , 0.        ],\n",
       "       [0.06075348, 0.17452767, 0.        ],\n",
       "       [0.68869401, 0.62395586, 1.        ],\n",
       "       [0.18022891, 0.49286402, 2.        ],\n",
       "       [0.09951957, 0.98850516, 2.        ]])"
      ]
     },
     "execution_count": 32,
     "metadata": {},
     "output_type": "execute_result"
    }
   ],
   "source": [
    "#Original Dataset\n",
    "all=np.insert(num_data,num_data.shape[1],cat_data,1)\n",
    "all"
   ]
  },
  {
   "cell_type": "code",
   "execution_count": 33,
   "metadata": {},
   "outputs": [],
   "source": [
    "#Let's create one-hot encoded matrix for the categorical feature\n",
    "#Also it can be done with get_dummies from Pandas, Labelbinarizer and One-hot Enonder from scikit-learn\n",
    "one_hot_encoded_cat_data = np.eye(cat_data.max()+1)[cat_data]"
   ]
  },
  {
   "cell_type": "code",
   "execution_count": 34,
   "metadata": {},
   "outputs": [
    {
     "data": {
      "text/plain": [
       "array([[0., 0., 1.],\n",
       "       [1., 0., 0.],\n",
       "       [0., 1., 0.],\n",
       "       [0., 0., 1.],\n",
       "       [0., 0., 1.],\n",
       "       [1., 0., 0.],\n",
       "       [1., 0., 0.],\n",
       "       [0., 1., 0.],\n",
       "       [0., 0., 1.],\n",
       "       [0., 0., 1.]])"
      ]
     },
     "execution_count": 34,
     "metadata": {},
     "output_type": "execute_result"
    }
   ],
   "source": [
    "one_hot_encoded_cat_data "
   ]
  },
  {
   "cell_type": "code",
   "execution_count": 35,
   "metadata": {},
   "outputs": [],
   "source": [
    "#Let us consider a target attribute\n",
    "target =[0,1,1,1,1,0,1,1,1,0]\n",
    "target=np.array(target)"
   ]
  },
  {
   "cell_type": "code",
   "execution_count": 36,
   "metadata": {},
   "outputs": [
    {
     "data": {
      "text/plain": [
       "2"
      ]
     },
     "execution_count": 36,
     "metadata": {},
     "output_type": "execute_result"
    }
   ],
   "source": [
    "#This is the suggested  embedding size \n",
    "no_of_unique_cat  = len(np.unique(cat_data))\n",
    "#embedding size = min(50, number of categories/2).\n",
    "embedding_size = min(np.ceil((no_of_unique_cat)/2), 50 )\n",
    "embedding_size = int(embedding_size)\n",
    "embedding_size"
   ]
  },
  {
   "cell_type": "code",
   "execution_count": 37,
   "metadata": {},
   "outputs": [],
   "source": [
    "# Use Input layers, specify input shape (dimensions except first)\n",
    "inp_cat_data = keras.layers.Input(shape=(no_of_unique_cat,))\n",
    "inp_num_data = keras.layers.Input(shape=(num_data.shape[1],))\n",
    "# Bind nulti_hot to embedding layer\n",
    "emb = keras.layers.Embedding(input_dim=no_of_unique_cat, output_dim=embedding_size)(inp_cat_data)  \n",
    "# Also you need flatten embedded output-\n",
    "# otherwise it's not possible to concatenate it with inp_num_data\n",
    "flatten = keras.layers.Flatten()(emb)\n",
    "# Concatenate two layers\n",
    "conc = keras.layers.Concatenate()([flatten, inp_num_data])\n",
    "dense1 = keras.layers.Dense(3, activation=tf.nn.relu, )(conc)\n",
    "# Creating output layer\n",
    "out = keras.layers.Dense(1, activation=None)(dense1)\n",
    "model = keras.Model(inputs=[inp_cat_data, inp_num_data], outputs=out)"
   ]
  },
  {
   "cell_type": "code",
   "execution_count": 38,
   "metadata": {},
   "outputs": [
    {
     "name": "stdout",
     "output_type": "stream",
     "text": [
      "Model: \"model_2\"\n",
      "__________________________________________________________________________________________________\n",
      "Layer (type)                    Output Shape         Param #     Connected to                     \n",
      "==================================================================================================\n",
      "input_5 (InputLayer)            [(None, 3)]          0                                            \n",
      "__________________________________________________________________________________________________\n",
      "embedding_2 (Embedding)         (None, 3, 2)         6           input_5[0][0]                    \n",
      "__________________________________________________________________________________________________\n",
      "flatten_2 (Flatten)             (None, 6)            0           embedding_2[0][0]                \n",
      "__________________________________________________________________________________________________\n",
      "input_6 (InputLayer)            [(None, 2)]          0                                            \n",
      "__________________________________________________________________________________________________\n",
      "concatenate_2 (Concatenate)     (None, 8)            0           flatten_2[0][0]                  \n",
      "                                                                 input_6[0][0]                    \n",
      "__________________________________________________________________________________________________\n",
      "dense_4 (Dense)                 (None, 3)            27          concatenate_2[0][0]              \n",
      "__________________________________________________________________________________________________\n",
      "dense_5 (Dense)                 (None, 1)            4           dense_4[0][0]                    \n",
      "==================================================================================================\n",
      "Total params: 37\n",
      "Trainable params: 37\n",
      "Non-trainable params: 0\n",
      "__________________________________________________________________________________________________\n"
     ]
    }
   ],
   "source": [
    "model.summary()"
   ]
  },
  {
   "cell_type": "code",
   "execution_count": 39,
   "metadata": {},
   "outputs": [],
   "source": [
    "model.compile(optimizer=tf.compat.v1.train.AdamOptimizer(0.01),\n",
    "              loss=keras.losses.mean_squared_error,\n",
    "              metrics=[keras.metrics.mean_squared_error])"
   ]
  },
  {
   "cell_type": "code",
   "execution_count": 40,
   "metadata": {},
   "outputs": [
    {
     "name": "stdout",
     "output_type": "stream",
     "text": [
      "1/1 [==============================] - 1s 989ms/step - loss: 0.6404 - mean_squared_error: 0.6404\n"
     ]
    },
    {
     "data": {
      "text/plain": [
       "array([[ 0.02476754, -0.04037877],\n",
       "       [ 0.01742877, -0.00326428],\n",
       "       [ 0.03906897,  0.03461203]], dtype=float32)"
      ]
     },
     "execution_count": 40,
     "metadata": {},
     "output_type": "execute_result"
    }
   ],
   "source": [
    "#Finding out the weights for each value of the categorical variable\n",
    "model.fit([one_hot_encoded_cat_data, num_data], target)\n",
    "model.layers[1].get_weights()[0]"
   ]
  },
  {
   "cell_type": "code",
   "execution_count": 41,
   "metadata": {},
   "outputs": [
    {
     "data": {
      "text/plain": [
       "array([[-0.022, -0.012],\n",
       "       [-0.022,  0.047],\n",
       "       [-0.023,  0.038],\n",
       "       [-0.022, -0.012],\n",
       "       [-0.022, -0.012],\n",
       "       [-0.022,  0.047],\n",
       "       [-0.022,  0.047],\n",
       "       [-0.023,  0.038],\n",
       "       [-0.022, -0.012],\n",
       "       [-0.022, -0.012]])"
      ]
     },
     "execution_count": 41,
     "metadata": {},
     "output_type": "execute_result"
    }
   ],
   "source": [
    "#Obtaining the transformed representation of the categorial feature\n",
    "idx0=np.argwhere(cat_data==0)\n",
    "idx1=np.argwhere(cat_data==1)\n",
    "idx2=np.argwhere(cat_data==2)\n",
    "newcode=np.zeros((10,2))\n",
    "newcode[idx0,]=[-0.022, 0.047]\n",
    "newcode[idx1,]=[-0.023, 0.038]\n",
    "newcode[idx2,]=[-0.022,  -0.012]\n",
    "newcode"
   ]
  },
  {
   "cell_type": "code",
   "execution_count": 42,
   "metadata": {},
   "outputs": [
    {
     "data": {
      "text/plain": [
       "array([[ 0.50665563,  0.16679339, -0.022     , -0.012     ],\n",
       "       [ 0.49440895,  0.50329996, -0.022     ,  0.047     ],\n",
       "       [ 0.76354096,  0.6631422 , -0.023     ,  0.038     ],\n",
       "       [ 0.19727396,  0.87829434, -0.022     , -0.012     ],\n",
       "       [ 0.37640743,  0.54285661, -0.022     , -0.012     ],\n",
       "       [ 0.37735877,  0.9291872 , -0.022     ,  0.047     ],\n",
       "       [ 0.06075348,  0.17452767, -0.022     ,  0.047     ],\n",
       "       [ 0.68869401,  0.62395586, -0.023     ,  0.038     ],\n",
       "       [ 0.18022891,  0.49286402, -0.022     , -0.012     ],\n",
       "       [ 0.09951957,  0.98850516, -0.022     , -0.012     ]])"
      ]
     },
     "execution_count": 42,
     "metadata": {},
     "output_type": "execute_result"
    }
   ],
   "source": [
    "#Trnasformed dataset\n",
    "all1=np.insert(num_data,num_data.shape[1],np.transpose(newcode),1)\n",
    "all1"
   ]
  },
  {
   "cell_type": "markdown",
   "metadata": {},
   "source": [
    "### Embedded encoding and Decisio Tree Classifier applied to the loan dataset"
   ]
  },
  {
   "cell_type": "code",
   "execution_count": 43,
   "metadata": {},
   "outputs": [
    {
     "data": {
      "text/html": [
       "<div>\n",
       "<style scoped>\n",
       "    .dataframe tbody tr th:only-of-type {\n",
       "        vertical-align: middle;\n",
       "    }\n",
       "\n",
       "    .dataframe tbody tr th {\n",
       "        vertical-align: top;\n",
       "    }\n",
       "\n",
       "    .dataframe thead th {\n",
       "        text-align: right;\n",
       "    }\n",
       "</style>\n",
       "<table border=\"1\" class=\"dataframe\">\n",
       "  <thead>\n",
       "    <tr style=\"text-align: right;\">\n",
       "      <th></th>\n",
       "      <th>Sexo</th>\n",
       "      <th>Familia</th>\n",
       "      <th>CasPropia</th>\n",
       "      <th>AnosEmpleo</th>\n",
       "      <th>Sueldo</th>\n",
       "    </tr>\n",
       "  </thead>\n",
       "  <tbody>\n",
       "    <tr>\n",
       "      <th>0</th>\n",
       "      <td>0</td>\n",
       "      <td>3</td>\n",
       "      <td>0</td>\n",
       "      <td>17</td>\n",
       "      <td>2500</td>\n",
       "    </tr>\n",
       "    <tr>\n",
       "      <th>1</th>\n",
       "      <td>1</td>\n",
       "      <td>5</td>\n",
       "      <td>1</td>\n",
       "      <td>10</td>\n",
       "      <td>3000</td>\n",
       "    </tr>\n",
       "    <tr>\n",
       "      <th>2</th>\n",
       "      <td>1</td>\n",
       "      <td>4</td>\n",
       "      <td>0</td>\n",
       "      <td>15</td>\n",
       "      <td>2000</td>\n",
       "    </tr>\n",
       "    <tr>\n",
       "      <th>3</th>\n",
       "      <td>0</td>\n",
       "      <td>3</td>\n",
       "      <td>1</td>\n",
       "      <td>16</td>\n",
       "      <td>2800</td>\n",
       "    </tr>\n",
       "    <tr>\n",
       "      <th>4</th>\n",
       "      <td>0</td>\n",
       "      <td>6</td>\n",
       "      <td>1</td>\n",
       "      <td>11</td>\n",
       "      <td>4000</td>\n",
       "    </tr>\n",
       "    <tr>\n",
       "      <th>5</th>\n",
       "      <td>1</td>\n",
       "      <td>4</td>\n",
       "      <td>1</td>\n",
       "      <td>26</td>\n",
       "      <td>3200</td>\n",
       "    </tr>\n",
       "    <tr>\n",
       "      <th>6</th>\n",
       "      <td>1</td>\n",
       "      <td>2</td>\n",
       "      <td>1</td>\n",
       "      <td>14</td>\n",
       "      <td>1800</td>\n",
       "    </tr>\n",
       "    <tr>\n",
       "      <th>7</th>\n",
       "      <td>0</td>\n",
       "      <td>5</td>\n",
       "      <td>1</td>\n",
       "      <td>10</td>\n",
       "      <td>3750</td>\n",
       "    </tr>\n",
       "    <tr>\n",
       "      <th>8</th>\n",
       "      <td>0</td>\n",
       "      <td>6</td>\n",
       "      <td>0</td>\n",
       "      <td>18</td>\n",
       "      <td>2970</td>\n",
       "    </tr>\n",
       "    <tr>\n",
       "      <th>9</th>\n",
       "      <td>0</td>\n",
       "      <td>4</td>\n",
       "      <td>1</td>\n",
       "      <td>12</td>\n",
       "      <td>3350</td>\n",
       "    </tr>\n",
       "    <tr>\n",
       "      <th>10</th>\n",
       "      <td>0</td>\n",
       "      <td>1</td>\n",
       "      <td>0</td>\n",
       "      <td>23</td>\n",
       "      <td>1950</td>\n",
       "    </tr>\n",
       "    <tr>\n",
       "      <th>11</th>\n",
       "      <td>1</td>\n",
       "      <td>2</td>\n",
       "      <td>1</td>\n",
       "      <td>25</td>\n",
       "      <td>2740</td>\n",
       "    </tr>\n",
       "    <tr>\n",
       "      <th>12</th>\n",
       "      <td>1</td>\n",
       "      <td>3</td>\n",
       "      <td>0</td>\n",
       "      <td>7</td>\n",
       "      <td>3100</td>\n",
       "    </tr>\n",
       "    <tr>\n",
       "      <th>13</th>\n",
       "      <td>0</td>\n",
       "      <td>5</td>\n",
       "      <td>1</td>\n",
       "      <td>5</td>\n",
       "      <td>3845</td>\n",
       "    </tr>\n",
       "    <tr>\n",
       "      <th>14</th>\n",
       "      <td>0</td>\n",
       "      <td>3</td>\n",
       "      <td>0</td>\n",
       "      <td>13</td>\n",
       "      <td>3200</td>\n",
       "    </tr>\n",
       "    <tr>\n",
       "      <th>15</th>\n",
       "      <td>1</td>\n",
       "      <td>3</td>\n",
       "      <td>1</td>\n",
       "      <td>9</td>\n",
       "      <td>2800</td>\n",
       "    </tr>\n",
       "    <tr>\n",
       "      <th>16</th>\n",
       "      <td>0</td>\n",
       "      <td>2</td>\n",
       "      <td>0</td>\n",
       "      <td>6</td>\n",
       "      <td>3200</td>\n",
       "    </tr>\n",
       "    <tr>\n",
       "      <th>17</th>\n",
       "      <td>0</td>\n",
       "      <td>3</td>\n",
       "      <td>1</td>\n",
       "      <td>7</td>\n",
       "      <td>3815</td>\n",
       "    </tr>\n",
       "    <tr>\n",
       "      <th>18</th>\n",
       "      <td>1</td>\n",
       "      <td>2</td>\n",
       "      <td>1</td>\n",
       "      <td>11</td>\n",
       "      <td>2980</td>\n",
       "    </tr>\n",
       "    <tr>\n",
       "      <th>19</th>\n",
       "      <td>0</td>\n",
       "      <td>4</td>\n",
       "      <td>1</td>\n",
       "      <td>15</td>\n",
       "      <td>2850</td>\n",
       "    </tr>\n",
       "    <tr>\n",
       "      <th>20</th>\n",
       "      <td>1</td>\n",
       "      <td>1</td>\n",
       "      <td>0</td>\n",
       "      <td>6</td>\n",
       "      <td>3125</td>\n",
       "    </tr>\n",
       "    <tr>\n",
       "      <th>21</th>\n",
       "      <td>0</td>\n",
       "      <td>1</td>\n",
       "      <td>0</td>\n",
       "      <td>8</td>\n",
       "      <td>3500</td>\n",
       "    </tr>\n",
       "    <tr>\n",
       "      <th>22</th>\n",
       "      <td>0</td>\n",
       "      <td>4</td>\n",
       "      <td>0</td>\n",
       "      <td>22</td>\n",
       "      <td>4500</td>\n",
       "    </tr>\n",
       "    <tr>\n",
       "      <th>23</th>\n",
       "      <td>0</td>\n",
       "      <td>2</td>\n",
       "      <td>1</td>\n",
       "      <td>10</td>\n",
       "      <td>3200</td>\n",
       "    </tr>\n",
       "    <tr>\n",
       "      <th>24</th>\n",
       "      <td>0</td>\n",
       "      <td>3</td>\n",
       "      <td>1</td>\n",
       "      <td>9</td>\n",
       "      <td>3000</td>\n",
       "    </tr>\n",
       "  </tbody>\n",
       "</table>\n",
       "</div>"
      ],
      "text/plain": [
       "    Sexo  Familia  CasPropia  AnosEmpleo  Sueldo\n",
       "0      0        3          0          17    2500\n",
       "1      1        5          1          10    3000\n",
       "2      1        4          0          15    2000\n",
       "3      0        3          1          16    2800\n",
       "4      0        6          1          11    4000\n",
       "5      1        4          1          26    3200\n",
       "6      1        2          1          14    1800\n",
       "7      0        5          1          10    3750\n",
       "8      0        6          0          18    2970\n",
       "9      0        4          1          12    3350\n",
       "10     0        1          0          23    1950\n",
       "11     1        2          1          25    2740\n",
       "12     1        3          0           7    3100\n",
       "13     0        5          1           5    3845\n",
       "14     0        3          0          13    3200\n",
       "15     1        3          1           9    2800\n",
       "16     0        2          0           6    3200\n",
       "17     0        3          1           7    3815\n",
       "18     1        2          1          11    2980\n",
       "19     0        4          1          15    2850\n",
       "20     1        1          0           6    3125\n",
       "21     0        1          0           8    3500\n",
       "22     0        4          0          22    4500\n",
       "23     0        2          1          10    3200\n",
       "24     0        3          1           9    3000"
      ]
     },
     "execution_count": 43,
     "metadata": {},
     "output_type": "execute_result"
    }
   ],
   "source": [
    "import pandas as pd\n",
    "df = pd.read_csv(\"https://academic.uprm.edu/eacuna/datosarbol.csv\")\n",
    "y=df['Prestamo']\n",
    "data=df.iloc[:,0:6]\n",
    "#Codificando 0-1 las Variables Sexo y CasPropia\n",
    "lb_make = LabelEncoder()\n",
    "data[\"Sexo\"] = lb_make.fit_transform(data[\"Sexo\"])\n",
    "data['CasPropia']=lb_make.fit_transform(data[\"CasPropia\"])\n",
    "data1=data['StatustMarital']\n",
    "#Aplicando OneHot encoding a la predictora StatustMarital\n",
    "data2=pd.get_dummies(data1,prefix=['StatustMarital'])\n",
    "data3=pd.concat([data.iloc[:,0:5],data2],axis=1)\n",
    "y2=lb_make.fit_transform(y)\n",
    "num_data1=data.iloc[:,0:5]\n",
    "num_data1"
   ]
  },
  {
   "cell_type": "code",
   "execution_count": 44,
   "metadata": {},
   "outputs": [
    {
     "data": {
      "text/plain": [
       "array([2, 0, 3, 2, 3, 2, 2, 0, 1, 1, 2, 2, 2, 1, 0, 2, 2, 3, 1, 3, 1, 2,\n",
       "       1, 0, 0])"
      ]
     },
     "execution_count": 44,
     "metadata": {},
     "output_type": "execute_result"
    }
   ],
   "source": [
    "cat_data1= lb_make.fit_transform(data1)\n",
    "cat_data1"
   ]
  },
  {
   "cell_type": "code",
   "execution_count": 45,
   "metadata": {},
   "outputs": [],
   "source": [
    "one_hot_encoded_cat_data1 = np.eye(cat_data1.max()+1)[cat_data1]"
   ]
  },
  {
   "cell_type": "code",
   "execution_count": 46,
   "metadata": {},
   "outputs": [
    {
     "data": {
      "text/plain": [
       "array([[0., 0., 1., 0.],\n",
       "       [1., 0., 0., 0.],\n",
       "       [0., 0., 0., 1.],\n",
       "       [0., 0., 1., 0.],\n",
       "       [0., 0., 0., 1.],\n",
       "       [0., 0., 1., 0.],\n",
       "       [0., 0., 1., 0.],\n",
       "       [1., 0., 0., 0.],\n",
       "       [0., 1., 0., 0.],\n",
       "       [0., 1., 0., 0.],\n",
       "       [0., 0., 1., 0.],\n",
       "       [0., 0., 1., 0.],\n",
       "       [0., 0., 1., 0.],\n",
       "       [0., 1., 0., 0.],\n",
       "       [1., 0., 0., 0.],\n",
       "       [0., 0., 1., 0.],\n",
       "       [0., 0., 1., 0.],\n",
       "       [0., 0., 0., 1.],\n",
       "       [0., 1., 0., 0.],\n",
       "       [0., 0., 0., 1.],\n",
       "       [0., 1., 0., 0.],\n",
       "       [0., 0., 1., 0.],\n",
       "       [0., 1., 0., 0.],\n",
       "       [1., 0., 0., 0.],\n",
       "       [1., 0., 0., 0.]])"
      ]
     },
     "execution_count": 46,
     "metadata": {},
     "output_type": "execute_result"
    }
   ],
   "source": [
    "one_hot_encoded_cat_data1 "
   ]
  },
  {
   "cell_type": "code",
   "execution_count": 47,
   "metadata": {},
   "outputs": [
    {
     "data": {
      "text/plain": [
       "2"
      ]
     },
     "execution_count": 47,
     "metadata": {},
     "output_type": "execute_result"
    }
   ],
   "source": [
    "#This is the suggested  embedding size \n",
    "no_of_unique_cat1  = len(np.unique(cat_data1))\n",
    "#embedding size = min(50, number of categories/2).\n",
    "embedding_size1= min(np.ceil((no_of_unique_cat1)/2), 50 )\n",
    "embedding_size1 = int(embedding_size1)\n",
    "embedding_size1"
   ]
  },
  {
   "cell_type": "code",
   "execution_count": 48,
   "metadata": {},
   "outputs": [
    {
     "name": "stdout",
     "output_type": "stream",
     "text": [
      "Model: \"model_3\"\n",
      "__________________________________________________________________________________________________\n",
      "Layer (type)                    Output Shape         Param #     Connected to                     \n",
      "==================================================================================================\n",
      "input_7 (InputLayer)            [(None, 4)]          0                                            \n",
      "__________________________________________________________________________________________________\n",
      "embedding_3 (Embedding)         (None, 4, 2)         8           input_7[0][0]                    \n",
      "__________________________________________________________________________________________________\n",
      "flatten_3 (Flatten)             (None, 8)            0           embedding_3[0][0]                \n",
      "__________________________________________________________________________________________________\n",
      "input_8 (InputLayer)            [(None, 5)]          0                                            \n",
      "__________________________________________________________________________________________________\n",
      "concatenate_3 (Concatenate)     (None, 13)           0           flatten_3[0][0]                  \n",
      "                                                                 input_8[0][0]                    \n",
      "__________________________________________________________________________________________________\n",
      "dense_6 (Dense)                 (None, 3)            42          concatenate_3[0][0]              \n",
      "__________________________________________________________________________________________________\n",
      "dense_7 (Dense)                 (None, 1)            4           dense_6[0][0]                    \n",
      "==================================================================================================\n",
      "Total params: 54\n",
      "Trainable params: 54\n",
      "Non-trainable params: 0\n",
      "__________________________________________________________________________________________________\n"
     ]
    }
   ],
   "source": [
    "# Use Input layers, specify input shape (dimensions except first)\n",
    "inp_cat_data1 = keras.layers.Input(shape=(no_of_unique_cat1,))\n",
    "inp_num_data1 = keras.layers.Input(shape=(num_data1.shape[1],))\n",
    "# Bind nulti_hot to embedding layer\n",
    "emb = keras.layers.Embedding(input_dim=no_of_unique_cat1, output_dim=embedding_size1)(inp_cat_data1)  \n",
    "# Also you need flatten embedded output-\n",
    "# otherwise it's not possible to concatenate it with inp_num_data\n",
    "flatten = keras.layers.Flatten()(emb)\n",
    "# Concatenate two layers\n",
    "conc = keras.layers.Concatenate()([flatten, inp_num_data1])\n",
    "dense1 = keras.layers.Dense(3, activation=tf.nn.relu, )(conc)\n",
    "# Creating output layer\n",
    "out = keras.layers.Dense(1, activation=None)(dense1)\n",
    "model = keras.Model(inputs=[inp_cat_data1, inp_num_data1], outputs=out)\n",
    "model.summary()"
   ]
  },
  {
   "cell_type": "code",
   "execution_count": 49,
   "metadata": {},
   "outputs": [],
   "source": [
    "model.compile(optimizer=tf.compat.v1.train.AdamOptimizer(0.01),\n",
    "              loss=keras.losses.mean_squared_error,\n",
    "              metrics=[keras.metrics.mean_squared_error])"
   ]
  },
  {
   "cell_type": "code",
   "execution_count": 50,
   "metadata": {},
   "outputs": [
    {
     "name": "stdout",
     "output_type": "stream",
     "text": [
      "1/1 [==============================] - 1s 1s/step - loss: 4414403.5000 - mean_squared_error: 4414403.5000\n"
     ]
    },
    {
     "data": {
      "text/plain": [
       "array([[ 0.01868919,  0.05698363],\n",
       "       [ 0.0095146 , -0.02859114],\n",
       "       [-0.00357276,  0.00784882],\n",
       "       [ 0.00629258,  0.03885097]], dtype=float32)"
      ]
     },
     "execution_count": 50,
     "metadata": {},
     "output_type": "execute_result"
    }
   ],
   "source": [
    "#Finding out the weights for each value of the categorical variable\n",
    "model.fit([one_hot_encoded_cat_data1, num_data1], y2)\n",
    "model.layers[1].get_weights()[0]"
   ]
  },
  {
   "cell_type": "code",
   "execution_count": 51,
   "metadata": {},
   "outputs": [
    {
     "data": {
      "text/plain": [
       "array([[-0.0497, -0.011 ],\n",
       "       [ 0.0478, -0.0047],\n",
       "       [-0.045 ,  0.0063],\n",
       "       [-0.0497, -0.011 ],\n",
       "       [-0.045 ,  0.0063],\n",
       "       [-0.0497, -0.011 ],\n",
       "       [-0.0497, -0.011 ],\n",
       "       [ 0.0478, -0.0047],\n",
       "       [-0.0084,  0.0283],\n",
       "       [-0.0084,  0.0283],\n",
       "       [-0.0497, -0.011 ],\n",
       "       [-0.0497, -0.011 ],\n",
       "       [-0.0497, -0.011 ],\n",
       "       [-0.0084,  0.0283],\n",
       "       [ 0.0478, -0.0047],\n",
       "       [-0.0497, -0.011 ],\n",
       "       [-0.0497, -0.011 ],\n",
       "       [-0.045 ,  0.0063],\n",
       "       [-0.0084,  0.0283],\n",
       "       [-0.045 ,  0.0063],\n",
       "       [-0.0084,  0.0283],\n",
       "       [-0.0497, -0.011 ],\n",
       "       [-0.0084,  0.0283],\n",
       "       [ 0.0478, -0.0047],\n",
       "       [ 0.0478, -0.0047]])"
      ]
     },
     "execution_count": 51,
     "metadata": {},
     "output_type": "execute_result"
    }
   ],
   "source": [
    "#Obtaining the transformed representation of the categorial feature\n",
    "idx0=np.argwhere(cat_data1==0)\n",
    "idx1=np.argwhere(cat_data1==1)\n",
    "idx2=np.argwhere(cat_data1==2)\n",
    "idx3=np.argwhere(cat_data1==3)\n",
    "newcode1=np.zeros((25,2))\n",
    "newcode1[idx0,]=[0.0478, -0.0047]\n",
    "newcode1[idx1,]=[-0.0084, 0.0283]\n",
    "newcode1[idx2,]=[-0.0497,  -0.011]\n",
    "newcode1[idx3,]=[-.0450,   0.0063]\n",
    "newcode1"
   ]
  },
  {
   "cell_type": "code",
   "execution_count": 52,
   "metadata": {},
   "outputs": [
    {
     "data": {
      "text/html": [
       "<div>\n",
       "<style scoped>\n",
       "    .dataframe tbody tr th:only-of-type {\n",
       "        vertical-align: middle;\n",
       "    }\n",
       "\n",
       "    .dataframe tbody tr th {\n",
       "        vertical-align: top;\n",
       "    }\n",
       "\n",
       "    .dataframe thead th {\n",
       "        text-align: right;\n",
       "    }\n",
       "</style>\n",
       "<table border=\"1\" class=\"dataframe\">\n",
       "  <thead>\n",
       "    <tr style=\"text-align: right;\">\n",
       "      <th></th>\n",
       "      <th>Sexo</th>\n",
       "      <th>Familia</th>\n",
       "      <th>CasPropia</th>\n",
       "      <th>AnosEmpleo</th>\n",
       "      <th>Sueldo</th>\n",
       "      <th>w1</th>\n",
       "      <th>w2</th>\n",
       "    </tr>\n",
       "  </thead>\n",
       "  <tbody>\n",
       "    <tr>\n",
       "      <th>0</th>\n",
       "      <td>0</td>\n",
       "      <td>3</td>\n",
       "      <td>0</td>\n",
       "      <td>17</td>\n",
       "      <td>2500</td>\n",
       "      <td>-0.0497</td>\n",
       "      <td>-0.0110</td>\n",
       "    </tr>\n",
       "    <tr>\n",
       "      <th>1</th>\n",
       "      <td>1</td>\n",
       "      <td>5</td>\n",
       "      <td>1</td>\n",
       "      <td>10</td>\n",
       "      <td>3000</td>\n",
       "      <td>0.0478</td>\n",
       "      <td>-0.0047</td>\n",
       "    </tr>\n",
       "    <tr>\n",
       "      <th>2</th>\n",
       "      <td>1</td>\n",
       "      <td>4</td>\n",
       "      <td>0</td>\n",
       "      <td>15</td>\n",
       "      <td>2000</td>\n",
       "      <td>-0.0450</td>\n",
       "      <td>0.0063</td>\n",
       "    </tr>\n",
       "    <tr>\n",
       "      <th>3</th>\n",
       "      <td>0</td>\n",
       "      <td>3</td>\n",
       "      <td>1</td>\n",
       "      <td>16</td>\n",
       "      <td>2800</td>\n",
       "      <td>-0.0497</td>\n",
       "      <td>-0.0110</td>\n",
       "    </tr>\n",
       "    <tr>\n",
       "      <th>4</th>\n",
       "      <td>0</td>\n",
       "      <td>6</td>\n",
       "      <td>1</td>\n",
       "      <td>11</td>\n",
       "      <td>4000</td>\n",
       "      <td>-0.0450</td>\n",
       "      <td>0.0063</td>\n",
       "    </tr>\n",
       "    <tr>\n",
       "      <th>5</th>\n",
       "      <td>1</td>\n",
       "      <td>4</td>\n",
       "      <td>1</td>\n",
       "      <td>26</td>\n",
       "      <td>3200</td>\n",
       "      <td>-0.0497</td>\n",
       "      <td>-0.0110</td>\n",
       "    </tr>\n",
       "    <tr>\n",
       "      <th>6</th>\n",
       "      <td>1</td>\n",
       "      <td>2</td>\n",
       "      <td>1</td>\n",
       "      <td>14</td>\n",
       "      <td>1800</td>\n",
       "      <td>-0.0497</td>\n",
       "      <td>-0.0110</td>\n",
       "    </tr>\n",
       "    <tr>\n",
       "      <th>7</th>\n",
       "      <td>0</td>\n",
       "      <td>5</td>\n",
       "      <td>1</td>\n",
       "      <td>10</td>\n",
       "      <td>3750</td>\n",
       "      <td>0.0478</td>\n",
       "      <td>-0.0047</td>\n",
       "    </tr>\n",
       "    <tr>\n",
       "      <th>8</th>\n",
       "      <td>0</td>\n",
       "      <td>6</td>\n",
       "      <td>0</td>\n",
       "      <td>18</td>\n",
       "      <td>2970</td>\n",
       "      <td>-0.0084</td>\n",
       "      <td>0.0283</td>\n",
       "    </tr>\n",
       "    <tr>\n",
       "      <th>9</th>\n",
       "      <td>0</td>\n",
       "      <td>4</td>\n",
       "      <td>1</td>\n",
       "      <td>12</td>\n",
       "      <td>3350</td>\n",
       "      <td>-0.0084</td>\n",
       "      <td>0.0283</td>\n",
       "    </tr>\n",
       "    <tr>\n",
       "      <th>10</th>\n",
       "      <td>0</td>\n",
       "      <td>1</td>\n",
       "      <td>0</td>\n",
       "      <td>23</td>\n",
       "      <td>1950</td>\n",
       "      <td>-0.0497</td>\n",
       "      <td>-0.0110</td>\n",
       "    </tr>\n",
       "    <tr>\n",
       "      <th>11</th>\n",
       "      <td>1</td>\n",
       "      <td>2</td>\n",
       "      <td>1</td>\n",
       "      <td>25</td>\n",
       "      <td>2740</td>\n",
       "      <td>-0.0497</td>\n",
       "      <td>-0.0110</td>\n",
       "    </tr>\n",
       "    <tr>\n",
       "      <th>12</th>\n",
       "      <td>1</td>\n",
       "      <td>3</td>\n",
       "      <td>0</td>\n",
       "      <td>7</td>\n",
       "      <td>3100</td>\n",
       "      <td>-0.0497</td>\n",
       "      <td>-0.0110</td>\n",
       "    </tr>\n",
       "    <tr>\n",
       "      <th>13</th>\n",
       "      <td>0</td>\n",
       "      <td>5</td>\n",
       "      <td>1</td>\n",
       "      <td>5</td>\n",
       "      <td>3845</td>\n",
       "      <td>-0.0084</td>\n",
       "      <td>0.0283</td>\n",
       "    </tr>\n",
       "    <tr>\n",
       "      <th>14</th>\n",
       "      <td>0</td>\n",
       "      <td>3</td>\n",
       "      <td>0</td>\n",
       "      <td>13</td>\n",
       "      <td>3200</td>\n",
       "      <td>0.0478</td>\n",
       "      <td>-0.0047</td>\n",
       "    </tr>\n",
       "    <tr>\n",
       "      <th>15</th>\n",
       "      <td>1</td>\n",
       "      <td>3</td>\n",
       "      <td>1</td>\n",
       "      <td>9</td>\n",
       "      <td>2800</td>\n",
       "      <td>-0.0497</td>\n",
       "      <td>-0.0110</td>\n",
       "    </tr>\n",
       "    <tr>\n",
       "      <th>16</th>\n",
       "      <td>0</td>\n",
       "      <td>2</td>\n",
       "      <td>0</td>\n",
       "      <td>6</td>\n",
       "      <td>3200</td>\n",
       "      <td>-0.0497</td>\n",
       "      <td>-0.0110</td>\n",
       "    </tr>\n",
       "    <tr>\n",
       "      <th>17</th>\n",
       "      <td>0</td>\n",
       "      <td>3</td>\n",
       "      <td>1</td>\n",
       "      <td>7</td>\n",
       "      <td>3815</td>\n",
       "      <td>-0.0450</td>\n",
       "      <td>0.0063</td>\n",
       "    </tr>\n",
       "    <tr>\n",
       "      <th>18</th>\n",
       "      <td>1</td>\n",
       "      <td>2</td>\n",
       "      <td>1</td>\n",
       "      <td>11</td>\n",
       "      <td>2980</td>\n",
       "      <td>-0.0084</td>\n",
       "      <td>0.0283</td>\n",
       "    </tr>\n",
       "    <tr>\n",
       "      <th>19</th>\n",
       "      <td>0</td>\n",
       "      <td>4</td>\n",
       "      <td>1</td>\n",
       "      <td>15</td>\n",
       "      <td>2850</td>\n",
       "      <td>-0.0450</td>\n",
       "      <td>0.0063</td>\n",
       "    </tr>\n",
       "    <tr>\n",
       "      <th>20</th>\n",
       "      <td>1</td>\n",
       "      <td>1</td>\n",
       "      <td>0</td>\n",
       "      <td>6</td>\n",
       "      <td>3125</td>\n",
       "      <td>-0.0084</td>\n",
       "      <td>0.0283</td>\n",
       "    </tr>\n",
       "    <tr>\n",
       "      <th>21</th>\n",
       "      <td>0</td>\n",
       "      <td>1</td>\n",
       "      <td>0</td>\n",
       "      <td>8</td>\n",
       "      <td>3500</td>\n",
       "      <td>-0.0497</td>\n",
       "      <td>-0.0110</td>\n",
       "    </tr>\n",
       "    <tr>\n",
       "      <th>22</th>\n",
       "      <td>0</td>\n",
       "      <td>4</td>\n",
       "      <td>0</td>\n",
       "      <td>22</td>\n",
       "      <td>4500</td>\n",
       "      <td>-0.0084</td>\n",
       "      <td>0.0283</td>\n",
       "    </tr>\n",
       "    <tr>\n",
       "      <th>23</th>\n",
       "      <td>0</td>\n",
       "      <td>2</td>\n",
       "      <td>1</td>\n",
       "      <td>10</td>\n",
       "      <td>3200</td>\n",
       "      <td>0.0478</td>\n",
       "      <td>-0.0047</td>\n",
       "    </tr>\n",
       "    <tr>\n",
       "      <th>24</th>\n",
       "      <td>0</td>\n",
       "      <td>3</td>\n",
       "      <td>1</td>\n",
       "      <td>9</td>\n",
       "      <td>3000</td>\n",
       "      <td>0.0478</td>\n",
       "      <td>-0.0047</td>\n",
       "    </tr>\n",
       "  </tbody>\n",
       "</table>\n",
       "</div>"
      ],
      "text/plain": [
       "    Sexo  Familia  CasPropia  AnosEmpleo  Sueldo      w1      w2\n",
       "0      0        3          0          17    2500 -0.0497 -0.0110\n",
       "1      1        5          1          10    3000  0.0478 -0.0047\n",
       "2      1        4          0          15    2000 -0.0450  0.0063\n",
       "3      0        3          1          16    2800 -0.0497 -0.0110\n",
       "4      0        6          1          11    4000 -0.0450  0.0063\n",
       "5      1        4          1          26    3200 -0.0497 -0.0110\n",
       "6      1        2          1          14    1800 -0.0497 -0.0110\n",
       "7      0        5          1          10    3750  0.0478 -0.0047\n",
       "8      0        6          0          18    2970 -0.0084  0.0283\n",
       "9      0        4          1          12    3350 -0.0084  0.0283\n",
       "10     0        1          0          23    1950 -0.0497 -0.0110\n",
       "11     1        2          1          25    2740 -0.0497 -0.0110\n",
       "12     1        3          0           7    3100 -0.0497 -0.0110\n",
       "13     0        5          1           5    3845 -0.0084  0.0283\n",
       "14     0        3          0          13    3200  0.0478 -0.0047\n",
       "15     1        3          1           9    2800 -0.0497 -0.0110\n",
       "16     0        2          0           6    3200 -0.0497 -0.0110\n",
       "17     0        3          1           7    3815 -0.0450  0.0063\n",
       "18     1        2          1          11    2980 -0.0084  0.0283\n",
       "19     0        4          1          15    2850 -0.0450  0.0063\n",
       "20     1        1          0           6    3125 -0.0084  0.0283\n",
       "21     0        1          0           8    3500 -0.0497 -0.0110\n",
       "22     0        4          0          22    4500 -0.0084  0.0283\n",
       "23     0        2          1          10    3200  0.0478 -0.0047\n",
       "24     0        3          1           9    3000  0.0478 -0.0047"
      ]
     },
     "execution_count": 52,
     "metadata": {},
     "output_type": "execute_result"
    }
   ],
   "source": [
    "#Transformed dataset\n",
    "df = pd.DataFrame(newcode1, columns = ['w1','w2'])\n",
    "data3=pd.concat([num_data1,df],axis=1)\n",
    "#num_data1.shape\n",
    "#all1=np.insert(num_data1,num_data1.shape[1],np.transpose(newcode1),1)\n",
    "data3"
   ]
  },
  {
   "cell_type": "code",
   "execution_count": 53,
   "metadata": {},
   "outputs": [],
   "source": [
    "from sklearn import tree\n",
    "from sklearn import metrics\n",
    "modeltree = tree.DecisionTreeClassifier(max_depth=2,criterion='entropy')\n",
    "modeltree = modeltree.fit(data3,y2)"
   ]
  },
  {
   "cell_type": "code",
   "execution_count": 54,
   "metadata": {},
   "outputs": [
    {
     "data": {
      "image/svg+xml": [
       "<?xml version=\"1.0\" encoding=\"UTF-8\" standalone=\"no\"?>\r\n",
       "<!DOCTYPE svg PUBLIC \"-//W3C//DTD SVG 1.1//EN\"\r\n",
       " \"http://www.w3.org/Graphics/SVG/1.1/DTD/svg11.dtd\">\r\n",
       "<!-- Generated by graphviz version 2.38.0 (20140413.2041)\r\n",
       " -->\r\n",
       "<!-- Title: Tree Pages: 1 -->\r\n",
       "<svg width=\"303pt\" height=\"314pt\"\r\n",
       " viewBox=\"0.00 0.00 303.00 314.00\" xmlns=\"http://www.w3.org/2000/svg\" xmlns:xlink=\"http://www.w3.org/1999/xlink\">\r\n",
       "<g id=\"graph0\" class=\"graph\" transform=\"scale(1 1) rotate(0) translate(4 310)\">\r\n",
       "<title>Tree</title>\r\n",
       "<polygon fill=\"white\" stroke=\"none\" points=\"-4,4 -4,-310 299,-310 299,4 -4,4\"/>\r\n",
       "<!-- 0 -->\r\n",
       "<g id=\"node1\" class=\"node\"><title>0</title>\r\n",
       "<path fill=\"#bddef6\" stroke=\"black\" d=\"M162,-306C162,-306 64,-306 64,-306 58,-306 52,-300 52,-294 52,-294 52,-235 52,-235 52,-229 58,-223 64,-223 64,-223 162,-223 162,-223 168,-223 174,-229 174,-235 174,-235 174,-294 174,-294 174,-300 168,-306 162,-306\"/>\r\n",
       "<text text-anchor=\"start\" x=\"60\" y=\"-290.8\" font-family=\"Helvetica,sans-Serif\" font-size=\"14.00\">Sueldo ≤ 2620.0</text>\r\n",
       "<text text-anchor=\"start\" x=\"63\" y=\"-275.8\" font-family=\"Helvetica,sans-Serif\" font-size=\"14.00\">entropy = 0.971</text>\r\n",
       "<text text-anchor=\"start\" x=\"69.5\" y=\"-260.8\" font-family=\"Helvetica,sans-Serif\" font-size=\"14.00\">samples = 25</text>\r\n",
       "<text text-anchor=\"start\" x=\"64.5\" y=\"-245.8\" font-family=\"Helvetica,sans-Serif\" font-size=\"14.00\">value = [10, 15]</text>\r\n",
       "<text text-anchor=\"start\" x=\"82\" y=\"-230.8\" font-family=\"Helvetica,sans-Serif\" font-size=\"14.00\">class = Si</text>\r\n",
       "</g>\r\n",
       "<!-- 1 -->\r\n",
       "<g id=\"node2\" class=\"node\"><title>1</title>\r\n",
       "<path fill=\"#e58139\" stroke=\"black\" d=\"M88,-179.5C88,-179.5 12,-179.5 12,-179.5 6,-179.5 0,-173.5 0,-167.5 0,-167.5 0,-123.5 0,-123.5 0,-117.5 6,-111.5 12,-111.5 12,-111.5 88,-111.5 88,-111.5 94,-111.5 100,-117.5 100,-123.5 100,-123.5 100,-167.5 100,-167.5 100,-173.5 94,-179.5 88,-179.5\"/>\r\n",
       "<text text-anchor=\"start\" x=\"8\" y=\"-164.3\" font-family=\"Helvetica,sans-Serif\" font-size=\"14.00\">entropy = 0.0</text>\r\n",
       "<text text-anchor=\"start\" x=\"10.5\" y=\"-149.3\" font-family=\"Helvetica,sans-Serif\" font-size=\"14.00\">samples = 4</text>\r\n",
       "<text text-anchor=\"start\" x=\"9.5\" y=\"-134.3\" font-family=\"Helvetica,sans-Serif\" font-size=\"14.00\">value = [4, 0]</text>\r\n",
       "<text text-anchor=\"start\" x=\"16.5\" y=\"-119.3\" font-family=\"Helvetica,sans-Serif\" font-size=\"14.00\">class = No</text>\r\n",
       "</g>\r\n",
       "<!-- 0&#45;&gt;1 -->\r\n",
       "<g id=\"edge1\" class=\"edge\"><title>0&#45;&gt;1</title>\r\n",
       "<path fill=\"none\" stroke=\"black\" d=\"M91.1425,-222.907C85.2008,-211.873 78.7526,-199.898 72.7622,-188.773\"/>\r\n",
       "<polygon fill=\"black\" stroke=\"black\" points=\"75.6818,-186.812 67.8591,-179.667 69.5185,-190.131 75.6818,-186.812\"/>\r\n",
       "<text text-anchor=\"middle\" x=\"60.6754\" y=\"-199.913\" font-family=\"Helvetica,sans-Serif\" font-size=\"14.00\">True</text>\r\n",
       "</g>\r\n",
       "<!-- 2 -->\r\n",
       "<g id=\"node3\" class=\"node\"><title>2</title>\r\n",
       "<path fill=\"#88c4ef\" stroke=\"black\" d=\"M222,-187C222,-187 130,-187 130,-187 124,-187 118,-181 118,-175 118,-175 118,-116 118,-116 118,-110 124,-104 130,-104 130,-104 222,-104 222,-104 228,-104 234,-110 234,-116 234,-116 234,-175 234,-175 234,-181 228,-187 222,-187\"/>\r\n",
       "<text text-anchor=\"start\" x=\"141\" y=\"-171.8\" font-family=\"Helvetica,sans-Serif\" font-size=\"14.00\">w2 ≤ 0.017</text>\r\n",
       "<text text-anchor=\"start\" x=\"126\" y=\"-156.8\" font-family=\"Helvetica,sans-Serif\" font-size=\"14.00\">entropy = 0.863</text>\r\n",
       "<text text-anchor=\"start\" x=\"132.5\" y=\"-141.8\" font-family=\"Helvetica,sans-Serif\" font-size=\"14.00\">samples = 21</text>\r\n",
       "<text text-anchor=\"start\" x=\"131.5\" y=\"-126.8\" font-family=\"Helvetica,sans-Serif\" font-size=\"14.00\">value = [6, 15]</text>\r\n",
       "<text text-anchor=\"start\" x=\"145\" y=\"-111.8\" font-family=\"Helvetica,sans-Serif\" font-size=\"14.00\">class = Si</text>\r\n",
       "</g>\r\n",
       "<!-- 0&#45;&gt;2 -->\r\n",
       "<g id=\"edge2\" class=\"edge\"><title>0&#45;&gt;2</title>\r\n",
       "<path fill=\"none\" stroke=\"black\" d=\"M134.858,-222.907C139.549,-214.195 144.556,-204.897 149.404,-195.893\"/>\r\n",
       "<polygon fill=\"black\" stroke=\"black\" points=\"152.522,-197.485 154.181,-187.021 146.358,-194.166 152.522,-197.485\"/>\r\n",
       "<text text-anchor=\"middle\" x=\"161.365\" y=\"-207.266\" font-family=\"Helvetica,sans-Serif\" font-size=\"14.00\">False</text>\r\n",
       "</g>\r\n",
       "<!-- 3 -->\r\n",
       "<g id=\"node4\" class=\"node\"><title>3</title>\r\n",
       "<path fill=\"#47a4e7\" stroke=\"black\" d=\"M157,-68C157,-68 65,-68 65,-68 59,-68 53,-62 53,-56 53,-56 53,-12 53,-12 53,-6 59,-0 65,-0 65,-0 157,-0 157,-0 163,-0 169,-6 169,-12 169,-12 169,-56 169,-56 169,-62 163,-68 157,-68\"/>\r\n",
       "<text text-anchor=\"start\" x=\"61\" y=\"-52.8\" font-family=\"Helvetica,sans-Serif\" font-size=\"14.00\">entropy = 0.353</text>\r\n",
       "<text text-anchor=\"start\" x=\"67.5\" y=\"-37.8\" font-family=\"Helvetica,sans-Serif\" font-size=\"14.00\">samples = 15</text>\r\n",
       "<text text-anchor=\"start\" x=\"66.5\" y=\"-22.8\" font-family=\"Helvetica,sans-Serif\" font-size=\"14.00\">value = [1, 14]</text>\r\n",
       "<text text-anchor=\"start\" x=\"80\" y=\"-7.8\" font-family=\"Helvetica,sans-Serif\" font-size=\"14.00\">class = Si</text>\r\n",
       "</g>\r\n",
       "<!-- 2&#45;&gt;3 -->\r\n",
       "<g id=\"edge3\" class=\"edge\"><title>2&#45;&gt;3</title>\r\n",
       "<path fill=\"none\" stroke=\"black\" d=\"M151.796,-103.726C146.599,-94.9703 141.098,-85.7032 135.875,-76.9051\"/>\r\n",
       "<polygon fill=\"black\" stroke=\"black\" points=\"138.881,-75.1121 130.767,-68.2996 132.862,-78.6853 138.881,-75.1121\"/>\r\n",
       "</g>\r\n",
       "<!-- 4 -->\r\n",
       "<g id=\"node5\" class=\"node\"><title>4</title>\r\n",
       "<path fill=\"#ea9a61\" stroke=\"black\" d=\"M283,-68C283,-68 199,-68 199,-68 193,-68 187,-62 187,-56 187,-56 187,-12 187,-12 187,-6 193,-0 199,-0 199,-0 283,-0 283,-0 289,-0 295,-6 295,-12 295,-12 295,-56 295,-56 295,-62 289,-68 283,-68\"/>\r\n",
       "<text text-anchor=\"start\" x=\"195\" y=\"-52.8\" font-family=\"Helvetica,sans-Serif\" font-size=\"14.00\">entropy = 0.65</text>\r\n",
       "<text text-anchor=\"start\" x=\"201.5\" y=\"-37.8\" font-family=\"Helvetica,sans-Serif\" font-size=\"14.00\">samples = 6</text>\r\n",
       "<text text-anchor=\"start\" x=\"200.5\" y=\"-22.8\" font-family=\"Helvetica,sans-Serif\" font-size=\"14.00\">value = [5, 1]</text>\r\n",
       "<text text-anchor=\"start\" x=\"207.5\" y=\"-7.8\" font-family=\"Helvetica,sans-Serif\" font-size=\"14.00\">class = No</text>\r\n",
       "</g>\r\n",
       "<!-- 2&#45;&gt;4 -->\r\n",
       "<g id=\"edge4\" class=\"edge\"><title>2&#45;&gt;4</title>\r\n",
       "<path fill=\"none\" stroke=\"black\" d=\"M200.204,-103.726C205.401,-94.9703 210.902,-85.7032 216.125,-76.9051\"/>\r\n",
       "<polygon fill=\"black\" stroke=\"black\" points=\"219.138,-78.6853 221.233,-68.2996 213.119,-75.1121 219.138,-78.6853\"/>\r\n",
       "</g>\r\n",
       "</g>\r\n",
       "</svg>\r\n"
      ],
      "text/plain": [
       "<graphviz.files.Source at 0x2205abfd288>"
      ]
     },
     "execution_count": 54,
     "metadata": {},
     "output_type": "execute_result"
    }
   ],
   "source": [
    "import graphviz\n",
    "import warnings\n",
    "warnings.filterwarnings('ignore')\n",
    "import matplotlib.pyplot as plt\n",
    "%matplotlib inline\n",
    "names=['Sexo',  'Familia',  'CasPropia',  'AnosEmpleo',  'Sueldo',  'w1','w2']\n",
    "clases=['No','Si']\n",
    "dot_data = tree.export_graphviz(modeltree, out_file=None, \n",
    "                         feature_names=names,  \n",
    "                         class_names=clases,  \n",
    "                         filled=True, rounded=True,  \n",
    "                         special_characters=True)  \n",
    "graph = graphviz.Source(dot_data)  \n",
    "graph "
   ]
  },
  {
   "cell_type": "code",
   "execution_count": null,
   "metadata": {},
   "outputs": [],
   "source": []
  },
  {
   "cell_type": "code",
   "execution_count": 55,
   "metadata": {},
   "outputs": [
    {
     "name": "stdout",
     "output_type": "stream",
     "text": [
      "The predictions are [0 1 0 1 1 1 0 1 0 0 0 1 1 0 1 1 1 1 0 1 0 1 0 1 1] \n",
      " The accurracy is= 0.92\n"
     ]
    }
   ],
   "source": [
    "#Finding the accuracy by resubstitution\n",
    "pred=modeltree.predict(data3)\n",
    "acc=(y2==pred).mean()\n",
    "print(\"The predictions are\", pred,\"\\n\",\"The accurracy is=\",acc)"
   ]
  },
  {
   "cell_type": "code",
   "execution_count": null,
   "metadata": {},
   "outputs": [],
   "source": []
  }
 ],
 "metadata": {
  "kernelspec": {
   "display_name": "Python 3",
   "language": "python",
   "name": "python3"
  },
  "language_info": {
   "codemirror_mode": {
    "name": "ipython",
    "version": 3
   },
   "file_extension": ".py",
   "mimetype": "text/x-python",
   "name": "python",
   "nbconvert_exporter": "python",
   "pygments_lexer": "ipython3",
   "version": "3.7.6"
  }
 },
 "nbformat": 4,
 "nbformat_minor": 4
}
