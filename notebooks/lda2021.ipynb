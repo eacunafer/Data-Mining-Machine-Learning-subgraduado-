{
 "cells": [
  {
   "cell_type": "markdown",
   "metadata": {},
   "source": [
    "### Data Mining and Machine Learning\n",
    "### Linear Discriminant Analysis (LDA)\n",
    "#### Edgar Acuna\n",
    "####  October 2021\n",
    "#### Datasets: Toy example, Diabetes, vehicle"
   ]
  },
  {
   "cell_type": "code",
   "execution_count": 1,
   "metadata": {},
   "outputs": [],
   "source": [
    "import warnings\n",
    "warnings.filterwarnings('ignore')\n",
    "import pandas as pd\n",
    "from scipy import linalg\n",
    "import numpy as np\n",
    "import matplotlib.pyplot as plt\n",
    "import matplotlib as mpl\n",
    "from matplotlib import colors\n",
    "from sklearn.preprocessing import LabelEncoder\n",
    "from sklearn.discriminant_analysis import LinearDiscriminantAnalysis\n",
    "from sklearn.metrics import confusion_matrix"
   ]
  },
  {
   "cell_type": "markdown",
   "metadata": {},
   "source": [
    "### Example 1. Predicting the final grade in a class based on the scores in  Ex1 and Ex2"
   ]
  },
  {
   "cell_type": "code",
   "execution_count": 2,
   "metadata": {
    "scrolled": true
   },
   "outputs": [
    {
     "name": "stdout",
     "output_type": "stream",
     "text": [
      "<class 'pandas.core.frame.DataFrame'>\n",
      "RangeIndex: 32 entries, 0 to 31\n",
      "Data columns (total 4 columns):\n",
      " #   Column  Non-Null Count  Dtype \n",
      "---  ------  --------------  ----- \n",
      " 0   E1      32 non-null     int64 \n",
      " 1   E2      32 non-null     int64 \n",
      " 2   PF      32 non-null     int64 \n",
      " 3   Nota    32 non-null     object\n",
      "dtypes: int64(3), object(1)\n",
      "memory usage: 1.1+ KB\n"
     ]
    }
   ],
   "source": [
    "# Ejemplo1. Leyendo los datos de las notas en un curso, usando como predictoras E1 y E2\n",
    "df=pd.read_csv(\"http://academic.uprm.edu/eacuna/eje1dis.csv\")\n",
    "#df=pd.read_csv(\"c://PW-PR/eje1dis.csv\")\n",
    "df.info()"
   ]
  },
  {
   "cell_type": "code",
   "execution_count": 3,
   "metadata": {},
   "outputs": [
    {
     "data": {
      "text/html": [
       "<div>\n",
       "<style scoped>\n",
       "    .dataframe tbody tr th:only-of-type {\n",
       "        vertical-align: middle;\n",
       "    }\n",
       "\n",
       "    .dataframe tbody tr th {\n",
       "        vertical-align: top;\n",
       "    }\n",
       "\n",
       "    .dataframe thead th {\n",
       "        text-align: right;\n",
       "    }\n",
       "</style>\n",
       "<table border=\"1\" class=\"dataframe\">\n",
       "  <thead>\n",
       "    <tr style=\"text-align: right;\">\n",
       "      <th></th>\n",
       "      <th>E1</th>\n",
       "      <th>E2</th>\n",
       "      <th>PF</th>\n",
       "      <th>Nota</th>\n",
       "    </tr>\n",
       "  </thead>\n",
       "  <tbody>\n",
       "    <tr>\n",
       "      <th>0</th>\n",
       "      <td>96</td>\n",
       "      <td>100</td>\n",
       "      <td>100</td>\n",
       "      <td>p</td>\n",
       "    </tr>\n",
       "    <tr>\n",
       "      <th>1</th>\n",
       "      <td>96</td>\n",
       "      <td>94</td>\n",
       "      <td>99</td>\n",
       "      <td>p</td>\n",
       "    </tr>\n",
       "    <tr>\n",
       "      <th>2</th>\n",
       "      <td>100</td>\n",
       "      <td>91</td>\n",
       "      <td>97</td>\n",
       "      <td>p</td>\n",
       "    </tr>\n",
       "    <tr>\n",
       "      <th>3</th>\n",
       "      <td>93</td>\n",
       "      <td>96</td>\n",
       "      <td>97</td>\n",
       "      <td>p</td>\n",
       "    </tr>\n",
       "    <tr>\n",
       "      <th>4</th>\n",
       "      <td>90</td>\n",
       "      <td>94</td>\n",
       "      <td>95</td>\n",
       "      <td>p</td>\n",
       "    </tr>\n",
       "  </tbody>\n",
       "</table>\n",
       "</div>"
      ],
      "text/plain": [
       "    E1   E2   PF Nota\n",
       "0   96  100  100    p\n",
       "1   96   94   99    p\n",
       "2  100   91   97    p\n",
       "3   93   96   97    p\n",
       "4   90   94   95    p"
      ]
     },
     "execution_count": 3,
     "metadata": {},
     "output_type": "execute_result"
    }
   ],
   "source": [
    "df.head()"
   ]
  },
  {
   "cell_type": "markdown",
   "metadata": {},
   "source": [
    "Extracting the average scores in both exams for students with final grade P"
   ]
  },
  {
   "cell_type": "code",
   "execution_count": 4,
   "metadata": {},
   "outputs": [
    {
     "data": {
      "text/plain": [
       "E1    75.541667\n",
       "E2    73.750000\n",
       "dtype: float64"
      ]
     },
     "execution_count": 4,
     "metadata": {},
     "output_type": "execute_result"
    }
   ],
   "source": [
    "pasan=df[df['Nota']==\"p\"][[\"E1\",'E2']]\n",
    "pasan.mean()"
   ]
  },
  {
   "cell_type": "markdown",
   "metadata": {},
   "source": [
    "Extracting the average scores in both exams for students with final grade F"
   ]
  },
  {
   "cell_type": "code",
   "execution_count": 5,
   "metadata": {},
   "outputs": [
    {
     "data": {
      "text/plain": [
       "E1    59.5\n",
       "E2    34.0\n",
       "dtype: float64"
      ]
     },
     "execution_count": 5,
     "metadata": {},
     "output_type": "execute_result"
    }
   ],
   "source": [
    "fail=df[df['Nota']==\"f\"][[\"E1\",'E2']]\n",
    "fail.mean()"
   ]
  },
  {
   "cell_type": "markdown",
   "metadata": {},
   "source": [
    "Computing the covariance matrices for each group"
   ]
  },
  {
   "cell_type": "code",
   "execution_count": 6,
   "metadata": {},
   "outputs": [
    {
     "data": {
      "text/html": [
       "<div>\n",
       "<style scoped>\n",
       "    .dataframe tbody tr th:only-of-type {\n",
       "        vertical-align: middle;\n",
       "    }\n",
       "\n",
       "    .dataframe tbody tr th {\n",
       "        vertical-align: top;\n",
       "    }\n",
       "\n",
       "    .dataframe thead th {\n",
       "        text-align: right;\n",
       "    }\n",
       "</style>\n",
       "<table border=\"1\" class=\"dataframe\">\n",
       "  <thead>\n",
       "    <tr style=\"text-align: right;\">\n",
       "      <th></th>\n",
       "      <th>E1</th>\n",
       "      <th>E2</th>\n",
       "    </tr>\n",
       "  </thead>\n",
       "  <tbody>\n",
       "    <tr>\n",
       "      <th>E1</th>\n",
       "      <td>187.563406</td>\n",
       "      <td>34.228261</td>\n",
       "    </tr>\n",
       "    <tr>\n",
       "      <th>E2</th>\n",
       "      <td>34.228261</td>\n",
       "      <td>507.065217</td>\n",
       "    </tr>\n",
       "  </tbody>\n",
       "</table>\n",
       "</div>"
      ],
      "text/plain": [
       "            E1          E2\n",
       "E1  187.563406   34.228261\n",
       "E2   34.228261  507.065217"
      ]
     },
     "execution_count": 6,
     "metadata": {},
     "output_type": "execute_result"
    }
   ],
   "source": [
    "pcov=pasan.cov()\n",
    "fcov=fail.cov()\n",
    "pcov"
   ]
  },
  {
   "cell_type": "code",
   "execution_count": 7,
   "metadata": {},
   "outputs": [
    {
     "data": {
      "text/html": [
       "<div>\n",
       "<style scoped>\n",
       "    .dataframe tbody tr th:only-of-type {\n",
       "        vertical-align: middle;\n",
       "    }\n",
       "\n",
       "    .dataframe tbody tr th {\n",
       "        vertical-align: top;\n",
       "    }\n",
       "\n",
       "    .dataframe thead th {\n",
       "        text-align: right;\n",
       "    }\n",
       "</style>\n",
       "<table border=\"1\" class=\"dataframe\">\n",
       "  <thead>\n",
       "    <tr style=\"text-align: right;\">\n",
       "      <th></th>\n",
       "      <th>E1</th>\n",
       "      <th>E2</th>\n",
       "    </tr>\n",
       "  </thead>\n",
       "  <tbody>\n",
       "    <tr>\n",
       "      <th>E1</th>\n",
       "      <td>183.428571</td>\n",
       "      <td>-97.285714</td>\n",
       "    </tr>\n",
       "    <tr>\n",
       "      <th>E2</th>\n",
       "      <td>-97.285714</td>\n",
       "      <td>106.285714</td>\n",
       "    </tr>\n",
       "  </tbody>\n",
       "</table>\n",
       "</div>"
      ],
      "text/plain": [
       "            E1          E2\n",
       "E1  183.428571  -97.285714\n",
       "E2  -97.285714  106.285714"
      ]
     },
     "execution_count": 7,
     "metadata": {},
     "output_type": "execute_result"
    }
   ],
   "source": [
    "fcov"
   ]
  },
  {
   "cell_type": "markdown",
   "metadata": {},
   "source": [
    "Computing the coeficients of the discriminant function"
   ]
  },
  {
   "cell_type": "code",
   "execution_count": 8,
   "metadata": {},
   "outputs": [
    {
     "data": {
      "text/plain": [
       "array([0.08415817, 0.09539823])"
      ]
     },
     "execution_count": 8,
     "metadata": {},
     "output_type": "execute_result"
    }
   ],
   "source": [
    "npa=len(pasan)\n",
    "nf=len(fail)\n",
    "pool_cov=((npa-1)*pcov+(nf-1)*fcov)/(npa+nf-2.0)\n",
    "pool_cov\n",
    "mean_vec=pasan.mean()-fail.mean()\n",
    "np.array(mean_vec).dot(np.linalg.inv(np.array(pool_cov)))"
   ]
  },
  {
   "cell_type": "markdown",
   "metadata": {},
   "source": [
    "Computing the independent term of the discriminant function"
   ]
  },
  {
   "cell_type": "code",
   "execution_count": 9,
   "metadata": {},
   "outputs": [
    {
     "data": {
      "text/plain": [
       "10.822009747913809"
      ]
     },
     "execution_count": 9,
     "metadata": {},
     "output_type": "execute_result"
    }
   ],
   "source": [
    "mean_vec1=pasan.mean()+fail.mean()\n",
    "0.5*np.array(mean_vec).dot(np.linalg.inv(np.array(pool_cov))).dot(np.array(mean_vec1))"
   ]
  },
  {
   "cell_type": "markdown",
   "metadata": {},
   "source": [
    "### This is the discriminant equation $.084E1+.095E2=10.822$"
   ]
  },
  {
   "cell_type": "code",
   "execution_count": 10,
   "metadata": {},
   "outputs": [],
   "source": [
    "#Convirtiendo en matriz la tabla de predictoras y la columna de clases\n",
    "y=df['Nota']\n",
    "X=df.iloc[:,0:2]"
   ]
  },
  {
   "cell_type": "code",
   "execution_count": 11,
   "metadata": {},
   "outputs": [
    {
     "data": {
      "text/plain": [
       "0.875"
      ]
     },
     "execution_count": 11,
     "metadata": {},
     "output_type": "execute_result"
    }
   ],
   "source": [
    "#Haciendo el analisis discriminante y calculando el porcentaje de precision\n",
    "ldadis = LinearDiscriminantAnalysis(priors=(.5,.5)).fit(X,y)\n",
    "#Tasa de precision\n",
    "ldadis.score(X, y)"
   ]
  },
  {
   "cell_type": "code",
   "execution_count": 12,
   "metadata": {},
   "outputs": [
    {
     "data": {
      "text/plain": [
       "array([[0.00111588, 0.99888412],\n",
       "       [0.00197619, 0.99802381],\n",
       "       [0.00187917, 0.99812083],\n",
       "       [0.00210165, 0.99789835],\n",
       "       [0.0032701 , 0.9967299 ],\n",
       "       [0.03204928, 0.96795072],\n",
       "       [0.00714424, 0.99285576],\n",
       "       [0.03118462, 0.96881538],\n",
       "       [0.12842348, 0.87157652],\n",
       "       [0.05009503, 0.94990497],\n",
       "       [0.04383433, 0.95616567],\n",
       "       [0.20239494, 0.79760506],\n",
       "       [0.39989907, 0.60010093],\n",
       "       [0.02692351, 0.97307649],\n",
       "       [0.01969734, 0.98030266],\n",
       "       [0.82693254, 0.17306746],\n",
       "       [0.2015579 , 0.7984421 ],\n",
       "       [0.23504734, 0.76495266],\n",
       "       [0.78306353, 0.21693647],\n",
       "       [0.30434826, 0.69565174],\n",
       "       [0.70198569, 0.29801431],\n",
       "       [0.59923064, 0.40076936],\n",
       "       [0.44650439, 0.55349561],\n",
       "       [0.11462215, 0.88537785],\n",
       "       [0.86476333, 0.13523667],\n",
       "       [0.97805078, 0.02194922],\n",
       "       [0.81197294, 0.18802706],\n",
       "       [0.90208326, 0.09791674],\n",
       "       [0.87858201, 0.12141799],\n",
       "       [0.97193157, 0.02806843],\n",
       "       [0.93243204, 0.06756796],\n",
       "       [0.95624325, 0.04375675]])"
      ]
     },
     "execution_count": 12,
     "metadata": {},
     "output_type": "execute_result"
    }
   ],
   "source": [
    "#Calculating the posterior probabilities\n",
    "pred1=ldadis.predict_proba(X)\n",
    "pred1"
   ]
  },
  {
   "cell_type": "markdown",
   "metadata": {},
   "source": [
    "Instances: 13, 20, 22 and 23 are assigned to a class with the lowest difference in posterior probabilities"
   ]
  },
  {
   "cell_type": "code",
   "execution_count": 13,
   "metadata": {},
   "outputs": [
    {
     "data": {
      "text/plain": [
       "array(['p', 'p', 'p', 'p', 'p', 'p', 'p', 'p', 'p', 'p', 'p', 'p', 'p',\n",
       "       'p', 'p', 'f', 'p', 'p', 'f', 'p', 'f', 'f', 'p', 'p', 'f', 'f',\n",
       "       'f', 'f', 'f', 'f', 'f', 'f'], dtype='<U1')"
      ]
     },
     "execution_count": 13,
     "metadata": {},
     "output_type": "execute_result"
    }
   ],
   "source": [
    "#Calculando the class predicted\n",
    "pred=ldadis.predict(X)\n",
    "pred"
   ]
  },
  {
   "cell_type": "code",
   "execution_count": 14,
   "metadata": {},
   "outputs": [
    {
     "name": "stdout",
     "output_type": "stream",
     "text": [
      "Este es el numero de errores= 4\n"
     ]
    }
   ],
   "source": [
    "#Calcuting the number of errors\n",
    "error=(y!=pred).sum()\n",
    "print(\"Este es el numero de errores=\", error)"
   ]
  },
  {
   "cell_type": "code",
   "execution_count": 15,
   "metadata": {},
   "outputs": [
    {
     "data": {
      "text/plain": [
       "array([[ 8,  0],\n",
       "       [ 4, 20]], dtype=int64)"
      ]
     },
     "execution_count": 15,
     "metadata": {},
     "output_type": "execute_result"
    }
   ],
   "source": [
    "#Calculating the confusion matrix\n",
    "confusion_matrix(y,pred)"
   ]
  },
  {
   "cell_type": "code",
   "execution_count": 16,
   "metadata": {},
   "outputs": [
    {
     "data": {
      "text/html": [
       "<div>\n",
       "<style scoped>\n",
       "    .dataframe tbody tr th:only-of-type {\n",
       "        vertical-align: middle;\n",
       "    }\n",
       "\n",
       "    .dataframe tbody tr th {\n",
       "        vertical-align: top;\n",
       "    }\n",
       "\n",
       "    .dataframe thead th {\n",
       "        text-align: right;\n",
       "    }\n",
       "</style>\n",
       "<table border=\"1\" class=\"dataframe\">\n",
       "  <thead>\n",
       "    <tr style=\"text-align: right;\">\n",
       "      <th>col_0</th>\n",
       "      <th>f</th>\n",
       "      <th>p</th>\n",
       "    </tr>\n",
       "    <tr>\n",
       "      <th>Nota</th>\n",
       "      <th></th>\n",
       "      <th></th>\n",
       "    </tr>\n",
       "  </thead>\n",
       "  <tbody>\n",
       "    <tr>\n",
       "      <th>f</th>\n",
       "      <td>8</td>\n",
       "      <td>0</td>\n",
       "    </tr>\n",
       "    <tr>\n",
       "      <th>p</th>\n",
       "      <td>4</td>\n",
       "      <td>20</td>\n",
       "    </tr>\n",
       "  </tbody>\n",
       "</table>\n",
       "</div>"
      ],
      "text/plain": [
       "col_0  f   p\n",
       "Nota        \n",
       "f      8   0\n",
       "p      4  20"
      ]
     },
     "execution_count": 16,
     "metadata": {},
     "output_type": "execute_result"
    }
   ],
   "source": [
    "#Esta es una mejor presentacion\n",
    "pd.crosstab(y,pred)"
   ]
  },
  {
   "cell_type": "code",
   "execution_count": 17,
   "metadata": {},
   "outputs": [
    {
     "name": "stdout",
     "output_type": "stream",
     "text": [
      "la tasa de error es 12.5\n"
     ]
    }
   ],
   "source": [
    "error_rate=error*100/len(df)\n",
    "print(\"la tasa de error es\", error_rate)"
   ]
  },
  {
   "cell_type": "markdown",
   "metadata": {},
   "source": [
    "### Visualization"
   ]
  },
  {
   "cell_type": "code",
   "execution_count": 18,
   "metadata": {},
   "outputs": [
    {
     "data": {
      "image/png": "[encoded data removed]",
      "text/plain": [
       "<Figure size 720x720 with 1 Axes>"
      ]
     },
     "metadata": {},
     "output_type": "display_data"
    }
   ],
   "source": [
    "from matplotlib.colors import ListedColormap\n",
    "ldadis = LinearDiscriminantAnalysis(priors=(.5,.5))\n",
    "#creando una columna \"pass\" numerica para representar las clases\n",
    "lb_make = LabelEncoder()\n",
    "df[\"pass\"] = lb_make.fit_transform(df[\"Nota\"])\n",
    "y2=df['pass']\n",
    "X1=X.values\n",
    "y1=y2.values\n",
    "ldadis.fit(X1,y1)\n",
    "eje1=np.arange(start = X1[:, 0].min()-1, stop = X1[:, 0].max() + 1, step = 0.1)\n",
    "eje2=np.arange(start = X1[:, 1].min()-1, stop = X1[:, 1].max() + 1, step = 0.11)\n",
    "Y1, Y2 = np.meshgrid(eje1,eje2)\n",
    "pred2=ldadis.predict(np.c_[Y1.ravel(), Y2.ravel()]).reshape(Y1.shape)\n",
    "plt.figure(figsize=(10, 10))\n",
    "plt.pcolormesh(Y1, Y2, pred2,cmap=plt.cm.Paired)\n",
    "# Plot also the training points\n",
    "plt.scatter(X1[:, 0], X1[:, 1], c=y2, edgecolors='k')\n",
    "plt.xlabel('Ex1')\n",
    "plt.ylabel('Ex2')\n",
    "plt.xlim(Y1.min(), Y1.max())\n",
    "plt.ylim(Y2.min(), Y2.max())\n",
    "plt.xticks(())\n",
    "plt.yticks(())\n",
    "\n",
    "plt.show()"
   ]
  },
  {
   "cell_type": "markdown",
   "metadata": {},
   "source": [
    "The above does not take into account the size of each class. Notice that the linear boundary can be moved down in parallel way to improve the classification. The Bayesian version that is shown below uses priors proportional to the classes size. This prior is used by default"
   ]
  },
  {
   "cell_type": "code",
   "execution_count": 19,
   "metadata": {},
   "outputs": [
    {
     "data": {
      "text/plain": [
       "0.9375"
      ]
     },
     "execution_count": 19,
     "metadata": {},
     "output_type": "execute_result"
    }
   ],
   "source": [
    "#Haciendo el analisis discriminante y calculando el porcentaje de precision\n",
    "ldadis = LinearDiscriminantAnalysis().fit(X,y)\n",
    "#Tasa de precision\n",
    "ldadis.score(X, y)"
   ]
  },
  {
   "cell_type": "code",
   "execution_count": 20,
   "metadata": {},
   "outputs": [
    {
     "data": {
      "text/plain": [
       "array(['p', 'p', 'p', 'p', 'p', 'p', 'p', 'p', 'p', 'p', 'p', 'p', 'p',\n",
       "       'p', 'p', 'f', 'p', 'p', 'f', 'p', 'p', 'p', 'p', 'p', 'f', 'f',\n",
       "       'f', 'f', 'f', 'f', 'f', 'f'], dtype='<U1')"
      ]
     },
     "execution_count": 20,
     "metadata": {},
     "output_type": "execute_result"
    }
   ],
   "source": [
    "#Calculando the class predicted\n",
    "pred=ldadis.predict(X)\n",
    "pred"
   ]
  },
  {
   "cell_type": "code",
   "execution_count": 21,
   "metadata": {},
   "outputs": [
    {
     "name": "stdout",
     "output_type": "stream",
     "text": [
      "Este es el numero de errores= 2\n"
     ]
    }
   ],
   "source": [
    "#Calcuting the number of errors\n",
    "error=(y!=pred).sum()\n",
    "print(\"Este es el numero de errores=\", error)"
   ]
  },
  {
   "cell_type": "code",
   "execution_count": 22,
   "metadata": {},
   "outputs": [
    {
     "data": {
      "text/html": [
       "<div>\n",
       "<style scoped>\n",
       "    .dataframe tbody tr th:only-of-type {\n",
       "        vertical-align: middle;\n",
       "    }\n",
       "\n",
       "    .dataframe tbody tr th {\n",
       "        vertical-align: top;\n",
       "    }\n",
       "\n",
       "    .dataframe thead th {\n",
       "        text-align: right;\n",
       "    }\n",
       "</style>\n",
       "<table border=\"1\" class=\"dataframe\">\n",
       "  <thead>\n",
       "    <tr style=\"text-align: right;\">\n",
       "      <th>col_0</th>\n",
       "      <th>f</th>\n",
       "      <th>p</th>\n",
       "    </tr>\n",
       "    <tr>\n",
       "      <th>Nota</th>\n",
       "      <th></th>\n",
       "      <th></th>\n",
       "    </tr>\n",
       "  </thead>\n",
       "  <tbody>\n",
       "    <tr>\n",
       "      <th>f</th>\n",
       "      <td>8</td>\n",
       "      <td>0</td>\n",
       "    </tr>\n",
       "    <tr>\n",
       "      <th>p</th>\n",
       "      <td>2</td>\n",
       "      <td>22</td>\n",
       "    </tr>\n",
       "  </tbody>\n",
       "</table>\n",
       "</div>"
      ],
      "text/plain": [
       "col_0  f   p\n",
       "Nota        \n",
       "f      8   0\n",
       "p      2  22"
      ]
     },
     "execution_count": 22,
     "metadata": {},
     "output_type": "execute_result"
    }
   ],
   "source": [
    "#This is a better presentation\n",
    "pd.crosstab(y,pred)"
   ]
  },
  {
   "cell_type": "code",
   "execution_count": 23,
   "metadata": {},
   "outputs": [
    {
     "name": "stdout",
     "output_type": "stream",
     "text": [
      "la tasa de error es 6.25\n"
     ]
    }
   ],
   "source": [
    "error_rate=error*100/len(df)\n",
    "print(\"la tasa de error es\", error_rate)"
   ]
  },
  {
   "cell_type": "code",
   "execution_count": 24,
   "metadata": {},
   "outputs": [
    {
     "data": {
      "text/plain": [
       "array([[3.72235907e-04, 9.99627764e-01],\n",
       "       [6.59597439e-04, 9.99340403e-01],\n",
       "       [6.27174097e-04, 9.99372826e-01],\n",
       "       [7.01531493e-04, 9.99298469e-01],\n",
       "       [1.09241437e-03, 9.98907586e-01],\n",
       "       [1.09163326e-02, 9.89083667e-01],\n",
       "       [2.39281141e-03, 9.97607189e-01],\n",
       "       [1.06155685e-02, 9.89384431e-01],\n",
       "       [4.68160107e-02, 9.53183989e-01],\n",
       "       [1.72752820e-02, 9.82724718e-01],\n",
       "       [1.50512846e-02, 9.84948715e-01],\n",
       "       [7.79878797e-02, 9.22012120e-01],\n",
       "       [1.81755630e-01, 8.18244370e-01],\n",
       "       [9.13852941e-03, 9.90861471e-01],\n",
       "       [6.65314550e-03, 9.93346854e-01],\n",
       "       [6.14301386e-01, 3.85698614e-01],\n",
       "       [7.76152809e-02, 9.22384719e-01],\n",
       "       [9.29075656e-02, 9.07092434e-01],\n",
       "       [5.46117803e-01, 4.53882197e-01],\n",
       "       [1.27272957e-01, 8.72727043e-01],\n",
       "       [4.39832773e-01, 5.60167227e-01],\n",
       "       [3.32621574e-01, 6.67378426e-01],\n",
       "       [2.11915640e-01, 7.88084360e-01],\n",
       "       [4.13685519e-02, 9.58631448e-01],\n",
       "       [6.80662321e-01, 3.19337679e-01],\n",
       "       [9.36921381e-01, 6.30786190e-02],\n",
       "       [5.90073403e-01, 4.09926597e-01],\n",
       "       [7.54355240e-01, 2.45644760e-01],\n",
       "       [7.06917104e-01, 2.93082896e-01],\n",
       "       [9.20270470e-01, 7.97295296e-02],\n",
       "       [8.21427652e-01, 1.78572348e-01],\n",
       "       [8.79293229e-01, 1.20706771e-01]])"
      ]
     },
     "execution_count": 24,
     "metadata": {},
     "output_type": "execute_result"
    }
   ],
   "source": [
    "#Calculating the posterior probabilities\n",
    "pred1=ldadis.predict_proba(X)\n",
    "pred1"
   ]
  },
  {
   "cell_type": "markdown",
   "metadata": {},
   "source": [
    "### Visualization"
   ]
  },
  {
   "cell_type": "code",
   "execution_count": 25,
   "metadata": {
    "scrolled": false
   },
   "outputs": [
    {
     "data": {
      "image/png": "[encoded data removed]",
      "text/plain": [
       "<Figure size 720x720 with 1 Axes>"
      ]
     },
     "metadata": {},
     "output_type": "display_data"
    }
   ],
   "source": [
    "from matplotlib.colors import ListedColormap\n",
    "ldadis = LinearDiscriminantAnalysis()\n",
    "#creando una columna \"pass\" numerica para representar las clases\n",
    "lb_make = LabelEncoder()\n",
    "df[\"pass\"] = lb_make.fit_transform(df[\"Nota\"])\n",
    "y2=df['pass']\n",
    "X1=X.values\n",
    "y1=y2.values\n",
    "ldadis.fit(X1,y1)\n",
    "eje1=np.arange(start = X1[:, 0].min()-1, stop = X1[:, 0].max() + 1, step = 0.1)\n",
    "eje2=np.arange(start = X1[:, 1].min()-1, stop = X1[:, 1].max() + 1, step = 0.11)\n",
    "Y1, Y2 = np.meshgrid(eje1,eje2)\n",
    "pred2=ldadis.predict(np.c_[Y1.ravel(), Y2.ravel()]).reshape(Y1.shape)\n",
    "plt.figure(figsize=(10, 10))\n",
    "plt.pcolormesh(Y1, Y2, pred2,cmap=plt.cm.Paired)\n",
    "# Plot also the training points\n",
    "plt.scatter(X1[:, 0], X1[:, 1], c=y2, edgecolors='k')\n",
    "plt.xlabel('Ex1')\n",
    "plt.ylabel('Ex2')\n",
    "plt.xlim(Y1.min(), Y1.max())\n",
    "plt.ylim(Y2.min(), Y2.max())\n",
    "plt.xticks(())\n",
    "plt.yticks(())\n",
    "\n",
    "plt.show()"
   ]
  },
  {
   "cell_type": "markdown",
   "metadata": {},
   "source": [
    "### Example 2. LDA for the diabetes dataset"
   ]
  },
  {
   "cell_type": "code",
   "execution_count": 26,
   "metadata": {},
   "outputs": [
    {
     "data": {
      "text/html": [
       "<div>\n",
       "<style scoped>\n",
       "    .dataframe tbody tr th:only-of-type {\n",
       "        vertical-align: middle;\n",
       "    }\n",
       "\n",
       "    .dataframe tbody tr th {\n",
       "        vertical-align: top;\n",
       "    }\n",
       "\n",
       "    .dataframe thead th {\n",
       "        text-align: right;\n",
       "    }\n",
       "</style>\n",
       "<table border=\"1\" class=\"dataframe\">\n",
       "  <thead>\n",
       "    <tr style=\"text-align: right;\">\n",
       "      <th></th>\n",
       "      <th>preg</th>\n",
       "      <th>plas</th>\n",
       "      <th>pres</th>\n",
       "      <th>skin</th>\n",
       "      <th>test</th>\n",
       "      <th>mass</th>\n",
       "      <th>pedi</th>\n",
       "      <th>age</th>\n",
       "      <th>class</th>\n",
       "    </tr>\n",
       "  </thead>\n",
       "  <tbody>\n",
       "    <tr>\n",
       "      <th>0</th>\n",
       "      <td>6</td>\n",
       "      <td>148</td>\n",
       "      <td>72</td>\n",
       "      <td>35</td>\n",
       "      <td>0</td>\n",
       "      <td>33.6</td>\n",
       "      <td>0.627</td>\n",
       "      <td>50</td>\n",
       "      <td>2</td>\n",
       "    </tr>\n",
       "    <tr>\n",
       "      <th>1</th>\n",
       "      <td>1</td>\n",
       "      <td>85</td>\n",
       "      <td>66</td>\n",
       "      <td>29</td>\n",
       "      <td>0</td>\n",
       "      <td>26.6</td>\n",
       "      <td>0.351</td>\n",
       "      <td>31</td>\n",
       "      <td>1</td>\n",
       "    </tr>\n",
       "    <tr>\n",
       "      <th>2</th>\n",
       "      <td>8</td>\n",
       "      <td>183</td>\n",
       "      <td>64</td>\n",
       "      <td>0</td>\n",
       "      <td>0</td>\n",
       "      <td>23.3</td>\n",
       "      <td>0.672</td>\n",
       "      <td>32</td>\n",
       "      <td>2</td>\n",
       "    </tr>\n",
       "    <tr>\n",
       "      <th>3</th>\n",
       "      <td>1</td>\n",
       "      <td>89</td>\n",
       "      <td>66</td>\n",
       "      <td>23</td>\n",
       "      <td>94</td>\n",
       "      <td>28.1</td>\n",
       "      <td>0.167</td>\n",
       "      <td>21</td>\n",
       "      <td>1</td>\n",
       "    </tr>\n",
       "    <tr>\n",
       "      <th>4</th>\n",
       "      <td>0</td>\n",
       "      <td>137</td>\n",
       "      <td>40</td>\n",
       "      <td>35</td>\n",
       "      <td>168</td>\n",
       "      <td>43.1</td>\n",
       "      <td>2.288</td>\n",
       "      <td>33</td>\n",
       "      <td>2</td>\n",
       "    </tr>\n",
       "  </tbody>\n",
       "</table>\n",
       "</div>"
      ],
      "text/plain": [
       "   preg  plas  pres  skin  test  mass   pedi  age  class\n",
       "0     6   148    72    35     0  33.6  0.627   50      2\n",
       "1     1    85    66    29     0  26.6  0.351   31      1\n",
       "2     8   183    64     0     0  23.3  0.672   32      2\n",
       "3     1    89    66    23    94  28.1  0.167   21      1\n",
       "4     0   137    40    35   168  43.1  2.288   33      2"
      ]
     },
     "execution_count": 26,
     "metadata": {},
     "output_type": "execute_result"
    }
   ],
   "source": [
    "url= \"http://academic.uprm.edu/eacuna/diabetes.dat\"\n",
    "#url=\"c://PW-PR/diabetes.dat\"\n",
    "names = ['preg', 'plas', 'pres', 'skin', 'test', 'mass', 'pedi', 'age', 'class']\n",
    "data = pd.read_table(url, names=names,header=None)\n",
    "data.head()"
   ]
  },
  {
   "cell_type": "code",
   "execution_count": 27,
   "metadata": {},
   "outputs": [
    {
     "data": {
      "text/plain": [
       "0.7838541666666666"
      ]
     },
     "execution_count": 27,
     "metadata": {},
     "output_type": "execute_result"
    }
   ],
   "source": [
    "#url= \"http://academic.uprm.edu/eacuna/diabetes.dat\"\n",
    "url=\"http://academic.uprm.edu/eacuna/diabetes.dat\"\n",
    "names = ['preg', 'plas', 'pres', 'skin', 'test', 'mass', 'pedi', 'age', 'class']\n",
    "data = pd.read_table(url, names=names,header=None)\n",
    "data.head()\n",
    "y=data['class']\n",
    "X=data.iloc[:,0:8]\n",
    "#Haciendo el analisis discriminante y calculando el porcentaje de precision\n",
    "ldadis = LinearDiscriminantAnalysis().fit(X,y)\n",
    "#Tasa de precision\n",
    "ldadis.score(X, y)"
   ]
  },
  {
   "cell_type": "code",
   "execution_count": 28,
   "metadata": {},
   "outputs": [
    {
     "data": {
      "text/plain": [
       "array([[446,  54],\n",
       "       [112, 156]], dtype=int64)"
      ]
     },
     "execution_count": 28,
     "metadata": {},
     "output_type": "execute_result"
    }
   ],
   "source": [
    "#Calculando las predicciones\n",
    "pred=ldadis.predict(X)\n",
    "confusion_matrix(y,pred)"
   ]
  },
  {
   "cell_type": "code",
   "execution_count": 29,
   "metadata": {},
   "outputs": [
    {
     "data": {
      "text/plain": [
       "array([0.74025974, 0.75324675, 0.80519481, 0.72727273, 0.72727273,\n",
       "       0.77922078, 0.80519481, 0.80519481, 0.76315789, 0.82894737])"
      ]
     },
     "execution_count": 29,
     "metadata": {},
     "output_type": "execute_result"
    }
   ],
   "source": [
    "#Estimacion de la precision using cross validation\n",
    "from sklearn.model_selection import cross_val_score\n",
    "scores = cross_val_score(ldadis, X, y, cv=10)\n",
    "scores"
   ]
  },
  {
   "cell_type": "code",
   "execution_count": 30,
   "metadata": {},
   "outputs": [
    {
     "name": "stdout",
     "output_type": "stream",
     "text": [
      "Accuracy using LDA: 0.77 (+/- 0.07)\n"
     ]
    }
   ],
   "source": [
    "print(\"Accuracy using LDA: %0.2f (+/- %0.2f)\" % (scores.mean(), scores.std() * 2))"
   ]
  },
  {
   "cell_type": "markdown",
   "metadata": {},
   "source": [
    "### Example 3 : LDA for the vehicle dataset"
   ]
  },
  {
   "cell_type": "code",
   "execution_count": 31,
   "metadata": {},
   "outputs": [
    {
     "name": "stdout",
     "output_type": "stream",
     "text": [
      "<class 'pandas.core.frame.DataFrame'>\n",
      "RangeIndex: 846 entries, 0 to 845\n",
      "Data columns (total 19 columns):\n",
      " #   Column                     Non-Null Count  Dtype \n",
      "---  ------                     --------------  ----- \n",
      " 0   COMPACTNESS                846 non-null    int64 \n",
      " 1   CIRCULARITY                846 non-null    int64 \n",
      " 2   DISTANCE_CIRCULARITY       846 non-null    int64 \n",
      " 3   RADIUS_RATIO               846 non-null    int64 \n",
      " 4   PR.AXIS_ASPECT_RATIO       846 non-null    int64 \n",
      " 5   MAX.LENGTH_ASPECT_RATIO    846 non-null    int64 \n",
      " 6   SCATTER_RATIO              846 non-null    int64 \n",
      " 7   ELONGATEDNESS              846 non-null    int64 \n",
      " 8   PR.AXIS_RECTANGULARITY     846 non-null    int64 \n",
      " 9   MAX.LENGTH_RECTANGULARITY  846 non-null    int64 \n",
      " 10  SCALED_VARIANCE_MAJOR      846 non-null    int64 \n",
      " 11  SCALED_VARIANCE_MINOR      846 non-null    int64 \n",
      " 12  SCALED_RADIUS_OF_GYRATION  846 non-null    int64 \n",
      " 13  SKEWNESS_ABOUT_MAJOR       846 non-null    int64 \n",
      " 14  SKEWNESS_ABOUT_MINOR       846 non-null    int64 \n",
      " 15  KURTOSIS_ABOUT_MAJOR       846 non-null    int64 \n",
      " 16  KURTOSIS_ABOUT_MINOR       846 non-null    int64 \n",
      " 17  HOLLOWS_RATIO              846 non-null    int64 \n",
      " 18  Class                      846 non-null    object\n",
      "dtypes: int64(18), object(1)\n",
      "memory usage: 125.7+ KB\n"
     ]
    }
   ],
   "source": [
    "#Ejemplo2. Leyendo los datos de vehiculos que tienen 4 clases y 18 predictoras\n",
    "df1=pd.read_csv(\"http://academic.uprm.edu/eacuna/vehicle.csv\")\n",
    "df1.info()"
   ]
  },
  {
   "cell_type": "code",
   "execution_count": 32,
   "metadata": {},
   "outputs": [],
   "source": [
    "#Convirtiendo en matriz la tabla de predictoras y la columna de clases\n",
    "y=df1['Class']\n",
    "X=df1.iloc[:,0:18]\n",
    "y1=y.values\n",
    "X1=X.values"
   ]
  },
  {
   "cell_type": "code",
   "execution_count": 33,
   "metadata": {},
   "outputs": [
    {
     "data": {
      "text/plain": [
       "0.7978723404255319"
      ]
     },
     "execution_count": 33,
     "metadata": {},
     "output_type": "execute_result"
    }
   ],
   "source": [
    "#Haciendo el analisis discriminante y calculando el porcentaje de precision\n",
    "ldadis = LinearDiscriminantAnalysis().fit(X1,y1)\n",
    "#Tasa de precision\n",
    "ldadis.score(X1, y1)"
   ]
  },
  {
   "cell_type": "code",
   "execution_count": 34,
   "metadata": {
    "scrolled": true
   },
   "outputs": [
    {
     "data": {
      "text/plain": [
       "array([[8.51249963e-02, 5.23749475e-03, 1.14048231e-02, 8.98232686e-01],\n",
       "       [2.33473663e-05, 1.31912960e-03, 4.62113191e-03, 9.94036391e-01],\n",
       "       [1.19674801e-04, 1.25539318e-01, 8.73706916e-01, 6.34090720e-04],\n",
       "       ...,\n",
       "       [5.80974169e-07, 3.91997095e-01, 6.07820927e-01, 1.81396490e-04],\n",
       "       [5.84144732e-04, 3.18879603e-01, 5.92545939e-01, 8.79903134e-02],\n",
       "       [7.24679492e-06, 7.70983987e-04, 4.83671526e-04, 9.98738098e-01]])"
      ]
     },
     "execution_count": 34,
     "metadata": {},
     "output_type": "execute_result"
    }
   ],
   "source": [
    "#Calculando las probabilidades posteriores\n",
    "prob_post=ldadis.predict_proba(X1)\n",
    "prob_post"
   ]
  },
  {
   "cell_type": "code",
   "execution_count": 35,
   "metadata": {},
   "outputs": [
    {
     "data": {
      "text/plain": [
       "array(['van', 'van', 'saab', 'van', 'bus', 'bus', 'bus', 'van', 'van',\n",
       "       'opel', 'van', 'saab', 'bus', 'van', 'bus', 'opel', 'van', 'bus',\n",
       "       'saab', 'opel', 'bus', 'opel', 'bus', 'van', 'opel', 'van', 'saab',\n",
       "       'saab', 'bus', 'opel', 'van', 'van', 'saab', 'saab', 'opel', 'van',\n",
       "       'bus', 'van', 'saab', 'bus', 'opel', 'van', 'van', 'saab', 'saab',\n",
       "       'van', 'van', 'bus', 'van', 'opel', 'opel', 'opel', 'saab', 'bus',\n",
       "       'bus', 'van', 'saab', 'van', 'saab', 'van', 'opel', 'opel', 'van',\n",
       "       'bus', 'bus', 'saab', 'bus', 'opel', 'van', 'bus', 'bus', 'opel',\n",
       "       'saab', 'opel', 'van', 'opel', 'saab', 'bus', 'bus', 'bus', 'bus',\n",
       "       'bus', 'van', 'opel', 'bus', 'bus', 'van', 'van', 'bus', 'opel',\n",
       "       'saab', 'saab', 'saab', 'van', 'bus', 'opel', 'saab', 'bus',\n",
       "       'saab', 'bus', 'bus', 'van', 'van', 'van', 'bus', 'saab', 'opel',\n",
       "       'opel', 'bus', 'bus', 'van', 'van', 'opel', 'saab', 'van', 'van',\n",
       "       'saab', 'saab', 'bus', 'bus', 'bus', 'van', 'van', 'saab', 'van',\n",
       "       'van', 'bus', 'opel', 'van', 'bus', 'saab', 'opel', 'saab', 'van',\n",
       "       'bus', 'van', 'van', 'van', 'van', 'van', 'opel', 'bus', 'saab',\n",
       "       'bus', 'opel', 'opel', 'van', 'bus', 'opel', 'van', 'saab', 'bus',\n",
       "       'saab', 'saab', 'van', 'bus', 'opel', 'van', 'opel', 'opel', 'bus',\n",
       "       'saab', 'saab', 'van', 'opel', 'opel', 'opel', 'saab', 'bus',\n",
       "       'van', 'saab', 'bus', 'van', 'bus', 'van', 'bus', 'opel', 'van',\n",
       "       'bus', 'van', 'saab', 'opel', 'bus', 'saab', 'saab', 'bus', 'bus',\n",
       "       'saab', 'saab', 'saab', 'opel', 'van', 'saab', 'bus', 'saab',\n",
       "       'bus', 'opel', 'bus', 'bus', 'bus', 'van', 'opel', 'opel', 'opel',\n",
       "       'van', 'van', 'opel', 'bus', 'bus', 'bus', 'opel', 'van', 'bus',\n",
       "       'bus', 'saab', 'saab', 'opel', 'opel', 'bus', 'van', 'opel', 'van',\n",
       "       'bus', 'bus', 'opel', 'van', 'saab', 'van', 'saab', 'bus', 'van',\n",
       "       'van', 'bus', 'opel', 'van', 'van', 'bus', 'bus', 'opel', 'bus',\n",
       "       'opel', 'saab', 'bus', 'opel', 'van', 'van', 'bus', 'opel', 'saab',\n",
       "       'saab', 'van', 'saab', 'van', 'bus', 'van', 'saab', 'opel', 'opel',\n",
       "       'saab', 'opel', 'opel', 'saab', 'van', 'van', 'saab', 'bus', 'bus',\n",
       "       'saab', 'van', 'van', 'bus', 'saab', 'van', 'van', 'bus', 'bus',\n",
       "       'bus', 'saab', 'saab', 'bus', 'opel', 'bus', 'bus', 'saab', 'van',\n",
       "       'opel', 'bus', 'van', 'saab', 'bus', 'van', 'van', 'bus', 'van',\n",
       "       'bus', 'bus', 'bus', 'opel', 'saab', 'bus', 'saab', 'saab', 'bus',\n",
       "       'van', 'bus', 'bus', 'saab', 'opel', 'saab', 'saab', 'opel', 'van',\n",
       "       'opel', 'saab', 'bus', 'van', 'van', 'opel', 'van', 'bus', 'opel',\n",
       "       'bus', 'bus', 'saab', 'saab', 'bus', 'opel', 'opel', 'van', 'opel',\n",
       "       'van', 'saab', 'opel', 'bus', 'bus', 'saab', 'van', 'bus', 'van',\n",
       "       'bus', 'bus', 'van', 'bus', 'opel', 'opel', 'bus', 'saab', 'opel',\n",
       "       'van', 'van', 'opel', 'bus', 'van', 'bus', 'opel', 'saab', 'bus',\n",
       "       'saab', 'opel', 'opel', 'van', 'saab', 'opel', 'van', 'opel',\n",
       "       'saab', 'van', 'opel', 'bus', 'opel', 'bus', 'bus', 'van', 'bus',\n",
       "       'van', 'bus', 'saab', 'saab', 'opel', 'opel', 'opel', 'bus', 'bus',\n",
       "       'opel', 'saab', 'van', 'saab', 'van', 'van', 'opel', 'bus', 'van',\n",
       "       'van', 'bus', 'saab', 'saab', 'bus', 'bus', 'bus', 'van', 'saab',\n",
       "       'opel', 'opel', 'van', 'opel', 'bus', 'opel', 'saab', 'bus',\n",
       "       'opel', 'opel', 'opel', 'bus', 'saab', 'van', 'opel', 'bus', 'bus',\n",
       "       'bus', 'van', 'van', 'opel', 'saab', 'bus', 'opel', 'saab', 'saab',\n",
       "       'opel', 'saab', 'van', 'saab', 'bus', 'opel', 'bus', 'saab', 'van',\n",
       "       'van', 'saab', 'opel', 'opel', 'saab', 'bus', 'van', 'opel', 'bus',\n",
       "       'van', 'saab', 'opel', 'bus', 'van', 'bus', 'saab', 'saab', 'bus',\n",
       "       'saab', 'bus', 'van', 'bus', 'opel', 'opel', 'van', 'opel', 'opel',\n",
       "       'bus', 'bus', 'bus', 'bus', 'bus', 'saab', 'van', 'van', 'opel',\n",
       "       'bus', 'opel', 'opel', 'opel', 'opel', 'van', 'bus', 'bus', 'bus',\n",
       "       'opel', 'saab', 'van', 'van', 'bus', 'opel', 'saab', 'opel',\n",
       "       'opel', 'saab', 'saab', 'bus', 'opel', 'bus', 'bus', 'opel', 'van',\n",
       "       'van', 'bus', 'opel', 'opel', 'saab', 'saab', 'saab', 'saab',\n",
       "       'saab', 'saab', 'van', 'opel', 'bus', 'opel', 'opel', 'saab',\n",
       "       'van', 'opel', 'opel', 'saab', 'opel', 'van', 'opel', 'van',\n",
       "       'saab', 'van', 'opel', 'opel', 'saab', 'saab', 'bus', 'bus',\n",
       "       'opel', 'bus', 'saab', 'van', 'van', 'van', 'opel', 'van', 'opel',\n",
       "       'bus', 'bus', 'van', 'opel', 'saab', 'bus', 'van', 'van', 'bus',\n",
       "       'bus', 'saab', 'van', 'opel', 'saab', 'bus', 'saab', 'opel', 'bus',\n",
       "       'bus', 'bus', 'opel', 'opel', 'opel', 'saab', 'saab', 'bus',\n",
       "       'saab', 'saab', 'saab', 'bus', 'van', 'saab', 'saab', 'van', 'van',\n",
       "       'opel', 'saab', 'saab', 'saab', 'opel', 'van', 'bus', 'van',\n",
       "       'saab', 'saab', 'bus', 'van', 'opel', 'opel', 'saab', 'opel',\n",
       "       'bus', 'opel', 'bus', 'saab', 'saab', 'opel', 'opel', 'van', 'bus',\n",
       "       'van', 'bus', 'van', 'opel', 'saab', 'opel', 'opel', 'van', 'van',\n",
       "       'opel', 'bus', 'opel', 'van', 'van', 'bus', 'van', 'opel', 'opel',\n",
       "       'van', 'van', 'opel', 'saab', 'van', 'saab', 'saab', 'opel',\n",
       "       'opel', 'bus', 'bus', 'bus', 'van', 'saab', 'opel', 'bus', 'opel',\n",
       "       'saab', 'van', 'van', 'bus', 'bus', 'opel', 'saab', 'bus', 'opel',\n",
       "       'bus', 'van', 'opel', 'bus', 'opel', 'saab', 'saab', 'opel', 'bus',\n",
       "       'saab', 'opel', 'opel', 'van', 'bus', 'van', 'van', 'saab', 'van',\n",
       "       'saab', 'saab', 'opel', 'van', 'van', 'saab', 'saab', 'van', 'bus',\n",
       "       'saab', 'saab', 'bus', 'saab', 'saab', 'opel', 'bus', 'bus', 'bus',\n",
       "       'bus', 'van', 'bus', 'van', 'bus', 'bus', 'bus', 'van', 'opel',\n",
       "       'van', 'saab', 'opel', 'bus', 'saab', 'van', 'saab', 'van', 'opel',\n",
       "       'bus', 'bus', 'saab', 'opel', 'saab', 'saab', 'van', 'opel',\n",
       "       'saab', 'opel', 'van', 'van', 'opel', 'bus', 'saab', 'saab',\n",
       "       'saab', 'bus', 'opel', 'saab', 'bus', 'saab', 'saab', 'saab',\n",
       "       'saab', 'van', 'saab', 'van', 'van', 'saab', 'bus', 'saab', 'saab',\n",
       "       'opel', 'bus', 'van', 'bus', 'van', 'opel', 'opel', 'bus', 'bus',\n",
       "       'van', 'saab', 'bus', 'van', 'opel', 'van', 'bus', 'van', 'opel',\n",
       "       'van', 'saab', 'saab', 'opel', 'bus', 'saab', 'van', 'van', 'saab',\n",
       "       'opel', 'bus', 'van', 'saab', 'saab', 'van', 'opel', 'saab', 'bus',\n",
       "       'saab', 'bus', 'saab', 'saab', 'bus', 'opel', 'saab', 'bus', 'van',\n",
       "       'bus', 'saab', 'bus', 'saab', 'van', 'saab', 'van', 'opel', 'saab',\n",
       "       'van', 'bus', 'saab', 'van', 'saab', 'saab', 'bus', 'van', 'opel',\n",
       "       'bus', 'van', 'saab', 'opel', 'saab', 'opel', 'bus', 'van', 'opel',\n",
       "       'opel', 'bus', 'saab', 'bus', 'opel', 'saab', 'bus', 'bus', 'opel',\n",
       "       'opel', 'bus', 'van', 'bus', 'bus', 'van', 'saab', 'opel', 'saab',\n",
       "       'saab', 'opel', 'van', 'opel', 'opel', 'saab', 'opel', 'opel',\n",
       "       'van', 'van', 'bus', 'bus', 'saab', 'saab', 'bus', 'bus', 'van',\n",
       "       'saab', 'van', 'van', 'saab', 'saab', 'van', 'saab', 'saab', 'van'],\n",
       "      dtype='<U4')"
      ]
     },
     "execution_count": 35,
     "metadata": {},
     "output_type": "execute_result"
    }
   ],
   "source": [
    "#Calculando las predicciones\n",
    "pred=ldadis.predict(X1)\n",
    "pred"
   ]
  },
  {
   "cell_type": "code",
   "execution_count": 36,
   "metadata": {},
   "outputs": [
    {
     "data": {
      "text/plain": [
       "array([[211,   4,   0,   3],\n",
       "       [  7, 133,  66,   6],\n",
       "       [ 11,  57, 139,  10],\n",
       "       [  2,   3,   2, 192]], dtype=int64)"
      ]
     },
     "execution_count": 36,
     "metadata": {},
     "output_type": "execute_result"
    }
   ],
   "source": [
    "confusion_matrix(y1,pred)"
   ]
  },
  {
   "cell_type": "code",
   "execution_count": 37,
   "metadata": {},
   "outputs": [
    {
     "data": {
      "text/html": [
       "<div>\n",
       "<style scoped>\n",
       "    .dataframe tbody tr th:only-of-type {\n",
       "        vertical-align: middle;\n",
       "    }\n",
       "\n",
       "    .dataframe tbody tr th {\n",
       "        vertical-align: top;\n",
       "    }\n",
       "\n",
       "    .dataframe thead th {\n",
       "        text-align: right;\n",
       "    }\n",
       "</style>\n",
       "<table border=\"1\" class=\"dataframe\">\n",
       "  <thead>\n",
       "    <tr style=\"text-align: right;\">\n",
       "      <th>col_0</th>\n",
       "      <th>bus</th>\n",
       "      <th>opel</th>\n",
       "      <th>saab</th>\n",
       "      <th>van</th>\n",
       "    </tr>\n",
       "    <tr>\n",
       "      <th>Class</th>\n",
       "      <th></th>\n",
       "      <th></th>\n",
       "      <th></th>\n",
       "      <th></th>\n",
       "    </tr>\n",
       "  </thead>\n",
       "  <tbody>\n",
       "    <tr>\n",
       "      <th>bus</th>\n",
       "      <td>211</td>\n",
       "      <td>4</td>\n",
       "      <td>0</td>\n",
       "      <td>3</td>\n",
       "    </tr>\n",
       "    <tr>\n",
       "      <th>opel</th>\n",
       "      <td>7</td>\n",
       "      <td>133</td>\n",
       "      <td>66</td>\n",
       "      <td>6</td>\n",
       "    </tr>\n",
       "    <tr>\n",
       "      <th>saab</th>\n",
       "      <td>11</td>\n",
       "      <td>57</td>\n",
       "      <td>139</td>\n",
       "      <td>10</td>\n",
       "    </tr>\n",
       "    <tr>\n",
       "      <th>van</th>\n",
       "      <td>2</td>\n",
       "      <td>3</td>\n",
       "      <td>2</td>\n",
       "      <td>192</td>\n",
       "    </tr>\n",
       "  </tbody>\n",
       "</table>\n",
       "</div>"
      ],
      "text/plain": [
       "col_0  bus  opel  saab  van\n",
       "Class                      \n",
       "bus    211     4     0    3\n",
       "opel     7   133    66    6\n",
       "saab    11    57   139   10\n",
       "van      2     3     2  192"
      ]
     },
     "execution_count": 37,
     "metadata": {},
     "output_type": "execute_result"
    }
   ],
   "source": [
    "#Esta es una mejor presentacion\n",
    "pd.crosstab(y,pred)"
   ]
  },
  {
   "cell_type": "code",
   "execution_count": null,
   "metadata": {},
   "outputs": [],
   "source": []
  }
 ],
 "metadata": {
  "kernelspec": {
   "display_name": "Python 3",
   "language": "python",
   "name": "python3"
  },
  "language_info": {
   "codemirror_mode": {
    "name": "ipython",
    "version": 3
   },
   "file_extension": ".py",
   "mimetype": "text/x-python",
   "name": "python",
   "nbconvert_exporter": "python",
   "pygments_lexer": "ipython3",
   "version": "3.8.8"
  }
 },
 "nbformat": 4,
 "nbformat_minor": 2
}
