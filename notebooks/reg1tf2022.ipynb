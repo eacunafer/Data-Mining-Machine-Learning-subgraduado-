{
 "cells": [
  {
   "cell_type": "markdown",
   "metadata": {},
   "source": [
    "## ESMA 4016\n",
    "## Simple Linear Regression using Tensorflow\n",
    "## Edgar Acuna\n",
    "### February 2022"
   ]
  },
  {
   "cell_type": "code",
   "execution_count": 16,
   "metadata": {},
   "outputs": [],
   "source": [
    "import numpy as np \n",
    "import tensorflow as tf \n",
    "import matplotlib.pyplot as plt \n",
    "import warnings\n",
    "warnings.filterwarnings('ignore')\n",
    "%matplotlib inline"
   ]
  },
  {
   "cell_type": "code",
   "execution_count": 17,
   "metadata": {},
   "outputs": [
    {
     "name": "stdout",
     "output_type": "stream",
     "text": [
      "10\n"
     ]
    }
   ],
   "source": [
    "#Entering the data\n",
    "x=[3.0,4.0,6.0,7.0,8.0,12.0,15.0,20.0,22.0,26.0]\n",
    "y=[9,12,16,19,23,27,34,37,40,45]\n",
    "x=np.asarray(x)\n",
    "y=np.asarray(y)\n",
    "n=len(x)\n",
    "print(n)"
   ]
  },
  {
   "cell_type": "code",
   "execution_count": 18,
   "metadata": {},
   "outputs": [],
   "source": [
    "#Randon seeed for reproducibility \n",
    "#np.random.seed(101) \n",
    "#tf.compat.v1.set_random_seed(101) "
   ]
  },
  {
   "cell_type": "code",
   "execution_count": 19,
   "metadata": {},
   "outputs": [],
   "source": [
    "tf.compat.v1.disable_eager_execution()\n",
    "X = tf.compat.v1.placeholder(\"float\") \n",
    "Y = tf.compat.v1.placeholder(\"float\") "
   ]
  },
  {
   "cell_type": "code",
   "execution_count": 20,
   "metadata": {},
   "outputs": [],
   "source": [
    "W = tf.compat.v1.Variable(np.random.randn(), name = \"W\") \n",
    "b = tf.compat.v1.Variable(np.random.randn(), name = \"b\")\n",
    "#W = tf.Variable([4.0], name = \"W\") \n",
    "b= tf.compat.v1.Variable([10.0], name = \"b\")"
   ]
  },
  {
   "cell_type": "code",
   "execution_count": 21,
   "metadata": {},
   "outputs": [],
   "source": [
    "#  \n",
    "y_pred = tf.compat.v1.add(tf.multiply(X, W), b) "
   ]
  },
  {
   "cell_type": "code",
   "execution_count": 22,
   "metadata": {},
   "outputs": [],
   "source": [
    "learning_rate = 0.01\n",
    "training_epochs = 10000"
   ]
  },
  {
   "cell_type": "code",
   "execution_count": 23,
   "metadata": {},
   "outputs": [],
   "source": [
    "# Mean Squared Error Cost Function in the standard form\n",
    "cost = tf.compat.v1.reduce_sum(tf.pow(y_pred-Y, 2))/n"
   ]
  },
  {
   "cell_type": "code",
   "execution_count": 24,
   "metadata": {},
   "outputs": [],
   "source": [
    "# Gradient Descent Optimizer \n",
    "optimizer = tf.compat.v1.train.GradientDescentOptimizer(learning_rate).minimize(cost) "
   ]
  },
  {
   "cell_type": "code",
   "execution_count": 25,
   "metadata": {},
   "outputs": [],
   "source": [
    "# Global Variables Initializer \n",
    "init = tf.compat.v1.global_variables_initializer() "
   ]
  },
  {
   "cell_type": "code",
   "execution_count": 26,
   "metadata": {
    "scrolled": true
   },
   "outputs": [
    {
     "name": "stdout",
     "output_type": "stream",
     "text": [
      "Epoch 50 : cost = 5.9545856 W = 1.3512868 b = [9.682311]\n",
      "Epoch 100 : cost = 5.7436247 W = 1.3629414 b = [9.357608]\n",
      "Epoch 150 : cost = 5.6375556 W = 1.3718475 b = [9.10948]\n",
      "Epoch 200 : cost = 5.588701 W = 1.3786532 b = [8.91987]\n",
      "Epoch 250 : cost = 5.570171 W = 1.3838539 b = [8.774978]\n",
      "Epoch 300 : cost = 5.566993 W = 1.3878279 b = [8.664263]\n",
      "Epoch 350 : cost = 5.57098 W = 1.3908648 b = [8.579646]\n",
      "Epoch 400 : cost = 5.5777674 W = 1.3931856 b = [8.514987]\n",
      "Epoch 450 : cost = 5.5851398 W = 1.3949593 b = [8.465573]\n",
      "Epoch 500 : cost = 5.592053 W = 1.3963145 b = [8.427817]\n",
      "Epoch 550 : cost = 5.598081 W = 1.3973503 b = [8.39896]\n",
      "Epoch 600 : cost = 5.603121 W = 1.3981419 b = [8.376909]\n",
      "Epoch 650 : cost = 5.6072288 W = 1.3987466 b = [8.360059]\n",
      "Epoch 700 : cost = 5.610515 W = 1.3992089 b = [8.34718]\n",
      "Epoch 750 : cost = 5.6131186 W = 1.399562 b = [8.337341]\n",
      "Epoch 800 : cost = 5.6151557 W = 1.3998318 b = [8.329823]\n",
      "Epoch 850 : cost = 5.616739 W = 1.4000382 b = [8.324074]\n",
      "Epoch 900 : cost = 5.617967 W = 1.4001956 b = [8.319689]\n",
      "Epoch 950 : cost = 5.6189203 W = 1.4003159 b = [8.316333]\n",
      "Epoch 1000 : cost = 5.6196494 W = 1.400408 b = [8.313767]\n",
      "Epoch 1050 : cost = 5.620207 W = 1.4004778 b = [8.311826]\n",
      "Epoch 1100 : cost = 5.620647 W = 1.4005321 b = [8.310308]\n",
      "Epoch 1150 : cost = 5.6209755 W = 1.4005735 b = [8.30916]\n",
      "Epoch 1200 : cost = 5.62122 W = 1.400604 b = [8.308312]\n",
      "Epoch 1250 : cost = 5.62141 W = 1.4006279 b = [8.30765]\n",
      "Epoch 1300 : cost = 5.621559 W = 1.4006463 b = [8.307135]\n",
      "Epoch 1350 : cost = 5.621677 W = 1.4006604 b = [8.306741]\n",
      "Epoch 1400 : cost = 5.6217704 W = 1.4006711 b = [8.306437]\n",
      "Epoch 1450 : cost = 5.6218343 W = 1.4006795 b = [8.306208]\n",
      "Epoch 1500 : cost = 5.6219006 W = 1.4006876 b = [8.305983]\n",
      "Epoch 1550 : cost = 5.6219435 W = 1.4006934 b = [8.305822]\n",
      "Epoch 1600 : cost = 5.621972 W = 1.4006966 b = [8.305731]\n",
      "Epoch 1650 : cost = 5.6219864 W = 1.4006983 b = [8.305683]\n",
      "Epoch 1700 : cost = 5.6219983 W = 1.4007001 b = [8.305635]\n",
      "Epoch 1750 : cost = 5.622013 W = 1.4007009 b = [8.305606]\n",
      "Epoch 1800 : cost = 5.622013 W = 1.4007009 b = [8.305606]\n",
      "Epoch 1850 : cost = 5.622013 W = 1.4007009 b = [8.305606]\n",
      "Epoch 1900 : cost = 5.622013 W = 1.4007009 b = [8.305606]\n",
      "Epoch 1950 : cost = 5.622013 W = 1.4007009 b = [8.305606]\n",
      "Epoch 2000 : cost = 5.622013 W = 1.4007009 b = [8.305606]\n",
      "Epoch 2050 : cost = 5.622013 W = 1.4007009 b = [8.305606]\n",
      "Epoch 2100 : cost = 5.622013 W = 1.4007009 b = [8.305606]\n",
      "Epoch 2150 : cost = 5.622013 W = 1.4007009 b = [8.305606]\n",
      "Epoch 2200 : cost = 5.622013 W = 1.4007009 b = [8.305606]\n",
      "Epoch 2250 : cost = 5.622013 W = 1.4007009 b = [8.305606]\n",
      "Epoch 2300 : cost = 5.622013 W = 1.4007009 b = [8.305606]\n",
      "Epoch 2350 : cost = 5.622013 W = 1.4007009 b = [8.305606]\n",
      "Epoch 2400 : cost = 5.622013 W = 1.4007009 b = [8.305606]\n",
      "Epoch 2450 : cost = 5.622013 W = 1.4007009 b = [8.305606]\n",
      "Epoch 2500 : cost = 5.622013 W = 1.4007009 b = [8.305606]\n",
      "Epoch 2550 : cost = 5.622013 W = 1.4007009 b = [8.305606]\n",
      "Epoch 2600 : cost = 5.622013 W = 1.4007009 b = [8.305606]\n",
      "Epoch 2650 : cost = 5.622013 W = 1.4007009 b = [8.305606]\n",
      "Epoch 2700 : cost = 5.622013 W = 1.4007009 b = [8.305606]\n",
      "Epoch 2750 : cost = 5.622013 W = 1.4007009 b = [8.305606]\n",
      "Epoch 2800 : cost = 5.622013 W = 1.4007009 b = [8.305606]\n",
      "Epoch 2850 : cost = 5.622013 W = 1.4007009 b = [8.305606]\n",
      "Epoch 2900 : cost = 5.622013 W = 1.4007009 b = [8.305606]\n",
      "Epoch 2950 : cost = 5.622013 W = 1.4007009 b = [8.305606]\n",
      "Epoch 3000 : cost = 5.622013 W = 1.4007009 b = [8.305606]\n",
      "Epoch 3050 : cost = 5.622013 W = 1.4007009 b = [8.305606]\n",
      "Epoch 3100 : cost = 5.622013 W = 1.4007009 b = [8.305606]\n",
      "Epoch 3150 : cost = 5.622013 W = 1.4007009 b = [8.305606]\n",
      "Epoch 3200 : cost = 5.622013 W = 1.4007009 b = [8.305606]\n",
      "Epoch 3250 : cost = 5.622013 W = 1.4007009 b = [8.305606]\n",
      "Epoch 3300 : cost = 5.622013 W = 1.4007009 b = [8.305606]\n",
      "Epoch 3350 : cost = 5.622013 W = 1.4007009 b = [8.305606]\n",
      "Epoch 3400 : cost = 5.622013 W = 1.4007009 b = [8.305606]\n",
      "Epoch 3450 : cost = 5.622013 W = 1.4007009 b = [8.305606]\n",
      "Epoch 3500 : cost = 5.622013 W = 1.4007009 b = [8.305606]\n",
      "Epoch 3550 : cost = 5.622013 W = 1.4007009 b = [8.305606]\n",
      "Epoch 3600 : cost = 5.622013 W = 1.4007009 b = [8.305606]\n",
      "Epoch 3650 : cost = 5.622013 W = 1.4007009 b = [8.305606]\n",
      "Epoch 3700 : cost = 5.622013 W = 1.4007009 b = [8.305606]\n",
      "Epoch 3750 : cost = 5.622013 W = 1.4007009 b = [8.305606]\n",
      "Epoch 3800 : cost = 5.622013 W = 1.4007009 b = [8.305606]\n",
      "Epoch 3850 : cost = 5.622013 W = 1.4007009 b = [8.305606]\n",
      "Epoch 3900 : cost = 5.622013 W = 1.4007009 b = [8.305606]\n",
      "Epoch 3950 : cost = 5.622013 W = 1.4007009 b = [8.305606]\n",
      "Epoch 4000 : cost = 5.622013 W = 1.4007009 b = [8.305606]\n",
      "Epoch 4050 : cost = 5.622013 W = 1.4007009 b = [8.305606]\n",
      "Epoch 4100 : cost = 5.622013 W = 1.4007009 b = [8.305606]\n",
      "Epoch 4150 : cost = 5.622013 W = 1.4007009 b = [8.305606]\n",
      "Epoch 4200 : cost = 5.622013 W = 1.4007009 b = [8.305606]\n",
      "Epoch 4250 : cost = 5.622013 W = 1.4007009 b = [8.305606]\n",
      "Epoch 4300 : cost = 5.622013 W = 1.4007009 b = [8.305606]\n",
      "Epoch 4350 : cost = 5.622013 W = 1.4007009 b = [8.305606]\n",
      "Epoch 4400 : cost = 5.622013 W = 1.4007009 b = [8.305606]\n",
      "Epoch 4450 : cost = 5.622013 W = 1.4007009 b = [8.305606]\n",
      "Epoch 4500 : cost = 5.622013 W = 1.4007009 b = [8.305606]\n",
      "Epoch 4550 : cost = 5.622013 W = 1.4007009 b = [8.305606]\n",
      "Epoch 4600 : cost = 5.622013 W = 1.4007009 b = [8.305606]\n",
      "Epoch 4650 : cost = 5.622013 W = 1.4007009 b = [8.305606]\n",
      "Epoch 4700 : cost = 5.622013 W = 1.4007009 b = [8.305606]\n",
      "Epoch 4750 : cost = 5.622013 W = 1.4007009 b = [8.305606]\n",
      "Epoch 4800 : cost = 5.622013 W = 1.4007009 b = [8.305606]\n",
      "Epoch 4850 : cost = 5.622013 W = 1.4007009 b = [8.305606]\n",
      "Epoch 4900 : cost = 5.622013 W = 1.4007009 b = [8.305606]\n",
      "Epoch 4950 : cost = 5.622013 W = 1.4007009 b = [8.305606]\n",
      "Epoch 5000 : cost = 5.622013 W = 1.4007009 b = [8.305606]\n",
      "Epoch 5050 : cost = 5.622013 W = 1.4007009 b = [8.305606]\n",
      "Epoch 5100 : cost = 5.622013 W = 1.4007009 b = [8.305606]\n",
      "Epoch 5150 : cost = 5.622013 W = 1.4007009 b = [8.305606]\n",
      "Epoch 5200 : cost = 5.622013 W = 1.4007009 b = [8.305606]\n",
      "Epoch 5250 : cost = 5.622013 W = 1.4007009 b = [8.305606]\n",
      "Epoch 5300 : cost = 5.622013 W = 1.4007009 b = [8.305606]\n",
      "Epoch 5350 : cost = 5.622013 W = 1.4007009 b = [8.305606]\n",
      "Epoch 5400 : cost = 5.622013 W = 1.4007009 b = [8.305606]\n",
      "Epoch 5450 : cost = 5.622013 W = 1.4007009 b = [8.305606]\n",
      "Epoch 5500 : cost = 5.622013 W = 1.4007009 b = [8.305606]\n",
      "Epoch 5550 : cost = 5.622013 W = 1.4007009 b = [8.305606]\n",
      "Epoch 5600 : cost = 5.622013 W = 1.4007009 b = [8.305606]\n",
      "Epoch 5650 : cost = 5.622013 W = 1.4007009 b = [8.305606]\n",
      "Epoch 5700 : cost = 5.622013 W = 1.4007009 b = [8.305606]\n",
      "Epoch 5750 : cost = 5.622013 W = 1.4007009 b = [8.305606]\n",
      "Epoch 5800 : cost = 5.622013 W = 1.4007009 b = [8.305606]\n",
      "Epoch 5850 : cost = 5.622013 W = 1.4007009 b = [8.305606]\n",
      "Epoch 5900 : cost = 5.622013 W = 1.4007009 b = [8.305606]\n",
      "Epoch 5950 : cost = 5.622013 W = 1.4007009 b = [8.305606]\n",
      "Epoch 6000 : cost = 5.622013 W = 1.4007009 b = [8.305606]\n",
      "Epoch 6050 : cost = 5.622013 W = 1.4007009 b = [8.305606]\n",
      "Epoch 6100 : cost = 5.622013 W = 1.4007009 b = [8.305606]\n",
      "Epoch 6150 : cost = 5.622013 W = 1.4007009 b = [8.305606]\n",
      "Epoch 6200 : cost = 5.622013 W = 1.4007009 b = [8.305606]\n",
      "Epoch 6250 : cost = 5.622013 W = 1.4007009 b = [8.305606]\n",
      "Epoch 6300 : cost = 5.622013 W = 1.4007009 b = [8.305606]\n",
      "Epoch 6350 : cost = 5.622013 W = 1.4007009 b = [8.305606]\n",
      "Epoch 6400 : cost = 5.622013 W = 1.4007009 b = [8.305606]\n",
      "Epoch 6450 : cost = 5.622013 W = 1.4007009 b = [8.305606]\n",
      "Epoch 6500 : cost = 5.622013 W = 1.4007009 b = [8.305606]\n",
      "Epoch 6550 : cost = 5.622013 W = 1.4007009 b = [8.305606]\n",
      "Epoch 6600 : cost = 5.622013 W = 1.4007009 b = [8.305606]\n",
      "Epoch 6650 : cost = 5.622013 W = 1.4007009 b = [8.305606]\n",
      "Epoch 6700 : cost = 5.622013 W = 1.4007009 b = [8.305606]\n",
      "Epoch 6750 : cost = 5.622013 W = 1.4007009 b = [8.305606]\n",
      "Epoch 6800 : cost = 5.622013 W = 1.4007009 b = [8.305606]\n",
      "Epoch 6850 : cost = 5.622013 W = 1.4007009 b = [8.305606]\n",
      "Epoch 6900 : cost = 5.622013 W = 1.4007009 b = [8.305606]\n",
      "Epoch 6950 : cost = 5.622013 W = 1.4007009 b = [8.305606]\n",
      "Epoch 7000 : cost = 5.622013 W = 1.4007009 b = [8.305606]\n",
      "Epoch 7050 : cost = 5.622013 W = 1.4007009 b = [8.305606]\n",
      "Epoch 7100 : cost = 5.622013 W = 1.4007009 b = [8.305606]\n",
      "Epoch 7150 : cost = 5.622013 W = 1.4007009 b = [8.305606]\n"
     ]
    },
    {
     "name": "stdout",
     "output_type": "stream",
     "text": [
      "Epoch 7200 : cost = 5.622013 W = 1.4007009 b = [8.305606]\n",
      "Epoch 7250 : cost = 5.622013 W = 1.4007009 b = [8.305606]\n",
      "Epoch 7300 : cost = 5.622013 W = 1.4007009 b = [8.305606]\n",
      "Epoch 7350 : cost = 5.622013 W = 1.4007009 b = [8.305606]\n",
      "Epoch 7400 : cost = 5.622013 W = 1.4007009 b = [8.305606]\n",
      "Epoch 7450 : cost = 5.622013 W = 1.4007009 b = [8.305606]\n",
      "Epoch 7500 : cost = 5.622013 W = 1.4007009 b = [8.305606]\n",
      "Epoch 7550 : cost = 5.622013 W = 1.4007009 b = [8.305606]\n",
      "Epoch 7600 : cost = 5.622013 W = 1.4007009 b = [8.305606]\n",
      "Epoch 7650 : cost = 5.622013 W = 1.4007009 b = [8.305606]\n",
      "Epoch 7700 : cost = 5.622013 W = 1.4007009 b = [8.305606]\n",
      "Epoch 7750 : cost = 5.622013 W = 1.4007009 b = [8.305606]\n",
      "Epoch 7800 : cost = 5.622013 W = 1.4007009 b = [8.305606]\n",
      "Epoch 7850 : cost = 5.622013 W = 1.4007009 b = [8.305606]\n",
      "Epoch 7900 : cost = 5.622013 W = 1.4007009 b = [8.305606]\n",
      "Epoch 7950 : cost = 5.622013 W = 1.4007009 b = [8.305606]\n",
      "Epoch 8000 : cost = 5.622013 W = 1.4007009 b = [8.305606]\n",
      "Epoch 8050 : cost = 5.622013 W = 1.4007009 b = [8.305606]\n",
      "Epoch 8100 : cost = 5.622013 W = 1.4007009 b = [8.305606]\n",
      "Epoch 8150 : cost = 5.622013 W = 1.4007009 b = [8.305606]\n",
      "Epoch 8200 : cost = 5.622013 W = 1.4007009 b = [8.305606]\n",
      "Epoch 8250 : cost = 5.622013 W = 1.4007009 b = [8.305606]\n",
      "Epoch 8300 : cost = 5.622013 W = 1.4007009 b = [8.305606]\n",
      "Epoch 8350 : cost = 5.622013 W = 1.4007009 b = [8.305606]\n",
      "Epoch 8400 : cost = 5.622013 W = 1.4007009 b = [8.305606]\n",
      "Epoch 8450 : cost = 5.622013 W = 1.4007009 b = [8.305606]\n",
      "Epoch 8500 : cost = 5.622013 W = 1.4007009 b = [8.305606]\n",
      "Epoch 8550 : cost = 5.622013 W = 1.4007009 b = [8.305606]\n",
      "Epoch 8600 : cost = 5.622013 W = 1.4007009 b = [8.305606]\n",
      "Epoch 8650 : cost = 5.622013 W = 1.4007009 b = [8.305606]\n",
      "Epoch 8700 : cost = 5.622013 W = 1.4007009 b = [8.305606]\n",
      "Epoch 8750 : cost = 5.622013 W = 1.4007009 b = [8.305606]\n",
      "Epoch 8800 : cost = 5.622013 W = 1.4007009 b = [8.305606]\n",
      "Epoch 8850 : cost = 5.622013 W = 1.4007009 b = [8.305606]\n",
      "Epoch 8900 : cost = 5.622013 W = 1.4007009 b = [8.305606]\n",
      "Epoch 8950 : cost = 5.622013 W = 1.4007009 b = [8.305606]\n",
      "Epoch 9000 : cost = 5.622013 W = 1.4007009 b = [8.305606]\n",
      "Epoch 9050 : cost = 5.622013 W = 1.4007009 b = [8.305606]\n",
      "Epoch 9100 : cost = 5.622013 W = 1.4007009 b = [8.305606]\n",
      "Epoch 9150 : cost = 5.622013 W = 1.4007009 b = [8.305606]\n",
      "Epoch 9200 : cost = 5.622013 W = 1.4007009 b = [8.305606]\n",
      "Epoch 9250 : cost = 5.622013 W = 1.4007009 b = [8.305606]\n",
      "Epoch 9300 : cost = 5.622013 W = 1.4007009 b = [8.305606]\n",
      "Epoch 9350 : cost = 5.622013 W = 1.4007009 b = [8.305606]\n",
      "Epoch 9400 : cost = 5.622013 W = 1.4007009 b = [8.305606]\n",
      "Epoch 9450 : cost = 5.622013 W = 1.4007009 b = [8.305606]\n",
      "Epoch 9500 : cost = 5.622013 W = 1.4007009 b = [8.305606]\n",
      "Epoch 9550 : cost = 5.622013 W = 1.4007009 b = [8.305606]\n",
      "Epoch 9600 : cost = 5.622013 W = 1.4007009 b = [8.305606]\n",
      "Epoch 9650 : cost = 5.622013 W = 1.4007009 b = [8.305606]\n",
      "Epoch 9700 : cost = 5.622013 W = 1.4007009 b = [8.305606]\n",
      "Epoch 9750 : cost = 5.622013 W = 1.4007009 b = [8.305606]\n",
      "Epoch 9800 : cost = 5.622013 W = 1.4007009 b = [8.305606]\n",
      "Epoch 9850 : cost = 5.622013 W = 1.4007009 b = [8.305606]\n",
      "Epoch 9900 : cost = 5.622013 W = 1.4007009 b = [8.305606]\n",
      "Epoch 9950 : cost = 5.622013 W = 1.4007009 b = [8.305606]\n",
      "Epoch 10000 : cost = 5.622013 W = 1.4007009 b = [8.305606]\n"
     ]
    }
   ],
   "source": [
    "# Starting the Tensorflow Session \n",
    "#with tf.# Starting the Tensorflow Session \n",
    "with tf.compat.v1.Session() as sess: \n",
    "      \n",
    "    # Initializing the Variables \n",
    "    sess.run(init) \n",
    "    \n",
    "    # Iterating through all the epochs \n",
    "    for epoch in range(training_epochs): \n",
    "          \n",
    "        # Feeding each data point into the optimizer using Feed Dictionary \n",
    "        for (_x, _y) in zip(x, y): \n",
    "            sess.run(optimizer, feed_dict = {X : _x, Y : _y}) \n",
    "          \n",
    "        # Displaying the result after every 50 epochs \n",
    "        if (epoch + 1) % 50 == 0: \n",
    "            # Calculating the cost a every epoch \n",
    "            c = sess.run(cost, feed_dict = {X : x, Y : y}) \n",
    "            print(\"Epoch\", (epoch + 1), \": cost =\", c, \"W =\", sess.run(W), \"b =\", sess.run(b)) \n",
    "      \n",
    "    # Storing necessary values to be used outside the Session \n",
    "    training_cost = sess.run(cost, feed_dict ={X: x, Y: y}) \n",
    "    weight = sess.run(W) \n",
    "    bias = sess.run(b) "
   ]
  },
  {
   "cell_type": "code",
   "execution_count": 27,
   "metadata": {},
   "outputs": [],
   "source": [
    "#Exact values using Least squares\n",
    "#b=7.661413\n",
    "#W=1.507202"
   ]
  },
  {
   "cell_type": "code",
   "execution_count": 28,
   "metadata": {},
   "outputs": [
    {
     "name": "stdout",
     "output_type": "stream",
     "text": [
      "Training cost = 5.622013 Weight = 1.4007009 bias = [8.305606] \n",
      "\n"
     ]
    }
   ],
   "source": [
    "# Calculating the predictions \n",
    "predictions = weight*x + bias\n",
    "print(\"Training cost =\", training_cost, \"Weight =\", weight, \"bias =\", bias, '\\n') "
   ]
  },
  {
   "cell_type": "code",
   "execution_count": 29,
   "metadata": {},
   "outputs": [
    {
     "name": "stdout",
     "output_type": "stream",
     "text": [
      "[12.50770867 13.9084096  16.70981145 18.11051238 19.5112133  25.11401701\n",
      " 29.31611979 36.31962442 39.12102628 44.72382998]\n"
     ]
    }
   ],
   "source": [
    "print(predictions)"
   ]
  },
  {
   "cell_type": "code",
   "execution_count": 30,
   "metadata": {},
   "outputs": [
    {
     "data": {
      "image/png": "[encoded data removed]",
      "text/plain": [
       "<Figure size 432x288 with 1 Axes>"
      ]
     },
     "metadata": {
      "needs_background": "light"
     },
     "output_type": "display_data"
    }
   ],
   "source": [
    "# Plotting the Results and comparing with the least squares line\n",
    "plt.plot(x, y, 'ro', label ='Original data') \n",
    "plt.plot(x, predictions, label ='Fitted line') \n",
    "#Trazando la linea de regresion sobre el plot de puntos\n",
    "plt.plot(x, np.poly1d(np.polyfit(x, y, 1))(x),color='green')\n",
    "plt.title('Linear Regression Result') \n",
    "plt.legend() \n",
    "plt.show() "
   ]
  },
  {
   "cell_type": "code",
   "execution_count": null,
   "metadata": {},
   "outputs": [],
   "source": []
  }
 ],
 "metadata": {
  "kernelspec": {
   "display_name": "Python 3",
   "language": "python",
   "name": "python3"
  },
  "language_info": {
   "codemirror_mode": {
    "name": "ipython",
    "version": 3
   },
   "file_extension": ".py",
   "mimetype": "text/x-python",
   "name": "python",
   "nbconvert_exporter": "python",
   "pygments_lexer": "ipython3",
   "version": "3.8.8"
  }
 },
 "nbformat": 4,
 "nbformat_minor": 2
}
