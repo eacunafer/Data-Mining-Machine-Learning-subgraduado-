{
 "cells": [
  {
   "cell_type": "markdown",
   "metadata": {},
   "source": [
    "## Handwritten digit recognition using deep learning\n",
    "### MLP and Keras\n",
    "### Edgar Acuna\n",
    "### February 2022"
   ]
  },
  {
   "cell_type": "code",
   "execution_count": 20,
   "metadata": {},
   "outputs": [],
   "source": [
    "import keras\n",
    "from keras.models import Sequential\n",
    "from keras.utils import to_categorical\n",
    "from sklearn.preprocessing import LabelBinarizer\n",
    "from keras.layers import Dense\n",
    "from keras.activations import hard_sigmoid\n",
    "import matplotlib.pyplot as plt\n",
    "%matplotlib inline\n",
    "import warnings\n",
    "warnings.filterwarnings('ignore')"
   ]
  },
  {
   "cell_type": "code",
   "execution_count": 21,
   "metadata": {},
   "outputs": [
    {
     "name": "stdout",
     "output_type": "stream",
     "text": [
      "(60000, 28, 28) (60000,) (10000, 28, 28) (10000,)\n"
     ]
    }
   ],
   "source": [
    "# Load the data\n",
    "(X_train, Y_train), (X_test, Y_test) =keras.datasets.mnist.load_data()\n",
    "print(X_train.shape,Y_train.shape,X_test.shape,Y_test.shape)"
   ]
  },
  {
   "cell_type": "code",
   "execution_count": 22,
   "metadata": {},
   "outputs": [
    {
     "data": {
      "text/plain": [
       "<matplotlib.image.AxesImage at 0x205ea428bb0>"
      ]
     },
     "execution_count": 22,
     "metadata": {},
     "output_type": "execute_result"
    },
    {
     "data": {
      "image/png": "[encoded data removed]",
      "text/plain": [
       "<Figure size 432x288 with 4 Axes>"
      ]
     },
     "metadata": {
      "needs_background": "light"
     },
     "output_type": "display_data"
    }
   ],
   "source": [
    "# normalize x\n",
    "X_train = X_train.astype(float) / 255.\n",
    "X_test = X_test.astype(float) / 255.\n",
    "# we reserve the last 10000 training examples for validation\n",
    "X_train, X_val = X_train[:-10000], X_train[-10000:]\n",
    "y_train, y_val = Y_train[:-10000],Y_train[-10000:]\n",
    "# prepare image and figure\n",
    "fig, ((ax1, ax2), (ax3, ax4)) = plt.subplots(2, 2)\n",
    "ax1.imshow(X_train[0])\n",
    "ax2.imshow(X_train[1])\n",
    "ax3.imshow(X_train[2])\n",
    "ax4.imshow(X_train[3])"
   ]
  },
  {
   "cell_type": "code",
   "execution_count": 23,
   "metadata": {},
   "outputs": [],
   "source": [
    "# Configuration options\n",
    "feature_vector_length = 784\n",
    "num_classes = 10"
   ]
  },
  {
   "cell_type": "code",
   "execution_count": 24,
   "metadata": {},
   "outputs": [],
   "source": [
    "# Reshape the data - MLPs do not understand such things as '2D'.\n",
    "# Reshape to 28 x 28 pixels = 784 features\n",
    "X_train = X_train.reshape(X_train.shape[0], feature_vector_length)\n",
    "X_test = X_test.reshape(X_test.shape[0], feature_vector_length)"
   ]
  },
  {
   "cell_type": "code",
   "execution_count": 25,
   "metadata": {},
   "outputs": [
    {
     "name": "stdout",
     "output_type": "stream",
     "text": [
      "Feature shape: (784,)\n"
     ]
    }
   ],
   "source": [
    "# Convert target classes to categorical ones\n",
    "Y_train = to_categorical(Y_train, num_classes)\n",
    "Y_test = to_categorical(Y_test, num_classes)\n",
    "\n",
    "# Set the input shape\n",
    "input_shape = (feature_vector_length,)\n",
    "print(f'Feature shape: {input_shape}')"
   ]
  },
  {
   "cell_type": "code",
   "execution_count": 26,
   "metadata": {},
   "outputs": [
    {
     "name": "stdout",
     "output_type": "stream",
     "text": [
      "Model: \"sequential_1\"\n",
      "_________________________________________________________________\n",
      "Layer (type)                 Output Shape              Param #   \n",
      "=================================================================\n",
      "dense (Dense)                (None, 350)               274750    \n",
      "_________________________________________________________________\n",
      "dense_1 (Dense)              (None, 50)                17550     \n",
      "_________________________________________________________________\n",
      "dense_2 (Dense)              (None, 10)                510       \n",
      "=================================================================\n",
      "Total params: 292,810\n",
      "Trainable params: 292,810\n",
      "Non-trainable params: 0\n",
      "_________________________________________________________________\n"
     ]
    }
   ],
   "source": [
    "# Create the neural network with two hidden layers. The first one with 350 neurons and the second one with 50 neurons\n",
    "model = Sequential()\n",
    "model.add(Dense(350, input_shape=input_shape, activation='relu'))\n",
    "model.add(Dense(50, activation='relu'))\n",
    "model.add(Dense(num_classes, activation='softmax'))\n",
    "model.summary()"
   ]
  },
  {
   "cell_type": "code",
   "execution_count": 27,
   "metadata": {},
   "outputs": [
    {
     "name": "stdout",
     "output_type": "stream",
     "text": [
      "Epoch 1/10\n",
      "160/160 [==============================] - 1s 6ms/step - loss: 0.4194 - accuracy: 0.8810 - val_loss: 0.2342 - val_accuracy: 0.9315\n",
      "Epoch 2/10\n",
      "160/160 [==============================] - 1s 5ms/step - loss: 0.1549 - accuracy: 0.9550 - val_loss: 0.1628 - val_accuracy: 0.9509\n",
      "Epoch 3/10\n",
      "160/160 [==============================] - 1s 5ms/step - loss: 0.1037 - accuracy: 0.9704 - val_loss: 0.1378 - val_accuracy: 0.9594\n",
      "Epoch 4/10\n",
      "160/160 [==============================] - 1s 5ms/step - loss: 0.0776 - accuracy: 0.9775 - val_loss: 0.1203 - val_accuracy: 0.9634\n",
      "Epoch 5/10\n",
      "160/160 [==============================] - 1s 5ms/step - loss: 0.0559 - accuracy: 0.9839 - val_loss: 0.1092 - val_accuracy: 0.9672\n",
      "Epoch 6/10\n",
      "160/160 [==============================] - 1s 6ms/step - loss: 0.0437 - accuracy: 0.9876 - val_loss: 0.1156 - val_accuracy: 0.9675\n",
      "Epoch 7/10\n",
      "160/160 [==============================] - 1s 5ms/step - loss: 0.0352 - accuracy: 0.9902 - val_loss: 0.1132 - val_accuracy: 0.9672\n",
      "Epoch 8/10\n",
      "160/160 [==============================] - 1s 5ms/step - loss: 0.0245 - accuracy: 0.9934 - val_loss: 0.1051 - val_accuracy: 0.9720\n",
      "Epoch 9/10\n",
      "160/160 [==============================] - 1s 5ms/step - loss: 0.0196 - accuracy: 0.9952 - val_loss: 0.1040 - val_accuracy: 0.9703\n",
      "Epoch 10/10\n",
      "160/160 [==============================] - 1s 5ms/step - loss: 0.0151 - accuracy: 0.9966 - val_loss: 0.1042 - val_accuracy: 0.9729\n"
     ]
    },
    {
     "data": {
      "text/plain": [
       "<tensorflow.python.keras.callbacks.History at 0x205ea881b50>"
      ]
     },
     "execution_count": 27,
     "metadata": {},
     "output_type": "execute_result"
    }
   ],
   "source": [
    "# Configure the model and start training\n",
    "model.compile(loss='categorical_crossentropy', optimizer='adam', metrics=['accuracy'])\n",
    "model.fit(X_train, Y_train, epochs=10, batch_size=250, verbose=1, validation_split=0.2)"
   ]
  },
  {
   "cell_type": "code",
   "execution_count": 28,
   "metadata": {},
   "outputs": [
    {
     "name": "stdout",
     "output_type": "stream",
     "text": [
      "313/313 [==============================] - 0s 1ms/step - loss: 0.0720 - accuracy: 0.9784\n",
      "Test results - Loss: 0.07198132574558258 - Accuracy: 0.9783999919891357%\n"
     ]
    }
   ],
   "source": [
    "# Test the model after training\n",
    "test_results = model.evaluate(X_test, Y_test, verbose=1)\n",
    "print(f'Test results - Loss: {test_results[0]} - Accuracy: {test_results[1]}%')"
   ]
  },
  {
   "cell_type": "code",
   "execution_count": null,
   "metadata": {},
   "outputs": [],
   "source": []
  }
 ],
 "metadata": {
  "kernelspec": {
   "display_name": "Python 3",
   "language": "python",
   "name": "python3"
  },
  "language_info": {
   "codemirror_mode": {
    "name": "ipython",
    "version": 3
   },
   "file_extension": ".py",
   "mimetype": "text/x-python",
   "name": "python",
   "nbconvert_exporter": "python",
   "pygments_lexer": "ipython3",
   "version": "3.8.8"
  }
 },
 "nbformat": 4,
 "nbformat_minor": 2
}
