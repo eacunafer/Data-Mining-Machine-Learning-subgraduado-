{
 "cells": [
  {
   "cell_type": "markdown",
   "metadata": {},
   "source": [
    "### Outlier Detection using autoencoders\n",
    "#### Edgar Acuna\n",
    "#### February 2022\n",
    "#### Dataset: Diabetes amd Shuttle"
   ]
  },
  {
   "cell_type": "code",
   "execution_count": 45,
   "metadata": {},
   "outputs": [],
   "source": [
    "import warnings\n",
    "warnings.filterwarnings('ignore')\n",
    "import tensorflow as tf\n",
    "import keras\n",
    "from keras.models import Model, load_model\n",
    "from keras.layers import Input, Dense\n",
    "from keras.callbacks import ModelCheckpoint, TensorBoard\n",
    "from keras import regularizers\n",
    "from sklearn.preprocessing import  StandardScaler, MinMaxScaler\n",
    "from sklearn.model_selection import train_test_split\n",
    "import pandas as pd\n",
    "import numpy as np\n",
    "import matplotlib.pyplot as plt\n",
    "%matplotlib inline"
   ]
  },
  {
   "cell_type": "markdown",
   "metadata": {},
   "source": [
    "### Diabetes"
   ]
  },
  {
   "cell_type": "code",
   "execution_count": 46,
   "metadata": {},
   "outputs": [],
   "source": [
    "url= \"https://academic.uprm.edu/eacuna/diabetes.dat\"\n",
    "names = ['preg', 'plas', 'pres', 'skin', 'test', 'mass', 'pedi', 'age', 'class']\n",
    "data = pd.read_table(url, names=names)\n",
    "#Extracting class 1\n",
    "data1=data[data['class']==1]\n",
    "data1.head()\n",
    "yd1=data1['class']"
   ]
  },
  {
   "cell_type": "code",
   "execution_count": 47,
   "metadata": {},
   "outputs": [],
   "source": [
    "from sklearn.preprocessing import  StandardScaler\n",
    "cols_to_norm = ['preg', 'plas', 'pres', 'skin', 'test', 'mass', 'pedi', 'age']\n",
    "scaler = MinMaxScaler()\n",
    "data1[cols_to_norm] = scaler.fit_transform(data1[cols_to_norm])"
   ]
  },
  {
   "cell_type": "code",
   "execution_count": 48,
   "metadata": {},
   "outputs": [
    {
     "name": "stdout",
     "output_type": "stream",
     "text": [
      "<class 'pandas.core.frame.DataFrame'>\n",
      "Int64Index: 500 entries, 1 to 767\n",
      "Data columns (total 8 columns):\n",
      " #   Column  Non-Null Count  Dtype  \n",
      "---  ------  --------------  -----  \n",
      " 0   preg    500 non-null    float64\n",
      " 1   plas    500 non-null    float64\n",
      " 2   pres    500 non-null    float64\n",
      " 3   skin    500 non-null    float64\n",
      " 4   test    500 non-null    float64\n",
      " 5   mass    500 non-null    float64\n",
      " 6   pedi    500 non-null    float64\n",
      " 7   age     500 non-null    float64\n",
      "dtypes: float64(8)\n",
      "memory usage: 35.2 KB\n"
     ]
    },
    {
     "data": {
      "text/plain": [
       "array([[0.07692308, 0.43147208, 0.54098361, ..., 0.46422339, 0.12127943,\n",
       "        0.16666667],\n",
       "       [0.07692308, 0.45177665, 0.54098361, ..., 0.4904014 , 0.03953798,\n",
       "        0.        ],\n",
       "       [0.38461538, 0.58883249, 0.60655738, ..., 0.44677138, 0.05464238,\n",
       "        0.15      ],\n",
       "       ...,\n",
       "       [0.15384615, 0.61928934, 0.57377049, ..., 0.64223386, 0.11639271,\n",
       "        0.1       ],\n",
       "       [0.38461538, 0.6142132 , 0.59016393, ..., 0.45724258, 0.07418925,\n",
       "        0.15      ],\n",
       "       [0.07692308, 0.47208122, 0.57377049, ..., 0.53054101, 0.10528654,\n",
       "        0.03333333]])"
      ]
     },
     "execution_count": 48,
     "metadata": {},
     "output_type": "execute_result"
    }
   ],
   "source": [
    "train_x = data1.drop(['class'], axis=1) #drop the class column\n",
    "train_x.info()\n",
    "train_x = train_x.values #transform to ndarray\n",
    "train_x"
   ]
  },
  {
   "cell_type": "code",
   "execution_count": 49,
   "metadata": {},
   "outputs": [
    {
     "name": "stdout",
     "output_type": "stream",
     "text": [
      "Model: \"functional_7\"\n",
      "_________________________________________________________________\n",
      "Layer (type)                 Output Shape              Param #   \n",
      "=================================================================\n",
      "input_4 (InputLayer)         [(None, 8)]               0         \n",
      "_________________________________________________________________\n",
      "dense_12 (Dense)             (None, 4)                 36        \n",
      "_________________________________________________________________\n",
      "dense_13 (Dense)             (None, 2)                 10        \n",
      "_________________________________________________________________\n",
      "dense_14 (Dense)             (None, 2)                 6         \n",
      "_________________________________________________________________\n",
      "dense_15 (Dense)             (None, 8)                 24        \n",
      "=================================================================\n",
      "Total params: 76\n",
      "Trainable params: 76\n",
      "Non-trainable params: 0\n",
      "_________________________________________________________________\n"
     ]
    }
   ],
   "source": [
    "# No of Neurons in each Layer \n",
    "nb_epoch = 20\n",
    "batch_size = 50\n",
    "input_dim = train_x.shape[1] #num of columns, 8\n",
    "encoding_dim = 4\n",
    "hidden_dim = int(encoding_dim / 2) #i.e. 7\n",
    "learning_rate = 1e-7\n",
    "\n",
    "input_layer = Input(shape=(input_dim, ))\n",
    "encoder = Dense(encoding_dim, activation=\"tanh\", activity_regularizer=regularizers.l1(learning_rate))(input_layer)\n",
    "encoder = Dense(hidden_dim, activation=\"relu\")(encoder)\n",
    "decoder = Dense(hidden_dim, activation='tanh')(encoder)\n",
    "decoder = Dense(input_dim, activation='relu')(decoder)\n",
    "autoencoder = Model(inputs=input_layer, outputs=decoder)\n",
    "autoencoder.summary()"
   ]
  },
  {
   "cell_type": "code",
   "execution_count": 50,
   "metadata": {},
   "outputs": [
    {
     "name": "stdout",
     "output_type": "stream",
     "text": [
      "Time to run the model: 0.627143 Sec.\n"
     ]
    }
   ],
   "source": [
    "import datetime\n",
    "autoencoder.compile(optimizer='adam', loss='mse' )\n",
    "\n",
    "t_ini = datetime.datetime.now()\n",
    "history = autoencoder.fit(train_x, train_x,\n",
    "                        epochs=nb_epoch,\n",
    "                        batch_size=batch_size,\n",
    "                        shuffle=True,\n",
    "                        validation_split=0.1,\n",
    "                        verbose=0\n",
    "                        )\n",
    "\n",
    "t_fin = datetime.datetime.now()\n",
    "print('Time to run the model: {} Sec.'.format((t_fin - \n",
    "t_ini).total_seconds()))\n",
    "\n",
    "\n",
    "\n",
    "df_history = pd.DataFrame(history.history) "
   ]
  },
  {
   "cell_type": "code",
   "execution_count": 51,
   "metadata": {},
   "outputs": [
    {
     "name": "stdout",
     "output_type": "stream",
     "text": [
      "[[0.28288624 0.40057632 0.56356597 ... 0.         0.2115675  0.        ]\n",
      " [0.2684534  0.389767   0.53485864 ... 0.         0.20650679 0.        ]\n",
      " [0.2509532  0.37650022 0.5001081  ... 0.         0.20016354 0.        ]\n",
      " ...\n",
      " [0.27583173 0.3953082  0.54952884 ... 0.         0.20911369 0.        ]\n",
      " [0.27256712 0.39286035 0.54303646 ... 0.         0.20796527 0.        ]\n",
      " [0.27793866 0.39688468 0.5537201  ... 0.         0.20985053 0.        ]]\n"
     ]
    }
   ],
   "source": [
    "#Reconstruction\n",
    "predictions = autoencoder.predict(train_x)\n",
    "print(predictions)\n",
    "#train_x.shape"
   ]
  },
  {
   "cell_type": "code",
   "execution_count": 52,
   "metadata": {},
   "outputs": [],
   "source": [
    "mse = np.mean(np.power(train_x- predictions, 2), axis=1)"
   ]
  },
  {
   "cell_type": "code",
   "execution_count": 53,
   "metadata": {
    "scrolled": true
   },
   "outputs": [
    {
     "data": {
      "text/html": [
       "<div>\n",
       "<style scoped>\n",
       "    .dataframe tbody tr th:only-of-type {\n",
       "        vertical-align: middle;\n",
       "    }\n",
       "\n",
       "    .dataframe tbody tr th {\n",
       "        vertical-align: top;\n",
       "    }\n",
       "\n",
       "    .dataframe thead th {\n",
       "        text-align: right;\n",
       "    }\n",
       "</style>\n",
       "<table border=\"1\" class=\"dataframe\">\n",
       "  <thead>\n",
       "    <tr style=\"text-align: right;\">\n",
       "      <th></th>\n",
       "      <th>reconstruction_error</th>\n",
       "    </tr>\n",
       "  </thead>\n",
       "  <tbody>\n",
       "    <tr>\n",
       "      <th>count</th>\n",
       "      <td>500.000000</td>\n",
       "    </tr>\n",
       "    <tr>\n",
       "      <th>mean</th>\n",
       "      <td>0.072221</td>\n",
       "    </tr>\n",
       "    <tr>\n",
       "      <th>std</th>\n",
       "      <td>0.037325</td>\n",
       "    </tr>\n",
       "    <tr>\n",
       "      <th>min</th>\n",
       "      <td>0.011633</td>\n",
       "    </tr>\n",
       "    <tr>\n",
       "      <th>25%</th>\n",
       "      <td>0.044533</td>\n",
       "    </tr>\n",
       "    <tr>\n",
       "      <th>50%</th>\n",
       "      <td>0.063218</td>\n",
       "    </tr>\n",
       "    <tr>\n",
       "      <th>75%</th>\n",
       "      <td>0.088733</td>\n",
       "    </tr>\n",
       "    <tr>\n",
       "      <th>max</th>\n",
       "      <td>0.299699</td>\n",
       "    </tr>\n",
       "  </tbody>\n",
       "</table>\n",
       "</div>"
      ],
      "text/plain": [
       "       reconstruction_error\n",
       "count            500.000000\n",
       "mean               0.072221\n",
       "std                0.037325\n",
       "min                0.011633\n",
       "25%                0.044533\n",
       "50%                0.063218\n",
       "75%                0.088733\n",
       "max                0.299699"
      ]
     },
     "execution_count": 53,
     "metadata": {},
     "output_type": "execute_result"
    }
   ],
   "source": [
    "mse = np.mean(np.power(train_x- predictions, 2), axis=1)\n",
    "df_error = pd.DataFrame({'reconstruction_error': mse}, index=yd1.index)\n",
    "df_error.describe()"
   ]
  },
  {
   "cell_type": "code",
   "execution_count": 54,
   "metadata": {},
   "outputs": [],
   "source": [
    "y=df_error['reconstruction_error'].tolist()\n",
    "x = df_error.index.tolist()"
   ]
  },
  {
   "cell_type": "code",
   "execution_count": 55,
   "metadata": {},
   "outputs": [
    {
     "data": {
      "text/plain": [
       "[<matplotlib.lines.Line2D at 0x265a3df5fd0>]"
      ]
     },
     "execution_count": 55,
     "metadata": {},
     "output_type": "execute_result"
    },
    {
     "data": {
      "image/png": "[encoded data removed]",
      "text/plain": [
       "<Figure size 432x288 with 1 Axes>"
      ]
     },
     "metadata": {
      "needs_background": "light"
     },
     "output_type": "display_data"
    }
   ],
   "source": [
    "thresh=0.15\n",
    "plt.plot(x, y, 'ro')\n",
    "plt.ylabel('reconstruction_error')\n",
    "plt.xlabel('Index')\n",
    "plt.title(' Threshold  = ' +str(thresh))\n",
    "plt.plot([0,2000],[thresh,thresh],\"g--\")"
   ]
  },
  {
   "cell_type": "code",
   "execution_count": 56,
   "metadata": {},
   "outputs": [
    {
     "data": {
      "text/plain": [
       "21"
      ]
     },
     "execution_count": 56,
     "metadata": {},
     "output_type": "execute_result"
    }
   ],
   "source": [
    "dfOutliers = df_error.index[df_error.reconstruction_error > .15].tolist()\n",
    "len(dfOutliers)"
   ]
  },
  {
   "cell_type": "code",
   "execution_count": 57,
   "metadata": {
    "scrolled": true
   },
   "outputs": [
    {
     "name": "stdout",
     "output_type": "stream",
     "text": [
      "[28, 58, 86, 153, 228, 247, 274, 286, 335, 459, 487, 489, 518, 558, 582, 622, 658, 673, 674, 744, 763]\n"
     ]
    }
   ],
   "source": [
    "print(dfOutliers)"
   ]
  },
  {
   "cell_type": "code",
   "execution_count": 58,
   "metadata": {},
   "outputs": [],
   "source": [
    "#cleaning the data from outliers\n",
    "data3=data.drop(dfOutliers,axis=0)"
   ]
  },
  {
   "cell_type": "markdown",
   "metadata": {},
   "source": [
    "### Outlier effect on the LDA Classifier"
   ]
  },
  {
   "cell_type": "code",
   "execution_count": 59,
   "metadata": {},
   "outputs": [],
   "source": [
    "from sklearn.discriminant_analysis import LinearDiscriminantAnalysis\n",
    "from sklearn.model_selection import cross_val_score\n",
    "#ldadis = LinearDiscriminantAnalysis().fit(Xd,yd)\n",
    "#scores = cross_val_score(ldadis, Xd, yd, cv=10)\n",
    "#print(\"Accuracy using LDA: %0.2f (+/- %0.2f)\" % (scores.mean(), scores.std() * 2))"
   ]
  },
  {
   "cell_type": "code",
   "execution_count": 60,
   "metadata": {},
   "outputs": [
    {
     "name": "stdout",
     "output_type": "stream",
     "text": [
      "Accuracy using LDA after outlier removal: 0.79 (+/- 0.09)\n"
     ]
    }
   ],
   "source": [
    "#Accuracy after removing outliers\n",
    "y=data3['class']\n",
    "X=data3.iloc[:,0:8]\n",
    "#Haciendo el analisis discriminante y calculando el porcentaje de precision\n",
    "ldadis = LinearDiscriminantAnalysis().fit(X,y)\n",
    "scores = cross_val_score(ldadis, X, y, cv=10)\n",
    "scores\n",
    "print(\"Accuracy using LDA after outlier removal: %0.2f (+/- %0.2f)\" % (scores.mean(), scores.std() * 2))"
   ]
  },
  {
   "cell_type": "markdown",
   "metadata": {},
   "source": [
    "### Outlier effect on the KNN classifier"
   ]
  },
  {
   "cell_type": "code",
   "execution_count": 61,
   "metadata": {},
   "outputs": [],
   "source": [
    "from sklearn.neighbors import KNeighborsClassifier\n",
    "from sklearn.model_selection import cross_val_score\n",
    "neigh = KNeighborsClassifier(n_neighbors=5)\n",
    "#scores = cross_val_score(neigh, Xd, yd, cv=10)\n",
    "#scores\n",
    "#print(\"Accuracy using k=5 neighbors: %0.2f (+/- %0.2f)\" % (scores.mean(), scores.std() * 2))"
   ]
  },
  {
   "cell_type": "code",
   "execution_count": 62,
   "metadata": {},
   "outputs": [
    {
     "name": "stdout",
     "output_type": "stream",
     "text": [
      "Accuracy using k=5 neighbors after outlier removal: 0.73 (+/- 0.09)\n"
     ]
    }
   ],
   "source": [
    "#Accuracy after remoing outliers\n",
    "y=data3['class']\n",
    "X=data3.iloc[:,0:8]\n",
    "y1=y.to_numpy()\n",
    "X1=X.to_numpy()\n",
    "neigh = KNeighborsClassifier(n_neighbors=5)\n",
    "scores = cross_val_score(neigh, X1, y1, cv=10)\n",
    "scores\n",
    "print(\"Accuracy using k=5 neighbors after outlier removal: %0.2f (+/- %0.2f)\" % (scores.mean(), scores.std() * 2))"
   ]
  },
  {
   "cell_type": "markdown",
   "metadata": {},
   "source": [
    "## Shuttle"
   ]
  },
  {
   "cell_type": "code",
   "execution_count": 63,
   "metadata": {},
   "outputs": [
    {
     "name": "stdout",
     "output_type": "stream",
     "text": [
      "        0   1    2  3   4   5   6   7   8  9\n",
      "0      50  21   77  0  28   0  27  48  22  2\n",
      "1      55   0   92  0   0  26  36  92  56  4\n",
      "2      53   0   82  0  52  -5  29  30   2  1\n",
      "3      37   0   76  0  28  18  40  48   8  1\n",
      "4      37   0   79  0  34 -26  43  46   2  1\n",
      "...    ..  ..  ... ..  ..  ..  ..  ..  .. ..\n",
      "43495  46   5   78  0  46   5  32  32   0  1\n",
      "43496  37   0   79 -1  10   3  43  69  26  1\n",
      "43497  48   0   78  3  46   0  30  32   2  1\n",
      "43498  41   0   79  0  38 -25  38  40   2  1\n",
      "43499  40  -3  100  0  38   0  61  62   2  1\n",
      "\n",
      "[43500 rows x 10 columns]\n"
     ]
    }
   ],
   "source": [
    "url = \"https://academic.uprm.edu/eacuna/shuttle.trn\"\n",
    "data = pd.read_table(url, header=None,delim_whitespace=True)\n",
    "print(data)"
   ]
  },
  {
   "cell_type": "code",
   "execution_count": 64,
   "metadata": {},
   "outputs": [
    {
     "data": {
      "text/html": [
       "<div>\n",
       "<style scoped>\n",
       "    .dataframe tbody tr th:only-of-type {\n",
       "        vertical-align: middle;\n",
       "    }\n",
       "\n",
       "    .dataframe tbody tr th {\n",
       "        vertical-align: top;\n",
       "    }\n",
       "\n",
       "    .dataframe thead th {\n",
       "        text-align: right;\n",
       "    }\n",
       "</style>\n",
       "<table border=\"1\" class=\"dataframe\">\n",
       "  <thead>\n",
       "    <tr style=\"text-align: right;\">\n",
       "      <th></th>\n",
       "      <th>0</th>\n",
       "      <th>1</th>\n",
       "      <th>2</th>\n",
       "      <th>3</th>\n",
       "      <th>4</th>\n",
       "      <th>5</th>\n",
       "      <th>6</th>\n",
       "      <th>7</th>\n",
       "      <th>8</th>\n",
       "    </tr>\n",
       "  </thead>\n",
       "  <tbody>\n",
       "    <tr>\n",
       "      <th>2</th>\n",
       "      <td>53</td>\n",
       "      <td>0</td>\n",
       "      <td>82</td>\n",
       "      <td>0</td>\n",
       "      <td>52</td>\n",
       "      <td>-5</td>\n",
       "      <td>29</td>\n",
       "      <td>30</td>\n",
       "      <td>2</td>\n",
       "    </tr>\n",
       "    <tr>\n",
       "      <th>3</th>\n",
       "      <td>37</td>\n",
       "      <td>0</td>\n",
       "      <td>76</td>\n",
       "      <td>0</td>\n",
       "      <td>28</td>\n",
       "      <td>18</td>\n",
       "      <td>40</td>\n",
       "      <td>48</td>\n",
       "      <td>8</td>\n",
       "    </tr>\n",
       "    <tr>\n",
       "      <th>4</th>\n",
       "      <td>37</td>\n",
       "      <td>0</td>\n",
       "      <td>79</td>\n",
       "      <td>0</td>\n",
       "      <td>34</td>\n",
       "      <td>-26</td>\n",
       "      <td>43</td>\n",
       "      <td>46</td>\n",
       "      <td>2</td>\n",
       "    </tr>\n",
       "    <tr>\n",
       "      <th>7</th>\n",
       "      <td>55</td>\n",
       "      <td>-1</td>\n",
       "      <td>95</td>\n",
       "      <td>-3</td>\n",
       "      <td>54</td>\n",
       "      <td>-4</td>\n",
       "      <td>40</td>\n",
       "      <td>41</td>\n",
       "      <td>2</td>\n",
       "    </tr>\n",
       "    <tr>\n",
       "      <th>9</th>\n",
       "      <td>37</td>\n",
       "      <td>0</td>\n",
       "      <td>101</td>\n",
       "      <td>-7</td>\n",
       "      <td>28</td>\n",
       "      <td>0</td>\n",
       "      <td>64</td>\n",
       "      <td>73</td>\n",
       "      <td>8</td>\n",
       "    </tr>\n",
       "  </tbody>\n",
       "</table>\n",
       "</div>"
      ],
      "text/plain": [
       "    0  1    2  3   4   5   6   7  8\n",
       "2  53  0   82  0  52  -5  29  30  2\n",
       "3  37  0   76  0  28  18  40  48  8\n",
       "4  37  0   79  0  34 -26  43  46  2\n",
       "7  55 -1   95 -3  54  -4  40  41  2\n",
       "9  37  0  101 -7  28   0  64  73  8"
      ]
     },
     "execution_count": 64,
     "metadata": {},
     "output_type": "execute_result"
    }
   ],
   "source": [
    "#Extracting class 1\n",
    "y1=data.iloc[:,9]\n",
    "X1=data[y1==1]\n",
    "X1=X1.iloc[:,0:9]\n",
    "X1.head()"
   ]
  },
  {
   "cell_type": "code",
   "execution_count": 65,
   "metadata": {},
   "outputs": [
    {
     "data": {
      "text/plain": [
       "array([[ 1.39510885,  0.01504652, -0.31306347, ..., -1.19279784,\n",
       "        -0.9970992 , -0.29625408],\n",
       "       [-1.07792269,  0.01504652, -1.00452981, ..., -0.0769073 ,\n",
       "         0.16411275,  0.31802184],\n",
       "       [-1.07792269,  0.01504652, -0.65879664, ...,  0.22742648,\n",
       "         0.0350892 , -0.29625408],\n",
       "       ...,\n",
       "       [ 0.6222865 ,  0.01504652, -0.77404103, ..., -1.09135325,\n",
       "        -0.86807565, -0.29625408],\n",
       "       [-0.45966481,  0.01504652, -0.65879664, ..., -0.27979649,\n",
       "        -0.35198145, -0.29625408],\n",
       "       [-0.61422928, -0.09286072,  1.76133554, ...,  2.05342918,\n",
       "         1.0672776 , -0.29625408]])"
      ]
     },
     "execution_count": 65,
     "metadata": {},
     "output_type": "execute_result"
    }
   ],
   "source": [
    "scaler = StandardScaler()\n",
    "scaler.fit(X1)\n",
    "Xdf1 = pd.DataFrame(scaler.transform(X1), index=X1.index)\n",
    "train_x = Xdf1.values #transform to ndarray\n",
    "train_x"
   ]
  },
  {
   "cell_type": "code",
   "execution_count": 66,
   "metadata": {},
   "outputs": [
    {
     "name": "stdout",
     "output_type": "stream",
     "text": [
      "Model: \"functional_9\"\n",
      "_________________________________________________________________\n",
      "Layer (type)                 Output Shape              Param #   \n",
      "=================================================================\n",
      "input_5 (InputLayer)         [(None, 9)]               0         \n",
      "_________________________________________________________________\n",
      "dense_16 (Dense)             (None, 4)                 40        \n",
      "_________________________________________________________________\n",
      "dense_17 (Dense)             (None, 2)                 10        \n",
      "_________________________________________________________________\n",
      "dense_18 (Dense)             (None, 2)                 6         \n",
      "_________________________________________________________________\n",
      "dense_19 (Dense)             (None, 9)                 27        \n",
      "=================================================================\n",
      "Total params: 83\n",
      "Trainable params: 83\n",
      "Non-trainable params: 0\n",
      "_________________________________________________________________\n"
     ]
    }
   ],
   "source": [
    "nb_epoch = 20\n",
    "batch_size = 100\n",
    "input_dim = train_x.shape[1] #num of columns, 8\n",
    "encoding_dim = 4\n",
    "hidden_dim = int(encoding_dim / 2) #i.e. 7\n",
    "learning_rate = 1e-7\n",
    "\n",
    "input_layer = Input(shape=(input_dim, ))\n",
    "encoder = Dense(encoding_dim, activation=\"tanh\", activity_regularizer=regularizers.l1(learning_rate))(input_layer)\n",
    "encoder = Dense(hidden_dim, activation=\"relu\")(encoder)\n",
    "decoder = Dense(hidden_dim, activation='tanh')(encoder)\n",
    "decoder = Dense(input_dim, activation='relu')(decoder)\n",
    "autoencoder = Model(inputs=input_layer, outputs=decoder)\n",
    "autoencoder.summary()"
   ]
  },
  {
   "cell_type": "code",
   "execution_count": 67,
   "metadata": {},
   "outputs": [
    {
     "name": "stdout",
     "output_type": "stream",
     "text": [
      "Time to run the model: 3.153136 Sec.\n"
     ]
    }
   ],
   "source": [
    "import datetime\n",
    "autoencoder.compile(optimizer='adam', loss='mse' )\n",
    "\n",
    "t_ini = datetime.datetime.now()\n",
    "history = autoencoder.fit(train_x, train_x,\n",
    "                        epochs=nb_epoch,\n",
    "                        batch_size=batch_size,\n",
    "                        shuffle=True,\n",
    "                        validation_split=0.1,\n",
    "                        verbose=0\n",
    "                        )\n",
    "\n",
    "t_fin = datetime.datetime.now()\n",
    "print('Time to run the model: {} Sec.'.format((t_fin - \n",
    "t_ini).total_seconds()))\n",
    "\n",
    "\n",
    "\n",
    "df_history = pd.DataFrame(history.history) "
   ]
  },
  {
   "cell_type": "code",
   "execution_count": 68,
   "metadata": {},
   "outputs": [
    {
     "data": {
      "text/plain": [
       "(34108, 9)"
      ]
     },
     "execution_count": 68,
     "metadata": {},
     "output_type": "execute_result"
    }
   ],
   "source": [
    "#Reconstruction\n",
    "predictions = autoencoder.predict(train_x)\n",
    "#print(predictions)\n",
    "train_x.shape"
   ]
  },
  {
   "cell_type": "code",
   "execution_count": 69,
   "metadata": {},
   "outputs": [
    {
     "name": "stdout",
     "output_type": "stream",
     "text": [
      "34108\n"
     ]
    }
   ],
   "source": [
    "mse = np.mean(np.power(train_x- predictions, 2), axis=1)\n",
    "print(len(mse))"
   ]
  },
  {
   "cell_type": "code",
   "execution_count": 70,
   "metadata": {
    "scrolled": true
   },
   "outputs": [
    {
     "data": {
      "text/html": [
       "<div>\n",
       "<style scoped>\n",
       "    .dataframe tbody tr th:only-of-type {\n",
       "        vertical-align: middle;\n",
       "    }\n",
       "\n",
       "    .dataframe tbody tr th {\n",
       "        vertical-align: top;\n",
       "    }\n",
       "\n",
       "    .dataframe thead th {\n",
       "        text-align: right;\n",
       "    }\n",
       "</style>\n",
       "<table border=\"1\" class=\"dataframe\">\n",
       "  <thead>\n",
       "    <tr style=\"text-align: right;\">\n",
       "      <th></th>\n",
       "      <th>reconstruction_error</th>\n",
       "    </tr>\n",
       "  </thead>\n",
       "  <tbody>\n",
       "    <tr>\n",
       "      <th>count</th>\n",
       "      <td>34108.000000</td>\n",
       "    </tr>\n",
       "    <tr>\n",
       "      <th>mean</th>\n",
       "      <td>0.696462</td>\n",
       "    </tr>\n",
       "    <tr>\n",
       "      <th>std</th>\n",
       "      <td>18.352966</td>\n",
       "    </tr>\n",
       "    <tr>\n",
       "      <th>min</th>\n",
       "      <td>0.016335</td>\n",
       "    </tr>\n",
       "    <tr>\n",
       "      <th>25%</th>\n",
       "      <td>0.125922</td>\n",
       "    </tr>\n",
       "    <tr>\n",
       "      <th>50%</th>\n",
       "      <td>0.260100</td>\n",
       "    </tr>\n",
       "    <tr>\n",
       "      <th>75%</th>\n",
       "      <td>0.453207</td>\n",
       "    </tr>\n",
       "    <tr>\n",
       "      <th>max</th>\n",
       "      <td>2357.955448</td>\n",
       "    </tr>\n",
       "  </tbody>\n",
       "</table>\n",
       "</div>"
      ],
      "text/plain": [
       "       reconstruction_error\n",
       "count          34108.000000\n",
       "mean               0.696462\n",
       "std               18.352966\n",
       "min                0.016335\n",
       "25%                0.125922\n",
       "50%                0.260100\n",
       "75%                0.453207\n",
       "max             2357.955448"
      ]
     },
     "execution_count": 70,
     "metadata": {},
     "output_type": "execute_result"
    }
   ],
   "source": [
    "mse = np.mean(np.power(train_x- predictions, 2), axis=1)\n",
    "df_error = pd.DataFrame({'reconstruction_error': mse}, index=X1.index)\n",
    "df_error.describe()"
   ]
  },
  {
   "cell_type": "code",
   "execution_count": 71,
   "metadata": {},
   "outputs": [],
   "source": [
    "y=df_error['reconstruction_error'].tolist()\n",
    "x = df_error.index.tolist()"
   ]
  },
  {
   "cell_type": "code",
   "execution_count": 72,
   "metadata": {},
   "outputs": [
    {
     "data": {
      "text/plain": [
       "[<matplotlib.lines.Line2D at 0x265a3044a00>]"
      ]
     },
     "execution_count": 72,
     "metadata": {},
     "output_type": "execute_result"
    },
    {
     "data": {
      "image/png": "[encoded data removed]",
      "text/plain": [
       "<Figure size 432x288 with 1 Axes>"
      ]
     },
     "metadata": {
      "needs_background": "light"
     },
     "output_type": "display_data"
    }
   ],
   "source": [
    "thresh=200\n",
    "plt.plot(x, y, 'ro')\n",
    "plt.ylabel('reconstruction_error')\n",
    "plt.xlabel('Index')\n",
    "plt.title(' Threshold  = ' +str(thresh))\n",
    "plt.plot([0,2000],[thresh,thresh],\"g--\")"
   ]
  },
  {
   "cell_type": "code",
   "execution_count": 73,
   "metadata": {},
   "outputs": [
    {
     "name": "stdout",
     "output_type": "stream",
     "text": [
      "[70, 2294, 6004, 8688, 10303, 10730, 13430, 14059, 18624, 22645, 30721, 32422, 35729, 41854]\n"
     ]
    }
   ],
   "source": [
    "dfOutliers = df_error.index[df_error.reconstruction_error > 200].tolist()\n",
    "print(dfOutliers)"
   ]
  }
 ],
 "metadata": {
  "kernelspec": {
   "display_name": "Python 3",
   "language": "python",
   "name": "python3"
  },
  "language_info": {
   "codemirror_mode": {
    "name": "ipython",
    "version": 3
   },
   "file_extension": ".py",
   "mimetype": "text/x-python",
   "name": "python",
   "nbconvert_exporter": "python",
   "pygments_lexer": "ipython3",
   "version": "3.8.8"
  }
 },
 "nbformat": 4,
 "nbformat_minor": 2
}
