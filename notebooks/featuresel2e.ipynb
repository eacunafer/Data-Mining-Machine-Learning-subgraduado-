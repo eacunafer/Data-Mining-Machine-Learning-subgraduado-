{
 "cells": [
  {
   "cell_type": "markdown",
   "metadata": {},
   "source": [
    "### Data Mining and Machine Learning\n",
    "### Feature Selection in Supervised  Classification: Wrapper Methods \n",
    "### Edgar Acuna\n",
    "#### Febrero 2021"
   ]
  },
  {
   "cell_type": "markdown",
   "metadata": {},
   "source": [
    "#### Methods Forward and backward using the module mlxtend and function RFE from scikit-learn. Only LDA and Naive Bayes classifiers are used"
   ]
  },
  {
   "cell_type": "code",
   "execution_count": 1,
   "metadata": {},
   "outputs": [],
   "source": [
    "import warnings\n",
    "warnings.filterwarnings(\"ignore\")\n",
    "import pandas as pd\n",
    "import matplotlib.pyplot as plt\n",
    "import seaborn as sns\n",
    "from mlxtend.feature_selection import SequentialFeatureSelector as SFS\n",
    "from sklearn.metrics import accuracy_score\n",
    "import numpy as np\n",
    "from sklearn.discriminant_analysis import LinearDiscriminantAnalysis\n",
    "from sklearn.naive_bayes import GaussianNB\n",
    "from sklearn.feature_selection import RFE\n",
    "%matplotlib inline"
   ]
  },
  {
   "cell_type": "code",
   "execution_count": 2,
   "metadata": {},
   "outputs": [
    {
     "name": "stdout",
     "output_type": "stream",
     "text": [
      "(768, 9)\n"
     ]
    }
   ],
   "source": [
    "#Leyendo el conjunto de datos pima-diabetes \n",
    "url= \"http://academic.uprm.edu/eacuna/diabetes.dat\"\n",
    "names = ['preg', 'plas', 'pres', 'skin', 'test', 'mass', 'pedi', 'age', 'class']\n",
    "data = pd.read_table(url, names=names,header=None)\n",
    "print(data.shape)"
   ]
  },
  {
   "cell_type": "markdown",
   "metadata": {},
   "source": [
    "### Forward using the  LDA classifier"
   ]
  },
  {
   "cell_type": "code",
   "execution_count": 3,
   "metadata": {},
   "outputs": [],
   "source": [
    "y=data['class']\n",
    "X=data.iloc[:,0:8]\n",
    "y1=y.to_numpy()\n",
    "X1=X.to_numpy()\n",
    "names=X.columns\n",
    "estimator = LinearDiscriminantAnalysis()"
   ]
  },
  {
   "cell_type": "code",
   "execution_count": 4,
   "metadata": {},
   "outputs": [],
   "source": [
    "sfs1 = SFS(estimator, k_features=3, forward=True, floating=False,verbose=0,scoring='accuracy',cv=0)\n",
    "sfs1 = sfs1.fit(X1, y1)"
   ]
  },
  {
   "cell_type": "code",
   "execution_count": 5,
   "metadata": {},
   "outputs": [
    {
     "data": {
      "text/plain": [
       "{1: {'feature_idx': (1,),\n",
       "  'cv_scores': array([0.74609375]),\n",
       "  'avg_score': 0.74609375,\n",
       "  'feature_names': ('1',)},\n",
       " 2: {'feature_idx': (1, 5),\n",
       "  'cv_scores': array([0.77083333]),\n",
       "  'avg_score': 0.7708333333333334,\n",
       "  'feature_names': ('1', '5')},\n",
       " 3: {'feature_idx': (1, 5, 6),\n",
       "  'cv_scores': array([0.77213542]),\n",
       "  'avg_score': 0.7721354166666666,\n",
       "  'feature_names': ('1', '5', '6')}}"
      ]
     },
     "execution_count": 5,
     "metadata": {},
     "output_type": "execute_result"
    }
   ],
   "source": [
    "sfs1.subsets_"
   ]
  },
  {
   "cell_type": "markdown",
   "metadata": {},
   "source": [
    "Comentario. las mejores tres variables son: plas, mass y pedi"
   ]
  },
  {
   "cell_type": "markdown",
   "metadata": {},
   "source": [
    "### Forward using Gaussian Naive Bayes"
   ]
  },
  {
   "cell_type": "code",
   "execution_count": 6,
   "metadata": {},
   "outputs": [],
   "source": [
    "clf = GaussianNB()\n",
    "sfs1 = SFS(clf, k_features=3, forward=True, floating=False, verbose=0,scoring='accuracy',cv=0)\n",
    "sfs1 = sfs1.fit(X1, y1)"
   ]
  },
  {
   "cell_type": "code",
   "execution_count": 7,
   "metadata": {},
   "outputs": [
    {
     "data": {
      "text/plain": [
       "{1: {'feature_idx': (1,),\n",
       "  'cv_scores': array([0.75]),\n",
       "  'avg_score': 0.75,\n",
       "  'feature_names': ('1',)},\n",
       " 2: {'feature_idx': (1, 5),\n",
       "  'cv_scores': array([0.76692708]),\n",
       "  'avg_score': 0.7669270833333334,\n",
       "  'feature_names': ('1', '5')},\n",
       " 3: {'feature_idx': (1, 2, 5),\n",
       "  'cv_scores': array([0.76692708]),\n",
       "  'avg_score': 0.7669270833333334,\n",
       "  'feature_names': ('1', '2', '5')}}"
      ]
     },
     "execution_count": 7,
     "metadata": {},
     "output_type": "execute_result"
    }
   ],
   "source": [
    "sfs1.subsets_"
   ]
  },
  {
   "cell_type": "markdown",
   "metadata": {},
   "source": [
    "Comentario. las 3 mejores variables son: plas,pres y mass"
   ]
  },
  {
   "cell_type": "markdown",
   "metadata": {},
   "source": [
    "### Backward Elimination using Gaussian Naive Bayes for Diabetes"
   ]
  },
  {
   "cell_type": "code",
   "execution_count": 8,
   "metadata": {},
   "outputs": [
    {
     "data": {
      "text/plain": [
       "{8: {'feature_idx': (0, 1, 2, 3, 4, 5, 6, 7),\n",
       "  'cv_scores': array([0.76302083]),\n",
       "  'avg_score': 0.7630208333333334,\n",
       "  'feature_names': ('0', '1', '2', '3', '4', '5', '6', '7')},\n",
       " 7: {'feature_idx': (0, 1, 2, 4, 5, 6, 7),\n",
       "  'cv_scores': array([0.76822917]),\n",
       "  'avg_score': 0.7682291666666666,\n",
       "  'feature_names': ('0', '1', '2', '4', '5', '6', '7')},\n",
       " 6: {'feature_idx': (0, 1, 2, 4, 5, 6),\n",
       "  'cv_scores': array([0.7734375]),\n",
       "  'avg_score': 0.7734375,\n",
       "  'feature_names': ('0', '1', '2', '4', '5', '6')},\n",
       " 5: {'feature_idx': (0, 1, 2, 5, 6),\n",
       "  'cv_scores': array([0.77604167]),\n",
       "  'avg_score': 0.7760416666666666,\n",
       "  'feature_names': ('0', '1', '2', '5', '6')},\n",
       " 4: {'feature_idx': (1, 2, 5, 6),\n",
       "  'cv_scores': array([0.77213542]),\n",
       "  'avg_score': 0.7721354166666666,\n",
       "  'feature_names': ('1', '2', '5', '6')},\n",
       " 3: {'feature_idx': (1, 2, 5),\n",
       "  'cv_scores': array([0.76692708]),\n",
       "  'avg_score': 0.7669270833333334,\n",
       "  'feature_names': ('1', '2', '5')}}"
      ]
     },
     "execution_count": 8,
     "metadata": {},
     "output_type": "execute_result"
    }
   ],
   "source": [
    "clf = GaussianNB()\n",
    "sfs1 = SFS(clf, k_features=3, forward=False, floating=False, verbose=0,scoring='accuracy',cv=0)\n",
    "sfs1 = sfs1.fit(X1, y1)\n",
    "sfs1.subsets_"
   ]
  },
  {
   "cell_type": "markdown",
   "metadata": {},
   "source": [
    "### Recursive Feature Elimination for Diabetes"
   ]
  },
  {
   "cell_type": "code",
   "execution_count": 9,
   "metadata": {},
   "outputs": [
    {
     "name": "stdout",
     "output_type": "stream",
     "text": [
      "Features sorted by their rank:\n",
      "[(1, 'mass'), (1, 'pedi'), (1, 'preg'), (2, 'plas'), (3, 'age'), (4, 'pres'), (5, 'test'), (6, 'skin')]\n",
      "Accuracy: 69.53%\n"
     ]
    }
   ],
   "source": [
    "#Selecting the three best features with  RFE\n",
    "selector = RFE(estimator, 3, step=1)\n",
    "selector = selector.fit(X, y)\n",
    "print (\"Features sorted by their rank:\")\n",
    "print(sorted(zip(map(lambda x: round(x, 4), selector.ranking_), names)))\n",
    "# evaluanado el modelo con las 3 features seleccionadas\n",
    "pred_y = selector.predict(X1)\n",
    "#Calculando accuracy\n",
    "acc=(y1==pred_y).sum()\n",
    "print(\"Accuracy: %.2f%%\" % (acc*100.0/float(len(y1))))"
   ]
  },
  {
   "cell_type": "markdown",
   "metadata": {},
   "source": [
    "las tres features mas importantes seran mass, pedi y preg"
   ]
  },
  {
   "cell_type": "markdown",
   "metadata": {},
   "source": [
    "### Forward using LDA for Vehicle"
   ]
  },
  {
   "cell_type": "code",
   "execution_count": 10,
   "metadata": {},
   "outputs": [
    {
     "name": "stdout",
     "output_type": "stream",
     "text": [
      "Index(['COMPACTNESS', 'CIRCULARITY', 'DISTANCE_CIRCULARITY', 'RADIUS_RATIO',\n",
      "       'PR.AXIS_ASPECT_RATIO', 'MAX.LENGTH_ASPECT_RATIO', 'SCATTER_RATIO',\n",
      "       'ELONGATEDNESS', 'PR.AXIS_RECTANGULARITY', 'MAX.LENGTH_RECTANGULARITY',\n",
      "       'SCALED_VARIANCE_MAJOR', 'SCALED_VARIANCE_MINOR',\n",
      "       'SCALED_RADIUS_OF_GYRATION', 'SKEWNESS_ABOUT_MAJOR',\n",
      "       'SKEWNESS_ABOUT_MINOR', 'KURTOSIS_ABOUT_MAJOR', 'KURTOSIS_ABOUT_MINOR',\n",
      "       'HOLLOWS_RATIO'],\n",
      "      dtype='object')\n"
     ]
    },
    {
     "data": {
      "text/plain": [
       "{1: {'feature_idx': (10,),\n",
       "  'cv_scores': array([0.41843972]),\n",
       "  'avg_score': 0.41843971631205673,\n",
       "  'feature_names': ('10',)},\n",
       " 2: {'feature_idx': (5, 10),\n",
       "  'cv_scores': array([0.60283688]),\n",
       "  'avg_score': 0.6028368794326241,\n",
       "  'feature_names': ('5', '10')},\n",
       " 3: {'feature_idx': (2, 5, 10),\n",
       "  'cv_scores': array([0.62293144]),\n",
       "  'avg_score': 0.6229314420803782,\n",
       "  'feature_names': ('2', '5', '10')}}"
      ]
     },
     "execution_count": 10,
     "metadata": {},
     "output_type": "execute_result"
    }
   ],
   "source": [
    "data=pd.read_csv(\"https://academic.uprm.edu/eacuna/vehicle.csv\")\n",
    "y=data['Class']\n",
    "X=data.iloc[:,0:18]\n",
    "y1=y.to_numpy()\n",
    "X1=X.to_numpy()\n",
    "names=X.columns\n",
    "print(names)\n",
    "estimator = LinearDiscriminantAnalysis()\n",
    "sfs1 = SFS(estimator, k_features=3, forward=True, floating=False, verbose=0,scoring='accuracy',cv=0)\n",
    "sfs1 = sfs1.fit(X1, y1)\n",
    "sfs1.subsets_"
   ]
  },
  {
   "cell_type": "markdown",
   "metadata": {},
   "source": [
    "This three features are the most important ones: CIRCULARITY', PR.AXIS_ASPECT_RATIO', 'MAX.LENGTH_RECTANGULARITY'"
   ]
  },
  {
   "cell_type": "markdown",
   "metadata": {},
   "source": [
    "### RFE for vehicle"
   ]
  },
  {
   "cell_type": "code",
   "execution_count": 11,
   "metadata": {},
   "outputs": [
    {
     "name": "stdout",
     "output_type": "stream",
     "text": [
      "Features sorted by their rank:\n",
      "[(1, 'CIRCULARITY'), (1, 'ELONGATEDNESS'), (1, 'HOLLOWS_RATIO'), (1, 'KURTOSIS_ABOUT_MINOR'), (1, 'MAX.LENGTH_RECTANGULARITY'), (1, 'PR.AXIS_RECTANGULARITY'), (2, 'PR.AXIS_ASPECT_RATIO'), (3, 'RADIUS_RATIO'), (4, 'MAX.LENGTH_ASPECT_RATIO'), (5, 'COMPACTNESS'), (6, 'DISTANCE_CIRCULARITY'), (7, 'SKEWNESS_ABOUT_MAJOR'), (8, 'SKEWNESS_ABOUT_MINOR'), (9, 'SCATTER_RATIO'), (10, 'SCALED_VARIANCE_MINOR'), (11, 'KURTOSIS_ABOUT_MAJOR'), (12, 'SCALED_RADIUS_OF_GYRATION'), (13, 'SCALED_VARIANCE_MAJOR')]\n",
      "Accuracy: 64.66%\n"
     ]
    }
   ],
   "source": [
    "#Selecting six best features with  RFE\n",
    "selector = RFE(estimator, 6, step=1)\n",
    "selector = selector.fit(X, y)\n",
    "print(\"Features sorted by their rank:\")\n",
    "print(sorted(zip(map(lambda x: round(x, 4), selector.ranking_), names)))\n",
    "# evaluanado el modelo con las 3 features seleccionadas\n",
    "pred_y = selector.predict(X1)\n",
    "#Calculando accuracy\n",
    "acc=(y1==pred_y).sum()\n",
    "print(\"Accuracy: %.2f%%\" % (acc*100.0/float(len(y1))))"
   ]
  },
  {
   "cell_type": "markdown",
   "metadata": {},
   "source": [
    "### Forward usando el clasificador Naive Bayes en Landsat"
   ]
  },
  {
   "cell_type": "code",
   "execution_count": 14,
   "metadata": {},
   "outputs": [
    {
     "data": {
      "text/plain": [
       "{1: {'feature_idx': (19,),\n",
       "  'cv_scores': array([0.58151071]),\n",
       "  'avg_score': 0.581510710259301,\n",
       "  'feature_names': ('19',)},\n",
       " 2: {'feature_idx': (16, 19),\n",
       "  'cv_scores': array([0.77700113]),\n",
       "  'avg_score': 0.7770011273957159,\n",
       "  'feature_names': ('16', '19')},\n",
       " 3: {'feature_idx': (16, 17, 19),\n",
       "  'cv_scores': array([0.80180383]),\n",
       "  'avg_score': 0.801803833145434,\n",
       "  'feature_names': ('16', '17', '19')},\n",
       " 4: {'feature_idx': (16, 17, 19, 27),\n",
       "  'cv_scores': array([0.80270575]),\n",
       "  'avg_score': 0.8027057497181511,\n",
       "  'feature_names': ('16', '17', '19', '27')},\n",
       " 5: {'feature_idx': (9, 16, 17, 19, 27),\n",
       "  'cv_scores': array([0.80789177]),\n",
       "  'avg_score': 0.807891770011274,\n",
       "  'feature_names': ('9', '16', '17', '19', '27')}}"
      ]
     },
     "execution_count": 14,
     "metadata": {},
     "output_type": "execute_result"
    }
   ],
   "source": [
    "#Forward usando el clasificador Naive Bayes en Landsat\n",
    "names=['a1','a2','a3','a4','a5','a6','a7','a8','a9','a10','a11','a12','a13','a14','a15','a16','a17','a18','a19','a20','a21','a22','a23','a24','a25','a26','a27','a38','a29','a30','a31','a32','a33','a34','a35','a36','class']\n",
    "url='http://academic.uprm.edu/eacuna/landsat.txt'\n",
    "data = pd.read_csv(url,names=names, header=None,delim_whitespace=True)\n",
    "y=data.iloc[:,36]\n",
    "X=data.iloc[:,0:36]\n",
    "y1=y.to_numpy()\n",
    "X1=X.to_numpy()\n",
    "features, labels = X.values, y.values\n",
    "clf = GaussianNB()\n",
    "sfs1 = SFS(clf, k_features=5, forward=True, floating=False, verbose=0,scoring='accuracy',cv=0)\n",
    "sfs1 = sfs1.fit(X1, y1)\n",
    "sfs1.subsets_"
   ]
  },
  {
   "cell_type": "markdown",
   "metadata": {},
   "source": [
    "Las features mas imprtantes son: a10,a17,a18,a20,a28"
   ]
  },
  {
   "cell_type": "code",
   "execution_count": null,
   "metadata": {},
   "outputs": [],
   "source": []
  }
 ],
 "metadata": {
  "kernelspec": {
   "display_name": "Python 3",
   "language": "python",
   "name": "python3"
  },
  "language_info": {
   "codemirror_mode": {
    "name": "ipython",
    "version": 3
   },
   "file_extension": ".py",
   "mimetype": "text/x-python",
   "name": "python",
   "nbconvert_exporter": "python",
   "pygments_lexer": "ipython3",
   "version": "3.7.6"
  }
 },
 "nbformat": 4,
 "nbformat_minor": 2
}
