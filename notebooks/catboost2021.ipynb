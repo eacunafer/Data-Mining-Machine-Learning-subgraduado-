{
 "cells": [
  {
   "cell_type": "markdown",
   "id": "06aab180",
   "metadata": {},
   "source": [
    "##  Data Mining and Machine Learning\n",
    "## Catboost\n",
    "### Edgar Acuna\n",
    "### Datasets:Loan dataset,Adult dataset\n",
    "#### Diciembre 2021"
   ]
  },
  {
   "cell_type": "markdown",
   "id": "ae80e9c2",
   "metadata": {},
   "source": [
    "### 1. Loan Example"
   ]
  },
  {
   "cell_type": "code",
   "execution_count": 41,
   "id": "4e07df02",
   "metadata": {},
   "outputs": [],
   "source": [
    "from catboost import CatBoostClassifier"
   ]
  },
  {
   "cell_type": "code",
   "execution_count": 42,
   "id": "44f6b1b9",
   "metadata": {},
   "outputs": [],
   "source": [
    "#A-Usando la codificacion OneHot para la variable Status Marital Esta es la que recomineda scikit-learn\n",
    "import pandas as pd\n",
    "df = pd.read_csv(\"https://academic.uprm.edu/eacuna/datosarbol.csv\")\n",
    "y=df['Prestamo']\n",
    "#y1= y.apply(lambda x: 0 if x.strip()=='No' else 1)\n",
    "data=df.iloc[:,0:6]\n",
    "data\n",
    "cat_features=[0,2,5]"
   ]
  },
  {
   "cell_type": "code",
   "execution_count": 43,
   "id": "90ce1a70",
   "metadata": {},
   "outputs": [
    {
     "name": "stdout",
     "output_type": "stream",
     "text": [
      "CatBoost model is fitted: True\n",
      "CatBoost model parameters:\n",
      "{'iterations': 5, 'learning_rate': 0.1}\n"
     ]
    },
    {
     "data": {
      "text/plain": [
       "96.0"
      ]
     },
     "execution_count": 43,
     "metadata": {},
     "output_type": "execute_result"
    }
   ],
   "source": [
    "# Initialize CatBoostClassifier\n",
    "clf = CatBoostClassifier(iterations=5,\n",
    "                           learning_rate=0.1,\n",
    "                    )\n",
    "# Fit model\n",
    "clf.fit(data, y, \n",
    "        cat_features=cat_features, \n",
    "        eval_set=(data, y), \n",
    "        verbose=False\n",
    ")\n",
    "\n",
    "print('CatBoost model is fitted: ' + str(clf.is_fitted()))\n",
    "print('CatBoost model parameters:')\n",
    "print(clf.get_params())\n",
    "\n",
    "preds=clf.predict(data)\n",
    "(y==preds).sum()*100/len(y)\n"
   ]
  },
  {
   "cell_type": "markdown",
   "id": "07cbb00b",
   "metadata": {},
   "source": [
    "### 2. Adult dataset"
   ]
  },
  {
   "cell_type": "code",
   "execution_count": 44,
   "id": "6cbe2f94",
   "metadata": {},
   "outputs": [
    {
     "data": {
      "text/plain": [
       "Index(['age', 'employment', 'final-weight', 'education', 'education.num',\n",
       "       'marital.status', 'job', 'relationship', 'race', 'gender',\n",
       "       'capital-gain', 'capital-loss', 'hours.per.week', 'native.country',\n",
       "       'salary'],\n",
       "      dtype='object')"
      ]
     },
     "execution_count": 44,
     "metadata": {},
     "output_type": "execute_result"
    }
   ],
   "source": [
    "#Leyendo los datos\n",
    "import pandas as pd\n",
    "df = pd.read_csv('http://academic.uprm.edu/eacuna/census.csv',  sep=',',na_values=[' ?'])\n",
    "df.columns"
   ]
  },
  {
   "cell_type": "code",
   "execution_count": 45,
   "id": "19c906d1",
   "metadata": {},
   "outputs": [
    {
     "name": "stdout",
     "output_type": "stream",
     "text": [
      "(30162, 15)\n"
     ]
    }
   ],
   "source": [
    "#Removing the rows containing at least one missing value\n",
    "df1=df.dropna()\n",
    "print(df1.shape)"
   ]
  },
  {
   "cell_type": "code",
   "execution_count": 46,
   "id": "f7a56236",
   "metadata": {},
   "outputs": [],
   "source": [
    "X=df1.drop(\"salary\", axis=1)\n",
    "y=df1[\"salary\"]\n",
    "cat_features=[1,3,5,6,7,8,9,13]"
   ]
  },
  {
   "cell_type": "code",
   "execution_count": 47,
   "id": "e6ab9820",
   "metadata": {},
   "outputs": [],
   "source": [
    "from sklearn.model_selection import train_test_split\n",
    "\n",
    "X_train, X_test, y_train, y_test = train_test_split(X, y, test_size=0.2, random_state=0)"
   ]
  },
  {
   "cell_type": "code",
   "execution_count": 48,
   "id": "7ffe6e33",
   "metadata": {},
   "outputs": [
    {
     "name": "stdout",
     "output_type": "stream",
     "text": [
      "CatBoost model is fitted: True\n",
      "CatBoost model parameters:\n",
      "{'iterations': 5, 'learning_rate': 0.1}\n"
     ]
    }
   ],
   "source": [
    "from catboost import CatBoostClassifier\n",
    "\n",
    "clf = CatBoostClassifier(\n",
    "    iterations=5, \n",
    "    learning_rate=0.1, \n",
    "    #loss_function='CrossEntropy'\n",
    ")\n",
    "\n",
    "\n",
    "clf.fit(X_train, y_train, \n",
    "        cat_features=cat_features, \n",
    "        eval_set=(X_test, y_test), \n",
    "        verbose=False\n",
    ")\n",
    "\n",
    "print('CatBoost model is fitted: ' + str(clf.is_fitted()))\n",
    "print('CatBoost model parameters:')\n",
    "print(clf.get_params())"
   ]
  },
  {
   "cell_type": "code",
   "execution_count": 49,
   "id": "275bbaf8",
   "metadata": {},
   "outputs": [],
   "source": [
    "preds=clf.predict(X_test)"
   ]
  },
  {
   "cell_type": "code",
   "execution_count": 50,
   "id": "5de08aaf",
   "metadata": {},
   "outputs": [
    {
     "data": {
      "text/plain": [
       "array([' <=50K', ' <=50K', ' <=50K', ..., ' <=50K', ' <=50K', ' <=50K'],\n",
       "      dtype=object)"
      ]
     },
     "execution_count": 50,
     "metadata": {},
     "output_type": "execute_result"
    }
   ],
   "source": [
    "preds"
   ]
  },
  {
   "cell_type": "code",
   "execution_count": 51,
   "id": "20a6be08",
   "metadata": {},
   "outputs": [
    {
     "data": {
      "text/plain": [
       "84.25327366152825"
      ]
     },
     "execution_count": 51,
     "metadata": {},
     "output_type": "execute_result"
    }
   ],
   "source": [
    "(y_test==preds).sum()*100/len(y_test)"
   ]
  },
  {
   "cell_type": "code",
   "execution_count": 53,
   "id": "00167523",
   "metadata": {},
   "outputs": [
    {
     "name": "stdout",
     "output_type": "stream",
     "text": [
      "CatBoost model is fitted: True\n",
      "CatBoost model parameters:\n",
      "{'iterations': 5, 'learning_rate': 0.1}\n"
     ]
    },
    {
     "data": {
      "text/plain": [
       "84.18547520343928"
      ]
     },
     "execution_count": 53,
     "metadata": {},
     "output_type": "execute_result"
    }
   ],
   "source": [
    "#imputando los valores missing usando la moda\n",
    "df2=df.fillna(df.mode().iloc[0])\n",
    "X=df2.drop(\"salary\", axis=1)\n",
    "y=df2[\"salary\"]\n",
    "cat_features=[1,3,5,6,7,8,9,13]\n",
    "from sklearn.model_selection import train_test_split\n",
    "\n",
    "X_train, X_test, y_train, y_test = train_test_split(X, y, test_size=0.2, random_state=0)\n",
    "from catboost import CatBoostClassifier\n",
    "\n",
    "clf = CatBoostClassifier(\n",
    "    iterations=5, \n",
    "    learning_rate=0.1, \n",
    "    #loss_function='CrossEntropy'\n",
    ")\n",
    "\n",
    "\n",
    "clf.fit(X_train, y_train, \n",
    "        cat_features=cat_features, \n",
    "        eval_set=(X_test, y_test), \n",
    "        verbose=False\n",
    ")\n",
    "\n",
    "print('CatBoost model is fitted: ' + str(clf.is_fitted()))\n",
    "print('CatBoost model parameters:')\n",
    "print(clf.get_params())\n",
    "preds=clf.predict(X_test)\n",
    "(y_test==preds).sum()*100/len(y_test)"
   ]
  },
  {
   "cell_type": "code",
   "execution_count": null,
   "id": "a0095934",
   "metadata": {},
   "outputs": [],
   "source": []
  }
 ],
 "metadata": {
  "kernelspec": {
   "display_name": "Python 3",
   "language": "python",
   "name": "python3"
  },
  "language_info": {
   "codemirror_mode": {
    "name": "ipython",
    "version": 3
   },
   "file_extension": ".py",
   "mimetype": "text/x-python",
   "name": "python",
   "nbconvert_exporter": "python",
   "pygments_lexer": "ipython3",
   "version": "3.8.8"
  }
 },
 "nbformat": 4,
 "nbformat_minor": 5
}
