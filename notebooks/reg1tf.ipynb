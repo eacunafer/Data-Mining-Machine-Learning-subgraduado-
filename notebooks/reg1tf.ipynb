{
 "cells": [
  {
   "cell_type": "markdown",
   "metadata": {},
   "source": [
    "## ESMA 4016\n",
    "## Simple Linear Regression using Tensorflow\n",
    "## Edgar Acuna\n",
    "### March 2021"
   ]
  },
  {
   "cell_type": "code",
   "execution_count": 1,
   "metadata": {},
   "outputs": [],
   "source": [
    "import numpy as np \n",
    "import tensorflow as tf \n",
    "import matplotlib.pyplot as plt \n",
    "import warnings\n",
    "warnings.filterwarnings('ignore')\n",
    "%matplotlib inline"
   ]
  },
  {
   "cell_type": "code",
   "execution_count": 2,
   "metadata": {},
   "outputs": [
    {
     "name": "stdout",
     "output_type": "stream",
     "text": [
      "2.4.1\n"
     ]
    }
   ],
   "source": [
    "print(tf.__version__)"
   ]
  },
  {
   "cell_type": "code",
   "execution_count": 3,
   "metadata": {},
   "outputs": [
    {
     "data": {
      "text/plain": [
       "(10,)"
      ]
     },
     "execution_count": 3,
     "metadata": {},
     "output_type": "execute_result"
    }
   ],
   "source": [
    "#Entering the data\n",
    "x=[3.0,4.0,6.0,7.0,8.0,12.0,15.0,20.0,22.0,26.0]\n",
    "y=[9,12,16,19,23,27,34,37,40,45]\n",
    "x=np.asarray(x)\n",
    "y=np.asarray(y)\n",
    "n=len(x)\n",
    "x.shape"
   ]
  },
  {
   "cell_type": "code",
   "execution_count": 4,
   "metadata": {},
   "outputs": [],
   "source": [
    "#Randon seeed for reproducibility \n",
    "np.random.seed(101) \n",
    "tf.compat.v1.set_random_seed(101) "
   ]
  },
  {
   "cell_type": "code",
   "execution_count": 5,
   "metadata": {},
   "outputs": [],
   "source": [
    "tf.compat.v1.disable_eager_execution()\n",
    "X = tf.compat.v1.placeholder(\"float\") \n",
    "Y = tf.compat.v1.placeholder(\"float\") "
   ]
  },
  {
   "cell_type": "code",
   "execution_count": 6,
   "metadata": {},
   "outputs": [],
   "source": [
    "W = tf.Variable(np.random.randn(), name = \"W\") \n",
    "b = tf.Variable(np.random.randn(), name = \"b\")\n",
    "#W = tf.Variable([4.0], name = \"W\") \n",
    "b= tf.Variable([10.0], name = \"b\")"
   ]
  },
  {
   "cell_type": "code",
   "execution_count": 7,
   "metadata": {},
   "outputs": [],
   "source": [
    "#  \n",
    "y_pred = tf.add(tf.multiply(X, W), b) "
   ]
  },
  {
   "cell_type": "code",
   "execution_count": 8,
   "metadata": {},
   "outputs": [],
   "source": [
    "learning_rate = 0.001\n",
    "training_epochs = 12000"
   ]
  },
  {
   "cell_type": "code",
   "execution_count": 9,
   "metadata": {},
   "outputs": [],
   "source": [
    "# Mean Squared Error Cost Function in the standard form\n",
    "cost = tf.reduce_sum(tf.pow(y_pred-Y, 2))/n"
   ]
  },
  {
   "cell_type": "code",
   "execution_count": 10,
   "metadata": {},
   "outputs": [],
   "source": [
    "# Gradient Descent Optimizer \n",
    "optimizer = tf.compat.v1.train.GradientDescentOptimizer(learning_rate).minimize(cost) "
   ]
  },
  {
   "cell_type": "code",
   "execution_count": 11,
   "metadata": {},
   "outputs": [],
   "source": [
    "# Global Variables Initializer \n",
    "init = tf.compat.v1.global_variables_initializer() "
   ]
  },
  {
   "cell_type": "code",
   "execution_count": 12,
   "metadata": {
    "scrolled": true
   },
   "outputs": [
    {
     "name": "stdout",
     "output_type": "stream",
     "text": [
      "Epoch 50 : cost = 5.865315 W = 1.3761863 b = [9.858536]\n",
      "Epoch 100 : cost = 5.7946625 W = 1.3793938 b = [9.800285]\n",
      "Epoch 150 : cost = 5.727818 W = 1.3825117 b = [9.743658]\n",
      "Epoch 200 : cost = 5.6645775 W = 1.3855431 b = [9.688607]\n",
      "Epoch 250 : cost = 5.6047416 W = 1.38849 b = [9.635091]\n",
      "Epoch 300 : cost = 5.5481315 W = 1.3913546 b = [9.583066]\n",
      "Epoch 350 : cost = 5.494565 W = 1.3941394 b = [9.532492]\n",
      "Epoch 400 : cost = 5.443879 W = 1.3968465 b = [9.483325]\n",
      "Epoch 450 : cost = 5.395923 W = 1.3994778 b = [9.4355345]\n",
      "Epoch 500 : cost = 5.35054 W = 1.4020364 b = [9.389072]\n",
      "Epoch 550 : cost = 5.307595 W = 1.4045233 b = [9.343906]\n",
      "Epoch 600 : cost = 5.26695 W = 1.406941 b = [9.299995]\n",
      "Epoch 650 : cost = 5.2284827 W = 1.4092916 b = [9.257306]\n",
      "Epoch 700 : cost = 5.1920757 W = 1.4115767 b = [9.215807]\n",
      "Epoch 750 : cost = 5.157617 W = 1.413798 b = [9.175463]\n",
      "Epoch 800 : cost = 5.1250005 W = 1.4159579 b = [9.136239]\n",
      "Epoch 850 : cost = 5.094129 W = 1.4180572 b = [9.098115]\n",
      "Epoch 900 : cost = 5.0649023 W = 1.4200983 b = [9.061045]\n",
      "Epoch 950 : cost = 5.037247 W = 1.4220817 b = [9.025022]\n",
      "Epoch 1000 : cost = 5.0110645 W = 1.4240103 b = [8.989998]\n",
      "Epoch 1050 : cost = 4.9862742 W = 1.4258853 b = [8.95595]\n",
      "Epoch 1100 : cost = 4.962795 W = 1.4277085 b = [8.922837]\n",
      "Epoch 1150 : cost = 4.940577 W = 1.4294801 b = [8.890662]\n",
      "Epoch 1200 : cost = 4.91954 W = 1.4312023 b = [8.8593855]\n",
      "Epoch 1250 : cost = 4.899613 W = 1.4328771 b = [8.828968]\n",
      "Epoch 1300 : cost = 4.880738 W = 1.4345053 b = [8.799394]\n",
      "Epoch 1350 : cost = 4.862877 W = 1.4360875 b = [8.770659]\n",
      "Epoch 1400 : cost = 4.8459578 W = 1.4376259 b = [8.742722]\n",
      "Epoch 1450 : cost = 4.829929 W = 1.4391218 b = [8.715558]\n",
      "Epoch 1500 : cost = 4.814751 W = 1.4405755 b = [8.689156]\n",
      "Epoch 1550 : cost = 4.800373 W = 1.4419891 b = [8.663485]\n",
      "Epoch 1600 : cost = 4.7867556 W = 1.443363 b = [8.638533]\n",
      "Epoch 1650 : cost = 4.7738533 W = 1.4446987 b = [8.614275]\n",
      "Epoch 1700 : cost = 4.761632 W = 1.445997 b = [8.5906925]\n",
      "Epoch 1750 : cost = 4.7500515 W = 1.4472595 b = [8.567768]\n",
      "Epoch 1800 : cost = 4.7390776 W = 1.4484866 b = [8.545479]\n",
      "Epoch 1850 : cost = 4.728677 W = 1.4496801 b = [8.523808]\n",
      "Epoch 1900 : cost = 4.7188277 W = 1.4508393 b = [8.502753]\n",
      "Epoch 1950 : cost = 4.709485 W = 1.4519674 b = [8.482268]\n",
      "Epoch 2000 : cost = 4.700638 W = 1.4530629 b = [8.462366]\n",
      "Epoch 2050 : cost = 4.6922455 W = 1.4541289 b = [8.443012]\n",
      "Epoch 2100 : cost = 4.684299 W = 1.4551638 b = [8.424216]\n",
      "Epoch 2150 : cost = 4.6767554 W = 1.4561714 b = [8.405914]\n",
      "Epoch 2200 : cost = 4.66961 W = 1.4571501 b = [8.388139]\n",
      "Epoch 2250 : cost = 4.6628394 W = 1.4581015 b = [8.370864]\n",
      "Epoch 2300 : cost = 4.656407 W = 1.4590273 b = [8.354048]\n",
      "Epoch 2350 : cost = 4.650319 W = 1.4599261 b = [8.337725]\n",
      "Epoch 2400 : cost = 4.644542 W = 1.4608 b = [8.321853]\n",
      "Epoch 2450 : cost = 4.639056 W = 1.4616508 b = [8.306404]\n",
      "Epoch 2500 : cost = 4.6338577 W = 1.4624768 b = [8.291407]\n",
      "Epoch 2550 : cost = 4.6289306 W = 1.4632798 b = [8.276816]\n",
      "Epoch 2600 : cost = 4.624248 W = 1.4640613 b = [8.262629]\n",
      "Epoch 2650 : cost = 4.619813 W = 1.4648194 b = [8.248862]\n",
      "Epoch 2700 : cost = 4.6155963 W = 1.4655583 b = [8.235441]\n",
      "Epoch 2750 : cost = 4.6115947 W = 1.4662759 b = [8.222405]\n",
      "Epoch 2800 : cost = 4.6078067 W = 1.4669726 b = [8.209757]\n",
      "Epoch 2850 : cost = 4.6042075 W = 1.46765 b = [8.19745]\n",
      "Epoch 2900 : cost = 4.600784 W = 1.4683104 b = [8.185461]\n",
      "Epoch 2950 : cost = 4.5975394 W = 1.4689505 b = [8.173834]\n",
      "Epoch 3000 : cost = 4.594461 W = 1.469573 b = [8.162527]\n",
      "Epoch 3050 : cost = 4.5915365 W = 1.4701782 b = [8.15154]\n",
      "Epoch 3100 : cost = 4.588746 W = 1.4707689 b = [8.140809]\n",
      "Epoch 3150 : cost = 4.586112 W = 1.4713398 b = [8.130441]\n",
      "Epoch 3200 : cost = 4.583605 W = 1.4718958 b = [8.120343]\n",
      "Epoch 3250 : cost = 4.581221 W = 1.472437 b = [8.110512]\n",
      "Epoch 3300 : cost = 4.5789595 W = 1.4729619 b = [8.100982]\n",
      "Epoch 3350 : cost = 4.576799 W = 1.4734757 b = [8.091649]\n",
      "Epoch 3400 : cost = 4.5747633 W = 1.4739704 b = [8.0826645]\n",
      "Epoch 3450 : cost = 4.572818 W = 1.4744536 b = [8.073893]\n",
      "Epoch 3500 : cost = 4.570973 W = 1.4749229 b = [8.065368]\n",
      "Epoch 3550 : cost = 4.569217 W = 1.4753796 b = [8.057071]\n",
      "Epoch 3600 : cost = 4.5675426 W = 1.475824 b = [8.048999]\n",
      "Epoch 3650 : cost = 4.5659537 W = 1.4762555 b = [8.041167]\n",
      "Epoch 3700 : cost = 4.5644445 W = 1.476674 b = [8.033569]\n",
      "Epoch 3750 : cost = 4.5630064 W = 1.4770818 b = [8.02616]\n",
      "Epoch 3800 : cost = 4.56164 W = 1.477478 b = [8.018962]\n",
      "Epoch 3850 : cost = 4.560336 W = 1.4778645 b = [8.011944]\n",
      "Epoch 3900 : cost = 4.5590987 W = 1.4782387 b = [8.005152]\n",
      "Epoch 3950 : cost = 4.5579185 W = 1.4786032 b = [7.998526]\n",
      "Epoch 4000 : cost = 4.556795 W = 1.4789575 b = [7.992092]\n",
      "Epoch 4050 : cost = 4.555728 W = 1.479301 b = [7.985859]\n",
      "Epoch 4100 : cost = 4.554708 W = 1.479636 b = [7.979776]\n",
      "Epoch 4150 : cost = 4.553739 W = 1.4799612 b = [7.973865]\n",
      "Epoch 4200 : cost = 4.5528173 W = 1.4802773 b = [7.9681244]\n",
      "Epoch 4250 : cost = 4.551939 W = 1.4805843 b = [7.9625535]\n",
      "Epoch 4300 : cost = 4.5510993 W = 1.4808832 b = [7.95712]\n",
      "Epoch 4350 : cost = 4.5503 W = 1.4811739 b = [7.9518437]\n",
      "Epoch 4400 : cost = 4.5495386 W = 1.4814559 b = [7.9467216]\n",
      "Epoch 4450 : cost = 4.5488143 W = 1.4817305 b = [7.941731]\n",
      "Epoch 4500 : cost = 4.548124 W = 1.4819965 b = [7.936899]\n",
      "Epoch 4550 : cost = 4.5474596 W = 1.4822568 b = [7.9321775]\n",
      "Epoch 4600 : cost = 4.5468287 W = 1.4825095 b = [7.9275894]\n",
      "Epoch 4650 : cost = 4.5462294 W = 1.4827539 b = [7.92315]\n",
      "Epoch 4700 : cost = 4.545655 W = 1.4829925 b = [7.918815]\n",
      "Epoch 4750 : cost = 4.54511 W = 1.4832234 b = [7.9146204]\n",
      "Epoch 4800 : cost = 4.544587 W = 1.4834491 b = [7.910518]\n",
      "Epoch 4850 : cost = 4.544088 W = 1.4836687 b = [7.906535]\n",
      "Epoch 4900 : cost = 4.5436096 W = 1.4838812 b = [7.902673]\n",
      "Epoch 4950 : cost = 4.543155 W = 1.4840875 b = [7.8989305]\n",
      "Epoch 5000 : cost = 4.5427217 W = 1.484289 b = [7.895268]\n",
      "Epoch 5050 : cost = 4.5423083 W = 1.4844847 b = [7.891717]\n",
      "Epoch 5100 : cost = 4.5419135 W = 1.484674 b = [7.8882737]\n",
      "Epoch 5150 : cost = 4.54153 W = 1.4848603 b = [7.8848944]\n",
      "Epoch 5200 : cost = 4.541166 W = 1.4850397 b = [7.8816357]\n",
      "Epoch 5250 : cost = 4.540819 W = 1.4852142 b = [7.878465]\n",
      "Epoch 5300 : cost = 4.5404887 W = 1.4853832 b = [7.875402]\n",
      "Epoch 5350 : cost = 4.54017 W = 1.4855485 b = [7.8723955]\n",
      "Epoch 5400 : cost = 4.539869 W = 1.4857094 b = [7.8694677]\n",
      "Epoch 5450 : cost = 4.539577 W = 1.485865 b = [7.866649]\n",
      "Epoch 5500 : cost = 4.5393004 W = 1.4860166 b = [7.8638954]\n",
      "Epoch 5550 : cost = 4.5390334 W = 1.4861654 b = [7.8611927]\n",
      "Epoch 5600 : cost = 4.5387797 W = 1.4863079 b = [7.8586035]\n",
      "Epoch 5650 : cost = 4.5385356 W = 1.4864465 b = [7.8560863]\n",
      "Epoch 5700 : cost = 4.538302 W = 1.486582 b = [7.8536243]\n",
      "Epoch 5750 : cost = 4.5380807 W = 1.4867129 b = [7.8512483]\n",
      "Epoch 5800 : cost = 4.537866 W = 1.4868408 b = [7.848925]\n",
      "Epoch 5850 : cost = 4.537658 W = 1.4869665 b = [7.846644]\n",
      "Epoch 5900 : cost = 4.537458 W = 1.487088 b = [7.844436]\n",
      "Epoch 5950 : cost = 4.537271 W = 1.4872051 b = [7.842311]\n",
      "Epoch 6000 : cost = 4.5370913 W = 1.4873191 b = [7.8402357]\n",
      "Epoch 6050 : cost = 4.5369124 W = 1.4874314 b = [7.838201]\n",
      "Epoch 6100 : cost = 4.5367484 W = 1.4875388 b = [7.8362484]\n",
      "Epoch 6150 : cost = 4.5365896 W = 1.4876432 b = [7.834355]\n",
      "Epoch 6200 : cost = 4.536433 W = 1.487745 b = [7.8325076]\n",
      "Epoch 6250 : cost = 4.536288 W = 1.4878441 b = [7.8307014]\n",
      "Epoch 6300 : cost = 4.536145 W = 1.487941 b = [7.828946]\n",
      "Epoch 6350 : cost = 4.5360126 W = 1.4880332 b = [7.8272724]\n",
      "Epoch 6400 : cost = 4.5358796 W = 1.4881248 b = [7.825608]\n",
      "Epoch 6450 : cost = 4.5357547 W = 1.4882143 b = [7.8239813]\n",
      "Epoch 6500 : cost = 4.5356326 W = 1.4883012 b = [7.8224015]\n",
      "Epoch 6550 : cost = 4.5355134 W = 1.4883862 b = [7.820859]\n",
      "Epoch 6600 : cost = 4.535403 W = 1.4884675 b = [7.819385]\n",
      "Epoch 6650 : cost = 4.5352964 W = 1.4885455 b = [7.8179655]\n",
      "Epoch 6700 : cost = 4.5351944 W = 1.4886222 b = [7.8165703]\n",
      "Epoch 6750 : cost = 4.5350947 W = 1.4886973 b = [7.8152113]\n",
      "Epoch 6800 : cost = 4.534999 W = 1.4887698 b = [7.813897]\n",
      "Epoch 6850 : cost = 4.5349092 W = 1.48884 b = [7.81261]\n",
      "Epoch 6900 : cost = 4.534818 W = 1.4889101 b = [7.8113484]\n",
      "Epoch 6950 : cost = 4.534737 W = 1.4889753 b = [7.810164]\n",
      "Epoch 7000 : cost = 4.534653 W = 1.4890391 b = [7.8090034]\n",
      "Epoch 7050 : cost = 4.534576 W = 1.4891033 b = [7.8078337]\n"
     ]
    },
    {
     "name": "stdout",
     "output_type": "stream",
     "text": [
      "Epoch 7100 : cost = 4.5344977 W = 1.4891652 b = [7.806709]\n",
      "Epoch 7150 : cost = 4.5344257 W = 1.4892244 b = [7.805636]\n",
      "Epoch 7200 : cost = 4.534355 W = 1.4892827 b = [7.8045735]\n",
      "Epoch 7250 : cost = 4.5342875 W = 1.4893377 b = [7.8035808]\n",
      "Epoch 7300 : cost = 4.5342245 W = 1.4893925 b = [7.802584]\n",
      "Epoch 7350 : cost = 4.53416 W = 1.4894459 b = [7.8016133]\n",
      "Epoch 7400 : cost = 4.534096 W = 1.4894986 b = [7.800658]\n",
      "Epoch 7450 : cost = 4.534039 W = 1.4895498 b = [7.799727]\n",
      "Epoch 7500 : cost = 4.5339823 W = 1.4896007 b = [7.7988]\n",
      "Epoch 7550 : cost = 4.533925 W = 1.4896489 b = [7.797927]\n",
      "Epoch 7600 : cost = 4.53387 W = 1.4896963 b = [7.7970686]\n",
      "Epoch 7650 : cost = 4.5338206 W = 1.4897419 b = [7.7962365]\n",
      "Epoch 7700 : cost = 4.5337687 W = 1.4897852 b = [7.7954516]\n",
      "Epoch 7750 : cost = 4.5337253 W = 1.489826 b = [7.7947164]\n",
      "Epoch 7800 : cost = 4.5336814 W = 1.4898653 b = [7.794001]\n",
      "Epoch 7850 : cost = 4.5336394 W = 1.4899051 b = [7.7932725]\n",
      "Epoch 7900 : cost = 4.533596 W = 1.4899435 b = [7.7925787]\n",
      "Epoch 7950 : cost = 4.5335574 W = 1.4899801 b = [7.791911]\n",
      "Epoch 8000 : cost = 4.5335174 W = 1.4900167 b = [7.7912436]\n",
      "Epoch 8050 : cost = 4.5334773 W = 1.490053 b = [7.790586]\n",
      "Epoch 8100 : cost = 4.5334396 W = 1.4900893 b = [7.789929]\n",
      "Epoch 8150 : cost = 4.533405 W = 1.4901229 b = [7.7893205]\n",
      "Epoch 8200 : cost = 4.5333705 W = 1.490155 b = [7.7887344]\n",
      "Epoch 8250 : cost = 4.533337 W = 1.4901875 b = [7.788144]\n",
      "Epoch 8300 : cost = 4.5333047 W = 1.4902191 b = [7.787572]\n",
      "Epoch 8350 : cost = 4.533272 W = 1.4902499 b = [7.787011]\n",
      "Epoch 8400 : cost = 4.533241 W = 1.4902787 b = [7.786489]\n",
      "Epoch 8450 : cost = 4.5332146 W = 1.4903057 b = [7.7859993]\n",
      "Epoch 8500 : cost = 4.5331874 W = 1.4903321 b = [7.7855144]\n",
      "Epoch 8550 : cost = 4.533162 W = 1.4903599 b = [7.7850137]\n",
      "Epoch 8600 : cost = 4.5331354 W = 1.4903866 b = [7.784529]\n",
      "Epoch 8650 : cost = 4.5331073 W = 1.4904122 b = [7.7840595]\n",
      "Epoch 8700 : cost = 4.5330825 W = 1.4904386 b = [7.7835827]\n",
      "Epoch 8750 : cost = 4.5330577 W = 1.4904635 b = [7.7831297]\n",
      "Epoch 8800 : cost = 4.533034 W = 1.4904879 b = [7.78269]\n",
      "Epoch 8850 : cost = 4.53301 W = 1.4905105 b = [7.782281]\n",
      "Epoch 8900 : cost = 4.532989 W = 1.4905326 b = [7.7818756]\n",
      "Epoch 8950 : cost = 4.532968 W = 1.4905546 b = [7.781476]\n",
      "Epoch 9000 : cost = 4.532947 W = 1.4905759 b = [7.7810946]\n",
      "Epoch 9050 : cost = 4.5329256 W = 1.4905969 b = [7.780713]\n",
      "Epoch 9100 : cost = 4.532905 W = 1.4906168 b = [7.7803473]\n",
      "Epoch 9150 : cost = 4.5328927 W = 1.4906344 b = [7.7800264]\n",
      "Epoch 9200 : cost = 4.5328746 W = 1.4906517 b = [7.7797165]\n",
      "Epoch 9250 : cost = 4.532859 W = 1.4906691 b = [7.779398]\n",
      "Epoch 9300 : cost = 4.5328393 W = 1.4906877 b = [7.779064]\n",
      "Epoch 9350 : cost = 4.5328236 W = 1.490704 b = [7.778767]\n",
      "Epoch 9400 : cost = 4.532811 W = 1.4907182 b = [7.7785006]\n",
      "Epoch 9450 : cost = 4.532798 W = 1.4907335 b = [7.7782316]\n",
      "Epoch 9500 : cost = 4.532783 W = 1.4907489 b = [7.7779455]\n",
      "Epoch 9550 : cost = 4.5327663 W = 1.4907651 b = [7.7776575]\n",
      "Epoch 9600 : cost = 4.5327525 W = 1.4907815 b = [7.7773557]\n",
      "Epoch 9650 : cost = 4.532738 W = 1.4907972 b = [7.7770696]\n",
      "Epoch 9700 : cost = 4.5327234 W = 1.4908127 b = [7.7767835]\n",
      "Epoch 9750 : cost = 4.5327096 W = 1.4908286 b = [7.7764974]\n",
      "Epoch 9800 : cost = 4.5326953 W = 1.4908445 b = [7.7762113]\n",
      "Epoch 9850 : cost = 4.532678 W = 1.4908599 b = [7.7759295]\n",
      "Epoch 9900 : cost = 4.532667 W = 1.4908736 b = [7.7756844]\n",
      "Epoch 9950 : cost = 4.532655 W = 1.4908868 b = [7.775446]\n",
      "Epoch 10000 : cost = 4.532645 W = 1.4908986 b = [7.775229]\n",
      "Epoch 10050 : cost = 4.532632 W = 1.4909109 b = [7.7750144]\n",
      "Epoch 10100 : cost = 4.532624 W = 1.490921 b = [7.7748203]\n",
      "Epoch 10150 : cost = 4.5326147 W = 1.4909325 b = [7.774615]\n",
      "Epoch 10200 : cost = 4.5326014 W = 1.4909443 b = [7.7744]\n",
      "Epoch 10250 : cost = 4.532594 W = 1.490955 b = [7.774208]\n",
      "Epoch 10300 : cost = 4.5325828 W = 1.4909656 b = [7.7740173]\n",
      "Epoch 10350 : cost = 4.532575 W = 1.4909759 b = [7.7738266]\n",
      "Epoch 10400 : cost = 4.532564 W = 1.4909865 b = [7.773636]\n",
      "Epoch 10450 : cost = 4.5325565 W = 1.4909965 b = [7.7734485]\n",
      "Epoch 10500 : cost = 4.5325475 W = 1.4910059 b = [7.7732816]\n",
      "Epoch 10550 : cost = 4.5325384 W = 1.491015 b = [7.7731147]\n",
      "Epoch 10600 : cost = 4.5325327 W = 1.4910238 b = [7.772956]\n",
      "Epoch 10650 : cost = 4.532526 W = 1.4910316 b = [7.772813]\n",
      "Epoch 10700 : cost = 4.532518 W = 1.4910393 b = [7.77267]\n",
      "Epoch 10750 : cost = 4.5325093 W = 1.4910475 b = [7.7725267]\n",
      "Epoch 10800 : cost = 4.532506 W = 1.4910551 b = [7.7723837]\n",
      "Epoch 10850 : cost = 4.5324974 W = 1.4910632 b = [7.7722406]\n",
      "Epoch 10900 : cost = 4.5324907 W = 1.4910707 b = [7.772103]\n",
      "Epoch 10950 : cost = 4.532484 W = 1.4910775 b = [7.7719836]\n",
      "Epoch 11000 : cost = 4.5324817 W = 1.4910841 b = [7.7718644]\n",
      "Epoch 11050 : cost = 4.5324745 W = 1.4910896 b = [7.771761]\n",
      "Epoch 11100 : cost = 4.5324693 W = 1.4910951 b = [7.7716656]\n",
      "Epoch 11150 : cost = 4.532462 W = 1.4911007 b = [7.77157]\n",
      "Epoch 11200 : cost = 4.5324593 W = 1.4911046 b = [7.7714896]\n",
      "Epoch 11250 : cost = 4.532457 W = 1.4911089 b = [7.771418]\n",
      "Epoch 11300 : cost = 4.5324535 W = 1.4911125 b = [7.7713466]\n",
      "Epoch 11350 : cost = 4.5324497 W = 1.491116 b = [7.771291]\n",
      "Epoch 11400 : cost = 4.53245 W = 1.491118 b = [7.771243]\n",
      "Epoch 11450 : cost = 4.5324473 W = 1.4911208 b = [7.7711954]\n",
      "Epoch 11500 : cost = 4.5324435 W = 1.4911238 b = [7.7711477]\n",
      "Epoch 11550 : cost = 4.532441 W = 1.4911262 b = [7.7711]\n",
      "Epoch 11600 : cost = 4.532441 W = 1.4911286 b = [7.7710524]\n",
      "Epoch 11650 : cost = 4.5324373 W = 1.4911314 b = [7.7710104]\n",
      "Epoch 11700 : cost = 4.5324364 W = 1.4911324 b = [7.7709866]\n",
      "Epoch 11750 : cost = 4.532435 W = 1.4911339 b = [7.7709627]\n",
      "Epoch 11800 : cost = 4.5324335 W = 1.4911354 b = [7.770939]\n",
      "Epoch 11850 : cost = 4.5324335 W = 1.4911366 b = [7.770915]\n",
      "Epoch 11900 : cost = 4.5324316 W = 1.4911376 b = [7.770891]\n",
      "Epoch 11950 : cost = 4.5324316 W = 1.4911387 b = [7.7708673]\n",
      "Epoch 12000 : cost = 4.5324297 W = 1.4911404 b = [7.7708435]\n"
     ]
    }
   ],
   "source": [
    "# Starting the Tensorflow Session \n",
    "with tf.compat.v1.Session() as sess: \n",
    "      \n",
    "    # Initializing the Variables \n",
    "    sess.run(init) \n",
    "      \n",
    "    # Iterating through all the epochs \n",
    "    for epoch in range(training_epochs): \n",
    "          \n",
    "        # Feeding each data point into the optimizer using Feed Dictionary \n",
    "        for (_x, _y) in zip(x, y): \n",
    "            sess.run(optimizer, feed_dict = {X : _x, Y : _y}) \n",
    "          \n",
    "        # Displaying the result after every 50 epochs \n",
    "        if (epoch + 1) % 50 == 0: \n",
    "            # Calculating the cost a every epoch \n",
    "            c = sess.run(cost, feed_dict = {X : x, Y : y}) \n",
    "            print(\"Epoch\", (epoch + 1), \": cost =\", c, \"W =\", sess.run(W), \"b =\", sess.run(b)) \n",
    "      \n",
    "    # Storing necessary values to be used outside the Session \n",
    "    training_cost = sess.run(cost, feed_dict ={X: x, Y: y}) \n",
    "    weight = sess.run(W) \n",
    "    bias = sess.run(b) "
   ]
  },
  {
   "cell_type": "code",
   "execution_count": 13,
   "metadata": {},
   "outputs": [
    {
     "name": "stdout",
     "output_type": "stream",
     "text": [
      "Training cost = 4.5324297 Weight = 1.4911404 bias = [7.7708435] \n",
      "\n"
     ]
    }
   ],
   "source": [
    "# Calculating the predictions \n",
    "predictions = weight*x + bias\n",
    "print(\"Training cost =\", training_cost, \"Weight =\", weight, \"bias =\", bias, '\\n') "
   ]
  },
  {
   "cell_type": "code",
   "execution_count": 14,
   "metadata": {},
   "outputs": [
    {
     "name": "stdout",
     "output_type": "stream",
     "text": [
      "[12.2442646  13.73540497 16.7176857  18.20882607 19.69996643 25.66452789\n",
      " 30.13794899 37.59365082 40.57593155 46.54049301]\n"
     ]
    }
   ],
   "source": [
    "print(predictions)"
   ]
  },
  {
   "cell_type": "code",
   "execution_count": 15,
   "metadata": {},
   "outputs": [
    {
     "data": {
      "image/png": "[encoded data removed]",
      "text/plain": [
       "<Figure size 432x288 with 1 Axes>"
      ]
     },
     "metadata": {
      "needs_background": "light"
     },
     "output_type": "display_data"
    }
   ],
   "source": [
    "# Plotting the Results \n",
    "plt.plot(x, y, 'ro', label ='Original data') \n",
    "plt.plot(x, predictions, label ='Fitted line') \n",
    "plt.title('Linear Regression Result') \n",
    "plt.legend() \n",
    "plt.show() "
   ]
  },
  {
   "cell_type": "code",
   "execution_count": null,
   "metadata": {},
   "outputs": [],
   "source": []
  }
 ],
 "metadata": {
  "kernelspec": {
   "display_name": "Python 3",
   "language": "python",
   "name": "python3"
  },
  "language_info": {
   "codemirror_mode": {
    "name": "ipython",
    "version": 3
   },
   "file_extension": ".py",
   "mimetype": "text/x-python",
   "name": "python",
   "nbconvert_exporter": "python",
   "pygments_lexer": "ipython3",
   "version": "3.7.6"
  }
 },
 "nbformat": 4,
 "nbformat_minor": 2
}
