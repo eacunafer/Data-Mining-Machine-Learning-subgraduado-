{
 "cells": [
  {
   "cell_type": "markdown",
   "id": "5acd042c",
   "metadata": {},
   "source": [
    "## Embedded encoding\n",
    "### Edgar Acuna\n",
    "### September 2021"
   ]
  },
  {
   "cell_type": "code",
   "execution_count": 6,
   "id": "877344d1",
   "metadata": {},
   "outputs": [],
   "source": [
    "import tensorflow as tf\n",
    "from tensorflow import keras\n",
    "import numpy as np"
   ]
  },
  {
   "cell_type": "code",
   "execution_count": 7,
   "id": "f829a693",
   "metadata": {},
   "outputs": [],
   "source": [
    "#Considering a dataset with 10 instances two numerical predictors  and one categorical atribute with two levels\n",
    "num_data = np.random.random(size=(10,2))\n",
    "#One categorical variables with 3 levels\n",
    "cat_data = np.array([\"red\",\"blue\",\"green\",\"red\",\"red\",\"blue\",\"blue\",\"green\",\"red\",\"red\"])"
   ]
  },
  {
   "cell_type": "code",
   "execution_count": 8,
   "id": "d48bab84",
   "metadata": {},
   "outputs": [
    {
     "data": {
      "text/plain": [
       "array([[0.19019922, 0.93877049],\n",
       "       [0.56805413, 0.17587088],\n",
       "       [0.06471525, 0.23607366],\n",
       "       [0.91845431, 0.90567313],\n",
       "       [0.62306059, 0.17568216],\n",
       "       [0.40461198, 0.46084551],\n",
       "       [0.06367899, 0.19493746],\n",
       "       [0.23756553, 0.79478187],\n",
       "       [0.96845424, 0.36368831],\n",
       "       [0.52578705, 0.75047808]])"
      ]
     },
     "execution_count": 8,
     "metadata": {},
     "output_type": "execute_result"
    }
   ],
   "source": [
    "num_data"
   ]
  },
  {
   "cell_type": "code",
   "execution_count": 9,
   "id": "36fd333a",
   "metadata": {},
   "outputs": [
    {
     "data": {
      "text/plain": [
       "array([2, 0, 1, 2, 2, 0, 0, 1, 2, 2], dtype=int64)"
      ]
     },
     "execution_count": 9,
     "metadata": {},
     "output_type": "execute_result"
    }
   ],
   "source": [
    "#Replacing the values of the categorical features by numerical values using skelearn's LabelEncoder \n",
    "#The coding is in alphabetic order\n",
    "from sklearn.preprocessing  import LabelEncoder \n",
    "lb_make = LabelEncoder()\n",
    "cat_data= lb_make.fit_transform(cat_data)\n",
    "cat_data"
   ]
  },
  {
   "cell_type": "code",
   "execution_count": 10,
   "id": "23ea3eb7",
   "metadata": {},
   "outputs": [
    {
     "data": {
      "text/plain": [
       "array([[0.19019922, 0.93877049, 2.        ],\n",
       "       [0.56805413, 0.17587088, 0.        ],\n",
       "       [0.06471525, 0.23607366, 1.        ],\n",
       "       [0.91845431, 0.90567313, 2.        ],\n",
       "       [0.62306059, 0.17568216, 2.        ],\n",
       "       [0.40461198, 0.46084551, 0.        ],\n",
       "       [0.06367899, 0.19493746, 0.        ],\n",
       "       [0.23756553, 0.79478187, 1.        ],\n",
       "       [0.96845424, 0.36368831, 2.        ],\n",
       "       [0.52578705, 0.75047808, 2.        ]])"
      ]
     },
     "execution_count": 10,
     "metadata": {},
     "output_type": "execute_result"
    }
   ],
   "source": [
    "#Original Dataset\n",
    "all=np.insert(num_data,num_data.shape[1],cat_data,1)\n",
    "all"
   ]
  },
  {
   "cell_type": "code",
   "execution_count": 11,
   "id": "b05a93a4",
   "metadata": {},
   "outputs": [],
   "source": [
    "#Let's create one-hot encoded matrix for the categorical feature\n",
    "#Also it can be done with get_dummies from Pandas, Labelbinarizer and One-hot Enonder from scikit-learn\n",
    "one_hot_encoded_cat_data = np.eye(cat_data.max()+1)[cat_data]"
   ]
  },
  {
   "cell_type": "code",
   "execution_count": 12,
   "id": "92dd6581",
   "metadata": {},
   "outputs": [
    {
     "data": {
      "text/plain": [
       "array([[0., 0., 1.],\n",
       "       [1., 0., 0.],\n",
       "       [0., 1., 0.],\n",
       "       [0., 0., 1.],\n",
       "       [0., 0., 1.],\n",
       "       [1., 0., 0.],\n",
       "       [1., 0., 0.],\n",
       "       [0., 1., 0.],\n",
       "       [0., 0., 1.],\n",
       "       [0., 0., 1.]])"
      ]
     },
     "execution_count": 12,
     "metadata": {},
     "output_type": "execute_result"
    }
   ],
   "source": [
    "one_hot_encoded_cat_data"
   ]
  },
  {
   "cell_type": "markdown",
   "id": "ff58ae8d",
   "metadata": {},
   "source": [
    "## Embedded Encoding"
   ]
  },
  {
   "cell_type": "code",
   "execution_count": 14,
   "id": "3c4c4710",
   "metadata": {},
   "outputs": [],
   "source": [
    "#Let us consider a simulated target attribute\n",
    "target =[0,1,1,1,1,0,1,1,1,0]\n",
    "target=np.array(target)"
   ]
  },
  {
   "cell_type": "code",
   "execution_count": 15,
   "id": "3c3195a3",
   "metadata": {},
   "outputs": [
    {
     "data": {
      "text/plain": [
       "2"
      ]
     },
     "execution_count": 15,
     "metadata": {},
     "output_type": "execute_result"
    }
   ],
   "source": [
    "#This is the suggested  embedding size \n",
    "no_of_unique_cat  = len(np.unique(cat_data))\n",
    "#embedding size = min(50, number of categories/2).\n",
    "embedding_size = min(np.ceil((no_of_unique_cat)/2), 50 )\n",
    "embedding_size = int(embedding_size)\n",
    "embedding_size"
   ]
  },
  {
   "cell_type": "code",
   "execution_count": 16,
   "id": "e61089f6",
   "metadata": {},
   "outputs": [],
   "source": [
    "# Use Input layers, specify input shape (dimensions except first)\n",
    "inp_cat_data = keras.layers.Input(shape=(no_of_unique_cat,))\n",
    "inp_num_data = keras.layers.Input(shape=(num_data.shape[1],))\n",
    "# Bind nulti_hot to embedding layer\n",
    "emb = keras.layers.Embedding(input_dim=no_of_unique_cat, output_dim=embedding_size)(inp_cat_data)  \n",
    "# Also you need flatten embedded output-\n",
    "# otherwise it's not possible to concatenate it with inp_num_data\n",
    "flatten = keras.layers.Flatten()(emb)\n",
    "# Concatenate two layers\n",
    "conc = keras.layers.Concatenate()([flatten, inp_num_data])\n",
    "dense1 = keras.layers.Dense(3, activation=tf.nn.relu, )(conc)\n",
    "# Creating output layer\n",
    "out = keras.layers.Dense(1, activation=None)(dense1)\n",
    "model = keras.Model(inputs=[inp_cat_data, inp_num_data], outputs=out)"
   ]
  },
  {
   "cell_type": "code",
   "execution_count": 17,
   "id": "a69da441",
   "metadata": {},
   "outputs": [
    {
     "name": "stdout",
     "output_type": "stream",
     "text": [
      "Model: \"functional_1\"\n",
      "__________________________________________________________________________________________________\n",
      "Layer (type)                    Output Shape         Param #     Connected to                     \n",
      "==================================================================================================\n",
      "input_1 (InputLayer)            [(None, 3)]          0                                            \n",
      "__________________________________________________________________________________________________\n",
      "embedding (Embedding)           (None, 3, 2)         6           input_1[0][0]                    \n",
      "__________________________________________________________________________________________________\n",
      "flatten (Flatten)               (None, 6)            0           embedding[0][0]                  \n",
      "__________________________________________________________________________________________________\n",
      "input_2 (InputLayer)            [(None, 2)]          0                                            \n",
      "__________________________________________________________________________________________________\n",
      "concatenate (Concatenate)       (None, 8)            0           flatten[0][0]                    \n",
      "                                                                 input_2[0][0]                    \n",
      "__________________________________________________________________________________________________\n",
      "dense (Dense)                   (None, 3)            27          concatenate[0][0]                \n",
      "__________________________________________________________________________________________________\n",
      "dense_1 (Dense)                 (None, 1)            4           dense[0][0]                      \n",
      "==================================================================================================\n",
      "Total params: 37\n",
      "Trainable params: 37\n",
      "Non-trainable params: 0\n",
      "__________________________________________________________________________________________________\n"
     ]
    }
   ],
   "source": [
    "model.summary()"
   ]
  },
  {
   "cell_type": "code",
   "execution_count": 18,
   "id": "09a4853d",
   "metadata": {},
   "outputs": [],
   "source": [
    "model.compile(optimizer=tf.compat.v1.train.AdamOptimizer(0.01),\n",
    "              loss=keras.losses.mean_squared_error,\n",
    "              metrics=[keras.metrics.mean_squared_error])"
   ]
  },
  {
   "cell_type": "code",
   "execution_count": 19,
   "id": "18856bb4",
   "metadata": {},
   "outputs": [
    {
     "name": "stdout",
     "output_type": "stream",
     "text": [
      "1/1 [==============================] - 0s 16ms/step - loss: 0.7990 - mean_squared_error: 0.7990\n"
     ]
    },
    {
     "data": {
      "text/plain": [
       "array([[-0.00129469,  0.05073811],\n",
       "       [ 0.02688374,  0.03952122],\n",
       "       [-0.00515642,  0.03700156]], dtype=float32)"
      ]
     },
     "execution_count": 19,
     "metadata": {},
     "output_type": "execute_result"
    }
   ],
   "source": [
    "#Finding out the weights for each value of the categorical variable\n",
    "model.fit([one_hot_encoded_cat_data, num_data], target)\n",
    "model.layers[1].get_weights()[0]"
   ]
  },
  {
   "cell_type": "code",
   "execution_count": 20,
   "id": "b7f206e4",
   "metadata": {},
   "outputs": [
    {
     "data": {
      "text/plain": [
       "array([[-0.022, -0.012],\n",
       "       [-0.022,  0.047],\n",
       "       [-0.023,  0.038],\n",
       "       [-0.022, -0.012],\n",
       "       [-0.022, -0.012],\n",
       "       [-0.022,  0.047],\n",
       "       [-0.022,  0.047],\n",
       "       [-0.023,  0.038],\n",
       "       [-0.022, -0.012],\n",
       "       [-0.022, -0.012]])"
      ]
     },
     "execution_count": 20,
     "metadata": {},
     "output_type": "execute_result"
    }
   ],
   "source": [
    "#Obtaining the transformed representation of the categorial feature\n",
    "idx0=np.argwhere(cat_data==0)\n",
    "idx1=np.argwhere(cat_data==1)\n",
    "idx2=np.argwhere(cat_data==2)\n",
    "newcode=np.zeros((10,2))\n",
    "newcode[idx0,]=[-0.022, 0.047]\n",
    "newcode[idx1,]=[-0.023, 0.038]\n",
    "newcode[idx2,]=[-0.022,  -0.012]\n",
    "newcode"
   ]
  },
  {
   "cell_type": "code",
   "execution_count": 21,
   "id": "e4228aee",
   "metadata": {},
   "outputs": [
    {
     "data": {
      "text/plain": [
       "array([[ 0.19019922,  0.93877049, -0.022     , -0.012     ],\n",
       "       [ 0.56805413,  0.17587088, -0.022     ,  0.047     ],\n",
       "       [ 0.06471525,  0.23607366, -0.023     ,  0.038     ],\n",
       "       [ 0.91845431,  0.90567313, -0.022     , -0.012     ],\n",
       "       [ 0.62306059,  0.17568216, -0.022     , -0.012     ],\n",
       "       [ 0.40461198,  0.46084551, -0.022     ,  0.047     ],\n",
       "       [ 0.06367899,  0.19493746, -0.022     ,  0.047     ],\n",
       "       [ 0.23756553,  0.79478187, -0.023     ,  0.038     ],\n",
       "       [ 0.96845424,  0.36368831, -0.022     , -0.012     ],\n",
       "       [ 0.52578705,  0.75047808, -0.022     , -0.012     ]])"
      ]
     },
     "execution_count": 21,
     "metadata": {},
     "output_type": "execute_result"
    }
   ],
   "source": [
    "#Trnasformed dataset\n",
    "all1=np.insert(num_data,num_data.shape[1],np.transpose(newcode),1)\n",
    "all1"
   ]
  },
  {
   "cell_type": "markdown",
   "id": "58c36f4c",
   "metadata": {},
   "source": [
    "### Embedded encoding and Decisio Tree Classifier applied to the loan dataset"
   ]
  },
  {
   "cell_type": "code",
   "execution_count": 22,
   "id": "ad08d793",
   "metadata": {},
   "outputs": [
    {
     "name": "stdout",
     "output_type": "stream",
     "text": [
      "      Sexo  Familia CasPropia  AnosEmpleo  Sueldo StatustMarital Prestamo\n",
      "0   Hombre        3        No          17    2500        Soltero       No\n",
      "1    Mujer        5        Si          10    3000         Casado       Si\n",
      "2    Mujer        4        No          15    2000          Viudo       No\n",
      "3   Hombre        3        Si          16    2800        Soltero       Si\n",
      "4   Hombre        6        Si          11    4000          Viudo       Si\n",
      "5    Mujer        4        Si          26    3200        Soltero       Si\n",
      "6    Mujer        2        Si          14    1800        Soltero       No\n",
      "7   Hombre        5        Si          10    3750         Casado       Si\n",
      "8   Hombre        6        No          18    2970     Divorciado       No\n",
      "9   Hombre        4        Si          12    3350     Divorciado       No\n",
      "10  Hombre        1        No          23    1950        Soltero       No\n",
      "11   Mujer        2        Si          25    2740        Soltero       Si\n",
      "12   Mujer        3        No           7    3100        Soltero       Si\n",
      "13  Hombre        5        Si           5    3845     Divorciado       No\n",
      "14  Hombre        3        No          13    3200         Casado       Si\n",
      "15   Mujer        3        Si           9    2800        Soltero       No\n",
      "16  Hombre        2        No           6    3200        Soltero       Si\n",
      "17  Hombre        3        Si           7    3815          Viudo       Si\n",
      "18   Mujer        2        Si          11    2980     Divorciado       No\n",
      "19  Hombre        4        Si          15    2850          Viudo       Si\n",
      "20   Mujer        1        No           6    3125     Divorciado       No\n",
      "21  Hombre        1        No           8    3500        Soltero       Si\n",
      "22  Hombre        4        No          22    4500     Divorciado       Si\n",
      "23  Hombre        2        Si          10    3200         Casado       Si\n",
      "24  Hombre        3        Si           9    3000         Casado       Si\n"
     ]
    }
   ],
   "source": [
    "import pandas as pd\n",
    "df = pd.read_csv(\"https://academic.uprm.edu/eacuna/datosarbol.csv\")\n",
    "print(df)"
   ]
  },
  {
   "cell_type": "code",
   "execution_count": 23,
   "id": "ca3fee80",
   "metadata": {},
   "outputs": [
    {
     "data": {
      "text/html": [
       "<div>\n",
       "<style scoped>\n",
       "    .dataframe tbody tr th:only-of-type {\n",
       "        vertical-align: middle;\n",
       "    }\n",
       "\n",
       "    .dataframe tbody tr th {\n",
       "        vertical-align: top;\n",
       "    }\n",
       "\n",
       "    .dataframe thead th {\n",
       "        text-align: right;\n",
       "    }\n",
       "</style>\n",
       "<table border=\"1\" class=\"dataframe\">\n",
       "  <thead>\n",
       "    <tr style=\"text-align: right;\">\n",
       "      <th></th>\n",
       "      <th>Sexo</th>\n",
       "      <th>Familia</th>\n",
       "      <th>CasPropia</th>\n",
       "      <th>AnosEmpleo</th>\n",
       "      <th>Sueldo</th>\n",
       "    </tr>\n",
       "  </thead>\n",
       "  <tbody>\n",
       "    <tr>\n",
       "      <th>0</th>\n",
       "      <td>0</td>\n",
       "      <td>3</td>\n",
       "      <td>0</td>\n",
       "      <td>17</td>\n",
       "      <td>2500</td>\n",
       "    </tr>\n",
       "    <tr>\n",
       "      <th>1</th>\n",
       "      <td>1</td>\n",
       "      <td>5</td>\n",
       "      <td>1</td>\n",
       "      <td>10</td>\n",
       "      <td>3000</td>\n",
       "    </tr>\n",
       "    <tr>\n",
       "      <th>2</th>\n",
       "      <td>1</td>\n",
       "      <td>4</td>\n",
       "      <td>0</td>\n",
       "      <td>15</td>\n",
       "      <td>2000</td>\n",
       "    </tr>\n",
       "    <tr>\n",
       "      <th>3</th>\n",
       "      <td>0</td>\n",
       "      <td>3</td>\n",
       "      <td>1</td>\n",
       "      <td>16</td>\n",
       "      <td>2800</td>\n",
       "    </tr>\n",
       "    <tr>\n",
       "      <th>4</th>\n",
       "      <td>0</td>\n",
       "      <td>6</td>\n",
       "      <td>1</td>\n",
       "      <td>11</td>\n",
       "      <td>4000</td>\n",
       "    </tr>\n",
       "    <tr>\n",
       "      <th>5</th>\n",
       "      <td>1</td>\n",
       "      <td>4</td>\n",
       "      <td>1</td>\n",
       "      <td>26</td>\n",
       "      <td>3200</td>\n",
       "    </tr>\n",
       "    <tr>\n",
       "      <th>6</th>\n",
       "      <td>1</td>\n",
       "      <td>2</td>\n",
       "      <td>1</td>\n",
       "      <td>14</td>\n",
       "      <td>1800</td>\n",
       "    </tr>\n",
       "    <tr>\n",
       "      <th>7</th>\n",
       "      <td>0</td>\n",
       "      <td>5</td>\n",
       "      <td>1</td>\n",
       "      <td>10</td>\n",
       "      <td>3750</td>\n",
       "    </tr>\n",
       "    <tr>\n",
       "      <th>8</th>\n",
       "      <td>0</td>\n",
       "      <td>6</td>\n",
       "      <td>0</td>\n",
       "      <td>18</td>\n",
       "      <td>2970</td>\n",
       "    </tr>\n",
       "    <tr>\n",
       "      <th>9</th>\n",
       "      <td>0</td>\n",
       "      <td>4</td>\n",
       "      <td>1</td>\n",
       "      <td>12</td>\n",
       "      <td>3350</td>\n",
       "    </tr>\n",
       "    <tr>\n",
       "      <th>10</th>\n",
       "      <td>0</td>\n",
       "      <td>1</td>\n",
       "      <td>0</td>\n",
       "      <td>23</td>\n",
       "      <td>1950</td>\n",
       "    </tr>\n",
       "    <tr>\n",
       "      <th>11</th>\n",
       "      <td>1</td>\n",
       "      <td>2</td>\n",
       "      <td>1</td>\n",
       "      <td>25</td>\n",
       "      <td>2740</td>\n",
       "    </tr>\n",
       "    <tr>\n",
       "      <th>12</th>\n",
       "      <td>1</td>\n",
       "      <td>3</td>\n",
       "      <td>0</td>\n",
       "      <td>7</td>\n",
       "      <td>3100</td>\n",
       "    </tr>\n",
       "    <tr>\n",
       "      <th>13</th>\n",
       "      <td>0</td>\n",
       "      <td>5</td>\n",
       "      <td>1</td>\n",
       "      <td>5</td>\n",
       "      <td>3845</td>\n",
       "    </tr>\n",
       "    <tr>\n",
       "      <th>14</th>\n",
       "      <td>0</td>\n",
       "      <td>3</td>\n",
       "      <td>0</td>\n",
       "      <td>13</td>\n",
       "      <td>3200</td>\n",
       "    </tr>\n",
       "    <tr>\n",
       "      <th>15</th>\n",
       "      <td>1</td>\n",
       "      <td>3</td>\n",
       "      <td>1</td>\n",
       "      <td>9</td>\n",
       "      <td>2800</td>\n",
       "    </tr>\n",
       "    <tr>\n",
       "      <th>16</th>\n",
       "      <td>0</td>\n",
       "      <td>2</td>\n",
       "      <td>0</td>\n",
       "      <td>6</td>\n",
       "      <td>3200</td>\n",
       "    </tr>\n",
       "    <tr>\n",
       "      <th>17</th>\n",
       "      <td>0</td>\n",
       "      <td>3</td>\n",
       "      <td>1</td>\n",
       "      <td>7</td>\n",
       "      <td>3815</td>\n",
       "    </tr>\n",
       "    <tr>\n",
       "      <th>18</th>\n",
       "      <td>1</td>\n",
       "      <td>2</td>\n",
       "      <td>1</td>\n",
       "      <td>11</td>\n",
       "      <td>2980</td>\n",
       "    </tr>\n",
       "    <tr>\n",
       "      <th>19</th>\n",
       "      <td>0</td>\n",
       "      <td>4</td>\n",
       "      <td>1</td>\n",
       "      <td>15</td>\n",
       "      <td>2850</td>\n",
       "    </tr>\n",
       "    <tr>\n",
       "      <th>20</th>\n",
       "      <td>1</td>\n",
       "      <td>1</td>\n",
       "      <td>0</td>\n",
       "      <td>6</td>\n",
       "      <td>3125</td>\n",
       "    </tr>\n",
       "    <tr>\n",
       "      <th>21</th>\n",
       "      <td>0</td>\n",
       "      <td>1</td>\n",
       "      <td>0</td>\n",
       "      <td>8</td>\n",
       "      <td>3500</td>\n",
       "    </tr>\n",
       "    <tr>\n",
       "      <th>22</th>\n",
       "      <td>0</td>\n",
       "      <td>4</td>\n",
       "      <td>0</td>\n",
       "      <td>22</td>\n",
       "      <td>4500</td>\n",
       "    </tr>\n",
       "    <tr>\n",
       "      <th>23</th>\n",
       "      <td>0</td>\n",
       "      <td>2</td>\n",
       "      <td>1</td>\n",
       "      <td>10</td>\n",
       "      <td>3200</td>\n",
       "    </tr>\n",
       "    <tr>\n",
       "      <th>24</th>\n",
       "      <td>0</td>\n",
       "      <td>3</td>\n",
       "      <td>1</td>\n",
       "      <td>9</td>\n",
       "      <td>3000</td>\n",
       "    </tr>\n",
       "  </tbody>\n",
       "</table>\n",
       "</div>"
      ],
      "text/plain": [
       "    Sexo  Familia  CasPropia  AnosEmpleo  Sueldo\n",
       "0      0        3          0          17    2500\n",
       "1      1        5          1          10    3000\n",
       "2      1        4          0          15    2000\n",
       "3      0        3          1          16    2800\n",
       "4      0        6          1          11    4000\n",
       "5      1        4          1          26    3200\n",
       "6      1        2          1          14    1800\n",
       "7      0        5          1          10    3750\n",
       "8      0        6          0          18    2970\n",
       "9      0        4          1          12    3350\n",
       "10     0        1          0          23    1950\n",
       "11     1        2          1          25    2740\n",
       "12     1        3          0           7    3100\n",
       "13     0        5          1           5    3845\n",
       "14     0        3          0          13    3200\n",
       "15     1        3          1           9    2800\n",
       "16     0        2          0           6    3200\n",
       "17     0        3          1           7    3815\n",
       "18     1        2          1          11    2980\n",
       "19     0        4          1          15    2850\n",
       "20     1        1          0           6    3125\n",
       "21     0        1          0           8    3500\n",
       "22     0        4          0          22    4500\n",
       "23     0        2          1          10    3200\n",
       "24     0        3          1           9    3000"
      ]
     },
     "execution_count": 23,
     "metadata": {},
     "output_type": "execute_result"
    }
   ],
   "source": [
    "y=df['Prestamo']\n",
    "data=df.iloc[:,0:6]\n",
    "#Codificando 0-1 las Variables Sexo y CasPropia\n",
    "lb_make = LabelEncoder()\n",
    "data[\"Sexo\"] = lb_make.fit_transform(data[\"Sexo\"])\n",
    "data['CasPropia']=lb_make.fit_transform(data[\"CasPropia\"])\n",
    "data1=data['StatustMarital']\n",
    "#Aplicando OneHot encoding a la predictora StatustMarital\n",
    "data2=pd.get_dummies(data1,prefix=['StatustMarital'])\n",
    "data3=pd.concat([data.iloc[:,0:5],data2],axis=1)\n",
    "y2=lb_make.fit_transform(y)\n",
    "num_data1=data.iloc[:,0:5]\n",
    "num_data1"
   ]
  },
  {
   "cell_type": "code",
   "execution_count": 24,
   "id": "0186f7a0",
   "metadata": {},
   "outputs": [
    {
     "data": {
      "text/plain": [
       "array([2, 0, 3, 2, 3, 2, 2, 0, 1, 1, 2, 2, 2, 1, 0, 2, 2, 3, 1, 3, 1, 2,\n",
       "       1, 0, 0])"
      ]
     },
     "execution_count": 24,
     "metadata": {},
     "output_type": "execute_result"
    }
   ],
   "source": [
    "cat_data1= lb_make.fit_transform(data1)\n",
    "cat_data1"
   ]
  },
  {
   "cell_type": "code",
   "execution_count": 25,
   "id": "2a08ce55",
   "metadata": {},
   "outputs": [],
   "source": [
    "one_hot_encoded_cat_data1 = np.eye(cat_data1.max()+1)[cat_data1]"
   ]
  },
  {
   "cell_type": "code",
   "execution_count": 26,
   "id": "3eb76478",
   "metadata": {},
   "outputs": [
    {
     "data": {
      "text/plain": [
       "array([[0., 0., 1., 0.],\n",
       "       [1., 0., 0., 0.],\n",
       "       [0., 0., 0., 1.],\n",
       "       [0., 0., 1., 0.],\n",
       "       [0., 0., 0., 1.],\n",
       "       [0., 0., 1., 0.],\n",
       "       [0., 0., 1., 0.],\n",
       "       [1., 0., 0., 0.],\n",
       "       [0., 1., 0., 0.],\n",
       "       [0., 1., 0., 0.],\n",
       "       [0., 0., 1., 0.],\n",
       "       [0., 0., 1., 0.],\n",
       "       [0., 0., 1., 0.],\n",
       "       [0., 1., 0., 0.],\n",
       "       [1., 0., 0., 0.],\n",
       "       [0., 0., 1., 0.],\n",
       "       [0., 0., 1., 0.],\n",
       "       [0., 0., 0., 1.],\n",
       "       [0., 1., 0., 0.],\n",
       "       [0., 0., 0., 1.],\n",
       "       [0., 1., 0., 0.],\n",
       "       [0., 0., 1., 0.],\n",
       "       [0., 1., 0., 0.],\n",
       "       [1., 0., 0., 0.],\n",
       "       [1., 0., 0., 0.]])"
      ]
     },
     "execution_count": 26,
     "metadata": {},
     "output_type": "execute_result"
    }
   ],
   "source": [
    "one_hot_encoded_cat_data1"
   ]
  },
  {
   "cell_type": "code",
   "execution_count": 27,
   "id": "e8fd9702",
   "metadata": {},
   "outputs": [
    {
     "data": {
      "text/plain": [
       "2"
      ]
     },
     "execution_count": 27,
     "metadata": {},
     "output_type": "execute_result"
    }
   ],
   "source": [
    "#This is the suggested  embedding size \n",
    "no_of_unique_cat1  = len(np.unique(cat_data1))\n",
    "#embedding size = min(50, number of categories/2).\n",
    "embedding_size1= min(np.ceil((no_of_unique_cat1)/2), 50 )\n",
    "embedding_size1 = int(embedding_size1)\n",
    "embedding_size1"
   ]
  },
  {
   "cell_type": "code",
   "execution_count": 28,
   "id": "bf6a250f",
   "metadata": {},
   "outputs": [
    {
     "name": "stdout",
     "output_type": "stream",
     "text": [
      "Model: \"functional_3\"\n",
      "__________________________________________________________________________________________________\n",
      "Layer (type)                    Output Shape         Param #     Connected to                     \n",
      "==================================================================================================\n",
      "input_3 (InputLayer)            [(None, 4)]          0                                            \n",
      "__________________________________________________________________________________________________\n",
      "embedding_1 (Embedding)         (None, 4, 2)         8           input_3[0][0]                    \n",
      "__________________________________________________________________________________________________\n",
      "flatten_1 (Flatten)             (None, 8)            0           embedding_1[0][0]                \n",
      "__________________________________________________________________________________________________\n",
      "input_4 (InputLayer)            [(None, 5)]          0                                            \n",
      "__________________________________________________________________________________________________\n",
      "concatenate_1 (Concatenate)     (None, 13)           0           flatten_1[0][0]                  \n",
      "                                                                 input_4[0][0]                    \n",
      "__________________________________________________________________________________________________\n",
      "dense_2 (Dense)                 (None, 3)            42          concatenate_1[0][0]              \n",
      "__________________________________________________________________________________________________\n",
      "dense_3 (Dense)                 (None, 1)            4           dense_2[0][0]                    \n",
      "==================================================================================================\n",
      "Total params: 54\n",
      "Trainable params: 54\n",
      "Non-trainable params: 0\n",
      "__________________________________________________________________________________________________\n"
     ]
    }
   ],
   "source": [
    "# Use Input layers, specify input shape (dimensions except first)\n",
    "inp_cat_data1 = keras.layers.Input(shape=(no_of_unique_cat1,))\n",
    "inp_num_data1 = keras.layers.Input(shape=(num_data1.shape[1],))\n",
    "# Bind nulti_hot to embedding layer\n",
    "emb = keras.layers.Embedding(input_dim=no_of_unique_cat1, output_dim=embedding_size1)(inp_cat_data1)  \n",
    "# Also you need flatten embedded output-\n",
    "# otherwise it's not possible to concatenate it with inp_num_data\n",
    "flatten = keras.layers.Flatten()(emb)\n",
    "# Concatenate two layers\n",
    "conc = keras.layers.Concatenate()([flatten, inp_num_data1])\n",
    "dense1 = keras.layers.Dense(3, activation=tf.nn.relu, )(conc)\n",
    "# Creating output layer\n",
    "out = keras.layers.Dense(1, activation=None)(dense1)\n",
    "model = keras.Model(inputs=[inp_cat_data1, inp_num_data1], outputs=out)\n",
    "model.summary()"
   ]
  },
  {
   "cell_type": "code",
   "execution_count": 29,
   "id": "67221c46",
   "metadata": {},
   "outputs": [],
   "source": [
    "model.compile(optimizer=tf.compat.v1.train.AdamOptimizer(0.01),\n",
    "              loss=keras.losses.mean_squared_error,\n",
    "              metrics=[keras.metrics.mean_squared_error])"
   ]
  },
  {
   "cell_type": "code",
   "execution_count": 30,
   "id": "6afbbe4d",
   "metadata": {},
   "outputs": [
    {
     "name": "stdout",
     "output_type": "stream",
     "text": [
      "1/1 [==============================] - 0s 0s/step - loss: 1011686.6250 - mean_squared_error: 1011686.6250\n"
     ]
    },
    {
     "data": {
      "text/plain": [
       "array([[-0.03236977, -0.05855633],\n",
       "       [-0.02510054,  0.03333823],\n",
       "       [ 0.03515378, -0.04568821],\n",
       "       [-0.016428  ,  0.0346511 ]], dtype=float32)"
      ]
     },
     "execution_count": 30,
     "metadata": {},
     "output_type": "execute_result"
    }
   ],
   "source": [
    "#Finding out the weights for each value of the categorical variable\n",
    "model.fit([one_hot_encoded_cat_data1, num_data1], y2)\n",
    "model.layers[1].get_weights()[0]"
   ]
  },
  {
   "cell_type": "code",
   "execution_count": 31,
   "id": "9b24de3e",
   "metadata": {},
   "outputs": [
    {
     "data": {
      "text/plain": [
       "array([[-0.0497, -0.011 ],\n",
       "       [ 0.0478, -0.0047],\n",
       "       [-0.045 ,  0.0063],\n",
       "       [-0.0497, -0.011 ],\n",
       "       [-0.045 ,  0.0063],\n",
       "       [-0.0497, -0.011 ],\n",
       "       [-0.0497, -0.011 ],\n",
       "       [ 0.0478, -0.0047],\n",
       "       [-0.0084,  0.0283],\n",
       "       [-0.0084,  0.0283],\n",
       "       [-0.0497, -0.011 ],\n",
       "       [-0.0497, -0.011 ],\n",
       "       [-0.0497, -0.011 ],\n",
       "       [-0.0084,  0.0283],\n",
       "       [ 0.0478, -0.0047],\n",
       "       [-0.0497, -0.011 ],\n",
       "       [-0.0497, -0.011 ],\n",
       "       [-0.045 ,  0.0063],\n",
       "       [-0.0084,  0.0283],\n",
       "       [-0.045 ,  0.0063],\n",
       "       [-0.0084,  0.0283],\n",
       "       [-0.0497, -0.011 ],\n",
       "       [-0.0084,  0.0283],\n",
       "       [ 0.0478, -0.0047],\n",
       "       [ 0.0478, -0.0047]])"
      ]
     },
     "execution_count": 31,
     "metadata": {},
     "output_type": "execute_result"
    }
   ],
   "source": [
    "#Obtaining the transformed representation of the categorial feature\n",
    "idx0=np.argwhere(cat_data1==0)\n",
    "idx1=np.argwhere(cat_data1==1)\n",
    "idx2=np.argwhere(cat_data1==2)\n",
    "idx3=np.argwhere(cat_data1==3)\n",
    "newcode1=np.zeros((25,2))\n",
    "newcode1[idx0,]=[0.0478, -0.0047]\n",
    "newcode1[idx1,]=[-0.0084, 0.0283]\n",
    "newcode1[idx2,]=[-0.0497,  -0.011]\n",
    "newcode1[idx3,]=[-.0450,   0.0063]\n",
    "newcode1"
   ]
  },
  {
   "cell_type": "code",
   "execution_count": 32,
   "id": "a858c9bf",
   "metadata": {},
   "outputs": [
    {
     "data": {
      "text/html": [
       "<div>\n",
       "<style scoped>\n",
       "    .dataframe tbody tr th:only-of-type {\n",
       "        vertical-align: middle;\n",
       "    }\n",
       "\n",
       "    .dataframe tbody tr th {\n",
       "        vertical-align: top;\n",
       "    }\n",
       "\n",
       "    .dataframe thead th {\n",
       "        text-align: right;\n",
       "    }\n",
       "</style>\n",
       "<table border=\"1\" class=\"dataframe\">\n",
       "  <thead>\n",
       "    <tr style=\"text-align: right;\">\n",
       "      <th></th>\n",
       "      <th>Sexo</th>\n",
       "      <th>Familia</th>\n",
       "      <th>CasPropia</th>\n",
       "      <th>AnosEmpleo</th>\n",
       "      <th>Sueldo</th>\n",
       "      <th>w1</th>\n",
       "      <th>w2</th>\n",
       "    </tr>\n",
       "  </thead>\n",
       "  <tbody>\n",
       "    <tr>\n",
       "      <th>0</th>\n",
       "      <td>0</td>\n",
       "      <td>3</td>\n",
       "      <td>0</td>\n",
       "      <td>17</td>\n",
       "      <td>2500</td>\n",
       "      <td>-0.0497</td>\n",
       "      <td>-0.0110</td>\n",
       "    </tr>\n",
       "    <tr>\n",
       "      <th>1</th>\n",
       "      <td>1</td>\n",
       "      <td>5</td>\n",
       "      <td>1</td>\n",
       "      <td>10</td>\n",
       "      <td>3000</td>\n",
       "      <td>0.0478</td>\n",
       "      <td>-0.0047</td>\n",
       "    </tr>\n",
       "    <tr>\n",
       "      <th>2</th>\n",
       "      <td>1</td>\n",
       "      <td>4</td>\n",
       "      <td>0</td>\n",
       "      <td>15</td>\n",
       "      <td>2000</td>\n",
       "      <td>-0.0450</td>\n",
       "      <td>0.0063</td>\n",
       "    </tr>\n",
       "    <tr>\n",
       "      <th>3</th>\n",
       "      <td>0</td>\n",
       "      <td>3</td>\n",
       "      <td>1</td>\n",
       "      <td>16</td>\n",
       "      <td>2800</td>\n",
       "      <td>-0.0497</td>\n",
       "      <td>-0.0110</td>\n",
       "    </tr>\n",
       "    <tr>\n",
       "      <th>4</th>\n",
       "      <td>0</td>\n",
       "      <td>6</td>\n",
       "      <td>1</td>\n",
       "      <td>11</td>\n",
       "      <td>4000</td>\n",
       "      <td>-0.0450</td>\n",
       "      <td>0.0063</td>\n",
       "    </tr>\n",
       "    <tr>\n",
       "      <th>5</th>\n",
       "      <td>1</td>\n",
       "      <td>4</td>\n",
       "      <td>1</td>\n",
       "      <td>26</td>\n",
       "      <td>3200</td>\n",
       "      <td>-0.0497</td>\n",
       "      <td>-0.0110</td>\n",
       "    </tr>\n",
       "    <tr>\n",
       "      <th>6</th>\n",
       "      <td>1</td>\n",
       "      <td>2</td>\n",
       "      <td>1</td>\n",
       "      <td>14</td>\n",
       "      <td>1800</td>\n",
       "      <td>-0.0497</td>\n",
       "      <td>-0.0110</td>\n",
       "    </tr>\n",
       "    <tr>\n",
       "      <th>7</th>\n",
       "      <td>0</td>\n",
       "      <td>5</td>\n",
       "      <td>1</td>\n",
       "      <td>10</td>\n",
       "      <td>3750</td>\n",
       "      <td>0.0478</td>\n",
       "      <td>-0.0047</td>\n",
       "    </tr>\n",
       "    <tr>\n",
       "      <th>8</th>\n",
       "      <td>0</td>\n",
       "      <td>6</td>\n",
       "      <td>0</td>\n",
       "      <td>18</td>\n",
       "      <td>2970</td>\n",
       "      <td>-0.0084</td>\n",
       "      <td>0.0283</td>\n",
       "    </tr>\n",
       "    <tr>\n",
       "      <th>9</th>\n",
       "      <td>0</td>\n",
       "      <td>4</td>\n",
       "      <td>1</td>\n",
       "      <td>12</td>\n",
       "      <td>3350</td>\n",
       "      <td>-0.0084</td>\n",
       "      <td>0.0283</td>\n",
       "    </tr>\n",
       "    <tr>\n",
       "      <th>10</th>\n",
       "      <td>0</td>\n",
       "      <td>1</td>\n",
       "      <td>0</td>\n",
       "      <td>23</td>\n",
       "      <td>1950</td>\n",
       "      <td>-0.0497</td>\n",
       "      <td>-0.0110</td>\n",
       "    </tr>\n",
       "    <tr>\n",
       "      <th>11</th>\n",
       "      <td>1</td>\n",
       "      <td>2</td>\n",
       "      <td>1</td>\n",
       "      <td>25</td>\n",
       "      <td>2740</td>\n",
       "      <td>-0.0497</td>\n",
       "      <td>-0.0110</td>\n",
       "    </tr>\n",
       "    <tr>\n",
       "      <th>12</th>\n",
       "      <td>1</td>\n",
       "      <td>3</td>\n",
       "      <td>0</td>\n",
       "      <td>7</td>\n",
       "      <td>3100</td>\n",
       "      <td>-0.0497</td>\n",
       "      <td>-0.0110</td>\n",
       "    </tr>\n",
       "    <tr>\n",
       "      <th>13</th>\n",
       "      <td>0</td>\n",
       "      <td>5</td>\n",
       "      <td>1</td>\n",
       "      <td>5</td>\n",
       "      <td>3845</td>\n",
       "      <td>-0.0084</td>\n",
       "      <td>0.0283</td>\n",
       "    </tr>\n",
       "    <tr>\n",
       "      <th>14</th>\n",
       "      <td>0</td>\n",
       "      <td>3</td>\n",
       "      <td>0</td>\n",
       "      <td>13</td>\n",
       "      <td>3200</td>\n",
       "      <td>0.0478</td>\n",
       "      <td>-0.0047</td>\n",
       "    </tr>\n",
       "    <tr>\n",
       "      <th>15</th>\n",
       "      <td>1</td>\n",
       "      <td>3</td>\n",
       "      <td>1</td>\n",
       "      <td>9</td>\n",
       "      <td>2800</td>\n",
       "      <td>-0.0497</td>\n",
       "      <td>-0.0110</td>\n",
       "    </tr>\n",
       "    <tr>\n",
       "      <th>16</th>\n",
       "      <td>0</td>\n",
       "      <td>2</td>\n",
       "      <td>0</td>\n",
       "      <td>6</td>\n",
       "      <td>3200</td>\n",
       "      <td>-0.0497</td>\n",
       "      <td>-0.0110</td>\n",
       "    </tr>\n",
       "    <tr>\n",
       "      <th>17</th>\n",
       "      <td>0</td>\n",
       "      <td>3</td>\n",
       "      <td>1</td>\n",
       "      <td>7</td>\n",
       "      <td>3815</td>\n",
       "      <td>-0.0450</td>\n",
       "      <td>0.0063</td>\n",
       "    </tr>\n",
       "    <tr>\n",
       "      <th>18</th>\n",
       "      <td>1</td>\n",
       "      <td>2</td>\n",
       "      <td>1</td>\n",
       "      <td>11</td>\n",
       "      <td>2980</td>\n",
       "      <td>-0.0084</td>\n",
       "      <td>0.0283</td>\n",
       "    </tr>\n",
       "    <tr>\n",
       "      <th>19</th>\n",
       "      <td>0</td>\n",
       "      <td>4</td>\n",
       "      <td>1</td>\n",
       "      <td>15</td>\n",
       "      <td>2850</td>\n",
       "      <td>-0.0450</td>\n",
       "      <td>0.0063</td>\n",
       "    </tr>\n",
       "    <tr>\n",
       "      <th>20</th>\n",
       "      <td>1</td>\n",
       "      <td>1</td>\n",
       "      <td>0</td>\n",
       "      <td>6</td>\n",
       "      <td>3125</td>\n",
       "      <td>-0.0084</td>\n",
       "      <td>0.0283</td>\n",
       "    </tr>\n",
       "    <tr>\n",
       "      <th>21</th>\n",
       "      <td>0</td>\n",
       "      <td>1</td>\n",
       "      <td>0</td>\n",
       "      <td>8</td>\n",
       "      <td>3500</td>\n",
       "      <td>-0.0497</td>\n",
       "      <td>-0.0110</td>\n",
       "    </tr>\n",
       "    <tr>\n",
       "      <th>22</th>\n",
       "      <td>0</td>\n",
       "      <td>4</td>\n",
       "      <td>0</td>\n",
       "      <td>22</td>\n",
       "      <td>4500</td>\n",
       "      <td>-0.0084</td>\n",
       "      <td>0.0283</td>\n",
       "    </tr>\n",
       "    <tr>\n",
       "      <th>23</th>\n",
       "      <td>0</td>\n",
       "      <td>2</td>\n",
       "      <td>1</td>\n",
       "      <td>10</td>\n",
       "      <td>3200</td>\n",
       "      <td>0.0478</td>\n",
       "      <td>-0.0047</td>\n",
       "    </tr>\n",
       "    <tr>\n",
       "      <th>24</th>\n",
       "      <td>0</td>\n",
       "      <td>3</td>\n",
       "      <td>1</td>\n",
       "      <td>9</td>\n",
       "      <td>3000</td>\n",
       "      <td>0.0478</td>\n",
       "      <td>-0.0047</td>\n",
       "    </tr>\n",
       "  </tbody>\n",
       "</table>\n",
       "</div>"
      ],
      "text/plain": [
       "    Sexo  Familia  CasPropia  AnosEmpleo  Sueldo      w1      w2\n",
       "0      0        3          0          17    2500 -0.0497 -0.0110\n",
       "1      1        5          1          10    3000  0.0478 -0.0047\n",
       "2      1        4          0          15    2000 -0.0450  0.0063\n",
       "3      0        3          1          16    2800 -0.0497 -0.0110\n",
       "4      0        6          1          11    4000 -0.0450  0.0063\n",
       "5      1        4          1          26    3200 -0.0497 -0.0110\n",
       "6      1        2          1          14    1800 -0.0497 -0.0110\n",
       "7      0        5          1          10    3750  0.0478 -0.0047\n",
       "8      0        6          0          18    2970 -0.0084  0.0283\n",
       "9      0        4          1          12    3350 -0.0084  0.0283\n",
       "10     0        1          0          23    1950 -0.0497 -0.0110\n",
       "11     1        2          1          25    2740 -0.0497 -0.0110\n",
       "12     1        3          0           7    3100 -0.0497 -0.0110\n",
       "13     0        5          1           5    3845 -0.0084  0.0283\n",
       "14     0        3          0          13    3200  0.0478 -0.0047\n",
       "15     1        3          1           9    2800 -0.0497 -0.0110\n",
       "16     0        2          0           6    3200 -0.0497 -0.0110\n",
       "17     0        3          1           7    3815 -0.0450  0.0063\n",
       "18     1        2          1          11    2980 -0.0084  0.0283\n",
       "19     0        4          1          15    2850 -0.0450  0.0063\n",
       "20     1        1          0           6    3125 -0.0084  0.0283\n",
       "21     0        1          0           8    3500 -0.0497 -0.0110\n",
       "22     0        4          0          22    4500 -0.0084  0.0283\n",
       "23     0        2          1          10    3200  0.0478 -0.0047\n",
       "24     0        3          1           9    3000  0.0478 -0.0047"
      ]
     },
     "execution_count": 32,
     "metadata": {},
     "output_type": "execute_result"
    }
   ],
   "source": [
    "#Transformed dataset\n",
    "df = pd.DataFrame(newcode1, columns = ['w1','w2'])\n",
    "data3=pd.concat([num_data1,df],axis=1)\n",
    "#num_data1.shape\n",
    "#all1=np.insert(num_data1,num_data1.shape[1],np.transpose(newcode1),1)\n",
    "data3"
   ]
  },
  {
   "cell_type": "code",
   "execution_count": null,
   "id": "371579f7",
   "metadata": {},
   "outputs": [],
   "source": []
  }
 ],
 "metadata": {
  "kernelspec": {
   "display_name": "Python 3",
   "language": "python",
   "name": "python3"
  },
  "language_info": {
   "codemirror_mode": {
    "name": "ipython",
    "version": 3
   },
   "file_extension": ".py",
   "mimetype": "text/x-python",
   "name": "python",
   "nbconvert_exporter": "python",
   "pygments_lexer": "ipython3",
   "version": "3.8.8"
  }
 },
 "nbformat": 4,
 "nbformat_minor": 5
}
