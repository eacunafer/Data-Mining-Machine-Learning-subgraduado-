{
 "cells": [
  {
   "cell_type": "markdown",
   "metadata": {},
   "source": [
    "## Data Mining and Machine Learning\n",
    "### Edgar Acuna\n",
    "### Error Estimation (Accuracy Estimation)\n",
    "#### October 21\n",
    "#### Datasets: Diabetes, Vehicle"
   ]
  },
  {
   "cell_type": "code",
   "execution_count": 6,
   "metadata": {},
   "outputs": [],
   "source": [
    "#Ejemplo de estimacion de la prediccion por Validacion Cruzada\n",
    "#usando el clasifidor LDA y la base de datos Diabetes\n",
    "import numpy as np\n",
    "import pandas as pd\n",
    "from sklearn.model_selection import train_test_split\n",
    "from sklearn.model_selection import ShuffleSplit\n",
    "from sklearn.metrics import recall_score, f1_score\n",
    "from sklearn.metrics import classification_report\n",
    "from sklearn.discriminant_analysis import LinearDiscriminantAnalysis\n",
    "from sklearn.model_selection import LeaveOneOut\n",
    "import warnings\n",
    "warnings.filterwarnings('ignore')"
   ]
  },
  {
   "cell_type": "code",
   "execution_count": 7,
   "metadata": {},
   "outputs": [],
   "source": [
    "names= ['v1', 'v2', 'v3', 'v4', 'v5', 'v6', 'v7','V8','class']\n",
    "diab=pd.read_table(\"http://academic.uprm.edu/eacuna/diabetes.dat\",header=None,names=names)"
   ]
  },
  {
   "cell_type": "code",
   "execution_count": 8,
   "metadata": {},
   "outputs": [
    {
     "data": {
      "text/plain": [
       "class\n",
       "1    0.651042\n",
       "2    0.348958\n",
       "dtype: float64"
      ]
     },
     "execution_count": 8,
     "metadata": {},
     "output_type": "execute_result"
    }
   ],
   "source": [
    "#Computing the relative frequency of each class\n",
    "diab.groupby('class').size()/len(diab)"
   ]
  },
  {
   "cell_type": "code",
   "execution_count": 9,
   "metadata": {},
   "outputs": [],
   "source": [
    "#Obteniendo el vector de clases y la matriz de predictoras\n",
    "y=diab[\"class\"]\n",
    "y.count()\n",
    "X=diab.iloc[:,0:8]\n",
    "y1=y.to_numpy()\n",
    "X1=X.to_numpy()"
   ]
  },
  {
   "cell_type": "markdown",
   "metadata": {},
   "source": [
    "#### Estimating the accuracy  by resubstitution "
   ]
  },
  {
   "cell_type": "code",
   "execution_count": 10,
   "metadata": {},
   "outputs": [
    {
     "data": {
      "text/plain": [
       "0.7838541666666666"
      ]
     },
     "execution_count": 10,
     "metadata": {},
     "output_type": "execute_result"
    }
   ],
   "source": [
    "#Haciendo el analisis discriminante y calculando el porcentaje de precision\n",
    "ldadis = LinearDiscriminantAnalysis().fit(X1,y1)\n",
    "#Tasa de precision\n",
    "ldadis.score(X1, y1)"
   ]
  },
  {
   "cell_type": "code",
   "execution_count": 11,
   "metadata": {},
   "outputs": [
    {
     "data": {
      "text/plain": [
       "0.892"
      ]
     },
     "execution_count": 11,
     "metadata": {},
     "output_type": "execute_result"
    }
   ],
   "source": [
    "#Computing the recall\n",
    "pred=ldadis.predict(X1)\n",
    "recall_score(y1,pred)"
   ]
  },
  {
   "cell_type": "code",
   "execution_count": 12,
   "metadata": {},
   "outputs": [
    {
     "data": {
      "text/plain": [
       "0.8431001890359168"
      ]
     },
     "execution_count": 12,
     "metadata": {},
     "output_type": "execute_result"
    }
   ],
   "source": [
    "#computing f1 score\n",
    "f1_score(y1,pred)"
   ]
  },
  {
   "cell_type": "code",
   "execution_count": 13,
   "metadata": {},
   "outputs": [
    {
     "name": "stdout",
     "output_type": "stream",
     "text": [
      "              precision    recall  f1-score   support\n",
      "\n",
      "           1       0.80      0.89      0.84       500\n",
      "           2       0.74      0.58      0.65       268\n",
      "\n",
      "    accuracy                           0.78       768\n",
      "   macro avg       0.77      0.74      0.75       768\n",
      "weighted avg       0.78      0.78      0.78       768\n",
      "\n"
     ]
    }
   ],
   "source": [
    "print(classification_report(y1, pred))"
   ]
  },
  {
   "cell_type": "markdown",
   "metadata": {},
   "source": [
    "### Acuracy estimation by cross-validation"
   ]
  },
  {
   "cell_type": "code",
   "execution_count": 14,
   "metadata": {},
   "outputs": [
    {
     "data": {
      "text/plain": [
       "array([0.74025974, 0.75324675, 0.80519481, 0.72727273, 0.72727273,\n",
       "       0.77922078, 0.80519481, 0.80519481, 0.76315789, 0.82894737])"
      ]
     },
     "execution_count": 14,
     "metadata": {},
     "output_type": "execute_result"
    }
   ],
   "source": [
    "#Estimando la precision  por validacion cruzada\n",
    "from sklearn.model_selection import cross_val_score\n",
    "clf = LinearDiscriminantAnalysis()\n",
    "scores = cross_val_score(clf, X1, y1, cv=10)\n",
    "scores   "
   ]
  },
  {
   "cell_type": "code",
   "execution_count": 15,
   "metadata": {},
   "outputs": [
    {
     "name": "stdout",
     "output_type": "stream",
     "text": [
      "CV Accuracy: 0.773 (+/- 0.069)\n"
     ]
    }
   ],
   "source": [
    "#Hallando la precision media y un intervalo de confianza \n",
    "print(\"CV Accuracy: %0.3f (+/- %0.3f)\" % (scores.mean(), scores.std() * 2))"
   ]
  },
  {
   "cell_type": "code",
   "execution_count": 16,
   "metadata": {},
   "outputs": [
    {
     "name": "stdout",
     "output_type": "stream",
     "text": [
      "Accuracy by cross validacion= 0.7855962219598582 +/- 0.04694782592956986\n"
     ]
    }
   ],
   "source": [
    "#Tasa de precision usando validacion cruzada usando 10 repeticiones con 10 folds cada una\n",
    "clf = LinearDiscriminantAnalysis()\n",
    "pred1=[]\n",
    "for i in range (0,11):\n",
    "    cv = ShuffleSplit()\n",
    "    scores = cross_val_score(clf, X1,y1, cv=cv)\n",
    "    pred1.append(scores)\n",
    "print (\"Accuracy by cross validacion=\", np.mean(pred1),\"+/-\",np.std(pred1))"
   ]
  },
  {
   "cell_type": "markdown",
   "metadata": {},
   "source": [
    "### Accuracy Estimation by the holdout method"
   ]
  },
  {
   "cell_type": "code",
   "execution_count": 17,
   "metadata": {},
   "outputs": [
    {
     "data": {
      "text/plain": [
       "0.7792207792207793"
      ]
     },
     "execution_count": 17,
     "metadata": {},
     "output_type": "execute_result"
    }
   ],
   "source": [
    "#Estimando el error por el metodo holdout\n",
    "X_train, X_test, y_train, y_test = train_test_split(X1, y1, test_size=0.3,random_state=0)\n",
    "X_train, y_train\n",
    "\n",
    "X_test, y_test\n",
    "\n",
    "ldadiab = LinearDiscriminantAnalysis().fit(X_train, y_train)\n",
    "ldadiab.score(X_test, y_test)"
   ]
  },
  {
   "cell_type": "code",
   "execution_count": 18,
   "metadata": {},
   "outputs": [
    {
     "name": "stdout",
     "output_type": "stream",
     "text": [
      "[0.787 0.78  0.783 0.791 0.78  0.772 0.783 0.803 0.76  0.756 0.744 0.732\n",
      " 0.752 0.783 0.819 0.776 0.732 0.827 0.787 0.772 0.819 0.811 0.76  0.772\n",
      " 0.76  0.764 0.783 0.744 0.772 0.76  0.791 0.736 0.772 0.752 0.787 0.795\n",
      " 0.783 0.787 0.768 0.772 0.807 0.736 0.799 0.756 0.756 0.74  0.764 0.811\n",
      " 0.776 0.78  0.772]\n",
      "Accuracy by holdout: 0.775 (+/- 0.023)\n"
     ]
    }
   ],
   "source": [
    "#Estimando la precision por el metodo holdout con 50 muestras\n",
    "pred=[]\n",
    "for i in range(0,51):\n",
    "    X_train, X_test, y_train, y_test = train_test_split(X1, y1, test_size=0.33)\n",
    "    ldadiab = LinearDiscriminantAnalysis().fit(X_train, y_train)\n",
    "    pred.append(ldadiab.score(X_test, y_test))\n",
    "print(np.asarray(pred).round(3))\n",
    "print(\"Accuracy by holdout: %0.3f (+/- %0.3f)\" % (np.mean(pred), np.std(pred)))"
   ]
  },
  {
   "cell_type": "markdown",
   "metadata": {},
   "source": [
    "### Accuracy Estimation for the Vehicle dataset"
   ]
  },
  {
   "cell_type": "code",
   "execution_count": 19,
   "metadata": {
    "scrolled": true
   },
   "outputs": [
    {
     "name": "stdout",
     "output_type": "stream",
     "text": [
      "<class 'pandas.core.frame.DataFrame'>\n",
      "RangeIndex: 846 entries, 0 to 845\n",
      "Data columns (total 19 columns):\n",
      " #   Column                     Non-Null Count  Dtype \n",
      "---  ------                     --------------  ----- \n",
      " 0   COMPACTNESS                846 non-null    int64 \n",
      " 1   CIRCULARITY                846 non-null    int64 \n",
      " 2   DISTANCE_CIRCULARITY       846 non-null    int64 \n",
      " 3   RADIUS_RATIO               846 non-null    int64 \n",
      " 4   PR.AXIS_ASPECT_RATIO       846 non-null    int64 \n",
      " 5   MAX.LENGTH_ASPECT_RATIO    846 non-null    int64 \n",
      " 6   SCATTER_RATIO              846 non-null    int64 \n",
      " 7   ELONGATEDNESS              846 non-null    int64 \n",
      " 8   PR.AXIS_RECTANGULARITY     846 non-null    int64 \n",
      " 9   MAX.LENGTH_RECTANGULARITY  846 non-null    int64 \n",
      " 10  SCALED_VARIANCE_MAJOR      846 non-null    int64 \n",
      " 11  SCALED_VARIANCE_MINOR      846 non-null    int64 \n",
      " 12  SCALED_RADIUS_OF_GYRATION  846 non-null    int64 \n",
      " 13  SKEWNESS_ABOUT_MAJOR       846 non-null    int64 \n",
      " 14  SKEWNESS_ABOUT_MINOR       846 non-null    int64 \n",
      " 15  KURTOSIS_ABOUT_MAJOR       846 non-null    int64 \n",
      " 16  KURTOSIS_ABOUT_MINOR       846 non-null    int64 \n",
      " 17  HOLLOWS_RATIO              846 non-null    int64 \n",
      " 18  Class                      846 non-null    object\n",
      "dtypes: int64(18), object(1)\n",
      "memory usage: 125.7+ KB\n"
     ]
    }
   ],
   "source": [
    "#Ejemplo2. Leyendo los datos de vehiculos que tienen 4 clases y 18 predictoras\n",
    "df1=pd.read_csv(\"http://academic.uprm.edu/eacuna/vehicle.csv\")\n",
    "df1.info()"
   ]
  },
  {
   "cell_type": "code",
   "execution_count": 20,
   "metadata": {},
   "outputs": [],
   "source": [
    "#Convirtiendo en matriz la tabla de predictoras y la columna de clases\n",
    "y=df1['Class']\n",
    "X=df1.iloc[:,0:18]\n",
    "y1=y.to_numpy()\n",
    "X1=X.to_numpy()"
   ]
  },
  {
   "cell_type": "code",
   "execution_count": 21,
   "metadata": {},
   "outputs": [
    {
     "data": {
      "text/plain": [
       "0.7978723404255319"
      ]
     },
     "execution_count": 21,
     "metadata": {},
     "output_type": "execute_result"
    }
   ],
   "source": [
    "#Haciendo el analisis discriminante y calculando el porcentaje de precision\n",
    "ldadis = LinearDiscriminantAnalysis().fit(X1,y1)\n",
    "#Tasa de precision\n",
    "ldadis.score(X1, y1)"
   ]
  },
  {
   "cell_type": "code",
   "execution_count": 22,
   "metadata": {},
   "outputs": [
    {
     "data": {
      "text/plain": [
       "array([0.78823529, 0.75294118, 0.72941176, 0.75294118, 0.78823529,\n",
       "       0.77647059, 0.83333333, 0.80952381, 0.72619048, 0.8452381 ])"
      ]
     },
     "execution_count": 22,
     "metadata": {},
     "output_type": "execute_result"
    }
   ],
   "source": [
    "#Estimando la precision  por validacion cruzada\n",
    "from sklearn.model_selection import cross_val_score\n",
    "clf = LinearDiscriminantAnalysis()\n",
    "scores = cross_val_score(clf, X1, y1, cv=10)\n",
    "scores   "
   ]
  },
  {
   "cell_type": "code",
   "execution_count": 23,
   "metadata": {},
   "outputs": [
    {
     "name": "stdout",
     "output_type": "stream",
     "text": [
      "Accuracy: 0.78 (+/- 0.08)\n"
     ]
    }
   ],
   "source": [
    "#Hallando la precision media y un intervalo de confianza \n",
    "print(\"Accuracy: %0.2f (+/- %0.2f)\" % (scores.mean(), scores.std() * 2))"
   ]
  },
  {
   "cell_type": "code",
   "execution_count": 24,
   "metadata": {},
   "outputs": [
    {
     "data": {
      "text/plain": [
       "0.7874015748031497"
      ]
     },
     "execution_count": 24,
     "metadata": {},
     "output_type": "execute_result"
    }
   ],
   "source": [
    "#Estimando la precison por el metodo holdout\n",
    "X_train, X_test, y_train, y_test = train_test_split(X1, y1, test_size=0.3, random_state=0)\n",
    "X_train, y_train\n",
    "\n",
    "X_test, y_test\n",
    "\n",
    "ldaveh = LinearDiscriminantAnalysis().fit(X_train, y_train)\n",
    "ldaveh.score(X_test, y_test)"
   ]
  },
  {
   "cell_type": "code",
   "execution_count": null,
   "metadata": {},
   "outputs": [],
   "source": []
  }
 ],
 "metadata": {
  "kernelspec": {
   "display_name": "Python 3",
   "language": "python",
   "name": "python3"
  },
  "language_info": {
   "codemirror_mode": {
    "name": "ipython",
    "version": 3
   },
   "file_extension": ".py",
   "mimetype": "text/x-python",
   "name": "python",
   "nbconvert_exporter": "python",
   "pygments_lexer": "ipython3",
   "version": "3.8.8"
  }
 },
 "nbformat": 4,
 "nbformat_minor": 2
}
