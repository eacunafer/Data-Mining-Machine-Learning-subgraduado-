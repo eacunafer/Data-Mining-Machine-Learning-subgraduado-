{
 "cells": [
  {
   "cell_type": "markdown",
   "metadata": {},
   "source": [
    "## Data Mining and Machine Learning\n",
    "### Multiclass Logistic Regression\n",
    "### Dataset:Vehicle\n",
    "### Libraries: H20  and scikit-learn \n",
    "#### Edgar Acuna\n",
    "#### March 2021"
   ]
  },
  {
   "cell_type": "code",
   "execution_count": 8,
   "metadata": {
    "scrolled": true
   },
   "outputs": [
    {
     "name": "stdout",
     "output_type": "stream",
     "text": [
      "Checking whether there is an H2O instance running at http://localhost:54323 . connected.\n"
     ]
    },
    {
     "data": {
      "text/html": [
       "<div style=\"overflow:auto\"><table style=\"width:50%\"><tr><td>H2O_cluster_uptime:</td>\n",
       "<td>19 mins 02 secs</td></tr>\n",
       "<tr><td>H2O_cluster_timezone:</td>\n",
       "<td>America/La_Paz</td></tr>\n",
       "<tr><td>H2O_data_parsing_timezone:</td>\n",
       "<td>UTC</td></tr>\n",
       "<tr><td>H2O_cluster_version:</td>\n",
       "<td>3.32.1.1</td></tr>\n",
       "<tr><td>H2O_cluster_version_age:</td>\n",
       "<td>10 days </td></tr>\n",
       "<tr><td>H2O_cluster_name:</td>\n",
       "<td>H2O_from_python_eacun_dndsro</td></tr>\n",
       "<tr><td>H2O_cluster_total_nodes:</td>\n",
       "<td>1</td></tr>\n",
       "<tr><td>H2O_cluster_free_memory:</td>\n",
       "<td>7.946 Gb</td></tr>\n",
       "<tr><td>H2O_cluster_total_cores:</td>\n",
       "<td>12</td></tr>\n",
       "<tr><td>H2O_cluster_allowed_cores:</td>\n",
       "<td>12</td></tr>\n",
       "<tr><td>H2O_cluster_status:</td>\n",
       "<td>locked, healthy</td></tr>\n",
       "<tr><td>H2O_connection_url:</td>\n",
       "<td>http://localhost:54323</td></tr>\n",
       "<tr><td>H2O_connection_proxy:</td>\n",
       "<td>{\"http\": null, \"https\": null}</td></tr>\n",
       "<tr><td>H2O_internal_security:</td>\n",
       "<td>False</td></tr>\n",
       "<tr><td>H2O_API_Extensions:</td>\n",
       "<td>Amazon S3, Algos, AutoML, Core V3, TargetEncoder, Core V4</td></tr>\n",
       "<tr><td>Python_version:</td>\n",
       "<td>3.7.6 final</td></tr></table></div>"
      ],
      "text/plain": [
       "--------------------------  ---------------------------------------------------------\n",
       "H2O_cluster_uptime:         19 mins 02 secs\n",
       "H2O_cluster_timezone:       America/La_Paz\n",
       "H2O_data_parsing_timezone:  UTC\n",
       "H2O_cluster_version:        3.32.1.1\n",
       "H2O_cluster_version_age:    10 days\n",
       "H2O_cluster_name:           H2O_from_python_eacun_dndsro\n",
       "H2O_cluster_total_nodes:    1\n",
       "H2O_cluster_free_memory:    7.946 Gb\n",
       "H2O_cluster_total_cores:    12\n",
       "H2O_cluster_allowed_cores:  12\n",
       "H2O_cluster_status:         locked, healthy\n",
       "H2O_connection_url:         http://localhost:54323\n",
       "H2O_connection_proxy:       {\"http\": null, \"https\": null}\n",
       "H2O_internal_security:      False\n",
       "H2O_API_Extensions:         Amazon S3, Algos, AutoML, Core V3, TargetEncoder, Core V4\n",
       "Python_version:             3.7.6 final\n",
       "--------------------------  ---------------------------------------------------------"
      ]
     },
     "metadata": {},
     "output_type": "display_data"
    }
   ],
   "source": [
    "import h2o\n",
    "import numpy as np\n",
    "import pandas as pd\n",
    "from sklearn.linear_model import LogisticRegression\n",
    "from sklearn.model_selection import train_test_split\n",
    "from sklearn.preprocessing import StandardScaler\n",
    "from sklearn.preprocessing import LabelEncoder\n",
    "from sklearn.metrics import roc_auc_score\n",
    "from sklearn.tree import DecisionTreeClassifier\n",
    "from sklearn.metrics import classification_report\n",
    "from h2o.estimators.random_forest import H2ORandomForestEstimator\n",
    "from h2o.estimators.naive_bayes import H2ONaiveBayesEstimator\n",
    "from h2o.estimators.glm   import H2OGeneralizedLinearEstimator\n",
    "import warnings\n",
    "warnings.filterwarnings('ignore')\n",
    "#h2o.connect()\n",
    "#h2o.no_progress()\n",
    "h2o.init(ip=\"localhost\", port=54323)"
   ]
  },
  {
   "cell_type": "markdown",
   "metadata": {},
   "source": [
    "### I- Applying Logistic Regression to   Vehicle dataset  using  h20"
   ]
  },
  {
   "cell_type": "code",
   "execution_count": 9,
   "metadata": {},
   "outputs": [
    {
     "name": "stdout",
     "output_type": "stream",
     "text": [
      "Parse progress: |█████████████████████████████████████████████████████████| 100%\n",
      "glm Model Build progress: |███████████████████████████████████████████████| 100%\n",
      "\n",
      "Confusion Matrix: Row labels: Actual class; Column labels: Predicted class\n"
     ]
    },
    {
     "data": {
      "text/html": [
       "<div>\n",
       "<style scoped>\n",
       "    .dataframe tbody tr th:only-of-type {\n",
       "        vertical-align: middle;\n",
       "    }\n",
       "\n",
       "    .dataframe tbody tr th {\n",
       "        vertical-align: top;\n",
       "    }\n",
       "\n",
       "    .dataframe thead th {\n",
       "        text-align: right;\n",
       "    }\n",
       "</style>\n",
       "<table border=\"1\" class=\"dataframe\">\n",
       "  <thead>\n",
       "    <tr style=\"text-align: right;\">\n",
       "      <th></th>\n",
       "      <th>bus</th>\n",
       "      <th>opel</th>\n",
       "      <th>saab</th>\n",
       "      <th>van</th>\n",
       "      <th>Error</th>\n",
       "      <th>Rate</th>\n",
       "    </tr>\n",
       "  </thead>\n",
       "  <tbody>\n",
       "    <tr>\n",
       "      <th>0</th>\n",
       "      <td>214.0</td>\n",
       "      <td>1.0</td>\n",
       "      <td>2.0</td>\n",
       "      <td>1.0</td>\n",
       "      <td>0.018349</td>\n",
       "      <td>4 / 218</td>\n",
       "    </tr>\n",
       "    <tr>\n",
       "      <th>1</th>\n",
       "      <td>1.0</td>\n",
       "      <td>142.0</td>\n",
       "      <td>67.0</td>\n",
       "      <td>2.0</td>\n",
       "      <td>0.330189</td>\n",
       "      <td>70 / 212</td>\n",
       "    </tr>\n",
       "    <tr>\n",
       "      <th>2</th>\n",
       "      <td>4.0</td>\n",
       "      <td>57.0</td>\n",
       "      <td>154.0</td>\n",
       "      <td>2.0</td>\n",
       "      <td>0.290323</td>\n",
       "      <td>63 / 217</td>\n",
       "    </tr>\n",
       "    <tr>\n",
       "      <th>3</th>\n",
       "      <td>1.0</td>\n",
       "      <td>2.0</td>\n",
       "      <td>0.0</td>\n",
       "      <td>196.0</td>\n",
       "      <td>0.015075</td>\n",
       "      <td>3 / 199</td>\n",
       "    </tr>\n",
       "    <tr>\n",
       "      <th>4</th>\n",
       "      <td>220.0</td>\n",
       "      <td>202.0</td>\n",
       "      <td>223.0</td>\n",
       "      <td>201.0</td>\n",
       "      <td>0.165485</td>\n",
       "      <td>140 / 846</td>\n",
       "    </tr>\n",
       "  </tbody>\n",
       "</table>\n",
       "</div>"
      ],
      "text/plain": [
       "     bus   opel   saab    van     Error       Rate\n",
       "0  214.0    1.0    2.0    1.0  0.018349    4 / 218\n",
       "1    1.0  142.0   67.0    2.0  0.330189   70 / 212\n",
       "2    4.0   57.0  154.0    2.0  0.290323   63 / 217\n",
       "3    1.0    2.0    0.0  196.0  0.015075    3 / 199\n",
       "4  220.0  202.0  223.0  201.0  0.165485  140 / 846"
      ]
     },
     "metadata": {},
     "output_type": "display_data"
    },
    {
     "data": {
      "text/plain": []
     },
     "execution_count": 9,
     "metadata": {},
     "output_type": "execute_result"
    }
   ],
   "source": [
    "vehicle = h2o.import_file(\"https://academic.uprm.edu/eacuna/vehicle.csv\")\n",
    "predictors=[\"COMPACTNESS\",\"CIRCULARITY\",\"DISTANCE_CIRCULARITY\",\"RADIUS_RATIO\",\"PR.AXIS_ASPECT_RATIO\",\"MAX.LENGTH_ASPECT_RATIO\",\"SCATTER_RATIO\",\"ELONGATEDNESS\",\"PR.AXIS_RECTANGULARITY\",\"MAX.LENGTH_RECTANGULARITY\",\"SCALED_VARIANCE_MAJOR\",\"SCALED_VARIANCE_MINOR\",\"SCALED_RADIUS_OF_GYRATION\",\"SKEWNESS_ABOUT_MAJOR\",\"SKEWNESS_ABOUT_MINOR\",\"KURTOSIS_ABOUT_MAJOR\",\"KURTOSIS_ABOUT_MINOR\",\"HOLLOWS_RATIO\"]\n",
    "vehicle['Class']=vehicle['Class'].asfactor()\n",
    "response_col=\"Class\"\n",
    "# Create test/train split\n",
    "#train, test = vehicle.split_frame(ratios=[0.75], seed=1)\n",
    "glm_model = H2OGeneralizedLinearEstimator(family= \"multinomial\", lambda_ = 0)\n",
    "glm_model.train(predictors, response_col, training_frame= vehicle)\n",
    "glm_model\n",
    "glm_model.confusion_matrix(vehicle)"
   ]
  },
  {
   "cell_type": "code",
   "execution_count": 10,
   "metadata": {},
   "outputs": [
    {
     "name": "stdout",
     "output_type": "stream",
     "text": [
      "glm prediction progress: |████████████████████████████████████████████████| 100%\n",
      "0.83451536643026\n"
     ]
    }
   ],
   "source": [
    "#Hallando la tasa de prediccion\n",
    "y_pred=glm_model.predict(vehicle)\n",
    "print((y_pred['predict']==vehicle['Class']).sum()/len(vehicle))"
   ]
  },
  {
   "cell_type": "markdown",
   "metadata": {},
   "source": [
    "### II Logistic regression for vehicle using scikit learn"
   ]
  },
  {
   "cell_type": "code",
   "execution_count": 11,
   "metadata": {
    "scrolled": true
   },
   "outputs": [
    {
     "data": {
      "text/plain": [
       "0.8274231678486997"
      ]
     },
     "execution_count": 11,
     "metadata": {},
     "output_type": "execute_result"
    }
   ],
   "source": [
    "df1=pd.read_csv(\"http://academic.uprm.edu/eacuna/vehicle.csv\")\n",
    "#Convirtiendo en matriz la tabla de predictoras y la columna de clases\n",
    "y=df1['Class']\n",
    "X=df1.iloc[:,0:18]\n",
    "#Haciendo la regresion logistica y calculando su precision\n",
    "model = LogisticRegression(solver=\"lbfgs\",max_iter=1000)\n",
    "model.fit(X,y)\n",
    "model.score(X,y)"
   ]
  },
  {
   "cell_type": "code",
   "execution_count": 12,
   "metadata": {},
   "outputs": [
    {
     "name": "stdout",
     "output_type": "stream",
     "text": [
      "              precision    recall  f1-score   support\n",
      "\n",
      "         bus       0.96      0.97      0.97       218\n",
      "        opel       0.71      0.66      0.68       212\n",
      "        saab       0.69      0.71      0.70       217\n",
      "         van       0.95      0.98      0.97       199\n",
      "\n",
      "    accuracy                           0.83       846\n",
      "   macro avg       0.83      0.83      0.83       846\n",
      "weighted avg       0.83      0.83      0.83       846\n",
      "\n"
     ]
    }
   ],
   "source": [
    "predictions = model.predict(X)\n",
    "print(classification_report(y, predictions))"
   ]
  },
  {
   "cell_type": "markdown",
   "metadata": {},
   "source": [
    "### III. Logistic Regression for Landsat using scikit-learn"
   ]
  },
  {
   "cell_type": "code",
   "execution_count": 13,
   "metadata": {},
   "outputs": [
    {
     "data": {
      "text/plain": [
       "0.826381059751973"
      ]
     },
     "execution_count": 13,
     "metadata": {},
     "output_type": "execute_result"
    }
   ],
   "source": [
    "#Cargando el conjunto de datos Landsat\n",
    "url='http://academic.uprm.edu/eacuna/landsat.txt'\n",
    "data = pd.read_csv(url, header=None,delim_whitespace=True)\n",
    "y=data.iloc[:,36]\n",
    "X=data.iloc[:,0:36]\n",
    "#Haciendo la regresion logistica y calculando su precision\n",
    "model = LogisticRegression(solver=\"lbfgs\", max_iter=1000)\n",
    "model = model.fit(X, y)\n",
    "model.score(X,y)"
   ]
  },
  {
   "cell_type": "code",
   "execution_count": 14,
   "metadata": {},
   "outputs": [
    {
     "name": "stdout",
     "output_type": "stream",
     "text": [
      "              precision    recall  f1-score   support\n",
      "\n",
      "           1       0.98      0.98      0.98      1072\n",
      "           2       0.96      0.92      0.94       479\n",
      "           3       0.72      0.90      0.80       961\n",
      "           4       0.54      0.14      0.23       415\n",
      "           5       0.80      0.80      0.80       470\n",
      "           6       0.78      0.84      0.81      1038\n",
      "\n",
      "    accuracy                           0.83      4435\n",
      "   macro avg       0.80      0.76      0.76      4435\n",
      "weighted avg       0.81      0.83      0.81      4435\n",
      "\n"
     ]
    }
   ],
   "source": [
    "predictions = model.predict(X)\n",
    "print(classification_report(y, predictions))"
   ]
  },
  {
   "cell_type": "markdown",
   "metadata": {},
   "source": [
    "### IV Logistic Regression for  Landsat using h20"
   ]
  },
  {
   "cell_type": "code",
   "execution_count": 15,
   "metadata": {},
   "outputs": [
    {
     "name": "stdout",
     "output_type": "stream",
     "text": [
      "Parse progress: |█████████████████████████████████████████████████████████| 100%\n"
     ]
    }
   ],
   "source": [
    "landsat = h2o.import_file(\"https://academic.uprm.edu/eacuna/landsat.txt\")\n",
    "predictors=['C1','C2','C3','C4','C5','C6','C7','C8','C9','C10','C11','C12','C13',\n",
    "            'C14','C15','C16','C17','C18','C19','C20','C21','C22','C23','C24','C25','C26','C27',\n",
    "           'C28','C29', 'C30','C31','C32','C33','C34','C35',\"C36\"]\n",
    "landsat['C37']=landsat['C37'].asfactor()\n",
    "response_col=\"C37\"\n"
   ]
  },
  {
   "cell_type": "code",
   "execution_count": 16,
   "metadata": {},
   "outputs": [
    {
     "name": "stdout",
     "output_type": "stream",
     "text": [
      "glm Model Build progress: |███████████████████████████████████████████████| 100%\n",
      "\n",
      "Confusion Matrix: Row labels: Actual class; Column labels: Predicted class\n"
     ]
    },
    {
     "data": {
      "text/html": [
       "<div>\n",
       "<style scoped>\n",
       "    .dataframe tbody tr th:only-of-type {\n",
       "        vertical-align: middle;\n",
       "    }\n",
       "\n",
       "    .dataframe tbody tr th {\n",
       "        vertical-align: top;\n",
       "    }\n",
       "\n",
       "    .dataframe thead th {\n",
       "        text-align: right;\n",
       "    }\n",
       "</style>\n",
       "<table border=\"1\" class=\"dataframe\">\n",
       "  <thead>\n",
       "    <tr style=\"text-align: right;\">\n",
       "      <th></th>\n",
       "      <th>1</th>\n",
       "      <th>2</th>\n",
       "      <th>3</th>\n",
       "      <th>4</th>\n",
       "      <th>5</th>\n",
       "      <th>6</th>\n",
       "      <th>Error</th>\n",
       "      <th>Rate</th>\n",
       "    </tr>\n",
       "  </thead>\n",
       "  <tbody>\n",
       "    <tr>\n",
       "      <th>0</th>\n",
       "      <td>1049.0</td>\n",
       "      <td>0.0</td>\n",
       "      <td>14.0</td>\n",
       "      <td>2.0</td>\n",
       "      <td>7.0</td>\n",
       "      <td>0.0</td>\n",
       "      <td>0.021455</td>\n",
       "      <td>23 / 1,072</td>\n",
       "    </tr>\n",
       "    <tr>\n",
       "      <th>1</th>\n",
       "      <td>0.0</td>\n",
       "      <td>462.0</td>\n",
       "      <td>0.0</td>\n",
       "      <td>0.0</td>\n",
       "      <td>17.0</td>\n",
       "      <td>0.0</td>\n",
       "      <td>0.035491</td>\n",
       "      <td>17 / 479</td>\n",
       "    </tr>\n",
       "    <tr>\n",
       "      <th>2</th>\n",
       "      <td>5.0</td>\n",
       "      <td>0.0</td>\n",
       "      <td>905.0</td>\n",
       "      <td>49.0</td>\n",
       "      <td>0.0</td>\n",
       "      <td>2.0</td>\n",
       "      <td>0.058273</td>\n",
       "      <td>56 / 961</td>\n",
       "    </tr>\n",
       "    <tr>\n",
       "      <th>3</th>\n",
       "      <td>6.0</td>\n",
       "      <td>2.0</td>\n",
       "      <td>90.0</td>\n",
       "      <td>172.0</td>\n",
       "      <td>8.0</td>\n",
       "      <td>137.0</td>\n",
       "      <td>0.585542</td>\n",
       "      <td>243 / 415</td>\n",
       "    </tr>\n",
       "    <tr>\n",
       "      <th>4</th>\n",
       "      <td>15.0</td>\n",
       "      <td>11.0</td>\n",
       "      <td>0.0</td>\n",
       "      <td>4.0</td>\n",
       "      <td>392.0</td>\n",
       "      <td>48.0</td>\n",
       "      <td>0.165957</td>\n",
       "      <td>78 / 470</td>\n",
       "    </tr>\n",
       "    <tr>\n",
       "      <th>5</th>\n",
       "      <td>0.0</td>\n",
       "      <td>0.0</td>\n",
       "      <td>13.0</td>\n",
       "      <td>69.0</td>\n",
       "      <td>30.0</td>\n",
       "      <td>926.0</td>\n",
       "      <td>0.107900</td>\n",
       "      <td>112 / 1,038</td>\n",
       "    </tr>\n",
       "    <tr>\n",
       "      <th>6</th>\n",
       "      <td>1075.0</td>\n",
       "      <td>475.0</td>\n",
       "      <td>1022.0</td>\n",
       "      <td>296.0</td>\n",
       "      <td>454.0</td>\n",
       "      <td>1113.0</td>\n",
       "      <td>0.119278</td>\n",
       "      <td>529 / 4,435</td>\n",
       "    </tr>\n",
       "  </tbody>\n",
       "</table>\n",
       "</div>"
      ],
      "text/plain": [
       "        1      2       3      4      5       6     Error         Rate\n",
       "0  1049.0    0.0    14.0    2.0    7.0     0.0  0.021455   23 / 1,072\n",
       "1     0.0  462.0     0.0    0.0   17.0     0.0  0.035491     17 / 479\n",
       "2     5.0    0.0   905.0   49.0    0.0     2.0  0.058273     56 / 961\n",
       "3     6.0    2.0    90.0  172.0    8.0   137.0  0.585542    243 / 415\n",
       "4    15.0   11.0     0.0    4.0  392.0    48.0  0.165957     78 / 470\n",
       "5     0.0    0.0    13.0   69.0   30.0   926.0  0.107900  112 / 1,038\n",
       "6  1075.0  475.0  1022.0  296.0  454.0  1113.0  0.119278  529 / 4,435"
      ]
     },
     "metadata": {},
     "output_type": "display_data"
    },
    {
     "data": {
      "text/plain": []
     },
     "execution_count": 16,
     "metadata": {},
     "output_type": "execute_result"
    }
   ],
   "source": [
    "glm_model = H2OGeneralizedLinearEstimator(family= \"multinomial\", lambda_ = 0)\n",
    "glm_model.train(predictors, response_col, training_frame= landsat)\n",
    "glm_model\n",
    "glm_model.confusion_matrix(landsat)"
   ]
  },
  {
   "cell_type": "code",
   "execution_count": 17,
   "metadata": {},
   "outputs": [
    {
     "name": "stdout",
     "output_type": "stream",
     "text": [
      "glm prediction progress: |████████████████████████████████████████████████| 100%\n",
      "0.8807215332581736\n"
     ]
    }
   ],
   "source": [
    "#Hallando la tasa de prediccion\n",
    "y_pred=glm_model.predict(landsat)\n",
    "print((y_pred['predict']==landsat['C37']).sum()/len(landsat))"
   ]
  },
  {
   "cell_type": "code",
   "execution_count": null,
   "metadata": {},
   "outputs": [],
   "source": []
  },
  {
   "cell_type": "code",
   "execution_count": null,
   "metadata": {},
   "outputs": [],
   "source": []
  }
 ],
 "metadata": {
  "kernelspec": {
   "display_name": "Python 3",
   "language": "python",
   "name": "python3"
  },
  "language_info": {
   "codemirror_mode": {
    "name": "ipython",
    "version": 3
   },
   "file_extension": ".py",
   "mimetype": "text/x-python",
   "name": "python",
   "nbconvert_exporter": "python",
   "pygments_lexer": "ipython3",
   "version": "3.7.6"
  }
 },
 "nbformat": 4,
 "nbformat_minor": 2
}
