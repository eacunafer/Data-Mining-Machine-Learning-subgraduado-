{
 "cells": [
  {
   "cell_type": "markdown",
   "metadata": {},
   "source": [
    "### Data Mining and Machine Learning\n",
    "\n",
    "### Feature Selection in Supervised Classification\n",
    "\n",
    "### Edgar Acuna\n",
    "\n",
    "#### September 2021\n",
    "\n",
    "##### Use of modules: feature_selection from scikit-learn, feature selection from Arizona State University , skrebate and Orange \n"
   ]
  },
  {
   "cell_type": "code",
   "execution_count": 52,
   "metadata": {},
   "outputs": [],
   "source": [
    "import warnings\n",
    "warnings.filterwarnings(\"ignore\")\n",
    "import pandas as pd\n",
    "import numpy as np\n",
    "import math as m\n",
    "from sklearn.model_selection import train_test_split\n",
    "from sklearn.feature_selection import SelectKBest\n",
    "from sklearn.feature_selection import chi2, SelectPercentile, f_classif, mutual_info_classif\n",
    "import matplotlib.pyplot as plt\n",
    "import seaborn as sns\n",
    "%matplotlib inline"
   ]
  },
  {
   "cell_type": "markdown",
   "metadata": {},
   "source": [
    "#### Example 1: Diabetes dataset"
   ]
  },
  {
   "cell_type": "code",
   "execution_count": 53,
   "metadata": {},
   "outputs": [],
   "source": [
    "url= \"http://academic.uprm.edu/eacuna/diabetes.dat\"\n",
    "names = ['preg', 'plas', 'pres', 'skin', 'test', 'mass', 'pedi', 'age', 'class']\n",
    "data = pd.read_table(url, names=names,header=None)\n",
    "y=data['class']\n",
    "X=data.iloc[:,0:8]"
   ]
  },
  {
   "cell_type": "markdown",
   "metadata": {},
   "source": [
    "\n",
    "### I. Feature Selection by Visualization using boxplots"
   ]
  },
  {
   "cell_type": "code",
   "execution_count": 54,
   "metadata": {},
   "outputs": [
    {
     "name": "stdout",
     "output_type": "stream",
     "text": [
      "(768, 9)\n"
     ]
    }
   ],
   "source": [
    "print(data.shape)\n",
    "data.head()\n",
    "#normalizando los datos\n",
    "data1=data.drop('class',axis=1)\n",
    "data1_norm=(data1 - data1.min()) / (data1.max() - data1.min())\n",
    "data1_norm['class']=data['class']"
   ]
  },
  {
   "cell_type": "code",
   "execution_count": 55,
   "metadata": {},
   "outputs": [
    {
     "data": {
      "text/plain": [
       "<seaborn.axisgrid.FacetGrid at 0x1a5fff80040>"
      ]
     },
     "execution_count": 55,
     "metadata": {},
     "output_type": "execute_result"
    },
    {
     "data": {
      "text/plain": [
       "<Figure size 720x3600 with 0 Axes>"
      ]
     },
     "metadata": {},
     "output_type": "display_data"
    },
    {
     "data": {
      "image/png": "[encoded data removed]",
      "text/plain": [
       "<Figure size 402.375x360 with 1 Axes>"
      ]
     },
     "metadata": {
      "needs_background": "light"
     },
     "output_type": "display_data"
    }
   ],
   "source": [
    "plt.figure(figsize=(10,50))\n",
    "df_long = pd.melt(data1_norm, \"class\", var_name=\"a\", value_name=\"c\")\n",
    "sns.factorplot(\"a\", hue=\"class\", y=\"c\", data=df_long, kind=\"box\")"
   ]
  },
  {
   "cell_type": "markdown",
   "metadata": {},
   "source": [
    "Comment: From the boxplots we can see  that features: plas, age,preg,press and mass have boxplot not so overlaped"
   ]
  },
  {
   "cell_type": "markdown",
   "metadata": {},
   "source": [
    "## II-Feature selection using statistical measures"
   ]
  },
  {
   "cell_type": "markdown",
   "metadata": {},
   "source": [
    "### II-1 Using the Chi-Square test  \n",
    "It is desirable to have discretized attributes and two classes. I do not recommend \n",
    "to use this method because the Chi-Square test is approximated and it is not robust."
   ]
  },
  {
   "cell_type": "code",
   "execution_count": 56,
   "metadata": {},
   "outputs": [],
   "source": [
    "y=data['class']\n",
    "X=data.iloc[:,0:8]"
   ]
  },
  {
   "cell_type": "code",
   "execution_count": 57,
   "metadata": {},
   "outputs": [],
   "source": [
    "# Funcion auxiliar para discretizar cualquier columna de un dataframe\n",
    "def disc_col_ew(df,str,k,out):\n",
    "    df1=df[str]\n",
    "    bins=np.linspace(df1.min(), df1.max(),k)\n",
    "    if out==\"num\":\n",
    "        df1=pd.cut(df1,bins=bins,include_lowest=True, right=True,labels=False)\n",
    "    else:\n",
    "        bins[0]=float('-inf')\n",
    "        bins[k-1]=float('inf')\n",
    "        df1=pd.cut(df1,bins=bins,include_lowest=True, right=True)  \n",
    "    return df1\n",
    "# funcion auxiliar para determinar el numero optimo de intervalos segun la formula de scott\n",
    "def nclass_scott(x):\n",
    "    h=3.5*(np.var(x,ddof=1)**.5)*len(x)**(-.3333)\n",
    "    intervals=m.ceil((max(x)-min(x))/h)\n",
    "    return int(intervals)"
   ]
  },
  {
   "cell_type": "code",
   "execution_count": 58,
   "metadata": {},
   "outputs": [],
   "source": [
    "#Funcion para discretizar todas las colunmnas de un dataframe\n",
    "def disc_ew(df,out):\n",
    "    name=df.columns.tolist()\n",
    "    disc=pd.DataFrame()\n",
    "    for name in df.columns.tolist():\n",
    "        k=nclass_scott(df[name])\n",
    "        disc[name]=disc_col_ew(df,name,k,out)\n",
    "    return disc"
   ]
  },
  {
   "cell_type": "code",
   "execution_count": 59,
   "metadata": {},
   "outputs": [],
   "source": [
    "#discretizando las columnas de la matriz predictora X de diabetes\n",
    "diab_disc=disc_ew(X,out=\"num\")"
   ]
  },
  {
   "cell_type": "code",
   "execution_count": 60,
   "metadata": {},
   "outputs": [
    {
     "name": "stdout",
     "output_type": "stream",
     "text": [
      "[105.387 120.206   2.87   10.086  59.232  42.746  62.639 115.924]\n",
      "Index(['plas', 'age', 'preg', 'pedi', 'test', 'mass', 'skin', 'pres'], dtype='object')\n"
     ]
    }
   ],
   "source": [
    "#Choosing the best three features with Chi-square and scikit-learn\n",
    "y1=y.to_numpy()\n",
    "X1=diab_disc.to_numpy()\n",
    "test = SelectKBest(score_func=chi2, k=3)\n",
    "fit = test.fit(X1, y1)\n",
    "# summarize scores\n",
    "np.set_printoptions(precision=3)\n",
    "print(fit.scores_)\n",
    "#Ranking the features according to their scores \n",
    "idx = np.argsort(fit.scores_)\n",
    "print(X.columns[idx[::-1]])"
   ]
  },
  {
   "cell_type": "code",
   "execution_count": 61,
   "metadata": {},
   "outputs": [
    {
     "name": "stdout",
     "output_type": "stream",
     "text": [
      "[[ 4 11  6]\n",
      " [ 0  6  2]\n",
      " [ 6 14  2]\n",
      " ...\n",
      " [ 3  9  1]\n",
      " [ 0 10  5]\n",
      " [ 0  7  0]]\n"
     ]
    }
   ],
   "source": [
    "#Printing the subset containing the best three fetaures\n",
    "features= fit.transform(X1)\n",
    "print(features)"
   ]
  },
  {
   "cell_type": "markdown",
   "metadata": {},
   "source": [
    "Comentario: Las tres mejores variables con la prueba de Chi-square son plas, age y preg por tener el Chi-Square mas alto."
   ]
  },
  {
   "cell_type": "markdown",
   "metadata": {},
   "source": [
    "### II-2 Using the F test to find the best features  \n",
    "\n",
    "Either  scikit-learn or the ASU library can be used"
   ]
  },
  {
   "cell_type": "code",
   "execution_count": 62,
   "metadata": {},
   "outputs": [
    {
     "name": "stdout",
     "output_type": "stream",
     "text": [
      "[0.221 1.    0.027 0.034 0.084 0.378 0.14  0.253]\n",
      "[[148.   33.6  50. ]\n",
      " [ 85.   26.6  31. ]\n",
      " [183.   23.3  32. ]\n",
      " ...\n",
      " [121.   26.2  30. ]\n",
      " [126.   30.1  47. ]\n",
      " [ 93.   30.4  23. ]]\n"
     ]
    }
   ],
   "source": [
    "# Selecion  de Features usando los p-values de la F-test como score\n",
    "# Aqui usamos scikit-learn y se selecciona el 30% de deatures con el mas alto score\n",
    "selector = SelectPercentile(f_classif, percentile=30)\n",
    "fit=selector.fit(X, y)\n",
    "scores = -np.log10(selector.pvalues_)\n",
    "scores /= scores.max()\n",
    "print(scores)\n",
    "features= fit.transform(X)\n",
    "# Imprime los datos de las tres mejores features\n",
    "print(features)"
   ]
  },
  {
   "cell_type": "markdown",
   "metadata": {},
   "source": [
    "Comentario: Las tres, mejores variables con la prueba de F son plas,mass y age"
   ]
  },
  {
   "cell_type": "code",
   "execution_count": 63,
   "metadata": {},
   "outputs": [],
   "source": [
    "import numpy as np\n",
    "from sklearn.feature_selection import f_classif\n",
    "\n",
    "\n",
    "def f_score(X, y):\n",
    "    \"\"\"\n",
    "    This function implements the anova f_value feature selection (existing method for classification in scikit-learn),\n",
    "    where f_score = sum((ni/(c-1))*(mean_i - mean)^2)/((1/(n - c))*sum((ni-1)*std_i^2))\n",
    "    Input\n",
    "    -----\n",
    "    X: {numpy array}, shape (n_samples, n_features)\n",
    "        input data\n",
    "    y : {numpy array},shape (n_samples,)\n",
    "        input class labels\n",
    "    Output\n",
    "    ------\n",
    "    F: {numpy array}, shape (n_features,)\n",
    "        f-score for each feature\n",
    "    \"\"\"\n",
    "\n",
    "    F, pval = f_classif(X, y)\n",
    "    return F"
   ]
  },
  {
   "cell_type": "code",
   "execution_count": 64,
   "metadata": {},
   "outputs": [],
   "source": [
    "def feature_ranking(F):\n",
    "    \"\"\"\n",
    "    Rank features in descending order according to f-score, the higher the f-score, the more important the feature is\n",
    "    \"\"\"\n",
    "    idx = np.argsort(F)\n",
    "    return idx[::-1]"
   ]
  },
  {
   "cell_type": "code",
   "execution_count": 65,
   "metadata": {},
   "outputs": [
    {
     "name": "stdout",
     "output_type": "stream",
     "text": [
      "[ 39.67  213.162   3.257   4.304  13.281  71.772  23.871  46.141] [1 5 7 0 6 4 3 2]\n"
     ]
    }
   ],
   "source": [
    "scoref =f_score(X, y)\n",
    "idx = feature_ranking(scoref)\n",
    "print(scoref,idx)"
   ]
  },
  {
   "cell_type": "markdown",
   "metadata": {},
   "source": [
    "Comentario: las tres variables mas importantes con la prueba de F son: plas,mass y age"
   ]
  },
  {
   "cell_type": "markdown",
   "metadata": {},
   "source": [
    "## III Uaing Information measures"
   ]
  },
  {
   "cell_type": "markdown",
   "metadata": {},
   "source": [
    "### Usando Mutual Information (Entropia)\n",
    "\n",
    "Using the  scikit-learn module\n"
   ]
  },
  {
   "cell_type": "code",
   "execution_count": 66,
   "metadata": {},
   "outputs": [
    {
     "name": "stdout",
     "output_type": "stream",
     "text": [
      "[0.395 1.    0.    0.113 0.349 0.728 0.098 0.481]\n",
      "Index(['plas', 'mass', 'age', 'preg', 'test', 'skin', 'pedi', 'pres'], dtype='object')\n"
     ]
    }
   ],
   "source": [
    "# Univariate feature selection with Mutual Information\n",
    "scores = mutual_info_classif(X,y)\n",
    "scores /= scores.max()\n",
    "print(scores)\n",
    "#Ranking the features according to their scores \n",
    "idx = np.argsort(scores)\n",
    "print(X.columns[idx[::-1]])"
   ]
  },
  {
   "cell_type": "markdown",
   "metadata": {},
   "source": [
    "\n",
    "Comentario: Las tres variables usando el criterio de Mutual Information son: plas, mass y age\n",
    "\n",
    "## IV-Using ReliefF to select the best features \n",
    "\n",
    "#### IV-1 Usando el modulo skrebate "
   ]
  },
  {
   "cell_type": "code",
   "execution_count": 67,
   "metadata": {},
   "outputs": [
    {
     "data": {
      "text/plain": [
       "array([[0.353, 0.744, 0.59 , ..., 0.501, 0.234, 0.483],\n",
       "       [0.059, 0.427, 0.541, ..., 0.396, 0.117, 0.167],\n",
       "       [0.471, 0.92 , 0.525, ..., 0.347, 0.254, 0.183],\n",
       "       ...,\n",
       "       [0.294, 0.608, 0.59 , ..., 0.39 , 0.071, 0.15 ],\n",
       "       [0.059, 0.633, 0.492, ..., 0.449, 0.116, 0.433],\n",
       "       [0.059, 0.467, 0.574, ..., 0.453, 0.101, 0.033]])"
      ]
     },
     "execution_count": 67,
     "metadata": {},
     "output_type": "execute_result"
    }
   ],
   "source": [
    "from skrebate import ReliefF\n",
    "\n",
    "df=data.drop('class',axis=1)\n",
    "#Normalizando las predictoras\n",
    "df_norm=(df - df.min()) / (df.max() - df.min())\n",
    "features, labels = df_norm.values, data['class'].values\n",
    "features"
   ]
  },
  {
   "cell_type": "code",
   "execution_count": 68,
   "metadata": {},
   "outputs": [
    {
     "name": "stdout",
     "output_type": "stream",
     "text": [
      "preg 0.011557904411764679\n",
      "plas 0.027526957705192593\n",
      "pres 0.005626707650273222\n",
      "skin 0.012511837121212118\n",
      "test 0.004258551270685579\n",
      "mass 0.015538065076999513\n",
      "pedi 0.007962389695417026\n",
      "age 0.009900173611111106\n"
     ]
    }
   ],
   "source": [
    "fs = ReliefF(n_neighbors=10)\n",
    "fs.fit(features, labels)\n",
    "for feature_name, feature_score in zip(data.columns,fs.feature_importances_):\n",
    "    print (feature_name, feature_score)"
   ]
  },
  {
   "cell_type": "markdown",
   "metadata": {},
   "source": [
    "Comentario: las tres variables mas importantes con el ReliefF son: plas,mass y skin"
   ]
  },
  {
   "cell_type": "markdown",
   "metadata": {},
   "source": [
    "#### IV-2 Usando el Relief de Orange"
   ]
  },
  {
   "cell_type": "code",
   "execution_count": 69,
   "metadata": {},
   "outputs": [
    {
     "name": "stdout",
     "output_type": "stream",
     "text": [
      "Feature scores for best  features (scored individually):\n",
      "0.011 preg\n",
      "0.029 plas\n",
      "0.005 pres\n",
      "0.014 skin\n",
      "0.005 test\n",
      "0.010 mass\n",
      "0.008 pedi\n",
      "0.009 age\n"
     ]
    }
   ],
   "source": [
    "import Orange\n",
    "df = Orange.data.Table(\"https://academic.uprm.edu/eacuna/diabetes.tab\")\n",
    "#ReliefF usando 10 vecinos mas cercanos y  una muestrd m=100 para updating de los pesos\n",
    "print('Feature scores for best  features (scored individually):')\n",
    "meas =Orange.preprocess.score.ReliefF(n_iterations=400,k_nearest=10)\n",
    "scores = meas(df)\n",
    "for attr, score in zip(df.domain.attributes, scores):\n",
    "    print('%.3f' % score, attr.name)"
   ]
  },
  {
   "cell_type": "code",
   "execution_count": 70,
   "metadata": {},
   "outputs": [
    {
     "name": "stdout",
     "output_type": "stream",
     "text": [
      "Index(['plas', 'skin', 'preg', 'mass', 'age', 'pedi', 'pres', 'test'], dtype='object')\n"
     ]
    }
   ],
   "source": [
    "#Ranking the features according to their scores \n",
    "idx = np.argsort(scores)\n",
    "print(X.columns[idx[::-1]])"
   ]
  },
  {
   "cell_type": "markdown",
   "metadata": {},
   "source": [
    "The best features are: plas, mass and skin."
   ]
  },
  {
   "cell_type": "markdown",
   "metadata": {},
   "source": [
    "### Example 2:  Bupa dataset"
   ]
  },
  {
   "cell_type": "code",
   "execution_count": 71,
   "metadata": {},
   "outputs": [],
   "source": [
    "#load data\n",
    "url= \"http://academic.uprm.edu/eacuna/bupa.dat\"\n",
    "names = ['mcv', 'alkphos', 'sgpt', 'aspar', 'gammagt', 'drinks', 'class']\n",
    "data = pd.read_table(url, names=names,header=None)\n",
    "y=data['class']\n",
    "X=data.iloc[:,0:6]\n",
    "y1=y.to_numpy()\n",
    "X1=X.to_numpy()\n",
    "features, labels = X.values, data['class'].values"
   ]
  },
  {
   "cell_type": "markdown",
   "metadata": {},
   "source": [
    "#### Using skrebate"
   ]
  },
  {
   "cell_type": "code",
   "execution_count": 72,
   "metadata": {},
   "outputs": [
    {
     "name": "stdout",
     "output_type": "stream",
     "text": [
      "<class 'pandas.core.frame.DataFrame'>\n",
      "RangeIndex: 345 entries, 0 to 344\n",
      "Data columns (total 6 columns):\n",
      " #   Column   Non-Null Count  Dtype  \n",
      "---  ------   --------------  -----  \n",
      " 0   mcv      345 non-null    int64  \n",
      " 1   alkphos  345 non-null    int64  \n",
      " 2   sgpt     345 non-null    int64  \n",
      " 3   aspar    345 non-null    int64  \n",
      " 4   gammagt  345 non-null    int64  \n",
      " 5   drinks   345 non-null    float64\n",
      "dtypes: float64(1), int64(5)\n",
      "memory usage: 16.3 KB\n"
     ]
    }
   ],
   "source": [
    "df=data.drop('class',axis=1)\n",
    "#Normalizando las predictoras\n",
    "df_norm=(df - df.min()) / (df.max() - df.min())\n",
    "features, labels = df_norm.values, data['class'].values\n",
    "df.info()"
   ]
  },
  {
   "cell_type": "code",
   "execution_count": 73,
   "metadata": {},
   "outputs": [
    {
     "name": "stdout",
     "output_type": "stream",
     "text": [
      "mcv 0.0028375286041189907\n",
      "alkphos -0.0006200378071833658\n",
      "sgpt 0.005445820136289467\n",
      "aspar 0.0033427442123094295\n",
      "gammagt 0.004875918205280923\n",
      "drinks 0.00485507246376812\n"
     ]
    }
   ],
   "source": [
    "fs = ReliefF(n_neighbors=10)\n",
    "fs.fit(features, labels)\n",
    "for feature_name, feature_score in zip(data.columns,fs.feature_importances_):\n",
    "    print (feature_name, feature_score)"
   ]
  },
  {
   "cell_type": "markdown",
   "metadata": {},
   "source": [
    "El relielf de skrebate recomienda gammagt, aspar and sgpt "
   ]
  },
  {
   "cell_type": "markdown",
   "metadata": {},
   "source": [
    "### Using the ReliefF from Orange"
   ]
  },
  {
   "cell_type": "code",
   "execution_count": 74,
   "metadata": {},
   "outputs": [
    {
     "name": "stdout",
     "output_type": "stream",
     "text": [
      "Feature scores for best ten features (scored individually):\n",
      "0.0017 mcv\n",
      "-0.0034 alkphos\n",
      "0.0059 sgpt\n",
      "0.0023 sgot\n",
      "0.0066 gammagt\n",
      "0.0044 drinks\n"
     ]
    }
   ],
   "source": [
    "import Orange\n",
    "df = Orange.data.Table(\"https://datasets.biolab.si/core/bupa.tab\")\n",
    "#ReliefF usando 10 vecinos mas cercanos y  una muestra de n=300 para updating de los pesos\n",
    "print('Feature scores for best ten features (scored individually):')\n",
    "meas =Orange.preprocess.score.ReliefF(n_iterations=300,k_nearest=10)\n",
    "scores = meas(df)\n",
    "for attr, score in zip(df.domain.attributes, scores):\n",
    "    print('%.4f' % score, attr.name)"
   ]
  },
  {
   "cell_type": "markdown",
   "metadata": {},
   "source": [
    "### Example 3: Breast-cancer-Wisconsin"
   ]
  },
  {
   "cell_type": "code",
   "execution_count": 75,
   "metadata": {},
   "outputs": [],
   "source": [
    "names = [\n",
    "    'ID','Clump', 'Unif_Cell_Size', 'Unif_Cell_Shape', 'Marginal_Adh', 'Single_Cell_Size', 'Bare_Nuclei', 'Bland_Chromatine', 'Normal_Nucleoi', 'Mitoses','class']\n",
    "data = pd.read_table(\"https://academic.uprm.edu/eacuna/breast-cancer-wisconsin.data\", names=names, header=None,sep=\",\",na_values=\"?\")"
   ]
  },
  {
   "cell_type": "code",
   "execution_count": 76,
   "metadata": {},
   "outputs": [
    {
     "name": "stdout",
     "output_type": "stream",
     "text": [
      "<class 'pandas.core.frame.DataFrame'>\n",
      "RangeIndex: 699 entries, 0 to 698\n",
      "Data columns (total 11 columns):\n",
      " #   Column            Non-Null Count  Dtype  \n",
      "---  ------            --------------  -----  \n",
      " 0   ID                699 non-null    int64  \n",
      " 1   Clump             699 non-null    int64  \n",
      " 2   Unif_Cell_Size    699 non-null    int64  \n",
      " 3   Unif_Cell_Shape   699 non-null    int64  \n",
      " 4   Marginal_Adh      699 non-null    int64  \n",
      " 5   Single_Cell_Size  699 non-null    int64  \n",
      " 6   Bare_Nuclei       683 non-null    float64\n",
      " 7   Bland_Chromatine  699 non-null    int64  \n",
      " 8   Normal_Nucleoi    699 non-null    int64  \n",
      " 9   Mitoses           699 non-null    int64  \n",
      " 10  class             699 non-null    int64  \n",
      "dtypes: float64(1), int64(10)\n",
      "memory usage: 60.2 KB\n"
     ]
    }
   ],
   "source": [
    "data.info()"
   ]
  },
  {
   "cell_type": "markdown",
   "metadata": {},
   "source": [
    "### Using skrebate"
   ]
  },
  {
   "cell_type": "code",
   "execution_count": 77,
   "metadata": {},
   "outputs": [],
   "source": [
    "#Dropping the ID column\n",
    "df=data.drop('ID',axis=1)"
   ]
  },
  {
   "cell_type": "code",
   "execution_count": 78,
   "metadata": {},
   "outputs": [],
   "source": [
    "#Dropping the class column\n",
    "df1=df.drop('class',axis=1)"
   ]
  },
  {
   "cell_type": "code",
   "execution_count": 79,
   "metadata": {},
   "outputs": [],
   "source": [
    "#Normalizando las predictoras\n",
    "df_norm=(df1 - df1.min()) / (df1.max() - df1.min())\n",
    "features, labels = df_norm.values, df['class'].values"
   ]
  },
  {
   "cell_type": "code",
   "execution_count": 80,
   "metadata": {},
   "outputs": [
    {
     "name": "stdout",
     "output_type": "stream",
     "text": [
      "Clump 0.47682403433476367\n",
      "Unif_Cell_Size 0.5374821173104439\n",
      "Unif_Cell_Shape 0.5220314735336208\n",
      "Marginal_Adh 0.20901287553648162\n",
      "Single_Cell_Size 0.28183118741058716\n",
      "Bare_Nuclei 0.5560857914935173\n",
      "Bland_Chromatine 0.4718168812589402\n",
      "Normal_Nucleoi 0.3017167381974248\n",
      "Mitoses 0.06781115879828353\n"
     ]
    }
   ],
   "source": [
    "fs = ReliefF(n_neighbors=10)\n",
    "fs.fit(features, labels)\n",
    "for feature_name, feature_score in zip(df1.columns,fs.feature_importances_):\n",
    "    print (feature_name, feature_score)"
   ]
  },
  {
   "cell_type": "markdown",
   "metadata": {},
   "source": [
    "### Using Relief from Orange"
   ]
  },
  {
   "cell_type": "code",
   "execution_count": 81,
   "metadata": {},
   "outputs": [
    {
     "name": "stdout",
     "output_type": "stream",
     "text": [
      "Feature scores for best ten features (scored individually):\n",
      "0.620 Clump\n",
      "0.180 Unif_Cell_Size\n",
      "0.174 Unif_Cell_Shape\n",
      "0.116 Marginal_Adh\n",
      "0.164 Single_Cell_Size\n",
      "0.672 Bare_Nuclei\n",
      "0.552 Bland_Chromatine\n",
      "0.384 Normal_Nucleoi\n",
      "0.056 Mitoses\n"
     ]
    }
   ],
   "source": [
    "import Orange\n",
    "df = Orange.data.Table(\"https://academic.uprm.edu/eacuna/breast-cancer-wisconsin.tab\")\n",
    "#ReliefF usando 10 vecinos mas cercanos y  una muestrd m=400 para updating de los pesos\n",
    "print('Feature scores for best ten features (scored individually):')\n",
    "meas =Orange.preprocess.score.ReliefF(n_iterations=500,k_nearest=1)\n",
    "scores = meas(df)\n",
    "for attr, score in zip(df.domain.attributes, scores):\n",
    "    print('%.3f' % score, attr.name)\n"
   ]
  },
  {
   "cell_type": "markdown",
   "metadata": {},
   "source": [
    "Comment:The best attributes are:6(Bare Nuclei),1 (Clump Thickness),7 (Bland Chromatin), 8 (Normal. nucleoli)"
   ]
  },
  {
   "cell_type": "markdown",
   "metadata": {},
   "source": [
    "### Relief for multiclass problem"
   ]
  },
  {
   "cell_type": "markdown",
   "metadata": {},
   "source": [
    "### Example 4: The vehicle dataset"
   ]
  },
  {
   "cell_type": "code",
   "execution_count": 82,
   "metadata": {},
   "outputs": [
    {
     "name": "stdout",
     "output_type": "stream",
     "text": [
      "<class 'pandas.core.frame.DataFrame'>\n",
      "RangeIndex: 846 entries, 0 to 845\n",
      "Data columns (total 19 columns):\n",
      " #   Column                     Non-Null Count  Dtype \n",
      "---  ------                     --------------  ----- \n",
      " 0   COMPACTNESS                846 non-null    int64 \n",
      " 1   CIRCULARITY                846 non-null    int64 \n",
      " 2   DISTANCE_CIRCULARITY       846 non-null    int64 \n",
      " 3   RADIUS_RATIO               846 non-null    int64 \n",
      " 4   PR.AXIS_ASPECT_RATIO       846 non-null    int64 \n",
      " 5   MAX.LENGTH_ASPECT_RATIO    846 non-null    int64 \n",
      " 6   SCATTER_RATIO              846 non-null    int64 \n",
      " 7   ELONGATEDNESS              846 non-null    int64 \n",
      " 8   PR.AXIS_RECTANGULARITY     846 non-null    int64 \n",
      " 9   MAX.LENGTH_RECTANGULARITY  846 non-null    int64 \n",
      " 10  SCALED_VARIANCE_MAJOR      846 non-null    int64 \n",
      " 11  SCALED_VARIANCE_MINOR      846 non-null    int64 \n",
      " 12  SCALED_RADIUS_OF_GYRATION  846 non-null    int64 \n",
      " 13  SKEWNESS_ABOUT_MAJOR       846 non-null    int64 \n",
      " 14  SKEWNESS_ABOUT_MINOR       846 non-null    int64 \n",
      " 15  KURTOSIS_ABOUT_MAJOR       846 non-null    int64 \n",
      " 16  KURTOSIS_ABOUT_MINOR       846 non-null    int64 \n",
      " 17  HOLLOWS_RATIO              846 non-null    int64 \n",
      " 18  Class                      846 non-null    object\n",
      "dtypes: int64(18), object(1)\n",
      "memory usage: 125.7+ KB\n"
     ]
    }
   ],
   "source": [
    "df1=pd.read_csv(\"http://academic.uprm.edu/eacuna/vehicle.csv\")\n",
    "df1.info()"
   ]
  },
  {
   "cell_type": "code",
   "execution_count": 83,
   "metadata": {},
   "outputs": [],
   "source": [
    "#Convirtiendo en matriz la tabla de predictoras y la columna de clases\n",
    "y=df1['Class']\n",
    "X=df1.iloc[:,0:18]\n",
    "y1=y.values\n",
    "X1=X.values"
   ]
  },
  {
   "cell_type": "code",
   "execution_count": 84,
   "metadata": {},
   "outputs": [],
   "source": [
    "#Normalizando las predictoras\n",
    "X_norm=(X - X.min()) / (X.max() - X.min())\n",
    "features, labels = X_norm.values, y1"
   ]
  },
  {
   "cell_type": "code",
   "execution_count": 85,
   "metadata": {},
   "outputs": [
    {
     "name": "stdout",
     "output_type": "stream",
     "text": [
      "COMPACTNESS 0.03193373762291431\n",
      "CIRCULARITY 0.039858762199187686\n",
      "DISTANCE_CIRCULARITY 0.05037704666841779\n",
      "RADIUS_RATIO 0.025719285205487937\n",
      "PR.AXIS_ASPECT_RATIO 0.01771664112089645\n",
      "MAX.LENGTH_ASPECT_RATIO 0.022408076482745284\n",
      "SCATTER_RATIO 0.05649191118527783\n",
      "ELONGATEDNESS 0.06308454351007536\n",
      "PR.AXIS_RECTANGULARITY 0.05479051746782251\n",
      "MAX.LENGTH_RECTANGULARITY 0.04912529550827419\n",
      "SCALED_VARIANCE_MAJOR 0.04790158019161377\n",
      "SCALED_VARIANCE_MINOR 0.05558470481298174\n",
      "SCALED_RADIUS_OF_GYRATION 0.02899029097343028\n",
      "SKEWNESS_ABOUT_MAJOR 0.020997158973082825\n",
      "SKEWNESS_ABOUT_MINOR 0.02055842109033598\n",
      "KURTOSIS_ABOUT_MAJOR 0.015962251821099775\n",
      "KURTOSIS_ABOUT_MINOR 0.032209088521145256\n",
      "HOLLOWS_RATIO 0.055018387181507755\n"
     ]
    }
   ],
   "source": [
    "fs = ReliefF(n_neighbors=10)\n",
    "fs.fit(features, labels)\n",
    "for feature_name, feature_score in zip(X.columns,fs.feature_importances_):\n",
    "    print (feature_name, feature_score)"
   ]
  },
  {
   "cell_type": "code",
   "execution_count": 86,
   "metadata": {},
   "outputs": [
    {
     "name": "stdout",
     "output_type": "stream",
     "text": [
      "Index(['ELONGATEDNESS', 'SCATTER_RATIO', 'SCALED_VARIANCE_MINOR',\n",
      "       'HOLLOWS_RATIO', 'PR.AXIS_RECTANGULARITY', 'DISTANCE_CIRCULARITY',\n",
      "       'MAX.LENGTH_RECTANGULARITY', 'SCALED_VARIANCE_MAJOR', 'CIRCULARITY',\n",
      "       'KURTOSIS_ABOUT_MINOR', 'COMPACTNESS', 'SCALED_RADIUS_OF_GYRATION',\n",
      "       'RADIUS_RATIO', 'MAX.LENGTH_ASPECT_RATIO', 'SKEWNESS_ABOUT_MAJOR',\n",
      "       'SKEWNESS_ABOUT_MINOR', 'PR.AXIS_ASPECT_RATIO', 'KURTOSIS_ABOUT_MAJOR'],\n",
      "      dtype='object')\n"
     ]
    }
   ],
   "source": [
    "idx = np.argsort(fs.feature_importances_)\n",
    "print(X.columns[idx[::-1]])"
   ]
  },
  {
   "cell_type": "markdown",
   "metadata": {},
   "source": [
    "#### The best features are: 'ELONGATEDNESS', 'SCATTER_RATIO', 'SCALED_VARIANCE_MINOR', 'HOLLOWS_RATIO', 'PR.AXIS_RECTANGULARITY', 'DISTANCE_CIRCULARITY', 'MAX.LENGTH_RECTANGULARITY', 'SCALED_VARIANCE_MAJOR'"
   ]
  },
  {
   "cell_type": "markdown",
   "metadata": {},
   "source": [
    "### Example 5: Landsat Dataset"
   ]
  },
  {
   "cell_type": "code",
   "execution_count": 87,
   "metadata": {},
   "outputs": [
    {
     "data": {
      "text/html": [
       "<div>\n",
       "<style scoped>\n",
       "    .dataframe tbody tr th:only-of-type {\n",
       "        vertical-align: middle;\n",
       "    }\n",
       "\n",
       "    .dataframe tbody tr th {\n",
       "        vertical-align: top;\n",
       "    }\n",
       "\n",
       "    .dataframe thead th {\n",
       "        text-align: right;\n",
       "    }\n",
       "</style>\n",
       "<table border=\"1\" class=\"dataframe\">\n",
       "  <thead>\n",
       "    <tr style=\"text-align: right;\">\n",
       "      <th></th>\n",
       "      <th>a1</th>\n",
       "      <th>a2</th>\n",
       "      <th>a3</th>\n",
       "      <th>a4</th>\n",
       "      <th>a5</th>\n",
       "      <th>a6</th>\n",
       "      <th>a7</th>\n",
       "      <th>a8</th>\n",
       "      <th>a9</th>\n",
       "      <th>a10</th>\n",
       "      <th>...</th>\n",
       "      <th>a38</th>\n",
       "      <th>a29</th>\n",
       "      <th>a30</th>\n",
       "      <th>a31</th>\n",
       "      <th>a32</th>\n",
       "      <th>a33</th>\n",
       "      <th>a34</th>\n",
       "      <th>a35</th>\n",
       "      <th>a36</th>\n",
       "      <th>class</th>\n",
       "    </tr>\n",
       "  </thead>\n",
       "  <tbody>\n",
       "    <tr>\n",
       "      <th>0</th>\n",
       "      <td>92</td>\n",
       "      <td>115</td>\n",
       "      <td>120</td>\n",
       "      <td>94</td>\n",
       "      <td>84</td>\n",
       "      <td>102</td>\n",
       "      <td>106</td>\n",
       "      <td>79</td>\n",
       "      <td>84</td>\n",
       "      <td>102</td>\n",
       "      <td>...</td>\n",
       "      <td>104</td>\n",
       "      <td>88</td>\n",
       "      <td>121</td>\n",
       "      <td>128</td>\n",
       "      <td>100</td>\n",
       "      <td>84</td>\n",
       "      <td>107</td>\n",
       "      <td>113</td>\n",
       "      <td>87</td>\n",
       "      <td>3</td>\n",
       "    </tr>\n",
       "    <tr>\n",
       "      <th>1</th>\n",
       "      <td>84</td>\n",
       "      <td>102</td>\n",
       "      <td>106</td>\n",
       "      <td>79</td>\n",
       "      <td>84</td>\n",
       "      <td>102</td>\n",
       "      <td>102</td>\n",
       "      <td>83</td>\n",
       "      <td>80</td>\n",
       "      <td>102</td>\n",
       "      <td>...</td>\n",
       "      <td>100</td>\n",
       "      <td>84</td>\n",
       "      <td>107</td>\n",
       "      <td>113</td>\n",
       "      <td>87</td>\n",
       "      <td>84</td>\n",
       "      <td>99</td>\n",
       "      <td>104</td>\n",
       "      <td>79</td>\n",
       "      <td>3</td>\n",
       "    </tr>\n",
       "    <tr>\n",
       "      <th>2</th>\n",
       "      <td>84</td>\n",
       "      <td>102</td>\n",
       "      <td>102</td>\n",
       "      <td>83</td>\n",
       "      <td>80</td>\n",
       "      <td>102</td>\n",
       "      <td>102</td>\n",
       "      <td>79</td>\n",
       "      <td>84</td>\n",
       "      <td>94</td>\n",
       "      <td>...</td>\n",
       "      <td>87</td>\n",
       "      <td>84</td>\n",
       "      <td>99</td>\n",
       "      <td>104</td>\n",
       "      <td>79</td>\n",
       "      <td>84</td>\n",
       "      <td>99</td>\n",
       "      <td>104</td>\n",
       "      <td>79</td>\n",
       "      <td>3</td>\n",
       "    </tr>\n",
       "    <tr>\n",
       "      <th>3</th>\n",
       "      <td>80</td>\n",
       "      <td>102</td>\n",
       "      <td>102</td>\n",
       "      <td>79</td>\n",
       "      <td>84</td>\n",
       "      <td>94</td>\n",
       "      <td>102</td>\n",
       "      <td>79</td>\n",
       "      <td>80</td>\n",
       "      <td>94</td>\n",
       "      <td>...</td>\n",
       "      <td>79</td>\n",
       "      <td>84</td>\n",
       "      <td>99</td>\n",
       "      <td>104</td>\n",
       "      <td>79</td>\n",
       "      <td>84</td>\n",
       "      <td>103</td>\n",
       "      <td>104</td>\n",
       "      <td>79</td>\n",
       "      <td>3</td>\n",
       "    </tr>\n",
       "    <tr>\n",
       "      <th>4</th>\n",
       "      <td>84</td>\n",
       "      <td>94</td>\n",
       "      <td>102</td>\n",
       "      <td>79</td>\n",
       "      <td>80</td>\n",
       "      <td>94</td>\n",
       "      <td>98</td>\n",
       "      <td>76</td>\n",
       "      <td>80</td>\n",
       "      <td>102</td>\n",
       "      <td>...</td>\n",
       "      <td>79</td>\n",
       "      <td>84</td>\n",
       "      <td>103</td>\n",
       "      <td>104</td>\n",
       "      <td>79</td>\n",
       "      <td>79</td>\n",
       "      <td>107</td>\n",
       "      <td>109</td>\n",
       "      <td>87</td>\n",
       "      <td>3</td>\n",
       "    </tr>\n",
       "  </tbody>\n",
       "</table>\n",
       "<p>5 rows × 37 columns</p>\n",
       "</div>"
      ],
      "text/plain": [
       "   a1   a2   a3  a4  a5   a6   a7  a8  a9  a10  ...  a38  a29  a30  a31  a32  \\\n",
       "0  92  115  120  94  84  102  106  79  84  102  ...  104   88  121  128  100   \n",
       "1  84  102  106  79  84  102  102  83  80  102  ...  100   84  107  113   87   \n",
       "2  84  102  102  83  80  102  102  79  84   94  ...   87   84   99  104   79   \n",
       "3  80  102  102  79  84   94  102  79  80   94  ...   79   84   99  104   79   \n",
       "4  84   94  102  79  80   94   98  76  80  102  ...   79   84  103  104   79   \n",
       "\n",
       "   a33  a34  a35  a36  class  \n",
       "0   84  107  113   87      3  \n",
       "1   84   99  104   79      3  \n",
       "2   84   99  104   79      3  \n",
       "3   84  103  104   79      3  \n",
       "4   79  107  109   87      3  \n",
       "\n",
       "[5 rows x 37 columns]"
      ]
     },
     "execution_count": 87,
     "metadata": {},
     "output_type": "execute_result"
    }
   ],
   "source": [
    "names=['a1','a2','a3','a4','a5','a6','a7','a8','a9','a10','a11','a12','a13','a14','a15','a16','a17','a18','a19','a20','a21','a22','a23','a24','a25','a26','a27','a38','a29','a30','a31','a32','a33','a34','a35','a36','class']\n",
    "url='http://academic.uprm.edu/eacuna/landsat.txt'\n",
    "data = pd.read_csv(url,names=names, header=None,delim_whitespace=True)\n",
    "data.head()"
   ]
  },
  {
   "cell_type": "code",
   "execution_count": 88,
   "metadata": {},
   "outputs": [],
   "source": [
    "y=data['class']\n",
    "X=data.iloc[:,0:36]\n",
    "y1=y.to_numpy()\n",
    "X1=X.to_numpy()\n",
    "features, labels = X.values, data['class'].values"
   ]
  },
  {
   "cell_type": "code",
   "execution_count": 89,
   "metadata": {},
   "outputs": [
    {
     "data": {
      "text/plain": [
       "(4435, 36)"
      ]
     },
     "execution_count": 89,
     "metadata": {},
     "output_type": "execute_result"
    }
   ],
   "source": [
    "df=data.drop('class',axis=1)\n",
    "#Normalizando las predictoras\n",
    "df_norm=(df - df.min()) / (df.max() - df.min())\n",
    "features, labels = df_norm.values, data['class'].values\n",
    "df.shape"
   ]
  },
  {
   "cell_type": "code",
   "execution_count": 90,
   "metadata": {},
   "outputs": [
    {
     "name": "stdout",
     "output_type": "stream",
     "text": [
      "a1 0.1069622322435175\n",
      "a2 0.08774110894742236\n",
      "a3 0.07384307725344937\n",
      "a4 0.06579667744370023\n",
      "a5 0.10794995817725539\n",
      "a6 0.08131507635543732\n",
      "a7 0.05711923099744859\n",
      "a8 0.058862175873731784\n",
      "a9 0.10868010146561434\n",
      "a10 0.09375361478092464\n",
      "a11 0.05726534148222859\n",
      "a12 0.06833487175873718\n",
      "a13 0.12038069607593539\n",
      "a14 0.09942060532477634\n",
      "a15 0.06825709524042949\n",
      "a16 0.07309934458181229\n",
      "a17 0.11442474633596403\n",
      "a18 0.09748492245049895\n",
      "a19 0.0705850776273073\n",
      "a20 0.06438353452305638\n",
      "a21 0.11473960627872665\n",
      "a22 0.09845185582469541\n",
      "a23 0.0573992734560943\n",
      "a24 0.06574654340473508\n",
      "a25 0.1161337373167984\n",
      "a26 0.09818047003729063\n",
      "a27 0.07100794360429735\n",
      "a38 0.06982765877489654\n",
      "a29 0.10944563350966978\n",
      "a30 0.09954578231216593\n",
      "a31 0.06022087462172895\n",
      "a32 0.06062440107102592\n",
      "a33 0.11183469560315669\n",
      "a34 0.09558748262387678\n",
      "a35 0.06061857236100407\n",
      "a36 0.06521427564825252\n"
     ]
    }
   ],
   "source": [
    "fs = ReliefF(n_neighbors=10)\n",
    "fs.fit(features, labels)\n",
    "for feature_name, feature_score in zip(data.columns,fs.feature_importances_):\n",
    "    print (feature_name, feature_score)"
   ]
  },
  {
   "cell_type": "code",
   "execution_count": 91,
   "metadata": {},
   "outputs": [
    {
     "name": "stdout",
     "output_type": "stream",
     "text": [
      "Index(['a13', 'a25', 'a21', 'a17', 'a33', 'a29', 'a9', 'a5', 'a1', 'a30',\n",
      "       'a14', 'a22', 'a26', 'a18', 'a34', 'a10', 'a2', 'a6', 'a3', 'a16',\n",
      "       'a27', 'a19', 'a38', 'a12', 'a15', 'a4', 'a24', 'a36', 'a20', 'a32',\n",
      "       'a35', 'a31', 'a8', 'a23', 'a11', 'a7'],\n",
      "      dtype='object')\n"
     ]
    }
   ],
   "source": [
    "idx = np.argsort(fs.feature_importances_)\n",
    "print(df.columns[idx[::-1]])"
   ]
  },
  {
   "cell_type": "markdown",
   "metadata": {},
   "source": [
    "Comment:The best attributes are:a13,a25,a21,a17,a33,a29,a9,a5,a1,a30"
   ]
  },
  {
   "cell_type": "markdown",
   "metadata": {},
   "source": [
    "### Using Relief from Orange"
   ]
  },
  {
   "cell_type": "code",
   "execution_count": 92,
   "metadata": {
    "scrolled": true
   },
   "outputs": [
    {
     "name": "stdout",
     "output_type": "stream",
     "text": [
      "Feature scores  (scored individually):\n",
      "0.115 a1\n",
      "0.087 a2\n",
      "0.077 a3\n",
      "0.068 a4\n",
      "0.115 a5\n",
      "0.078 a6\n",
      "0.057 a7\n",
      "0.060 a8\n",
      "0.111 a9\n",
      "0.086 a10\n",
      "0.057 a11\n",
      "0.066 a12\n",
      "0.128 a13\n",
      "0.101 a14\n",
      "0.074 a15\n",
      "0.077 a16\n",
      "0.124 a17\n",
      "0.099 a18\n",
      "0.074 a19\n",
      "0.069 a20\n",
      "0.119 a21\n",
      "0.094 a22\n",
      "0.061 a23\n",
      "0.069 a24\n",
      "0.124 a25\n",
      "0.098 a26\n",
      "0.077 a27\n",
      "0.074 a28\n",
      "0.115 a29\n",
      "0.099 a30\n",
      "0.064 a31\n",
      "0.064 a32\n",
      "0.119 a33\n",
      "0.094 a34\n",
      "0.063 a35\n",
      "0.067 a36\n"
     ]
    }
   ],
   "source": [
    "#Usando el Relief de Orange\n",
    "import Orange\n",
    "df = Orange.data.Table(\"https://academic.uprm.edu/eacuna/landsat.tab\")\n",
    "print('Feature scores  (scored individually):')\n",
    "#ReliefF usando 10 vecinos mas cercanos y  una muestrd m=3000 para updating de los pesos\n",
    "meas =Orange.preprocess.score.ReliefF(n_iterations=3000,k_nearest=10)\n",
    "scores = meas(df)\n",
    "for attr, score in zip(df.domain.attributes, scores):\n",
    "    print('%.3f' % score, attr.name)\n"
   ]
  },
  {
   "cell_type": "code",
   "execution_count": 93,
   "metadata": {},
   "outputs": [
    {
     "name": "stdout",
     "output_type": "stream",
     "text": [
      "[12 16 24 20 32 28  4  0  8 13 17 29 25 21 33  1  9  5 26 15  2 18 14 27\n",
      " 19 23  3 35 11 31 30 34 22  7  6 10]\n"
     ]
    }
   ],
   "source": [
    "idx = np.argsort(scores)\n",
    "print(idx[::-1])"
   ]
  },
  {
   "cell_type": "markdown",
   "metadata": {},
   "source": [
    "Comment:The best attributes are:a13,a25,a17,a21,a33,a29,a1,a5,a9"
   ]
  },
  {
   "cell_type": "markdown",
   "metadata": {},
   "source": [
    "### Applying Relief to a dataset with mixed tyoe of attributes"
   ]
  },
  {
   "cell_type": "code",
   "execution_count": 94,
   "metadata": {},
   "outputs": [
    {
     "data": {
      "text/plain": [
       "[[Hombre, 3, No, 17, 2500, ... | No],\n",
       " [Mujer, 5, Si, 10, 3000, ... | Si],\n",
       " [Mujer, 4, No, 15, 2000, ... | No],\n",
       " [Hombre, 3, Si, 16, 2800, ... | Si],\n",
       " [Hombre, 6, Si, 11, 4000, ... | Si],\n",
       " ...\n",
       "]"
      ]
     },
     "execution_count": 94,
     "metadata": {},
     "output_type": "execute_result"
    }
   ],
   "source": [
    "import Orange\n",
    "df = Orange.data.Table(\"https://academic.uprm.edu/eacuna/loan.tab\")\n",
    "df"
   ]
  },
  {
   "cell_type": "code",
   "execution_count": 95,
   "metadata": {},
   "outputs": [],
   "source": [
    "meas =Orange.preprocess.score.ReliefF(n_iterations=2000,k_nearest=10)\n",
    "scores = meas(df)"
   ]
  },
  {
   "cell_type": "code",
   "execution_count": 96,
   "metadata": {},
   "outputs": [
    {
     "name": "stdout",
     "output_type": "stream",
     "text": [
      "0.080 Sexo\n",
      "-0.008 Familia\n",
      "0.017 CasPropia\n",
      "0.018 AnosEmpleo\n",
      "0.063 Sueldo\n",
      "0.125 StatustMarital\n"
     ]
    }
   ],
   "source": [
    "for attr, score in zip(df.domain.attributes, scores):\n",
    "    print('%.3f' % score, attr.name)"
   ]
  },
  {
   "cell_type": "code",
   "execution_count": 97,
   "metadata": {},
   "outputs": [
    {
     "name": "stdout",
     "output_type": "stream",
     "text": [
      "Feature scores (scored individually):\n",
      "0.015 age\n",
      "0.088 gender\n",
      "0.180 chest pain\n",
      "0.012 rest SBP\n",
      "0.002 cholesterol\n",
      "0.023 fasting blood sugar > 120\n",
      "0.077 rest ECG\n",
      "0.017 max HR\n",
      "0.057 exerc ind ang\n",
      "0.019 ST by exercise\n",
      "0.077 slope peak exc ST\n",
      "0.087 major vessels colored\n",
      "0.118 thal\n"
     ]
    }
   ],
   "source": [
    "#Usando el Relief de Orange\n",
    "import Orange\n",
    "df = Orange.data.Table(\"https://academic.uprm.edu/eacuna/heart_disease.tab\")\n",
    "print('Feature scores (scored individually):')\n",
    "#ReliefF usando 10 vecinos mas cercanos y  una muestrd m=200 ara updating de los pesos\n",
    "meas =Orange.preprocess.score.ReliefF(n_iterations=200,k_nearest=10)\n",
    "scores = meas(df)\n",
    "for attr, score in zip(df.domain.attributes, scores):\n",
    "    print('%.3f' % score, attr.name)\n"
   ]
  },
  {
   "cell_type": "code",
   "execution_count": 98,
   "metadata": {},
   "outputs": [
    {
     "name": "stdout",
     "output_type": "stream",
     "text": [
      "[ 2 12  1 11 10  6  8  5  9  7  0  3  4]\n"
     ]
    }
   ],
   "source": [
    "idx = np.argsort(scores)\n",
    "print(idx[::-1])"
   ]
  },
  {
   "cell_type": "markdown",
   "metadata": {},
   "source": [
    "The best features are: chest pain, thal, major vessels colored, gender"
   ]
  },
  {
   "cell_type": "code",
   "execution_count": null,
   "metadata": {},
   "outputs": [],
   "source": []
  }
 ],
 "metadata": {
  "kernelspec": {
   "display_name": "Python 3",
   "language": "python",
   "name": "python3"
  },
  "language_info": {
   "codemirror_mode": {
    "name": "ipython",
    "version": 3
   },
   "file_extension": ".py",
   "mimetype": "text/x-python",
   "name": "python",
   "nbconvert_exporter": "python",
   "pygments_lexer": "ipython3",
   "version": "3.8.8"
  }
 },
 "nbformat": 4,
 "nbformat_minor": 2
}
