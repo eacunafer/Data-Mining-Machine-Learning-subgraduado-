{
 "cells": [
  {
   "cell_type": "markdown",
   "metadata": {},
   "source": [
    "## Data Mining and Machine Learning\n",
    "##  Multiple Regression using Scikit-learn\n",
    "### Edgar   Acuna\n",
    "#### March 2021"
   ]
  },
  {
   "cell_type": "code",
   "execution_count": 1,
   "metadata": {},
   "outputs": [],
   "source": [
    "import pandas as pd\n",
    "import numpy as np\n",
    "import warnings\n",
    "warnings.filterwarnings('ignore')"
   ]
  },
  {
   "cell_type": "code",
   "execution_count": 2,
   "metadata": {},
   "outputs": [
    {
     "data": {
      "text/html": [
       "<div>\n",
       "<style scoped>\n",
       "    .dataframe tbody tr th:only-of-type {\n",
       "        vertical-align: middle;\n",
       "    }\n",
       "\n",
       "    .dataframe tbody tr th {\n",
       "        vertical-align: top;\n",
       "    }\n",
       "\n",
       "    .dataframe thead th {\n",
       "        text-align: right;\n",
       "    }\n",
       "</style>\n",
       "<table border=\"1\" class=\"dataframe\">\n",
       "  <thead>\n",
       "    <tr style=\"text-align: right;\">\n",
       "      <th></th>\n",
       "      <th>mpg</th>\n",
       "      <th>sp</th>\n",
       "      <th>wt</th>\n",
       "      <th>vol</th>\n",
       "      <th>hp</th>\n",
       "    </tr>\n",
       "  </thead>\n",
       "  <tbody>\n",
       "    <tr>\n",
       "      <th>0</th>\n",
       "      <td>65.4</td>\n",
       "      <td>96</td>\n",
       "      <td>17.5</td>\n",
       "      <td>89</td>\n",
       "      <td>49</td>\n",
       "    </tr>\n",
       "    <tr>\n",
       "      <th>1</th>\n",
       "      <td>56.0</td>\n",
       "      <td>97</td>\n",
       "      <td>20.0</td>\n",
       "      <td>92</td>\n",
       "      <td>55</td>\n",
       "    </tr>\n",
       "    <tr>\n",
       "      <th>2</th>\n",
       "      <td>55.9</td>\n",
       "      <td>97</td>\n",
       "      <td>20.0</td>\n",
       "      <td>92</td>\n",
       "      <td>55</td>\n",
       "    </tr>\n",
       "    <tr>\n",
       "      <th>3</th>\n",
       "      <td>49.0</td>\n",
       "      <td>105</td>\n",
       "      <td>20.0</td>\n",
       "      <td>92</td>\n",
       "      <td>70</td>\n",
       "    </tr>\n",
       "    <tr>\n",
       "      <th>4</th>\n",
       "      <td>46.5</td>\n",
       "      <td>96</td>\n",
       "      <td>20.0</td>\n",
       "      <td>92</td>\n",
       "      <td>53</td>\n",
       "    </tr>\n",
       "  </tbody>\n",
       "</table>\n",
       "</div>"
      ],
      "text/plain": [
       "    mpg   sp    wt  vol  hp\n",
       "0  65.4   96  17.5   89  49\n",
       "1  56.0   97  20.0   92  55\n",
       "2  55.9   97  20.0   92  55\n",
       "3  49.0  105  20.0   92  70\n",
       "4  46.5   96  20.0   92  53"
      ]
     },
     "execution_count": 2,
     "metadata": {},
     "output_type": "execute_result"
    }
   ],
   "source": [
    "#Ejemplo 1: Variable de respuesta mpg: millaje por galon, variables predictoras: wt, vol,sp y hp\n",
    "df=pd.read_csv(\"http://academic.uprm.edu/eacuna/millaje.txt\",sep=\"\\s+\")\n",
    "df.head()"
   ]
  },
  {
   "cell_type": "code",
   "execution_count": 5,
   "metadata": {},
   "outputs": [
    {
     "name": "stdout",
     "output_type": "stream",
     "text": [
      "Coefficients: \n",
      " [-1.29481848 -1.85980373 -0.01564501  0.39221231]\n",
      "Mean squared error: 12.53\n",
      "Coefficient of determination: 0.87\n",
      "predictions:\n",
      " [53.41461168 49.77662274 49.77662274 45.30125964 50.28701659 45.34819468\n",
      " 49.77662274 47.23487162 47.23487162 41.95294649 44.46495926 39.5789639\n",
      " 38.81235835 44.46495926 45.60392849 44.46495926 42.51027537 39.5789639\n",
      " 42.51027537 38.49511826 38.04730446 42.515689   37.8978329  40.25399642\n",
      " 38.08557304 38.81391001 37.76569426 38.04730446 38.51076327 43.52744705\n",
      " 34.99733356 39.0891508  39.29253594 36.05638983 35.80606965 39.41071748\n",
      " 37.80828943 37.96473955 34.16861259 34.16861259 30.81368408 34.88516652\n",
      " 34.9946816  34.07474253 35.2762918  35.56765549 34.47562129 34.28788116\n",
      " 34.9234351  30.90755415 29.73367888 29.73367888 29.73367888 29.37384362\n",
      " 23.96409573 26.47839726 27.48811747 31.48617934 29.73367888 30.43410162\n",
      " 28.81073791 27.10059495 24.7506836  23.29652538 23.42168547 23.49064321\n",
      " 24.01053134 23.00925062 22.80586547 22.86844552 20.7522454  19.91184538\n",
      " 22.79888691 22.84582195 18.72307532 19.20807067 18.69249843 20.61165157\n",
      " 19.01935334 20.7778576  19.30096111 12.7102363 ]\n"
     ]
    }
   ],
   "source": [
    "from sklearn import linear_model\n",
    "from sklearn.metrics import mean_squared_error, r2_score\n",
    "\n",
    "x=df.iloc[:,1:5]\n",
    "y=df['mpg']\n",
    "# Create linear regression object\n",
    "regr = linear_model.LinearRegression()\n",
    "\n",
    "# Train the model using the training sets\n",
    "regr.fit(x, y)\n",
    "\n",
    "# Make predictions using the testing set\n",
    "y_pred = regr.predict(x)\n",
    "\n",
    "# The coefficients\n",
    "print('Coefficients: \\n', regr.coef_)\n",
    "# The mean squared error\n",
    "print('Mean squared error: %.2f'\n",
    "      % mean_squared_error(y, y_pred))\n",
    "# The coefficient of determination: 1 is perfect prediction\n",
    "print('Coefficient of determination: %.2f'\n",
    "      % r2_score(y, y_pred))\n",
    "print(\"predictions:\\n\",y_pred)"
   ]
  },
  {
   "cell_type": "code",
   "execution_count": null,
   "metadata": {},
   "outputs": [],
   "source": []
  }
 ],
 "metadata": {
  "kernelspec": {
   "display_name": "Python 3",
   "language": "python",
   "name": "python3"
  },
  "language_info": {
   "codemirror_mode": {
    "name": "ipython",
    "version": 3
   },
   "file_extension": ".py",
   "mimetype": "text/x-python",
   "name": "python",
   "nbconvert_exporter": "python",
   "pygments_lexer": "ipython3",
   "version": "3.7.6"
  }
 },
 "nbformat": 4,
 "nbformat_minor": 2
}
